{
 "cells": [
  {
   "cell_type": "code",
   "execution_count": 1,
   "id": "ec436995-a8cf-46d9-bf78-45fd3b96d42e",
   "metadata": {},
   "outputs": [],
   "source": [
    "import time\n",
    "\n",
    "import torch\n",
    "from torch.optim.lr_scheduler import ReduceLROnPlateau\n",
    "\n",
    "from torch_geometric.nn import VGAE\n",
    "from torch_geometric.loader import DataLoader\n",
    "from torch_geometric.utils import (degree, negative_sampling, \n",
    "                                   batched_negative_sampling)\n",
    "\n",
    "from torch.utils.tensorboard import SummaryWriter\n",
    "\n",
    "from gene_graph_dataset import G3MedianDataset\n",
    "from phylognn_model import G3Median_GCNConv"
   ]
  },
  {
   "cell_type": "code",
   "execution_count": 2,
   "id": "3253a61c-5647-495c-9227-a2fdf9c3812f",
   "metadata": {},
   "outputs": [],
   "source": [
    "gpuid = 0\n",
    "\n",
    "train_p, test_p, val_p = 0.7, 0.2, 0.1\n",
    "train_batch, test_batch, val_batch = 350, 256, 32"
   ]
  },
  {
   "cell_type": "code",
   "execution_count": 3,
   "id": "51a7e143-b111-4051-a7ff-b29560aa8fad",
   "metadata": {},
   "outputs": [],
   "source": [
    "device = torch.device('cuda:' + str(gpuid) if torch.cuda.is_available() else 'cpu')"
   ]
  },
  {
   "cell_type": "code",
   "execution_count": 4,
   "id": "ece92178-89e5-4d5f-a806-04b15ba5ac6e",
   "metadata": {},
   "outputs": [],
   "source": [
    "dataset = G3MedianDataset('dataset_g3m', 100, 100)"
   ]
  },
  {
   "cell_type": "code",
   "execution_count": 5,
   "id": "62007446-f148-4baa-af21-2011093c7e70",
   "metadata": {},
   "outputs": [],
   "source": [
    "data_size = 1000 # len(dataset)\n",
    "train_size, test_size, val_size = ((int)(data_size * train_p), \n",
    "                                   (int)(data_size * test_p), \n",
    "                                   (int)(data_size * val_p))"
   ]
  },
  {
   "cell_type": "code",
   "execution_count": 6,
   "id": "3c4070bb-3305-4710-9ce9-93537ba72c5f",
   "metadata": {},
   "outputs": [],
   "source": [
    "dataset = dataset.shuffle()\n",
    "train_dataset = dataset[:train_size]\n",
    "test_dataset = dataset[train_size:(train_size + test_size)]\n",
    "val_dataset = dataset[(train_size + test_size):(train_size + test_size + val_size)]"
   ]
  },
  {
   "cell_type": "code",
   "execution_count": 7,
   "id": "b2b645f2-0987-459a-8dac-fd86e544fbf4",
   "metadata": {},
   "outputs": [],
   "source": [
    "test_dataset = list(test_dataset)\n",
    "for t in test_dataset:\n",
    "    t.neg_edge_label_index = negative_sampling(t.pos_edge_label_index, \n",
    "                                        t.num_nodes,\n",
    "                                        t.num_nodes**2)\n",
    "train_dataset = list(train_dataset)\n",
    "for t in train_dataset:\n",
    "    t.neg_edge_label_index = negative_sampling(t.pos_edge_label_index, \n",
    "                                        t.num_nodes,\n",
    "                                        t.num_nodes**2)\n",
    "val_dataset = list(val_dataset)\n",
    "for t in val_dataset:\n",
    "    t.neg_edge_label_index = negative_sampling(t.pos_edge_label_index, \n",
    "                                        t.num_nodes,\n",
    "                                        t.num_nodes**2)"
   ]
  },
  {
   "cell_type": "code",
   "execution_count": 8,
   "id": "a2c6a0cb-b675-47a6-8eac-a4e5b82a0ca1",
   "metadata": {},
   "outputs": [],
   "source": [
    "train_loader = DataLoader(train_dataset, batch_size = train_batch, shuffle=True)\n",
    "test_loader = DataLoader(test_dataset, batch_size = test_batch)\n",
    "val_loader = DataLoader(val_dataset, batch_size= val_batch)"
   ]
  },
  {
   "cell_type": "code",
   "execution_count": 9,
   "id": "dbb8f654-2582-482f-886d-07f10fa83841",
   "metadata": {},
   "outputs": [],
   "source": [
    "# deg = torch.zeros(5, dtype=torch.long)\n",
    "# for data in train_dataset:\n",
    "#     d = degree(data.edge_index[1].type(torch.int64), \n",
    "#                num_nodes=data.num_nodes, dtype=torch.long)\n",
    "#     deg += torch.bincount(d, minlength=deg.numel())"
   ]
  },
  {
   "cell_type": "code",
   "execution_count": 10,
   "id": "770c5b84-1b27-42b1-b0eb-ebc893f5b406",
   "metadata": {},
   "outputs": [],
   "source": [
    "in_channels, out_channels = dataset.num_features, 16"
   ]
  },
  {
   "cell_type": "code",
   "execution_count": 11,
   "id": "1a07372c-9ef1-43d2-845f-bc1a9e83926e",
   "metadata": {},
   "outputs": [],
   "source": [
    "model = VGAE(G3Median_GCNConv(in_channels, out_channels)).to(device)\n",
    "optimizer = torch.optim.Adam(model.parameters(), lr=0.05)\n",
    "scheduler = ReduceLROnPlateau(optimizer, mode='min', factor=0.5, patience=30,\n",
    "                              min_lr=0.00001)"
   ]
  },
  {
   "cell_type": "code",
   "execution_count": 12,
   "id": "5c4dd281-b1eb-45d3-9b80-33bbed4db8e5",
   "metadata": {},
   "outputs": [],
   "source": [
    "writer = SummaryWriter(log_dir='runs_g3m/g3median_lngtrain_gcn_aneg_run4')"
   ]
  },
  {
   "cell_type": "code",
   "execution_count": 13,
   "id": "a258ffba-549f-4158-96ad-b8f2cc175130",
   "metadata": {},
   "outputs": [],
   "source": [
    "from torch_geometric.data import Batch\n",
    "def train(train_loader):\n",
    "    model.train()\n",
    "    \n",
    "    total_loss = 0\n",
    "    for data in train_loader:\n",
    "        \n",
    "        data = data.to(device)\n",
    "        optimizer.zero_grad()\n",
    "        \n",
    "        z = model.encode(data.x, data.edge_index)\n",
    "        loss = model.recon_loss(z, data.pos_edge_label_index, data.neg_edge_label_index)\n",
    "        loss = loss + (1 / data.num_nodes) * model.kl_loss()\n",
    "        loss.backward()\n",
    "        optimizer.step()\n",
    "        \n",
    "        total_loss += loss\n",
    "    return total_loss/len(train_loader)"
   ]
  },
  {
   "cell_type": "code",
   "execution_count": 14,
   "id": "bdce86c1-c9f8-40d2-9554-4f780ab522fe",
   "metadata": {},
   "outputs": [],
   "source": [
    "@torch.no_grad()\n",
    "def test(test_loader):\n",
    "    model.eval()\n",
    "    auc, ap = 0, 0\n",
    "    \n",
    "    for data in test_loader:\n",
    "        \n",
    "        data = data.to(device)\n",
    "        \n",
    "        z = model.encode(data.x, data.edge_index)\n",
    "        # loss += model.recon_loss(z, data.pos_edge_label_index, data.neg_edge_label_index)\n",
    "        tauc, tap = model.test(z, data.pos_edge_label_index, data.neg_edge_label_index)\n",
    "        \n",
    "        auc += tauc\n",
    "        ap += tap\n",
    "        \n",
    "    return auc/len(test_loader), ap/len(test_loader)"
   ]
  },
  {
   "cell_type": "code",
   "execution_count": 15,
   "id": "61fb7226-a488-49a1-b395-c094576f8d92",
   "metadata": {},
   "outputs": [],
   "source": [
    "@torch.no_grad()\n",
    "def val(val_loader):\n",
    "    model.eval()\n",
    "    loss = 0\n",
    "    \n",
    "    for data in val_loader:\n",
    "        \n",
    "        data = data.to(device)\n",
    "        \n",
    "        z = model.encode(data.x, data.edge_index)\n",
    "        loss += model.recon_loss(z, data.pos_edge_label_index, data.neg_edge_label_index)\n",
    "        # tauc, tap = model.test(z, data.pos_edge_label_index, data.neg_edge_label_index)\n",
    "                \n",
    "    return loss/len(test_loader)"
   ]
  },
  {
   "cell_type": "code",
   "execution_count": null,
   "id": "c7c1df12-ce9a-47ca-8fd8-198c4ec9c435",
   "metadata": {},
   "outputs": [
    {
     "name": "stdout",
     "output_type": "stream",
     "text": [
      "Sun Dec 26 23:43:45 2021 - Epoch: 0010        auc: 0.481639, ap: 0.004813\n",
      "Sun Dec 26 23:45:19 2021 - Epoch: 0020        auc: 0.825743, ap: 0.024954\n",
      "Sun Dec 26 23:47:00 2021 - Epoch: 0030        auc: 0.878972, ap: 0.045020\n",
      "Sun Dec 26 23:48:42 2021 - Epoch: 0040        auc: 0.901727, ap: 0.057576\n",
      "Sun Dec 26 23:50:23 2021 - Epoch: 0050        auc: 0.918788, ap: 0.073326\n",
      "Sun Dec 26 23:52:09 2021 - Epoch: 0060        auc: 0.934002, ap: 0.093126\n",
      "Sun Dec 26 23:53:57 2021 - Epoch: 0070        auc: 0.942960, ap: 0.109713\n",
      "Sun Dec 26 23:55:44 2021 - Epoch: 0080        auc: 0.948166, ap: 0.120509\n",
      "Sun Dec 26 23:57:25 2021 - Epoch: 0090        auc: 0.952043, ap: 0.128315\n",
      "Sun Dec 26 23:59:09 2021 - Epoch: 0100        auc: 0.955365, ap: 0.134519\n",
      "Mon Dec 27 00:00:59 2021 - Epoch: 0110        auc: 0.957885, ap: 0.139498\n",
      "Mon Dec 27 00:02:52 2021 - Epoch: 0120        auc: 0.959907, ap: 0.144090\n",
      "Mon Dec 27 00:04:40 2021 - Epoch: 0130        auc: 0.961951, ap: 0.150024\n",
      "Mon Dec 27 00:06:30 2021 - Epoch: 0140        auc: 0.963427, ap: 0.151988\n",
      "Mon Dec 27 00:08:22 2021 - Epoch: 0150        auc: 0.965221, ap: 0.162022\n",
      "Mon Dec 27 00:10:19 2021 - Epoch: 0160        auc: 0.966603, ap: 0.166937\n",
      "Mon Dec 27 00:12:06 2021 - Epoch: 0170        auc: 0.967571, ap: 0.166837\n",
      "Mon Dec 27 00:13:58 2021 - Epoch: 0180        auc: 0.968624, ap: 0.170686\n",
      "Mon Dec 27 00:15:45 2021 - Epoch: 0190        auc: 0.969636, ap: 0.179323\n",
      "Mon Dec 27 00:17:29 2021 - Epoch: 0200        auc: 0.970329, ap: 0.179095\n",
      "Mon Dec 27 00:19:17 2021 - Epoch: 0210        auc: 0.970617, ap: 0.180630\n",
      "Mon Dec 27 00:21:03 2021 - Epoch: 0220        auc: 0.971552, ap: 0.180704\n",
      "Mon Dec 27 00:22:54 2021 - Epoch: 0230        auc: 0.972437, ap: 0.191619\n",
      "Mon Dec 27 00:24:41 2021 - Epoch: 0240        auc: 0.972972, ap: 0.193691\n",
      "Mon Dec 27 00:26:33 2021 - Epoch: 0250        auc: 0.973472, ap: 0.191749\n",
      "Mon Dec 27 00:28:22 2021 - Epoch: 0260        auc: 0.974015, ap: 0.201467\n",
      "Mon Dec 27 00:30:12 2021 - Epoch: 0270        auc: 0.973930, ap: 0.184102\n",
      "Mon Dec 27 00:32:03 2021 - Epoch: 0280        auc: 0.974786, ap: 0.196852\n",
      "Mon Dec 27 00:33:52 2021 - Epoch: 0290        auc: 0.975141, ap: 0.201829\n",
      "Mon Dec 27 00:35:41 2021 - Epoch: 0300        auc: 0.975356, ap: 0.193260\n",
      "Mon Dec 27 00:37:30 2021 - Epoch: 0310        auc: 0.975475, ap: 0.191903\n",
      "Mon Dec 27 00:39:21 2021 - Epoch: 0320        auc: 0.976194, ap: 0.205971\n",
      "Mon Dec 27 00:41:07 2021 - Epoch: 0330        auc: 0.976562, ap: 0.212374\n",
      "Mon Dec 27 00:42:58 2021 - Epoch: 0340        auc: 0.976605, ap: 0.203019\n",
      "Mon Dec 27 00:44:44 2021 - Epoch: 0350        auc: 0.977019, ap: 0.216345\n",
      "Mon Dec 27 00:46:33 2021 - Epoch: 0360        auc: 0.977239, ap: 0.217446\n",
      "Mon Dec 27 00:48:20 2021 - Epoch: 0370        auc: 0.977076, ap: 0.202959\n",
      "Mon Dec 27 00:50:12 2021 - Epoch: 0380        auc: 0.977110, ap: 0.197533\n",
      "Mon Dec 27 00:52:04 2021 - Epoch: 0390        auc: 0.977723, ap: 0.217164\n",
      "Mon Dec 27 00:53:53 2021 - Epoch: 0400        auc: 0.977692, ap: 0.210026\n",
      "Mon Dec 27 00:55:43 2021 - Epoch: 0410        auc: 0.977726, ap: 0.205590\n",
      "Mon Dec 27 00:57:34 2021 - Epoch: 0420        auc: 0.977921, ap: 0.209189\n",
      "Mon Dec 27 00:59:23 2021 - Epoch: 0430        auc: 0.978325, ap: 0.221843\n",
      "Mon Dec 27 01:01:12 2021 - Epoch: 0440        auc: 0.978027, ap: 0.207178\n",
      "Mon Dec 27 01:03:01 2021 - Epoch: 0450        auc: 0.978335, ap: 0.213699\n",
      "Mon Dec 27 01:04:49 2021 - Epoch: 0460        auc: 0.978162, ap: 0.205086\n",
      "Mon Dec 27 01:06:37 2021 - Epoch: 0470        auc: 0.978766, ap: 0.220828\n",
      "Mon Dec 27 01:08:26 2021 - Epoch: 0480        auc: 0.978693, ap: 0.214233\n",
      "Mon Dec 27 01:10:16 2021 - Epoch: 0490        auc: 0.978444, ap: 0.203097\n",
      "Mon Dec 27 01:12:08 2021 - Epoch: 0500        auc: 0.979081, ap: 0.224528\n",
      "Mon Dec 27 01:14:02 2021 - Epoch: 0510        auc: 0.979089, ap: 0.218267\n",
      "Mon Dec 27 01:15:49 2021 - Epoch: 0520        auc: 0.979028, ap: 0.211265\n",
      "Mon Dec 27 01:17:39 2021 - Epoch: 0530        auc: 0.979275, ap: 0.220375\n",
      "Mon Dec 27 01:19:27 2021 - Epoch: 0540        auc: 0.979365, ap: 0.222078\n",
      "Mon Dec 27 01:21:16 2021 - Epoch: 0550        auc: 0.979511, ap: 0.224118\n",
      "Mon Dec 27 01:23:06 2021 - Epoch: 0560        auc: 0.979677, ap: 0.229752\n",
      "Mon Dec 27 01:24:57 2021 - Epoch: 0570        auc: 0.979601, ap: 0.222926\n",
      "Mon Dec 27 01:26:55 2021 - Epoch: 0580        auc: 0.979739, ap: 0.227977\n",
      "Mon Dec 27 01:28:49 2021 - Epoch: 0590        auc: 0.979744, ap: 0.226026\n"
     ]
    }
   ],
   "source": [
    "for epoch in range(1, 1000 + 1):\n",
    "    # print(f'{time.ctime()} - Epoch: {epoch:04d}')\n",
    "    loss = train(train_loader)\n",
    "    # print(f'{time.ctime()} - \\t train loss: {loss:.6f}')\n",
    "    tloss = val(val_loader)\n",
    "    # print(f'{time.ctime()} - \\t val   loss: {tloss:.6f}')\n",
    "    scheduler.step(tloss)\n",
    "    \n",
    "    writer.add_scalar('Loss/train', loss, epoch)\n",
    "    writer.add_scalar('Loss/val', tloss, epoch)\n",
    "    \n",
    "    \n",
    "    auc, ap = test(test_loader)\n",
    "    \n",
    "    writer.add_scalar('AUC/test', auc, epoch)\n",
    "    writer.add_scalar('AP/test', ap, epoch)\n",
    "    \n",
    "    if epoch % 10 == 0:\n",
    "        print(f'{time.ctime()} - Epoch: {epoch:04d}        auc: {auc:.6f}, ap: {ap:.6f}')"
   ]
  },
  {
   "cell_type": "code",
   "execution_count": null,
   "id": "d6367f3c-f5ba-45ed-8a3f-71751cf68356",
   "metadata": {},
   "outputs": [],
   "source": [
    "writer.close()"
   ]
  },
  {
   "cell_type": "code",
   "execution_count": null,
   "id": "a3efe615-e013-4f91-b642-0605ab2fdd72",
   "metadata": {},
   "outputs": [],
   "source": [
    "# torch.save(model.state_dict(), 'g2g_test_model_batch')"
   ]
  },
  {
   "cell_type": "code",
   "execution_count": null,
   "id": "23d73d0e-4ed2-4211-a1db-831694ee9a21",
   "metadata": {},
   "outputs": [],
   "source": []
  }
 ],
 "metadata": {
  "kernelspec": {
   "display_name": "Deep AI",
   "language": "python",
   "name": "dl"
  },
  "language_info": {
   "codemirror_mode": {
    "name": "ipython",
    "version": 3
   },
   "file_extension": ".py",
   "mimetype": "text/x-python",
   "name": "python",
   "nbconvert_exporter": "python",
   "pygments_lexer": "ipython3",
   "version": "3.7.11"
  }
 },
 "nbformat": 4,
 "nbformat_minor": 5
}
