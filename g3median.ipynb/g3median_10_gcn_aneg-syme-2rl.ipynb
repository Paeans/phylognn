{
 "cells": [
  {
   "cell_type": "code",
   "execution_count": 1,
   "id": "ec436995-a8cf-46d9-bf78-45fd3b96d42e",
   "metadata": {},
   "outputs": [],
   "source": [
    "import time\n",
    "\n",
    "import torch\n",
    "from torch.optim.lr_scheduler import ReduceLROnPlateau\n",
    "\n",
    "from torch_geometric.nn import VGAE\n",
    "from torch_geometric.loader import DataLoader\n",
    "from torch_geometric.utils import (degree, negative_sampling, \n",
    "                                   batched_negative_sampling,\n",
    "                                  add_self_loops, to_undirected)\n",
    "\n",
    "from torch.utils.tensorboard import SummaryWriter\n",
    "\n",
    "from gene_graph_dataset import G3MedianDataset\n",
    "from phylognn_model import G3Median_GCNConv"
   ]
  },
  {
   "cell_type": "code",
   "execution_count": 2,
   "id": "3253a61c-5647-495c-9227-a2fdf9c3812f",
   "metadata": {},
   "outputs": [],
   "source": [
    "gpuid = 0\n",
    "\n",
    "train_p, test_p, val_p = 0.7, 0.2, 0.1\n",
    "train_batch, test_batch, val_batch = 350, 256, 32"
   ]
  },
  {
   "cell_type": "code",
   "execution_count": 3,
   "id": "51a7e143-b111-4051-a7ff-b29560aa8fad",
   "metadata": {},
   "outputs": [],
   "source": [
    "device = torch.device('cuda:' + str(gpuid) if torch.cuda.is_available() else 'cpu')"
   ]
  },
  {
   "cell_type": "code",
   "execution_count": 4,
   "id": "ece92178-89e5-4d5f-a806-04b15ba5ac6e",
   "metadata": {},
   "outputs": [],
   "source": [
    "dataset = G3MedianDataset('dataset_g3m', 10, 10, 300)"
   ]
  },
  {
   "cell_type": "code",
   "execution_count": 5,
   "id": "de85ea43-3aef-4c50-a753-2c70d6105de7",
   "metadata": {},
   "outputs": [
    {
     "data": {
      "text/plain": [
       "3000"
      ]
     },
     "execution_count": 5,
     "metadata": {},
     "output_type": "execute_result"
    }
   ],
   "source": [
    "len(dataset)"
   ]
  },
  {
   "cell_type": "code",
   "execution_count": 6,
   "id": "62007446-f148-4baa-af21-2011093c7e70",
   "metadata": {},
   "outputs": [],
   "source": [
    "data_size = len(dataset)\n",
    "train_size, test_size, val_size = ((int)(data_size * train_p), \n",
    "                                   (int)(data_size * test_p), \n",
    "                                   (int)(data_size * val_p))"
   ]
  },
  {
   "cell_type": "code",
   "execution_count": 7,
   "id": "3c4070bb-3305-4710-9ce9-93537ba72c5f",
   "metadata": {},
   "outputs": [],
   "source": [
    "dataset = dataset.shuffle()\n",
    "train_dataset = dataset[:train_size]\n",
    "test_dataset = dataset[train_size:(train_size + test_size)]\n",
    "val_dataset = dataset[(train_size + test_size):(train_size + test_size + val_size)]"
   ]
  },
  {
   "cell_type": "code",
   "execution_count": 8,
   "id": "b2b645f2-0987-459a-8dac-fd86e544fbf4",
   "metadata": {},
   "outputs": [],
   "source": [
    "test_dataset = list(test_dataset)\n",
    "for t in test_dataset:\n",
    "    t.pos_edge_label_index = add_self_loops(to_undirected(t.pos_edge_label_index))[0]\n",
    "    t.neg_edge_label_index = negative_sampling(t.pos_edge_label_index, \n",
    "                                        t.num_nodes,\n",
    "                                        t.num_nodes**2)\n",
    "train_dataset = list(train_dataset)\n",
    "for t in train_dataset:\n",
    "    t.pos_edge_label_index = add_self_loops(to_undirected(t.pos_edge_label_index))[0]\n",
    "    t.neg_edge_label_index = negative_sampling(t.pos_edge_label_index, \n",
    "                                        t.num_nodes,\n",
    "                                        t.num_nodes**2)\n",
    "val_dataset = list(val_dataset)\n",
    "for t in val_dataset:\n",
    "    t.pos_edge_label_index = add_self_loops(to_undirected(t.pos_edge_label_index))[0]\n",
    "    t.neg_edge_label_index = negative_sampling(t.pos_edge_label_index, \n",
    "                                        t.num_nodes,\n",
    "                                        t.num_nodes**2)"
   ]
  },
  {
   "cell_type": "code",
   "execution_count": 9,
   "id": "a2c6a0cb-b675-47a6-8eac-a4e5b82a0ca1",
   "metadata": {},
   "outputs": [],
   "source": [
    "train_loader = DataLoader(train_dataset, batch_size = train_batch, shuffle=True)\n",
    "test_loader = DataLoader(test_dataset, batch_size = test_batch)\n",
    "val_loader = DataLoader(val_dataset, batch_size= val_batch)"
   ]
  },
  {
   "cell_type": "code",
   "execution_count": 10,
   "id": "dbb8f654-2582-482f-886d-07f10fa83841",
   "metadata": {},
   "outputs": [],
   "source": [
    "# deg = torch.zeros(5, dtype=torch.long)\n",
    "# for data in train_dataset:\n",
    "#     d = degree(data.edge_index[1].type(torch.int64), \n",
    "#                num_nodes=data.num_nodes, dtype=torch.long)\n",
    "#     deg += torch.bincount(d, minlength=deg.numel())"
   ]
  },
  {
   "cell_type": "code",
   "execution_count": 11,
   "id": "770c5b84-1b27-42b1-b0eb-ebc893f5b406",
   "metadata": {},
   "outputs": [],
   "source": [
    "in_channels, out_channels = dataset.num_features, 16"
   ]
  },
  {
   "cell_type": "code",
   "execution_count": 12,
   "id": "1a07372c-9ef1-43d2-845f-bc1a9e83926e",
   "metadata": {},
   "outputs": [],
   "source": [
    "model = VGAE(G3Median_GCNConv(in_channels, out_channels)).to(device)\n",
    "optimizer = torch.optim.Adam(model.parameters(), lr=0.01)\n",
    "# scheduler = ReduceLROnPlateau(optimizer, mode='min', factor=0.5, patience=30,\n",
    "#                               min_lr=0.00001)"
   ]
  },
  {
   "cell_type": "code",
   "execution_count": 13,
   "id": "5c4dd281-b1eb-45d3-9b80-33bbed4db8e5",
   "metadata": {},
   "outputs": [],
   "source": [
    "writer = SummaryWriter(log_dir='runs_g3m_10/g3median_3000_gcn_aneg_syme_2rl')"
   ]
  },
  {
   "cell_type": "code",
   "execution_count": 14,
   "id": "a258ffba-549f-4158-96ad-b8f2cc175130",
   "metadata": {},
   "outputs": [],
   "source": [
    "from torch_geometric.data import Batch\n",
    "def train(train_loader):\n",
    "    model.train()\n",
    "    \n",
    "    total_loss = 0\n",
    "    for data in train_loader:\n",
    "        \n",
    "        data = data.to(device)\n",
    "        optimizer.zero_grad()\n",
    "        \n",
    "        z = model.encode(data.x, data.edge_index)\n",
    "        loss = model.recon_loss(z, data.pos_edge_label_index, data.neg_edge_label_index) * 2\n",
    "        loss = loss + (1 / data.num_nodes) * model.kl_loss()\n",
    "        loss.backward()\n",
    "        optimizer.step()\n",
    "        \n",
    "        total_loss += loss\n",
    "    return total_loss/len(train_loader)"
   ]
  },
  {
   "cell_type": "code",
   "execution_count": 15,
   "id": "bdce86c1-c9f8-40d2-9554-4f780ab522fe",
   "metadata": {},
   "outputs": [],
   "source": [
    "@torch.no_grad()\n",
    "def test(test_loader):\n",
    "    model.eval()\n",
    "    auc, ap = 0, 0\n",
    "    \n",
    "    for data in test_loader:\n",
    "        \n",
    "        data = data.to(device)\n",
    "        \n",
    "        z = model.encode(data.x, data.edge_index)\n",
    "        # loss += model.recon_loss(z, data.pos_edge_label_index, data.neg_edge_label_index)\n",
    "        tauc, tap = model.test(z, data.pos_edge_label_index, data.neg_edge_label_index)\n",
    "        \n",
    "        auc += tauc\n",
    "        ap += tap\n",
    "        \n",
    "    return auc/len(test_loader), ap/len(test_loader)"
   ]
  },
  {
   "cell_type": "code",
   "execution_count": 16,
   "id": "61fb7226-a488-49a1-b395-c094576f8d92",
   "metadata": {},
   "outputs": [],
   "source": [
    "@torch.no_grad()\n",
    "def val(val_loader):\n",
    "    model.eval()\n",
    "    loss = 0\n",
    "    \n",
    "    for data in val_loader:\n",
    "        \n",
    "        data = data.to(device)\n",
    "        \n",
    "        z = model.encode(data.x, data.edge_index)\n",
    "        loss += model.recon_loss(z, data.pos_edge_label_index, data.neg_edge_label_index)\n",
    "        # tauc, tap = model.test(z, data.pos_edge_label_index, data.neg_edge_label_index)\n",
    "                \n",
    "    return loss/len(val_loader)"
   ]
  },
  {
   "cell_type": "code",
   "execution_count": null,
   "id": "c7c1df12-ce9a-47ca-8fd8-198c4ec9c435",
   "metadata": {},
   "outputs": [
    {
     "name": "stdout",
     "output_type": "stream",
     "text": [
      "Mon Dec 27 17:52:30 2021 - Epoch: 0050        auc: 0.922339, ap: 0.693726\n"
     ]
    }
   ],
   "source": [
    "for epoch in range(1, 1000 + 1):\n",
    "    # print(f'{time.ctime()} - Epoch: {epoch:04d}')\n",
    "    loss = train(train_loader)\n",
    "    # print(f'{time.ctime()} - \\t train loss: {loss:.6f}')\n",
    "    tloss = val(val_loader)\n",
    "    # print(f'{time.ctime()} - \\t val   loss: {tloss:.6f}')\n",
    "    # scheduler.step(tloss)\n",
    "    \n",
    "    writer.add_scalar('Loss/train', loss, epoch)\n",
    "    writer.add_scalar('Loss/val', tloss, epoch)\n",
    "    \n",
    "    \n",
    "    auc, ap = test(test_dataset)\n",
    "    \n",
    "    writer.add_scalar('AUC/test', auc, epoch)\n",
    "    writer.add_scalar('AP/test', ap, epoch)\n",
    "    \n",
    "    if epoch % 50 == 0:\n",
    "        print(f'{time.ctime()} - Epoch: {epoch:04d}        auc: {auc:.6f}, ap: {ap:.6f}')"
   ]
  },
  {
   "cell_type": "code",
   "execution_count": null,
   "id": "d6367f3c-f5ba-45ed-8a3f-71751cf68356",
   "metadata": {},
   "outputs": [],
   "source": [
    "writer.close()"
   ]
  },
  {
   "cell_type": "code",
   "execution_count": null,
   "id": "a3efe615-e013-4f91-b642-0605ab2fdd72",
   "metadata": {},
   "outputs": [],
   "source": [
    "# torch.save(model.state_dict(), 'g2g_test_model_batch')"
   ]
  },
  {
   "cell_type": "code",
   "execution_count": null,
   "id": "cbd39d65-cfe7-4938-93eb-338aacafa290",
   "metadata": {},
   "outputs": [],
   "source": []
  }
 ],
 "metadata": {
  "kernelspec": {
   "display_name": "Deep AI",
   "language": "python",
   "name": "dl"
  },
  "language_info": {
   "codemirror_mode": {
    "name": "ipython",
    "version": 3
   },
   "file_extension": ".py",
   "mimetype": "text/x-python",
   "name": "python",
   "nbconvert_exporter": "python",
   "pygments_lexer": "ipython3",
   "version": "3.7.11"
  }
 },
 "nbformat": 4,
 "nbformat_minor": 5
}
