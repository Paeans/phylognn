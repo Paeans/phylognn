{
 "cells": [
  {
   "cell_type": "code",
   "execution_count": 1,
   "id": "ec436995-a8cf-46d9-bf78-45fd3b96d42e",
   "metadata": {},
   "outputs": [],
   "source": [
    "import time\n",
    "\n",
    "import torch\n",
    "from torch.optim.lr_scheduler import ReduceLROnPlateau\n",
    "\n",
    "from torch_geometric.nn import VGAE\n",
    "from torch_geometric.loader import DataLoader\n",
    "from torch_geometric.utils import (degree, negative_sampling, \n",
    "                                   batched_negative_sampling)\n",
    "\n",
    "from torch.utils.tensorboard import SummaryWriter\n",
    "\n",
    "from gene_graph_dataset import G3MedianDataset\n",
    "from phylognn_model import G3Median_GCNConv"
   ]
  },
  {
   "cell_type": "code",
   "execution_count": 2,
   "id": "3253a61c-5647-495c-9227-a2fdf9c3812f",
   "metadata": {},
   "outputs": [],
   "source": [
    "gpuid = 0\n",
    "\n",
    "train_p, test_p, val_p = 0.7, 0.2, 0.1\n",
    "train_batch, test_batch, val_batch = 128, 256, 4"
   ]
  },
  {
   "cell_type": "code",
   "execution_count": 3,
   "id": "51a7e143-b111-4051-a7ff-b29560aa8fad",
   "metadata": {},
   "outputs": [],
   "source": [
    "device = torch.device('cuda:' + str(gpuid) if torch.cuda.is_available() else 'cpu')"
   ]
  },
  {
   "cell_type": "code",
   "execution_count": 4,
   "id": "ece92178-89e5-4d5f-a806-04b15ba5ac6e",
   "metadata": {},
   "outputs": [],
   "source": [
    "dataset = G3MedianDataset('dataset_g3m', 10, 10)"
   ]
  },
  {
   "cell_type": "code",
   "execution_count": 5,
   "id": "62007446-f148-4baa-af21-2011093c7e70",
   "metadata": {},
   "outputs": [],
   "source": [
    "data_size = 1000 # len(dataset)\n",
    "train_size, test_size, val_size = ((int)(data_size * train_p), \n",
    "                                   (int)(data_size * test_p), \n",
    "                                   (int)(data_size * val_p))"
   ]
  },
  {
   "cell_type": "code",
   "execution_count": 6,
   "id": "3c4070bb-3305-4710-9ce9-93537ba72c5f",
   "metadata": {},
   "outputs": [],
   "source": [
    "dataset = dataset.shuffle()\n",
    "train_dataset = dataset[:train_size]\n",
    "test_dataset = dataset[train_size:(train_size + test_size)]\n",
    "val_dataset = dataset[(train_size + test_size):(train_size + test_size + val_size)]"
   ]
  },
  {
   "cell_type": "code",
   "execution_count": 7,
   "id": "b2b645f2-0987-459a-8dac-fd86e544fbf4",
   "metadata": {},
   "outputs": [],
   "source": [
    "test_dataset = list(test_dataset)\n",
    "for t in test_dataset:\n",
    "    t.neg_edge_label_index = negative_sampling(t.pos_edge_label_index, \n",
    "                                        t.num_nodes,\n",
    "                                        t.num_nodes**2)\n",
    "train_dataset = list(train_dataset)\n",
    "for t in train_dataset:\n",
    "    t.neg_edge_label_index = negative_sampling(t.pos_edge_label_index, \n",
    "                                        t.num_nodes,\n",
    "                                        t.num_nodes**2)\n",
    "val_dataset = list(val_dataset)\n",
    "for t in val_dataset:\n",
    "    t.neg_edge_label_index = negative_sampling(t.pos_edge_label_index, \n",
    "                                        t.num_nodes,\n",
    "                                        t.num_nodes**2)"
   ]
  },
  {
   "cell_type": "code",
   "execution_count": 8,
   "id": "a2c6a0cb-b675-47a6-8eac-a4e5b82a0ca1",
   "metadata": {},
   "outputs": [],
   "source": [
    "train_loader = DataLoader(train_dataset, batch_size = train_batch, shuffle=True)\n",
    "test_loader = DataLoader(test_dataset, batch_size = test_batch)\n",
    "val_loader = DataLoader(val_dataset, batch_size= val_batch)"
   ]
  },
  {
   "cell_type": "code",
   "execution_count": 9,
   "id": "dbb8f654-2582-482f-886d-07f10fa83841",
   "metadata": {},
   "outputs": [],
   "source": [
    "# deg = torch.zeros(5, dtype=torch.long)\n",
    "# for data in train_dataset:\n",
    "#     d = degree(data.edge_index[1].type(torch.int64), \n",
    "#                num_nodes=data.num_nodes, dtype=torch.long)\n",
    "#     deg += torch.bincount(d, minlength=deg.numel())"
   ]
  },
  {
   "cell_type": "code",
   "execution_count": 10,
   "id": "770c5b84-1b27-42b1-b0eb-ebc893f5b406",
   "metadata": {},
   "outputs": [],
   "source": [
    "in_channels, out_channels = dataset.num_features, 16"
   ]
  },
  {
   "cell_type": "code",
   "execution_count": 11,
   "id": "1a07372c-9ef1-43d2-845f-bc1a9e83926e",
   "metadata": {},
   "outputs": [],
   "source": [
    "model = VGAE(G3Median_GCNConv(in_channels, out_channels)).to(device)\n",
    "optimizer = torch.optim.Adam(model.parameters(), lr=0.05)\n",
    "scheduler = ReduceLROnPlateau(optimizer, mode='min', factor=0.5, patience=30,\n",
    "                              min_lr=0.00001)"
   ]
  },
  {
   "cell_type": "code",
   "execution_count": 12,
   "id": "5c4dd281-b1eb-45d3-9b80-33bbed4db8e5",
   "metadata": {},
   "outputs": [],
   "source": [
    "writer = SummaryWriter(log_dir='runs_g3m_10/g3median_lngtrain_gcn_aneg_run7')"
   ]
  },
  {
   "cell_type": "code",
   "execution_count": 13,
   "id": "a258ffba-549f-4158-96ad-b8f2cc175130",
   "metadata": {},
   "outputs": [],
   "source": [
    "from torch_geometric.data import Batch\n",
    "def train(train_loader):\n",
    "    model.train()\n",
    "    \n",
    "    total_loss = 0\n",
    "    for data in train_loader:\n",
    "        \n",
    "        data = data.to(device)\n",
    "        optimizer.zero_grad()\n",
    "        \n",
    "        z = model.encode(data.x, data.edge_index)\n",
    "        loss = model.recon_loss(z, data.pos_edge_label_index, data.neg_edge_label_index)\n",
    "        loss = loss + (1 / data.num_nodes) * model.kl_loss()\n",
    "        loss.backward()\n",
    "        optimizer.step()\n",
    "        \n",
    "        total_loss += loss\n",
    "    return total_loss/len(train_loader)"
   ]
  },
  {
   "cell_type": "code",
   "execution_count": 14,
   "id": "bdce86c1-c9f8-40d2-9554-4f780ab522fe",
   "metadata": {},
   "outputs": [],
   "source": [
    "@torch.no_grad()\n",
    "def test(test_loader):\n",
    "    model.eval()\n",
    "    auc, ap = 0, 0\n",
    "    \n",
    "    for data in test_loader:\n",
    "        \n",
    "        data = data.to(device)\n",
    "        \n",
    "        z = model.encode(data.x, data.edge_index)\n",
    "        # loss += model.recon_loss(z, data.pos_edge_label_index, data.neg_edge_label_index)\n",
    "        tauc, tap = model.test(z, data.pos_edge_label_index, data.neg_edge_label_index)\n",
    "        \n",
    "        auc += tauc\n",
    "        ap += tap\n",
    "        \n",
    "    return auc/len(test_loader), ap/len(test_loader)"
   ]
  },
  {
   "cell_type": "code",
   "execution_count": 15,
   "id": "61fb7226-a488-49a1-b395-c094576f8d92",
   "metadata": {},
   "outputs": [],
   "source": [
    "@torch.no_grad()\n",
    "def val(val_loader):\n",
    "    model.eval()\n",
    "    loss = 0\n",
    "    \n",
    "    for data in val_loader:\n",
    "        \n",
    "        data = data.to(device)\n",
    "        \n",
    "        z = model.encode(data.x, data.edge_index)\n",
    "        loss += model.recon_loss(z, data.pos_edge_label_index, data.neg_edge_label_index)\n",
    "        # tauc, tap = model.test(z, data.pos_edge_label_index, data.neg_edge_label_index)\n",
    "                \n",
    "    return loss/len(val_loader)"
   ]
  },
  {
   "cell_type": "code",
   "execution_count": null,
   "id": "c7c1df12-ce9a-47ca-8fd8-198c4ec9c435",
   "metadata": {},
   "outputs": [
    {
     "name": "stdout",
     "output_type": "stream",
     "text": [
      "Mon Dec 27 00:35:08 2021 - Epoch: 0010        auc: 0.792897, ap: 0.198137\n",
      "Mon Dec 27 00:35:50 2021 - Epoch: 0020        auc: 0.841391, ap: 0.239281\n",
      "Mon Dec 27 00:36:32 2021 - Epoch: 0030        auc: 0.855600, ap: 0.249919\n",
      "Mon Dec 27 00:37:14 2021 - Epoch: 0040        auc: 0.857552, ap: 0.253432\n",
      "Mon Dec 27 00:37:56 2021 - Epoch: 0050        auc: 0.866992, ap: 0.260883\n",
      "Mon Dec 27 00:38:36 2021 - Epoch: 0060        auc: 0.870816, ap: 0.270183\n",
      "Mon Dec 27 00:39:17 2021 - Epoch: 0070        auc: 0.868010, ap: 0.263493\n",
      "Mon Dec 27 00:40:00 2021 - Epoch: 0080        auc: 0.875030, ap: 0.274623\n",
      "Mon Dec 27 00:40:42 2021 - Epoch: 0090        auc: 0.877226, ap: 0.278507\n",
      "Mon Dec 27 00:41:22 2021 - Epoch: 0100        auc: 0.878630, ap: 0.278207\n",
      "Mon Dec 27 00:42:01 2021 - Epoch: 0110        auc: 0.879650, ap: 0.281811\n",
      "Mon Dec 27 00:42:41 2021 - Epoch: 0120        auc: 0.878826, ap: 0.280316\n",
      "Mon Dec 27 00:43:23 2021 - Epoch: 0130        auc: 0.886195, ap: 0.292040\n",
      "Mon Dec 27 00:44:04 2021 - Epoch: 0140        auc: 0.885787, ap: 0.290188\n",
      "Mon Dec 27 00:44:44 2021 - Epoch: 0150        auc: 0.886642, ap: 0.292474\n",
      "Mon Dec 27 00:45:25 2021 - Epoch: 0160        auc: 0.889713, ap: 0.298652\n",
      "Mon Dec 27 00:46:05 2021 - Epoch: 0170        auc: 0.888915, ap: 0.295323\n",
      "Mon Dec 27 00:46:44 2021 - Epoch: 0180        auc: 0.889841, ap: 0.297015\n",
      "Mon Dec 27 00:47:24 2021 - Epoch: 0190        auc: 0.888484, ap: 0.296478\n",
      "Mon Dec 27 00:48:04 2021 - Epoch: 0200        auc: 0.890283, ap: 0.297530\n",
      "Mon Dec 27 00:48:44 2021 - Epoch: 0210        auc: 0.891532, ap: 0.299900\n",
      "Mon Dec 27 00:49:23 2021 - Epoch: 0220        auc: 0.892913, ap: 0.301903\n",
      "Mon Dec 27 00:50:04 2021 - Epoch: 0230        auc: 0.893640, ap: 0.303267\n",
      "Mon Dec 27 00:50:44 2021 - Epoch: 0240        auc: 0.893092, ap: 0.302777\n",
      "Mon Dec 27 00:51:25 2021 - Epoch: 0250        auc: 0.891147, ap: 0.296878\n",
      "Mon Dec 27 00:52:06 2021 - Epoch: 0260        auc: 0.895483, ap: 0.305638\n",
      "Mon Dec 27 00:52:46 2021 - Epoch: 0270        auc: 0.890843, ap: 0.297045\n",
      "Mon Dec 27 00:53:27 2021 - Epoch: 0280        auc: 0.896166, ap: 0.305647\n",
      "Mon Dec 27 00:54:08 2021 - Epoch: 0290        auc: 0.896396, ap: 0.307960\n",
      "Mon Dec 27 00:54:49 2021 - Epoch: 0300        auc: 0.895250, ap: 0.306271\n",
      "Mon Dec 27 00:55:29 2021 - Epoch: 0310        auc: 0.896396, ap: 0.306049\n",
      "Mon Dec 27 00:56:11 2021 - Epoch: 0320        auc: 0.896896, ap: 0.304905\n",
      "Mon Dec 27 00:56:51 2021 - Epoch: 0330        auc: 0.897210, ap: 0.307480\n",
      "Mon Dec 27 00:57:32 2021 - Epoch: 0340        auc: 0.898078, ap: 0.309475\n",
      "Mon Dec 27 00:58:13 2021 - Epoch: 0350        auc: 0.894097, ap: 0.302601\n",
      "Mon Dec 27 00:58:53 2021 - Epoch: 0360        auc: 0.896740, ap: 0.305528\n",
      "Mon Dec 27 00:59:33 2021 - Epoch: 0370        auc: 0.898288, ap: 0.309360\n",
      "Mon Dec 27 01:00:14 2021 - Epoch: 0380        auc: 0.896486, ap: 0.308221\n",
      "Mon Dec 27 01:00:54 2021 - Epoch: 0390        auc: 0.894525, ap: 0.303554\n",
      "Mon Dec 27 01:01:33 2021 - Epoch: 0400        auc: 0.898175, ap: 0.309038\n",
      "Mon Dec 27 01:02:13 2021 - Epoch: 0410        auc: 0.899596, ap: 0.311256\n",
      "Mon Dec 27 01:02:54 2021 - Epoch: 0420        auc: 0.898033, ap: 0.309109\n",
      "Mon Dec 27 01:03:34 2021 - Epoch: 0430        auc: 0.898692, ap: 0.310468\n",
      "Mon Dec 27 01:04:14 2021 - Epoch: 0440        auc: 0.898570, ap: 0.308262\n",
      "Mon Dec 27 01:04:54 2021 - Epoch: 0450        auc: 0.899638, ap: 0.310036\n",
      "Mon Dec 27 01:05:35 2021 - Epoch: 0460        auc: 0.898882, ap: 0.308855\n",
      "Mon Dec 27 01:06:15 2021 - Epoch: 0470        auc: 0.900867, ap: 0.312487\n",
      "Mon Dec 27 01:06:55 2021 - Epoch: 0480        auc: 0.899730, ap: 0.311179\n",
      "Mon Dec 27 01:07:37 2021 - Epoch: 0490        auc: 0.897434, ap: 0.308341\n",
      "Mon Dec 27 01:08:15 2021 - Epoch: 0500        auc: 0.897565, ap: 0.310887\n",
      "Mon Dec 27 01:08:55 2021 - Epoch: 0510        auc: 0.898614, ap: 0.309720\n",
      "Mon Dec 27 01:09:35 2021 - Epoch: 0520        auc: 0.898768, ap: 0.313083\n",
      "Mon Dec 27 01:10:15 2021 - Epoch: 0530        auc: 0.896903, ap: 0.311255\n",
      "Mon Dec 27 01:10:56 2021 - Epoch: 0540        auc: 0.898210, ap: 0.311135\n",
      "Mon Dec 27 01:11:38 2021 - Epoch: 0550        auc: 0.896287, ap: 0.308045\n",
      "Mon Dec 27 01:12:17 2021 - Epoch: 0560        auc: 0.898746, ap: 0.311366\n",
      "Mon Dec 27 01:12:58 2021 - Epoch: 0570        auc: 0.897373, ap: 0.310148\n",
      "Mon Dec 27 01:13:38 2021 - Epoch: 0580        auc: 0.895762, ap: 0.308359\n",
      "Mon Dec 27 01:14:18 2021 - Epoch: 0590        auc: 0.899016, ap: 0.311843\n",
      "Mon Dec 27 01:14:59 2021 - Epoch: 0600        auc: 0.896211, ap: 0.306794\n",
      "Mon Dec 27 01:15:38 2021 - Epoch: 0610        auc: 0.897122, ap: 0.307528\n",
      "Mon Dec 27 01:16:18 2021 - Epoch: 0620        auc: 0.898912, ap: 0.313536\n",
      "Mon Dec 27 01:16:59 2021 - Epoch: 0630        auc: 0.898189, ap: 0.310058\n",
      "Mon Dec 27 01:17:40 2021 - Epoch: 0640        auc: 0.896905, ap: 0.309097\n",
      "Mon Dec 27 01:18:21 2021 - Epoch: 0650        auc: 0.899376, ap: 0.313459\n",
      "Mon Dec 27 01:19:03 2021 - Epoch: 0660        auc: 0.898762, ap: 0.313748\n",
      "Mon Dec 27 01:19:44 2021 - Epoch: 0670        auc: 0.895144, ap: 0.306846\n",
      "Mon Dec 27 01:20:26 2021 - Epoch: 0680        auc: 0.896900, ap: 0.309793\n",
      "Mon Dec 27 01:21:08 2021 - Epoch: 0690        auc: 0.897215, ap: 0.312375\n",
      "Mon Dec 27 01:21:49 2021 - Epoch: 0700        auc: 0.896935, ap: 0.309032\n",
      "Mon Dec 27 01:22:30 2021 - Epoch: 0710        auc: 0.895367, ap: 0.307645\n",
      "Mon Dec 27 01:23:11 2021 - Epoch: 0720        auc: 0.899936, ap: 0.312655\n",
      "Mon Dec 27 01:23:50 2021 - Epoch: 0730        auc: 0.897527, ap: 0.310700\n",
      "Mon Dec 27 01:24:32 2021 - Epoch: 0740        auc: 0.895989, ap: 0.307555\n",
      "Mon Dec 27 01:25:13 2021 - Epoch: 0750        auc: 0.897421, ap: 0.309902\n",
      "Mon Dec 27 01:25:53 2021 - Epoch: 0760        auc: 0.896989, ap: 0.310498\n",
      "Mon Dec 27 01:26:34 2021 - Epoch: 0770        auc: 0.896281, ap: 0.310056\n",
      "Mon Dec 27 01:27:14 2021 - Epoch: 0780        auc: 0.895699, ap: 0.309279\n",
      "Mon Dec 27 01:27:55 2021 - Epoch: 0790        auc: 0.897140, ap: 0.310111\n",
      "Mon Dec 27 01:28:35 2021 - Epoch: 0800        auc: 0.896065, ap: 0.311135\n",
      "Mon Dec 27 01:29:16 2021 - Epoch: 0810        auc: 0.896717, ap: 0.312683\n"
     ]
    }
   ],
   "source": [
    "for epoch in range(1, 1000 + 1):\n",
    "    # print(f'{time.ctime()} - Epoch: {epoch:04d}')\n",
    "    loss = train(train_loader)\n",
    "    # print(f'{time.ctime()} - \\t train loss: {loss:.6f}')\n",
    "    tloss = val(val_loader)\n",
    "    # print(f'{time.ctime()} - \\t val   loss: {tloss:.6f}')\n",
    "    # scheduler.step(tloss)\n",
    "    \n",
    "    writer.add_scalar('Loss/train', loss, epoch)\n",
    "    writer.add_scalar('Loss/val', tloss, epoch)\n",
    "    \n",
    "    \n",
    "    auc, ap = test(test_dataset)\n",
    "    \n",
    "    writer.add_scalar('AUC/test', auc, epoch)\n",
    "    writer.add_scalar('AP/test', ap, epoch)\n",
    "    \n",
    "    if epoch % 50 == 0:\n",
    "        print(f'{time.ctime()} - Epoch: {epoch:04d}        auc: {auc:.6f}, ap: {ap:.6f}')"
   ]
  },
  {
   "cell_type": "code",
   "execution_count": null,
   "id": "d6367f3c-f5ba-45ed-8a3f-71751cf68356",
   "metadata": {},
   "outputs": [],
   "source": [
    "writer.close()"
   ]
  },
  {
   "cell_type": "code",
   "execution_count": null,
   "id": "a3efe615-e013-4f91-b642-0605ab2fdd72",
   "metadata": {},
   "outputs": [],
   "source": [
    "# torch.save(model.state_dict(), 'g2g_test_model_batch')"
   ]
  },
  {
   "cell_type": "code",
   "execution_count": null,
   "id": "887d7a7f-42aa-4037-abd6-adf6f139e0d3",
   "metadata": {},
   "outputs": [],
   "source": []
  }
 ],
 "metadata": {
  "kernelspec": {
   "display_name": "Deep AI",
   "language": "python",
   "name": "dl"
  },
  "language_info": {
   "codemirror_mode": {
    "name": "ipython",
    "version": 3
   },
   "file_extension": ".py",
   "mimetype": "text/x-python",
   "name": "python",
   "nbconvert_exporter": "python",
   "pygments_lexer": "ipython3",
   "version": "3.7.11"
  }
 },
 "nbformat": 4,
 "nbformat_minor": 5
}
