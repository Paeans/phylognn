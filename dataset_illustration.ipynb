{
 "cells": [
  {
   "cell_type": "code",
   "execution_count": 1,
   "id": "db02f7c3-f6fa-4cfc-bc10-8f623bf4d954",
   "metadata": {},
   "outputs": [],
   "source": [
    "import numpy as np\n",
    "import torch\n",
    "\n",
    "from gene_graph_dataset import G3MedianDataset\n",
    "from dcj_comp import dcj_dist"
   ]
  },
  {
   "cell_type": "code",
   "execution_count": 2,
   "id": "91302bc6-da93-4cec-b320-d2085779600c",
   "metadata": {},
   "outputs": [],
   "source": [
    "seqlen = 10\n",
    "rate = 0.1\n",
    "seqnum = 1000"
   ]
  },
  {
   "cell_type": "code",
   "execution_count": 7,
   "id": "cf40559c-7eb6-408f-989b-6167e5cfeb36",
   "metadata": {},
   "outputs": [],
   "source": [
    "filepath = (f'/share/g3median_datasets/dataset_archive/dataset_g3m_3_' \n",
    "            f'{seqlen}_{int(seqlen * rate)}_{seqnum}' \n",
    "            f'/raw/g3raw_' \n",
    "            f'{seqlen}_{int(seqlen * rate)}.pt')"
   ]
  },
  {
   "cell_type": "code",
   "execution_count": 8,
   "id": "9b4ee4db-74be-4388-8683-e712cc63c291",
   "metadata": {},
   "outputs": [
    {
     "data": {
      "text/plain": [
       "'/share/g3median_datasets/dataset_archive/dataset_g3m_3_10_1_1000/raw/g3raw_10_1.pt'"
      ]
     },
     "execution_count": 8,
     "metadata": {},
     "output_type": "execute_result"
    }
   ],
   "source": [
    "filepath"
   ]
  },
  {
   "cell_type": "code",
   "execution_count": 9,
   "id": "e7587317-01de-40c8-a647-0dd27073f2ba",
   "metadata": {},
   "outputs": [],
   "source": [
    "seq = torch.load(filepath)"
   ]
  },
  {
   "cell_type": "code",
   "execution_count": 17,
   "id": "b232dfca-1603-465b-8e9c-1ccccc8b4268",
   "metadata": {},
   "outputs": [],
   "source": [
    "dist_res = []\n",
    "for s in seq[0]:\n",
    "    dist_res.append(dcj_dist(s[0], s[1])[-1] + dcj_dist(s[0], s[2])[-1] + dcj_dist(s[2], s[1])[-1])"
   ]
  },
  {
   "cell_type": "code",
   "execution_count": 21,
   "id": "bca66cdc-7ad5-4d30-bdfc-25e555500077",
   "metadata": {},
   "outputs": [
    {
     "data": {
      "text/plain": [
       "(6, 6.0, 6)"
      ]
     },
     "execution_count": 21,
     "metadata": {},
     "output_type": "execute_result"
    }
   ],
   "source": [
    "print()\n",
    "np.max(dist_res), np.average(dist_res), np.min(dist_res)"
   ]
  },
  {
   "cell_type": "code",
   "execution_count": 30,
   "id": "5cc17d51-109e-4ffd-bfa6-bed1ef373ba0",
   "metadata": {},
   "outputs": [
    {
     "name": "stdout",
     "output_type": "stream",
     "text": [
      "0.1\n",
      "0.2\n",
      "0.3\n",
      "0.4\n",
      "0.5\n",
      "0.6\n",
      "0.7\n",
      "0.8\n",
      "0.9\n"
     ]
    }
   ],
   "source": [
    "for i in range(1,10):\n",
    "    print(i/10)"
   ]
  },
  {
   "cell_type": "code",
   "execution_count": 27,
   "id": "4d71bf2e-e5f6-4656-b20a-97d151d611ac",
   "metadata": {},
   "outputs": [
    {
     "name": "stdout",
     "output_type": "stream",
     "text": [
      "range(1, 10)\n"
     ]
    }
   ],
   "source": [
    "print(range(1, 10))"
   ]
  },
  {
   "cell_type": "code",
   "execution_count": 42,
   "id": "993f697d-c137-4f24-a3e6-edafffb2d0ad",
   "metadata": {},
   "outputs": [
    {
     "name": "stdout",
     "output_type": "stream",
     "text": [
      "seqlen: 10\n",
      "\t rate: 0.1, \t max \t avg \t\t min \t std\n",
      "\t 1000 \t\t 6\t   6.000 \t 6 \t   0.0000\n",
      "\t 5000 \t\t 6\t   6.000 \t 6 \t   0.0000\n",
      "\t rate: 0.2, \t max \t avg \t\t min \t std\n",
      "\t 1000 \t\t 12\t   8.729 \t 4 \t   1.6797\n",
      "\t 5000 \t\t 12\t   8.762 \t 2 \t   1.7988\n",
      "\t rate: 0.3, \t max \t avg \t\t min \t std\n",
      "\t 1000 \t\t 18\t  11.026 \t 2 \t   2.6984\n",
      "\t 5000 \t\t 18\t  11.160 \t 4 \t   2.7235\n",
      "\t rate: 0.4, \t max \t avg \t\t min \t std\n",
      "\t 1000 \t\t 22\t  13.264 \t 4 \t   3.4854\n",
      "\t 5000 \t\t 24\t  13.205 \t 4 \t   3.4282\n",
      "\t rate: 0.5, \t max \t avg \t\t min \t std\n",
      "\t 1000 \t\t 25\t  14.489 \t 4 \t   3.8267\n",
      "\t 5000 \t\t 27\t  14.503 \t 4 \t   3.8023\n",
      "\t rate: 0.6, \t max \t avg \t\t min \t std\n",
      "\t 1000 \t\t 25\t  15.289 \t 4 \t   4.0259\n",
      "\t 5000 \t\t 27\t  15.396 \t 4 \t   3.9484\n",
      "\t rate: 0.7, \t max \t avg \t\t min \t std\n",
      "\t 1000 \t\t 29\t  16.152 \t 6 \t   3.9851\n",
      "\t 5000 \t\t 28\t  15.928 \t 4 \t   4.0675\n",
      "\t rate: 0.8, \t max \t avg \t\t min \t std\n",
      "\t 1000 \t\t 27\t  16.147 \t 6 \t   3.9224\n",
      "\t 5000 \t\t 27\t  16.306 \t 4 \t   4.0864\n",
      "\t rate: 0.9, \t max \t avg \t\t min \t std\n",
      "\t 1000 \t\t 27\t  16.553 \t 4 \t   3.9554\n",
      "\t 5000 \t\t 27\t  16.512 \t 4 \t   4.0062\n",
      "seqlen: 20\n",
      "\t rate: 0.1, \t max \t avg \t\t min \t std\n",
      "\t 1000 \t\t 12\t   8.978 \t 4 \t   1.6975\n",
      "\t 5000 \t\t 12\t   8.971 \t 4 \t   1.7437\n",
      "\t rate: 0.2, \t max \t avg \t\t min \t std\n",
      "\t 1000 \t\t 24\t  14.753 \t 4 \t   3.9278\n",
      "\t 5000 \t\t 24\t  14.604 \t 4 \t   3.7484\n",
      "\t rate: 0.3, \t max \t avg \t\t min \t std\n",
      "\t 1000 \t\t 36\t  19.719 \t 6 \t   5.5114\n",
      "\t 5000 \t\t 36\t  19.988 \t 6 \t   5.4936\n",
      "\t rate: 0.4, \t max \t avg \t\t min \t std\n",
      "\t 1000 \t\t 45\t  23.653 \t 6 \t   7.0429\n",
      "\t 5000 \t\t 47\t  23.556 \t 6 \t   6.7845\n",
      "\t rate: 0.5, \t max \t avg \t\t min \t std\n",
      "\t 1000 \t\t 44\t  25.296 \t 6 \t   7.3241\n",
      "\t 5000 \t\t 53\t  25.499 \t 6 \t   7.5403\n",
      "\t rate: 0.6, \t max \t avg \t\t min \t std\n",
      "\t 1000 \t\t 49\t  27.311 \t 8 \t   7.3380\n",
      "\t 5000 \t\t 49\t  26.817 \t 4 \t   7.5432\n",
      "\t rate: 0.7, \t max \t avg \t\t min \t std\n",
      "\t 1000 \t\t 48\t  27.598 \t 6 \t   7.3656\n",
      "\t 5000 \t\t 47\t  26.813 \t 6 \t   7.3217\n",
      "\t rate: 0.8, \t max \t avg \t\t min \t std\n",
      "\t 1000 \t\t 49\t  28.460 \t 6 \t   7.8721\n",
      "\t 5000 \t\t 53\t  28.197 \t 6 \t   7.5875\n",
      "\t rate: 0.9, \t max \t avg \t\t min \t std\n",
      "\t 1000 \t\t 49\t  28.890 \t 6 \t   7.5858\n",
      "\t 5000 \t\t 51\t  29.123 \t 6 \t   7.7438\n",
      "seqlen: 50\n",
      "\t rate: 0.1, \t max \t avg \t\t min \t std\n",
      "\t 1000 \t\t 30\t  18.090 \t 6 \t   4.7923\n",
      "\t 5000 \t\t 30\t  17.867 \t 6 \t   4.8829\n",
      "\t rate: 0.2, \t max \t avg \t\t min \t std\n",
      "\t 1000 \t\t 60\t  32.548 \t 6 \t   9.7163\n",
      "\t 5000 \t\t 60\t  32.689 \t 6 \t  10.0317\n",
      "\t rate: 0.3, \t max \t avg \t\t min \t std\n",
      "\t 1000 \t\t 90\t  45.519 \t 6 \t  13.5668\n",
      "\t 5000 \t\t 87\t  43.688 \t 8 \t  13.6971\n",
      "\t rate: 0.4, \t max \t avg \t\t min \t std\n",
      "\t 1000 \t\t 104\t  54.936 \t 10 \t  16.8704\n",
      "\t 5000 \t\t 107\t  49.704 \t 6 \t  15.7209\n",
      "\t rate: 0.5, \t max \t avg \t\t min \t std\n",
      "\t 1000 \t\t 113\t  59.016 \t 10 \t  17.8732\n",
      "\t 5000 \t\t 115\t  53.501 \t 8 \t  16.0204\n",
      "\t rate: 0.6, \t max \t avg \t\t min \t std\n",
      "\t 1000 \t\t 108\t  59.973 \t 10 \t  17.0699\n",
      "\t 5000 \t\t 112\t  60.116 \t 8 \t  17.7572\n",
      "\t rate: 0.7, \t max \t avg \t\t min \t std\n",
      "\t 1000 \t\t 107\t  60.773 \t 12 \t  17.2984\n",
      "\t 5000 \t\t 119\t  61.177 \t 8 \t  17.5545\n",
      "\t rate: 0.8, \t max \t avg \t\t min \t std\n",
      "\t 1000 \t\t 99\t  58.841 \t 8 \t  16.2481\n",
      "\t 5000 \t\t 111\t  60.251 \t 6 \t  17.1459\n",
      "\t rate: 0.9, \t max \t avg \t\t min \t std\n",
      "\t 1000 \t\t 108\t  60.896 \t 6 \t  17.5259\n",
      "\t 5000 \t\t 104\t  58.795 \t 10 \t  16.6235\n",
      "seqlen: 100\n",
      "\t rate: 0.1, \t max \t avg \t\t min \t std\n",
      "\t 1000 \t\t 60\t  33.498 \t 6 \t   9.7507\n",
      "\t 5000 \t\t 60\t  32.326 \t 8 \t   9.9052\n",
      "\t rate: 0.2, \t max \t avg \t\t min \t std\n",
      "\t 1000 \t\t 116\t  61.176 \t 8 \t  19.9525\n",
      "\t 5000 \t\t 118\t  61.783 \t 8 \t  19.5505\n",
      "\t rate: 0.3, \t max \t avg \t\t min \t std\n",
      "\t 1000 \t\t 164\t  88.487 \t 10 \t  28.7602\n",
      "\t 5000 \t\t 168\t  87.969 \t 8 \t  28.0855\n",
      "\t rate: 0.4, \t max \t avg \t\t min \t std\n",
      "\t 1000 \t\t 195\t  98.094 \t 14 \t  30.8143\n",
      "\t 5000 \t\t 193\t  95.589 \t 10 \t  30.0308\n",
      "\t rate: 0.5, \t max \t avg \t\t min \t std\n",
      "\t 1000 \t\t 196\t 110.734 \t 14 \t  32.9829\n",
      "\t 5000 \t\t 191\t 104.657 \t 10 \t  30.9927\n",
      "\t rate: 0.6, \t max \t avg \t\t min \t std\n",
      "\t 1000 \t\t 215\t 105.948 \t 22 \t  32.0009\n",
      "\t 5000 \t\t 205\t 109.197 \t 8 \t  32.3795\n",
      "\t rate: 0.7, \t max \t avg \t\t min \t std\n",
      "\t 1000 \t\t 185\t 109.401 \t 16 \t  31.2119\n",
      "\t 5000 \t\t 204\t 111.348 \t 14 \t  31.8980\n",
      "\t rate: 0.8, \t max \t avg \t\t min \t std\n",
      "\t 1000 \t\t 205\t 108.538 \t 18 \t  32.6364\n",
      "\t 5000 \t\t 191\t 106.424 \t 8 \t  30.7078\n",
      "\t rate: 0.9, \t max \t avg \t\t min \t std\n",
      "\t 1000 \t\t 195\t 112.629 \t 10 \t  32.9768\n",
      "\t 5000 \t\t 211\t 109.360 \t 8 \t  31.9528\n"
     ]
    }
   ],
   "source": [
    "for seqlen in [10, 20, 50, 100]:\n",
    "    print(f'seqlen: {seqlen}')\n",
    "    for rate in range(1, 10):\n",
    "        rate = rate / 10\n",
    "        print(f'\\t rate: {rate}, \\t max \\t avg \\t\\t min \\t std')\n",
    "        for seqnum in [1000, 5000]:            \n",
    "            filepath = (f'/share/g3median_datasets/dataset_archive/dataset_g3m_3_' \n",
    "            f'{seqlen}_{int(seqlen * rate)}_{seqnum}' \n",
    "            f'/raw/g3raw_' \n",
    "            f'{seqlen}_{int(seqlen * rate)}.pt')\n",
    "            seq = torch.load(filepath)\n",
    "            \n",
    "            dist_res = []\n",
    "            for s in seq[0]:\n",
    "                dist_res.append(dcj_dist(s[0], s[1])[-1] + dcj_dist(s[0], s[2])[-1] + dcj_dist(s[2], s[1])[-1])\n",
    "            if seqnum != len(dist_res):\n",
    "                print(f'error, {seqnum}, {rate}')\n",
    "            # print(f'seqnum: {seqnum}, resnum: {len(dist_res)}')\n",
    "            print(f'\\t {seqnum} \\t\\t {np.max(dist_res)}'\n",
    "                  f'\\t {np.average(dist_res):>7.3f} \\t {np.min(dist_res)} \\t {np.std(dist_res, dtype = np.float64):>8.4f}')"
   ]
  },
  {
   "cell_type": "code",
   "execution_count": 40,
   "id": "b90a0fa6-d61b-477a-b396-babfbc1693cc",
   "metadata": {},
   "outputs": [
    {
     "data": {
      "text/plain": [
       "'  5.300'"
      ]
     },
     "execution_count": 40,
     "metadata": {},
     "output_type": "execute_result"
    }
   ],
   "source": [
    "f'{5.3:>7.3f}'"
   ]
  },
  {
   "cell_type": "code",
   "execution_count": 48,
   "id": "305a847d-4d67-48ce-8614-f386a5b21892",
   "metadata": {},
   "outputs": [
    {
     "name": "stdout",
     "output_type": "stream",
     "text": [
      "rate: 0.1, \t max \t avg \t std\n",
      "\t\t 6 \t   6.000\t   0.0000\n",
      "\t\t 27 \t  18.250\t   4.4031\n",
      "\t\t 58 \t  33.960\t   9.8203\n",
      "rate: 0.2, \t max \t avg \t std\n",
      "\t\t 12 \t   8.220\t   1.8952\n",
      "\t\t 58 \t  31.165\t  10.3411\n",
      "\t\t 106 \t  63.700\t  19.0074\n",
      "rate: 0.3, \t max \t avg \t std\n",
      "\t\t 18 \t  11.605\t   2.6625\n",
      "\t\t 78 \t  45.490\t  13.9589\n",
      "\t\t 159 \t  90.845\t  30.3130\n",
      "rate: 0.4, \t max \t avg \t std\n",
      "\t\t 24 \t  13.725\t   3.4175\n",
      "\t\t 91 \t  51.350\t  17.1935\n",
      "\t\t 162 \t  91.015\t  29.0437\n",
      "rate: 0.5, \t max \t avg \t std\n",
      "\t\t 23 \t  13.815\t   3.4250\n",
      "\t\t 95 \t  55.895\t  17.2440\n",
      "\t\t 183 \t 110.270\t  31.7669\n",
      "rate: 0.6, \t max \t avg \t std\n",
      "\t\t 25 \t  14.910\t   4.3246\n",
      "\t\t 99 \t  59.555\t  17.1676\n",
      "\t\t 169 \t 100.645\t  30.3667\n",
      "rate: 0.7, \t max \t avg \t std\n",
      "\t\t 25 \t  15.590\t   4.0227\n",
      "\t\t 89 \t  56.475\t  15.7731\n",
      "\t\t 191 \t 113.040\t  32.4387\n",
      "rate: 0.8, \t max \t avg \t std\n",
      "\t\t 26 \t  17.110\t   4.1567\n",
      "\t\t 105 \t  60.570\t  17.7886\n",
      "\t\t 175 \t 108.775\t  29.9592\n",
      "rate: 0.9, \t max \t avg \t std\n",
      "\t\t 25 \t  16.915\t   3.7826\n",
      "\t\t 100 \t  57.250\t  18.0066\n",
      "\t\t 197 \t 118.905\t  34.4956\n",
      "rate: 1.0, \t max \t avg \t std\n",
      "\t\t 26 \t  16.080\t   4.1199\n",
      "\t\t 101 \t  60.410\t  18.8011\n",
      "\t\t 176 \t 112.565\t  31.1030\n",
      "rate: 1.5, \t max \t avg \t std\n",
      "\t\t 28 \t  17.750\t   3.6562\n",
      "\t\t 96 \t  64.930\t  15.1903\n",
      "\t\t 186 \t 112.105\t  31.8142\n",
      "rate: 2.0, \t max \t avg \t std\n",
      "\t\t 25 \t  17.750\t   3.7185\n",
      "\t\t 102 \t  60.255\t  19.7775\n",
      "\t\t 189 \t 107.740\t  35.1911\n"
     ]
    }
   ],
   "source": [
    "for rate in list(range(1, 10)) + [10, 15, 20]:\n",
    "    rate = rate / 10\n",
    "    print(f'rate: {rate}, \\t max \\t avg \\t std')\n",
    "    for seqlen in [10, 50, 100]:\n",
    "        # print(f'seqlen: {seqlen}')        \n",
    "        seqnum = 200           \n",
    "        filepath = (f'val_seq_g3m_3_' \n",
    "        f'{seqlen}_{int(seqlen * rate)}_{seqnum}' \n",
    "        f'/raw/g3raw_' \n",
    "        f'{seqlen}_{int(seqlen * rate)}.pt')\n",
    "        seq = torch.load(filepath)\n",
    "\n",
    "        dist_res = []\n",
    "        for s in seq[0]:\n",
    "            dist_res.append(dcj_dist(s[0], s[1])[-1] + dcj_dist(s[0], s[2])[-1] + dcj_dist(s[2], s[1])[-1])\n",
    "        if seqnum != len(dist_res):\n",
    "            print(f'error, {seqnum}, {rate}')\n",
    "        # print(f'seqnum: {seqnum}, resnum: {len(dist_res)}')\n",
    "        print(#f'\\t {seqnum}' \n",
    "              f'\\t\\t {np.max(dist_res)} \\t {np.average(dist_res):>7.3f}' #' \\t {np.min(dist_res)}')\n",
    "              f'\\t {np.std(dist_res, dtype=np.float64):>8.4f}')"
   ]
  },
  {
   "cell_type": "code",
   "execution_count": 49,
   "id": "258923f5-16f7-42f3-825e-000925323b4e",
   "metadata": {},
   "outputs": [],
   "source": [
    "import matplotlib as mpl\n",
    "mpl.rcParams['pdf.fonttype'] = 42"
   ]
  },
  {
   "cell_type": "code",
   "execution_count": 50,
   "id": "5552b94b-513f-40f1-9818-12a46dd9ab08",
   "metadata": {},
   "outputs": [],
   "source": [
    "import matplotlib.pyplot as plt"
   ]
  },
  {
   "cell_type": "code",
   "execution_count": 91,
   "id": "3cb5f77b-1282-463e-9557-c6672e6a8a1c",
   "metadata": {},
   "outputs": [],
   "source": [
    "dist_res = []\n",
    "for seqlen in [10, 50, 100]:\n",
    "    seqnum = 200\n",
    "    tmp = []\n",
    "    rate = 2.0\n",
    "    # seqlen = 10\n",
    "    filepath = (f'val_seq_g3m_3_' \n",
    "    f'{seqlen}_{int(seqlen * rate)}_{seqnum}' \n",
    "    f'/raw/g3raw_' \n",
    "    f'{seqlen}_{int(seqlen * rate)}.pt')\n",
    "    seq = torch.load(filepath)\n",
    "\n",
    "\n",
    "    for s in seq[0]:\n",
    "        tmp += [dcj_dist(s[0], s[1])[-1], dcj_dist(s[0], s[2])[-1], dcj_dist(s[2], s[1])[-1]]\n",
    "    dist_res.append([t/seqlen * 10 for t in tmp])"
   ]
  },
  {
   "cell_type": "code",
   "execution_count": 93,
   "id": "a19d3dc8-31ef-4956-8089-469e696e0056",
   "metadata": {},
   "outputs": [
    {
     "data": {
      "image/png": "[encoded data removed]",
      "text/plain": [
       "<Figure size 432x288 with 1 Axes>"
      ]
     },
     "metadata": {
      "needs_background": "light"
     },
     "output_type": "display_data"
    }
   ],
   "source": [
    "x = np.arange(10)\n",
    "plt.figure()\n",
    "H = plt.hist(dist_res, bins = np.arange(10))\n",
    "plt.xticks(x)\n",
    "# plt.xticklabels(x)\n",
    "plt.savefig('g3val_dataset.svg', bbox_inches = 'tight')\n",
    "plt.show()"
   ]
  },
  {
   "cell_type": "code",
   "execution_count": null,
   "id": "204dbb50-7008-4508-826c-58417b9c1613",
   "metadata": {},
   "outputs": [],
   "source": [
    "# labels = [0, 1,2,3,4,5,6,7,8,9]\n",
    "# x = np.arange(10)  # the label locations\n",
    "# width = 0.35  # the width of the bars\n",
    "\n",
    "# # d3 = H[0][0]/sum(H[0][0])*100\n",
    "# # d4 = H[0][1]/sum(H[0][1])*100\n",
    "# # d3[1] = 0\n",
    "# # d4[1] = 0\n",
    "\n",
    "# n3 = H[0][0].copy()\n",
    "# n4 = H[0][1].copy()\n",
    "# n3[1] = 0\n",
    "# n4[1] = 0\n",
    "# figure(figsize = (10,16), dpi=90)\n",
    "\n",
    "# fig, ax = plt.subplots(2,1)\n",
    "# rec1 = ax[0].bar(x - width/2,  n3[1:7]*1.546, width, label='D3106')\n",
    "# rec2 = ax[0].bar(x + width/2,  n4[1:7], width, label='D4802')\n",
    "\n",
    "# ax[0].set_ylabel('Number of Samples')\n",
    "# ax[0].set_xlabel('Cellulars')\n",
    "# ax[0].set_title('Number of Cellular')\n",
    "# ax[0].set_xticks(x)\n",
    "# ax[0].set_xticklabels(labels)\n",
    "# ax[0].legend()\n",
    "\n",
    "# # ax.bar_label(rec1, padding=3)\n",
    "# # ax.bar_label(rec2, padding=3)\n",
    "\n",
    "# # d3 = H[0][0]/sum(H[0][0][2:])*100\n",
    "# # d4 = H[0][1]/sum(H[0][1][2:])*100\n",
    "# # d3[1] = 0\n",
    "# # d4[1] = 0\n",
    "\n",
    "# # rec1 = ax[1].bar(x - width/2,  d3[1:7], width, label='D3106')\n",
    "# # rec2 = ax[1].bar(x + width/2,  d4[1:7], width, label='D4802')\n",
    "\n",
    "# # ax[1].set_ylabel('Percent(%)')\n",
    "# # ax[1].set_xlabel('Cellulars')\n",
    "# # # ax.set_title('Sample Distribution')\n",
    "# # ax[1].set_xticks(x)\n",
    "# # ax[1].set_xticklabels(labels)\n",
    "# # ax[1].legend()\n",
    "\n",
    "\n",
    "# plt.show()"
   ]
  },
  {
   "cell_type": "code",
   "execution_count": 94,
   "id": "75777ec2-8123-4708-8845-b009b2b4eb9f",
   "metadata": {},
   "outputs": [],
   "source": [
    "dist_res = []\n",
    "for seqlen in [10, 20, 50, 100]:\n",
    "    seqnum = 1000\n",
    "    tmp = []\n",
    "    rate = 0.9\n",
    "    # seqlen = 10\n",
    "    filepath = (f'/share/g3median_datasets/dataset_archive/dataset_g3m_3_' \n",
    "    f'{seqlen}_{int(seqlen * rate)}_{seqnum}' \n",
    "    f'/raw/g3raw_' \n",
    "    f'{seqlen}_{int(seqlen * rate)}.pt')\n",
    "    seq = torch.load(filepath)\n",
    "\n",
    "\n",
    "    for s in seq[0]:\n",
    "        tmp += [dcj_dist(s[0], s[1])[-1], dcj_dist(s[0], s[2])[-1], dcj_dist(s[2], s[1])[-1]]\n",
    "    dist_res.append([t/seqlen * 10 for t in tmp])"
   ]
  },
  {
   "cell_type": "code",
   "execution_count": 95,
   "id": "5de8c6fe-7dd8-4c5a-af09-735d4583823c",
   "metadata": {},
   "outputs": [
    {
     "data": {
      "text/plain": [
       "(4, 3000)"
      ]
     },
     "execution_count": 95,
     "metadata": {},
     "output_type": "execute_result"
    }
   ],
   "source": [
    "np.array(dist_res).shape"
   ]
  },
  {
   "cell_type": "code",
   "execution_count": 96,
   "id": "15f7d462-db57-4336-8dbc-c4aa69688367",
   "metadata": {},
   "outputs": [
    {
     "data": {
      "image/png": "[encoded data removed]",
      "text/plain": [
       "<Figure size 432x288 with 1 Axes>"
      ]
     },
     "metadata": {
      "needs_background": "light"
     },
     "output_type": "display_data"
    }
   ],
   "source": [
    "x = np.arange(10)\n",
    "plt.figure()\n",
    "H = plt.hist(dist_res, bins = np.arange(10))\n",
    "plt.xticks(x)\n",
    "# plt.xticklabels(x)\n",
    "plt.savefig('g3t1000_dataset.svg', bbox_inches = 'tight')\n",
    "plt.show()"
   ]
  },
  {
   "cell_type": "code",
   "execution_count": null,
   "id": "c0b914bb-e344-4264-8c30-626cca364d33",
   "metadata": {},
   "outputs": [],
   "source": []
  },
  {
   "cell_type": "code",
   "execution_count": 97,
   "id": "30d9ba7d-e0f8-4eeb-a56a-cd747d6e491b",
   "metadata": {},
   "outputs": [],
   "source": [
    "dist_res = []\n",
    "for seqlen in [10, 20, 50, 100]:\n",
    "    seqnum = 5000\n",
    "    tmp = []\n",
    "    rate = 0.9\n",
    "    # seqlen = 10\n",
    "    filepath = (f'/share/g3median_datasets/dataset_archive/dataset_g3m_3_' \n",
    "    f'{seqlen}_{int(seqlen * rate)}_{seqnum}' \n",
    "    f'/raw/g3raw_' \n",
    "    f'{seqlen}_{int(seqlen * rate)}.pt')\n",
    "    seq = torch.load(filepath)\n",
    "\n",
    "\n",
    "    for s in seq[0]:\n",
    "        tmp += [dcj_dist(s[0], s[1])[-1], dcj_dist(s[0], s[2])[-1], dcj_dist(s[2], s[1])[-1]]\n",
    "    dist_res.append([t/seqlen * 10 for t in tmp])"
   ]
  },
  {
   "cell_type": "code",
   "execution_count": 98,
   "id": "2db26e1b-456f-4592-9dd9-0be4c24138c0",
   "metadata": {},
   "outputs": [
    {
     "data": {
      "text/plain": [
       "(4, 15000)"
      ]
     },
     "execution_count": 98,
     "metadata": {},
     "output_type": "execute_result"
    }
   ],
   "source": [
    "np.array(dist_res).shape"
   ]
  },
  {
   "cell_type": "code",
   "execution_count": 99,
   "id": "3c0d0a35-7444-447e-9524-4f1aa198ada7",
   "metadata": {},
   "outputs": [
    {
     "data": {
      "image/png": "[encoded data removed]",
      "text/plain": [
       "<Figure size 432x288 with 1 Axes>"
      ]
     },
     "metadata": {
      "needs_background": "light"
     },
     "output_type": "display_data"
    }
   ],
   "source": [
    "x = np.arange(10)\n",
    "plt.figure()\n",
    "H = plt.hist(dist_res, bins = np.arange(10))\n",
    "plt.xticks(x)\n",
    "# plt.xticklabels(x)\n",
    "plt.savefig('g3t5000_dataset.svg', bbox_inches = 'tight')\n",
    "plt.show()"
   ]
  },
  {
   "cell_type": "code",
   "execution_count": null,
   "id": "6bbac81d-0b00-4d38-ac3a-2ccced4f72df",
   "metadata": {},
   "outputs": [],
   "source": []
  }
 ],
 "metadata": {
  "kernelspec": {
   "display_name": "Deep AI",
   "language": "python",
   "name": "dl"
  },
  "language_info": {
   "codemirror_mode": {
    "name": "ipython",
    "version": 3
   },
   "file_extension": ".py",
   "mimetype": "text/x-python",
   "name": "python",
   "nbconvert_exporter": "python",
   "pygments_lexer": "ipython3",
   "version": "3.7.11"
  }
 },
 "nbformat": 4,
 "nbformat_minor": 5
}
