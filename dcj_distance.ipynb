{
 "cells": [
  {
   "cell_type": "code",
   "execution_count": 1,
   "id": "b2493512-5988-490a-8e9c-eb8ac5e20e74",
   "metadata": {},
   "outputs": [],
   "source": [
    "import numpy as np"
   ]
  },
  {
   "cell_type": "code",
   "execution_count": 2,
   "id": "d8ec7229-14cc-453a-a38d-443102418251",
   "metadata": {},
   "outputs": [],
   "source": [
    "from genome_file import encodeAdj, read_genome"
   ]
  },
  {
   "cell_type": "code",
   "execution_count": 3,
   "id": "1b6470e7-436c-4e06-aa55-dd9b968a6771",
   "metadata": {},
   "outputs": [],
   "source": [
    "from dcj_comp import dcj_dist"
   ]
  },
  {
   "cell_type": "code",
   "execution_count": 4,
   "id": "ebdce534-e6e2-43a5-ba14-81049cdd8b22",
   "metadata": {},
   "outputs": [],
   "source": [
    "# def neighbor(A, num):\n",
    "#     index = np.where(A == num)[0][0]\n",
    "#     if index % 2 == 0:\n",
    "#         index += 1\n",
    "#     else:\n",
    "#         index -= 1\n",
    "#     return A[index]\n",
    "\n",
    "# def findPath(A, B, num, visited, path):\n",
    "#     if num in visited:\n",
    "#         return True\n",
    "#     if num == -1:\n",
    "#         return False\n",
    "    \n",
    "#     visited.append(num)\n",
    "#     nb = neighbor(B, num)\n",
    "#     path.append((num, nb))\n",
    "#     return findPath(B, A, nb, visited, path)\n",
    "\n",
    "# def dcj_dist(A, B):\n",
    "#     visited = []\n",
    "#     cycle, oddp = 0, 0\n",
    "    \n",
    "#     for i in range(1, len(A) - 1):\n",
    "#         if A[i] in visited:\n",
    "#             continue\n",
    "#         path = []\n",
    "#         if findPath(A, B, A[i], visited, path):\n",
    "#             cycle += 1\n",
    "#             continue\n",
    "            \n",
    "#         nb = neighbor(A, A[i])\n",
    "#         if nb not in visited:\n",
    "#             findPath(A, B, nb, visited, path)\n",
    "#         path = [(nb, A[i])] + path\n",
    "#         if len(path) % 2 == 0:\n",
    "#             oddp += 1\n",
    "        \n",
    "#     return cycle, oddp, (len(A) - 2)//2 - (cycle + oddp // 2)"
   ]
  },
  {
   "cell_type": "code",
   "execution_count": 5,
   "id": "6fa57651-597c-4fe4-a5bf-8f5685e2705b",
   "metadata": {},
   "outputs": [],
   "source": [
    "genes = read_genome()"
   ]
  },
  {
   "cell_type": "code",
   "execution_count": 6,
   "id": "0ba0f693-4914-4063-a231-d86c1a3ef55e",
   "metadata": {},
   "outputs": [
    {
     "name": "stdout",
     "output_type": "stream",
     "text": [
      "[[1, 2, 3, 4, 5, 6, 7, 8, 9, 10, 11, 12, 13, 14, 15, 16, 17, 18, 19, 20]] 20\n",
      "[[1, 13, 14, 15, 16, 17, 18, -9, -8, -7, -6, -5, -4, -3, -2, -12, -11, -10, 19, 20]] 20\n",
      "[[-11, -10, 19, 14, 15, 16, 17, 18, -9, -8, -7, -6, -5, -4, -3, -2, -12, 1, 13, 20]] 20\n",
      "[[-11, -10, 19, 14, 15, 16, 17, 18, -9, -8, -7, -6, -5, -4, -3, -2, -12, 1, 13, 20]] 20\n",
      "[[-11, -10, 19, 14, 15, 16, 17, 18, 7, 8, 9, -6, -5, -4, -3, -2, -12, 1, 13, 20]] 20\n",
      "[[-5, -2, -12, -19, 10, -17, 11, -6, -20, 3, -14, -9, 13, -4, 1, -8, -7, 15, 16, 18]] 20\n",
      "[[-5, -2, -12, -19, 10, -9, 13, -4, 1, -17, 11, -6, -20, 3, -14, -8, -7, 15, 16, 18]] 20\n",
      "[[-5, -2, -12, -19, 10, 14, -3, 20, 6, -11, 17, -1, 4, -13, 9, -8, -7, 15, 16, 18]] 20\n",
      "[[8, -9, 13, -10, 3, 20, 14, 2, 19, -17, 11, 5, -18, -16, -4, 1, 12, 7, -15, -6]] 20\n"
     ]
    }
   ],
   "source": [
    "for g in genes:\n",
    "    if len(g) == 1:\n",
    "        print(g, len(g[0]))"
   ]
  },
  {
   "cell_type": "code",
   "execution_count": 7,
   "id": "e5cc7c14-dbda-47d9-8824-006e2af4a68b",
   "metadata": {},
   "outputs": [],
   "source": [
    "test = [ x for x in genes if len(x) == 1]"
   ]
  },
  {
   "cell_type": "code",
   "execution_count": 8,
   "id": "aa937bd8-f43c-4fa8-bc80-0130d25f5269",
   "metadata": {},
   "outputs": [
    {
     "name": "stdout",
     "output_type": "stream",
     "text": [
      "[[[1, 2, 3, 4, 5, 6, 7, 8, 9, 10, 11, 12, 13, 14, 15, 16, 17, 18, 19, 20]], [[1, 13, 14, 15, 16, 17, 18, -9, -8, -7, -6, -5, -4, -3, -2, -12, -11, -10, 19, 20]], [[-11, -10, 19, 14, 15, 16, 17, 18, -9, -8, -7, -6, -5, -4, -3, -2, -12, 1, 13, 20]], [[-11, -10, 19, 14, 15, 16, 17, 18, -9, -8, -7, -6, -5, -4, -3, -2, -12, 1, 13, 20]], [[-11, -10, 19, 14, 15, 16, 17, 18, 7, 8, 9, -6, -5, -4, -3, -2, -12, 1, 13, 20]], [[-5, -2, -12, -19, 10, -17, 11, -6, -20, 3, -14, -9, 13, -4, 1, -8, -7, 15, 16, 18]], [[-5, -2, -12, -19, 10, -9, 13, -4, 1, -17, 11, -6, -20, 3, -14, -8, -7, 15, 16, 18]], [[-5, -2, -12, -19, 10, 14, -3, 20, 6, -11, 17, -1, 4, -13, 9, -8, -7, 15, 16, 18]], [[8, -9, 13, -10, 3, 20, 14, 2, 19, -17, 11, 5, -18, -16, -4, 1, 12, 7, -15, -6]]]\n"
     ]
    }
   ],
   "source": [
    "print(test)"
   ]
  },
  {
   "cell_type": "code",
   "execution_count": 9,
   "id": "520de290-15ca-4550-ad6b-b2f2a8dfbdff",
   "metadata": {},
   "outputs": [],
   "source": [
    "A = encodeAdj(test[4][0])"
   ]
  },
  {
   "cell_type": "code",
   "execution_count": 10,
   "id": "100d1cb2-77e3-472d-9785-e6a605c8b961",
   "metadata": {},
   "outputs": [
    {
     "name": "stdout",
     "output_type": "stream",
     "text": [
      "[-11, -10, 19, 14, 15, 16, 17, 18, 7, 8, 9, -6, -5, -4, -3, -2, -12, 1, 13, 20]\n"
     ]
    }
   ],
   "source": [
    "print(test[4][0])"
   ]
  },
  {
   "cell_type": "code",
   "execution_count": 11,
   "id": "95cbee17-3863-4129-a19c-a9a3e811063f",
   "metadata": {},
   "outputs": [],
   "source": [
    "B = encodeAdj(test[6][0])"
   ]
  },
  {
   "cell_type": "code",
   "execution_count": 12,
   "id": "c9001386-31ec-4f12-b932-1c680842c674",
   "metadata": {},
   "outputs": [
    {
     "name": "stdout",
     "output_type": "stream",
     "text": [
      "[-5, -2, -12, -19, 10, -9, 13, -4, 1, -17, 11, -6, -20, 3, -14, -8, -7, 15, 16, 18]\n"
     ]
    }
   ],
   "source": [
    "print(test[6][0])"
   ]
  },
  {
   "cell_type": "code",
   "execution_count": 13,
   "id": "c1db1fd1-f899-4f21-b2fc-3f8476ceb722",
   "metadata": {},
   "outputs": [
    {
     "data": {
      "text/plain": [
       "(5, 2, 14)"
      ]
     },
     "execution_count": 13,
     "metadata": {},
     "output_type": "execute_result"
    }
   ],
   "source": [
    "dcj_dist(A, B)"
   ]
  },
  {
   "cell_type": "code",
   "execution_count": 14,
   "id": "c18ab50e-0708-472a-b1df-c3e44f9eeabb",
   "metadata": {},
   "outputs": [
    {
     "data": {
      "text/plain": [
       "(2, 2, 0)"
      ]
     },
     "execution_count": 14,
     "metadata": {},
     "output_type": "execute_result"
    }
   ],
   "source": [
    "dcj_dist(encodeAdj([1,2,3]), encodeAdj([-3,-2,-1]))"
   ]
  },
  {
   "cell_type": "code",
   "execution_count": 15,
   "id": "85d7d4aa-0c62-4a76-b99b-8cd7a35a9815",
   "metadata": {},
   "outputs": [],
   "source": [
    "from gene_mat import trans_rev"
   ]
  },
  {
   "cell_type": "code",
   "execution_count": 19,
   "id": "dbbdd699-5dca-4808-b753-f281ba610c19",
   "metadata": {},
   "outputs": [
    {
     "data": {
      "text/plain": [
       "array([[ 1,  2, -3,  4]])"
      ]
     },
     "execution_count": 19,
     "metadata": {},
     "output_type": "execute_result"
    }
   ],
   "source": [
    "np.matmul(np.array([[1,2,3,-4]]), trans_rev(4, 2,4,2,1))"
   ]
  },
  {
   "cell_type": "code",
   "execution_count": 20,
   "id": "e417378f-37a0-460b-9be4-eb35a865a9ea",
   "metadata": {},
   "outputs": [
    {
     "data": {
      "text/plain": [
       "array([[ 1, -4, -2, -3]])"
      ]
     },
     "execution_count": 20,
     "metadata": {},
     "output_type": "execute_result"
    }
   ],
   "source": [
    "np.matmul(np.array([[1,2,3,-4]]), trans_rev(4, 1,3,2,1))"
   ]
  },
  {
   "cell_type": "code",
   "execution_count": 18,
   "id": "f9447344-38f8-4cc9-8ae4-72005f3268a1",
   "metadata": {},
   "outputs": [
    {
     "data": {
      "text/plain": [
       "(2, 2, 2)"
      ]
     },
     "execution_count": 18,
     "metadata": {},
     "output_type": "execute_result"
    }
   ],
   "source": [
    "dcj_dist(encodeAdj([1, -3, -4,  2,  5]), encodeAdj([1,  4, -2, -3,  5]))"
   ]
  },
  {
   "cell_type": "code",
   "execution_count": 21,
   "id": "b9a8f41e-cce7-4de9-a501-0b166ad84848",
   "metadata": {},
   "outputs": [
    {
     "data": {
      "text/plain": [
       "array([-1, -1, -2,  0,  1,  2,  3,  4,  5, -1, -1], dtype=int32)"
      ]
     },
     "execution_count": 21,
     "metadata": {},
     "output_type": "execute_result"
    }
   ],
   "source": []
  },
  {
   "cell_type": "code",
   "execution_count": null,
   "id": "4bc0bbdd-0d6e-4f5e-b9d3-602042521359",
   "metadata": {},
   "outputs": [],
   "source": []
  }
 ],
 "metadata": {
  "kernelspec": {
   "display_name": "Deep AI",
   "language": "python",
   "name": "dl"
  },
  "language_info": {
   "codemirror_mode": {
    "name": "ipython",
    "version": 3
   },
   "file_extension": ".py",
   "mimetype": "text/x-python",
   "name": "python",
   "nbconvert_exporter": "python",
   "pygments_lexer": "ipython3",
   "version": "3.7.11"
  }
 },
 "nbformat": 4,
 "nbformat_minor": 5
}
