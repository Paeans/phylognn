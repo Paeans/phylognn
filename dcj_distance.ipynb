{
 "cells": [
  {
   "cell_type": "code",
   "execution_count": 1,
   "id": "b2493512-5988-490a-8e9c-eb8ac5e20e74",
   "metadata": {},
   "outputs": [],
   "source": [
    "import numpy as np"
   ]
  },
  {
   "cell_type": "code",
   "execution_count": 2,
   "id": "d8ec7229-14cc-453a-a38d-443102418251",
   "metadata": {},
   "outputs": [],
   "source": [
    "from genome_file import encodeAdj, read_genome"
   ]
  },
  {
   "cell_type": "code",
   "execution_count": 2,
   "id": "1b6470e7-436c-4e06-aa55-dd9b968a6771",
   "metadata": {},
   "outputs": [],
   "source": [
    "from dcj_comp import dcj_dist"
   ]
  },
  {
   "cell_type": "code",
   "execution_count": 5,
   "id": "6fa57651-597c-4fe4-a5bf-8f5685e2705b",
   "metadata": {},
   "outputs": [],
   "source": [
    "genes = read_genome()"
   ]
  },
  {
   "cell_type": "code",
   "execution_count": 13,
   "id": "c0c9bb7e-6d2a-47b2-b950-e4934c1eef34",
   "metadata": {},
   "outputs": [
    {
     "data": {
      "text/plain": [
       "array([-1,  0,  1,  2,  3,  4,  5, -2], dtype=int32)"
      ]
     },
     "execution_count": 13,
     "metadata": {},
     "output_type": "execute_result"
    }
   ],
   "source": [
    "encodeAdj([1,2,3])"
   ]
  },
  {
   "cell_type": "code",
   "execution_count": 9,
   "id": "85d7d4aa-0c62-4a76-b99b-8cd7a35a9815",
   "metadata": {},
   "outputs": [],
   "source": [
    "from gene_mat import trans_rev"
   ]
  },
  {
   "cell_type": "code",
   "execution_count": 10,
   "id": "dbbdd699-5dca-4808-b753-f281ba610c19",
   "metadata": {},
   "outputs": [
    {
     "data": {
      "text/plain": [
       "array([[ 1,  2, -3,  4]])"
      ]
     },
     "execution_count": 10,
     "metadata": {},
     "output_type": "execute_result"
    }
   ],
   "source": [
    "np.matmul(np.array([[1,2,3,-4]]), trans_rev(4, 2,4,2,1))"
   ]
  },
  {
   "cell_type": "code",
   "execution_count": 11,
   "id": "e417378f-37a0-460b-9be4-eb35a865a9ea",
   "metadata": {},
   "outputs": [
    {
     "data": {
      "text/plain": [
       "array([[ 1, -4, -2, -3]])"
      ]
     },
     "execution_count": 11,
     "metadata": {},
     "output_type": "execute_result"
    }
   ],
   "source": [
    "np.matmul(np.array([[1,2,3,-4]]), trans_rev(4, 1,3,2,1))"
   ]
  },
  {
   "cell_type": "code",
   "execution_count": 4,
   "id": "b9a8f41e-cce7-4de9-a501-0b166ad84848",
   "metadata": {},
   "outputs": [
    {
     "data": {
      "text/plain": [
       "(3, 0, 2)"
      ]
     },
     "execution_count": 4,
     "metadata": {},
     "output_type": "execute_result"
    }
   ],
   "source": [
    "dcj_dist([1,2,3,-4], [ 1, -4, -2, -3])"
   ]
  },
  {
   "cell_type": "code",
   "execution_count": null,
   "id": "4bc0bbdd-0d6e-4f5e-b9d3-602042521359",
   "metadata": {},
   "outputs": [],
   "source": []
  }
 ],
 "metadata": {
  "kernelspec": {
   "display_name": "Deep AI",
   "language": "python",
   "name": "dl"
  },
  "language_info": {
   "codemirror_mode": {
    "name": "ipython",
    "version": 3
   },
   "file_extension": ".py",
   "mimetype": "text/x-python",
   "name": "python",
   "nbconvert_exporter": "python",
   "pygments_lexer": "ipython3",
   "version": "3.7.11"
  }
 },
 "nbformat": 4,
 "nbformat_minor": 5
}
