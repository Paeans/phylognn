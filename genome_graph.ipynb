{
 "cells": [
  {
   "cell_type": "code",
   "execution_count": 1,
   "id": "8d92d2fb-3d1e-414a-b76e-25101e5dacbd",
   "metadata": {},
   "outputs": [],
   "source": [
    "from scipy.io import savemat, loadmat"
   ]
  },
  {
   "cell_type": "code",
   "execution_count": 2,
   "id": "b47f88e5-b4cf-489e-a394-58d2b5025a9b",
   "metadata": {},
   "outputs": [],
   "source": [
    "from gene_mat import gen_dataset\n",
    "from dcj_comp import dcj_dist"
   ]
  },
  {
   "cell_type": "code",
   "execution_count": 3,
   "id": "46fe636a-281e-4295-902a-90421c728ade",
   "metadata": {},
   "outputs": [],
   "source": [
    "data = loadmat('data/data_50.mat')"
   ]
  },
  {
   "cell_type": "code",
   "execution_count": 4,
   "id": "d665f4e5-ee24-49f9-8d6b-2524c3240fd4",
   "metadata": {},
   "outputs": [
    {
     "data": {
      "text/plain": [
       "dict_keys(['__header__', '__version__', '__globals__', 's', 'o', 't', 'd'])"
      ]
     },
     "execution_count": 4,
     "metadata": {},
     "output_type": "execute_result"
    }
   ],
   "source": [
    "data.keys()"
   ]
  },
  {
   "cell_type": "code",
   "execution_count": 5,
   "id": "022ea48e-de53-47c5-9c5d-4b8a60db8741",
   "metadata": {},
   "outputs": [],
   "source": [
    "seqs = data['s']\n",
    "t_dist = data['t']\n",
    "d_dist = data['d']"
   ]
  },
  {
   "cell_type": "code",
   "execution_count": 6,
   "id": "9446b3d3-ae16-45d7-8ef7-0bc62cc7fc99",
   "metadata": {},
   "outputs": [
    {
     "data": {
      "text/plain": [
       "(1000, 20, 50)"
      ]
     },
     "execution_count": 6,
     "metadata": {},
     "output_type": "execute_result"
    }
   ],
   "source": [
    "seqs.shape"
   ]
  },
  {
   "cell_type": "code",
   "execution_count": 7,
   "id": "526a9112-8843-4167-94ab-c7650f29e159",
   "metadata": {},
   "outputs": [
    {
     "data": {
      "text/plain": [
       "(1000, 20)"
      ]
     },
     "execution_count": 7,
     "metadata": {},
     "output_type": "execute_result"
    }
   ],
   "source": [
    "t_dist.shape"
   ]
  },
  {
   "cell_type": "code",
   "execution_count": 8,
   "id": "37811c82-52f3-43a2-8267-30d3d3a6c097",
   "metadata": {},
   "outputs": [
    {
     "data": {
      "text/plain": [
       "(1000, 20)"
      ]
     },
     "execution_count": 8,
     "metadata": {},
     "output_type": "execute_result"
    }
   ],
   "source": [
    "d_dist.shape"
   ]
  },
  {
   "cell_type": "code",
   "execution_count": 9,
   "id": "18f0fe28-57fd-4244-acb5-0b1e6dd6fe7c",
   "metadata": {},
   "outputs": [],
   "source": [
    "import time\n",
    "import numpy as np"
   ]
  },
  {
   "cell_type": "code",
   "execution_count": 10,
   "id": "5a2299bc-0ed2-449c-9ff9-b261b21e832b",
   "metadata": {},
   "outputs": [],
   "source": [
    "l,n,repeat = 100, 200, 40"
   ]
  },
  {
   "cell_type": "code",
   "execution_count": 11,
   "id": "e548e74d-c466-4818-b1ee-a39e78ff5242",
   "metadata": {},
   "outputs": [
    {
     "name": "stdout",
     "output_type": "stream",
     "text": [
      "Wed Nov 10 12:11:35 2021\n",
      "Wed Nov 10 12:11:47 2021\n"
     ]
    }
   ],
   "source": [
    "print(time.ctime())\n",
    "s, o, t = gen_dataset(l, n, repeat)\n",
    "d = np.array([[dcj_dist(a[0], x)[-1] for x in a] for a in s])\n",
    "print(time.ctime())"
   ]
  },
  {
   "cell_type": "code",
   "execution_count": 12,
   "id": "3c30e687-2596-4aa2-ac90-56e380ae9123",
   "metadata": {},
   "outputs": [],
   "source": [
    "t_sum = np.zeros(t.shape)\n",
    "for i in range(1, t.shape[-1]):\n",
    "    t_sum[:, i] = t_sum[:, i-1] + t[:, i]"
   ]
  },
  {
   "cell_type": "code",
   "execution_count": 13,
   "id": "21f679eb-19dc-4696-97f9-b23dbca9e558",
   "metadata": {},
   "outputs": [
    {
     "data": {
      "text/plain": [
       "(1000, 20, 50)"
      ]
     },
     "execution_count": 13,
     "metadata": {},
     "output_type": "execute_result"
    }
   ],
   "source": [
    "seqs.shape"
   ]
  },
  {
   "cell_type": "code",
   "execution_count": 14,
   "id": "c59a2529-f6b7-4417-8560-7465c6455e5f",
   "metadata": {},
   "outputs": [],
   "source": [
    "seq = seqs[0]"
   ]
  },
  {
   "cell_type": "code",
   "execution_count": 15,
   "id": "2eaaed3b-e39d-41f2-a4c2-56c597d32ccd",
   "metadata": {},
   "outputs": [],
   "source": [
    "import torch as th"
   ]
  },
  {
   "cell_type": "code",
   "execution_count": 16,
   "id": "1bd6f038-102b-4e48-b34e-271a810b155a",
   "metadata": {},
   "outputs": [],
   "source": [
    "from torch_geometric.data import Data"
   ]
  },
  {
   "cell_type": "code",
   "execution_count": 17,
   "id": "e8d613bf-757d-4345-8c93-218db375cbfd",
   "metadata": {},
   "outputs": [],
   "source": [
    "from genome_graph import gen_single_graph"
   ]
  },
  {
   "cell_type": "code",
   "execution_count": 18,
   "id": "afdb6597-bdcf-4117-b7b1-f45ef4f251c6",
   "metadata": {},
   "outputs": [
    {
     "data": {
      "text/plain": [
       "array([0., 2., 1., 2., 2., 1., 2., 1., 2., 2., 2., 2., 1., 2., 2., 2., 2.,\n",
       "       2., 2., 1.])"
      ]
     },
     "execution_count": 18,
     "metadata": {},
     "output_type": "execute_result"
    }
   ],
   "source": [
    "t_dist[0]"
   ]
  },
  {
   "cell_type": "code",
   "execution_count": 19,
   "id": "db5a61cc-0dff-4729-be64-c6a8976fa986",
   "metadata": {},
   "outputs": [],
   "source": [
    "g36 = gen_single_graph(seq[(3,6), :])"
   ]
  },
  {
   "cell_type": "code",
   "execution_count": 20,
   "id": "ed8f837f-8e57-492a-a8e2-826bce06e8e8",
   "metadata": {},
   "outputs": [
    {
     "data": {
      "text/plain": [
       "Data(x=[100, 2], edge_index=[2, 198], dtype=torch.int64, num_nodes=100)"
      ]
     },
     "execution_count": 20,
     "metadata": {},
     "output_type": "execute_result"
    }
   ],
   "source": [
    "g36"
   ]
  },
  {
   "cell_type": "code",
   "execution_count": 21,
   "id": "024819b3-aea5-4d01-b1c4-52a890ff736f",
   "metadata": {},
   "outputs": [
    {
     "data": {
      "text/plain": [
       "array([ 50., -49.,  10., -16.,   5.,  -1., -27., -13.,   6.,  -9.,   4.,\n",
       "        22., -17., -35.,  18.,  46., -48.,  23., -36.,   7.,   3.,  12.,\n",
       "       -45., -25., -31., -19., -34., -44., -32., -40.,  29.,  47., -15.,\n",
       "       -37.,  20.,  28.,  21., -33.,  11., -30.,  38.,  39.,  26., -42.,\n",
       "       -14.,  -2.,  43., -41.,  -8., -24.])"
      ]
     },
     "execution_count": 21,
     "metadata": {},
     "output_type": "execute_result"
    }
   ],
   "source": [
    "seq[3,:]"
   ]
  },
  {
   "cell_type": "code",
   "execution_count": 22,
   "id": "ee219a2e-52c7-427c-a94f-99a8bb7cbabc",
   "metadata": {},
   "outputs": [],
   "source": [
    "s, o, t = gen_dataset(10, 100, 5)"
   ]
  },
  {
   "cell_type": "code",
   "execution_count": 23,
   "id": "366504b7-5b0f-4707-89df-0905fa3cffb3",
   "metadata": {},
   "outputs": [],
   "source": [
    "seqs = s[20]"
   ]
  },
  {
   "cell_type": "code",
   "execution_count": 24,
   "id": "a4b4ab54-04fc-4120-8c4e-73262a5c7737",
   "metadata": {},
   "outputs": [
    {
     "data": {
      "text/plain": [
       "array([[-7., -4., -6., -2.,  1., 10.,  5.,  8.,  9., -3.],\n",
       "       [-7., -2.,  1.,  6.,  4., 10.,  5.,  8.,  9., -3.],\n",
       "       [-7., -2., -1.,  6.,  4., 10.,  5.,  8.,  9., -3.],\n",
       "       [ 5.,  8.,  9., -3.,  6.,  4., 10., -7., -2., -1.],\n",
       "       [ 5.,  2.,  8.,  9., -3.,  6.,  4., 10., -7., -1.]])"
      ]
     },
     "execution_count": 24,
     "metadata": {},
     "output_type": "execute_result"
    }
   ],
   "source": [
    "seqs"
   ]
  },
  {
   "cell_type": "code",
   "execution_count": 25,
   "id": "f6873eb1-5109-4fab-bbff-0853dd788359",
   "metadata": {},
   "outputs": [],
   "source": [
    "g14 = gen_single_graph(seqs[(1,4), :])"
   ]
  },
  {
   "cell_type": "code",
   "execution_count": 26,
   "id": "8914b28c-a6ff-47cc-bcb1-5c2e204bc33c",
   "metadata": {},
   "outputs": [
    {
     "data": {
      "text/plain": [
       "Data(x=[20, 2], edge_index=[2, 38], dtype=torch.int64, num_nodes=20)"
      ]
     },
     "execution_count": 26,
     "metadata": {},
     "output_type": "execute_result"
    }
   ],
   "source": [
    "g14"
   ]
  },
  {
   "cell_type": "code",
   "execution_count": 27,
   "id": "924b4db8-0170-4388-9f10-c96795225bab",
   "metadata": {},
   "outputs": [
    {
     "data": {
      "text/plain": [
       "array([[-7., -2.,  1.,  6.,  4., 10.,  5.,  8.,  9., -3.],\n",
       "       [ 5.,  2.,  8.,  9., -3.,  6.,  4., 10., -7., -1.]])"
      ]
     },
     "execution_count": 27,
     "metadata": {},
     "output_type": "execute_result"
    }
   ],
   "source": [
    "seqs[(1,4), :]"
   ]
  },
  {
   "cell_type": "code",
   "execution_count": 28,
   "id": "a2098e83-7769-479b-8e7f-11d65132c37a",
   "metadata": {},
   "outputs": [
    {
     "data": {
      "text/plain": [
       "tensor([[13, 12,  3,  2,  0,  1, 10, 11,  6,  7, 18, 19,  8,  9, 14, 15, 16, 17,\n",
       "          5,  8,  9,  2,  3, 14, 15, 16, 17,  5,  4, 10, 11,  6,  7, 18, 19, 13,\n",
       "         12,  1],\n",
       "        [12,  3,  2,  0,  1, 10, 11,  6,  7, 18, 19,  8,  9, 14, 15, 16, 17,  5,\n",
       "          4,  9,  2,  3, 14, 15, 16, 17,  5,  4, 10, 11,  6,  7, 18, 19, 13, 12,\n",
       "          1,  0]], dtype=torch.int32)"
      ]
     },
     "execution_count": 28,
     "metadata": {},
     "output_type": "execute_result"
    }
   ],
   "source": [
    "g14.edge_index"
   ]
  },
  {
   "cell_type": "code",
   "execution_count": 29,
   "id": "6399c32a-4554-4fa5-8813-8699f07f0baa",
   "metadata": {},
   "outputs": [],
   "source": [
    "from genome_graph import plot_multi_graph"
   ]
  },
  {
   "cell_type": "code",
   "execution_count": 30,
   "id": "47836220-df4f-46da-afad-2662d7d86669",
   "metadata": {},
   "outputs": [
    {
     "data": {
      "text/plain": [
       "array([[-7., -2.,  1.,  6.,  4., 10.,  5.,  8.,  9., -3.],\n",
       "       [ 5.,  2.,  8.,  9., -3.,  6.,  4., 10., -7., -1.]])"
      ]
     },
     "execution_count": 30,
     "metadata": {},
     "output_type": "execute_result"
    }
   ],
   "source": [
    "seqs[(1,4), :]"
   ]
  },
  {
   "cell_type": "code",
   "execution_count": 60,
   "id": "d12ebfd4-8cda-4e58-8a3c-e52b8d2ed125",
   "metadata": {},
   "outputs": [
    {
     "data": {
      "image/png": "[encoded data removed]",
      "text/plain": [
       "<Figure size 864x576 with 1 Axes>"
      ]
     },
     "metadata": {},
     "output_type": "display_data"
    }
   ],
   "source": [
    "import networkx as nx\n",
    "from torch_geometric.utils.convert import to_networkx\n",
    "# graphs = [gen_single_graph([[1,2,3,4,5,6,7,8,9,10]])]\n",
    "# graphs = [gen_single_graph([x]) for x in seqs[(1,4), :]]\n",
    "graphs = gen_single_graph(seqs[(1,4), :])\n",
    "plot_multi_graph([graphs], figsize = (12,8))"
   ]
  },
  {
   "cell_type": "code",
   "execution_count": 32,
   "id": "46f0e640-dd43-4c48-ac27-0b6bb48ce86c",
   "metadata": {},
   "outputs": [],
   "source": [
    "x = [[1], [2], [3]]\n",
    "edge = [[1,2,3], [2,3,4]]"
   ]
  },
  {
   "cell_type": "code",
   "execution_count": 33,
   "id": "ffcb26bc-92dc-4389-a5a0-6e7f7ced8464",
   "metadata": {},
   "outputs": [],
   "source": [
    "test = Data(x = x, edge_index = th.tensor(edge), num_nodes = 4, dtype = th.int, label = ['a', 'b', 'c'])"
   ]
  },
  {
   "cell_type": "code",
   "execution_count": 34,
   "id": "86cac3d5-f858-4e1b-953d-c5c690ae0e10",
   "metadata": {},
   "outputs": [
    {
     "data": {
      "text/plain": [
       "Data(x=[3], edge_index=[2, 3], num_nodes=4, dtype=torch.int32, label=[3])"
      ]
     },
     "execution_count": 34,
     "metadata": {},
     "output_type": "execute_result"
    }
   ],
   "source": [
    "test"
   ]
  },
  {
   "cell_type": "code",
   "execution_count": 35,
   "id": "5351e40a-cb37-4587-821f-2b7636469408",
   "metadata": {},
   "outputs": [
    {
     "data": {
      "text/plain": [
       "['a', 'b', 'c']"
      ]
     },
     "execution_count": 35,
     "metadata": {},
     "output_type": "execute_result"
    }
   ],
   "source": [
    "test.label"
   ]
  },
  {
   "cell_type": "code",
   "execution_count": 36,
   "id": "e1eb092e-807a-4c52-8667-3a51a29d6653",
   "metadata": {},
   "outputs": [],
   "source": [
    "g = to_networkx(test)"
   ]
  },
  {
   "cell_type": "code",
   "execution_count": 37,
   "id": "fd98a0e5-cfc0-47b0-8650-418dc6540114",
   "metadata": {},
   "outputs": [
    {
     "data": {
      "text/plain": [
       "<networkx.classes.digraph.DiGraph at 0x7fb1e7d39650>"
      ]
     },
     "execution_count": 37,
     "metadata": {},
     "output_type": "execute_result"
    }
   ],
   "source": [
    "g"
   ]
  },
  {
   "cell_type": "code",
   "execution_count": 51,
   "id": "2d92b69e-5109-4be8-a1a6-47c24c2fd80f",
   "metadata": {},
   "outputs": [],
   "source": [
    "test = gen_single_graph([[1,2,3]])\n",
    "test1 = gen_single_graph([[1,-2,3]])\n",
    "test2 = gen_single_graph([[-3,-2,-1]])"
   ]
  },
  {
   "cell_type": "code",
   "execution_count": 56,
   "id": "a06b9801-d93f-449f-9e3c-ca08dc6549a0",
   "metadata": {},
   "outputs": [],
   "source": [
    "mul_test = gen_single_graph([[1,-2,3], [-3,-2,-1]])"
   ]
  },
  {
   "cell_type": "code",
   "execution_count": 61,
   "id": "bb38cb52-a64f-42c6-bfea-ec98365747c1",
   "metadata": {},
   "outputs": [
    {
     "data": {
      "text/plain": [
       "(6, 2)"
      ]
     },
     "execution_count": 61,
     "metadata": {},
     "output_type": "execute_result"
    }
   ],
   "source": [
    "mul_test.x.shape"
   ]
  },
  {
   "cell_type": "code",
   "execution_count": 62,
   "id": "8fc8ac5a-fee5-4106-b836-eafdcf9562a9",
   "metadata": {},
   "outputs": [
    {
     "data": {
      "text/plain": [
       "torch.Size([2, 10])"
      ]
     },
     "execution_count": 62,
     "metadata": {},
     "output_type": "execute_result"
    }
   ],
   "source": [
    "mul_test.edge_index.shape"
   ]
  },
  {
   "cell_type": "code",
   "execution_count": 53,
   "id": "1bed55eb-f7ee-45b2-9d40-d6092ea71bc9",
   "metadata": {},
   "outputs": [
    {
     "data": {
      "image/png": "[encoded data removed]",
      "text/plain": [
       "<Figure size 720x360 with 1 Axes>"
      ]
     },
     "metadata": {},
     "output_type": "display_data"
    }
   ],
   "source": [
    "plot_multi_graph([test, test1, test2], figsize = (10,5), pos = {a: [a, 0] for a in range(6)})"
   ]
  },
  {
   "cell_type": "code",
   "execution_count": 57,
   "id": "c94a8b66-0eb0-497f-9777-de9f79824afc",
   "metadata": {},
   "outputs": [
    {
     "data": {
      "image/png": "[encoded data removed]",
      "text/plain": [
       "<Figure size 720x360 with 1 Axes>"
      ]
     },
     "metadata": {},
     "output_type": "display_data"
    }
   ],
   "source": [
    "plot_multi_graph([mul_test], figsize = (10,5))"
   ]
  },
  {
   "cell_type": "code",
   "execution_count": 63,
   "id": "b0af6a12-25e6-4269-8425-5dc193809141",
   "metadata": {},
   "outputs": [
    {
     "data": {
      "image/png": "[encoded data removed]",
      "text/plain": [
       "<Figure size 720x360 with 1 Axes>"
      ]
     },
     "metadata": {},
     "output_type": "display_data"
    }
   ],
   "source": [
    "plot_multi_graph([gen_single_graph([[1,2,3,1]])], figsize = (10,5))"
   ]
  },
  {
   "cell_type": "code",
   "execution_count": 43,
   "id": "5d9c98f3-aa4f-4c6e-97ac-f14ef29ac2b6",
   "metadata": {},
   "outputs": [
    {
     "data": {
      "text/plain": [
       "{0: array([-1.        , -0.41666667]),\n",
       " 1: array([ 1.        , -0.41666667]),\n",
       " 2: array([0.5       , 0.08333333]),\n",
       " 3: array([0.25      , 0.33333333]),\n",
       " 4: array([0.        , 0.58333333]),\n",
       " 5: array([-0.75      , -0.16666667])}"
      ]
     },
     "execution_count": 43,
     "metadata": {},
     "output_type": "execute_result"
    }
   ],
   "source": [
    "nx.planar_layout(to_networkx(test))"
   ]
  },
  {
   "cell_type": "code",
   "execution_count": 44,
   "id": "2d962c53-7ac1-4183-8c8d-d645de53c7d1",
   "metadata": {},
   "outputs": [
    {
     "data": {
      "text/plain": [
       "{0: [0, 0], 1: [1, 0], 2: [2, 0], 3: [3, 0], 4: [4, 0], 5: [5, 0]}"
      ]
     },
     "execution_count": 44,
     "metadata": {},
     "output_type": "execute_result"
    }
   ],
   "source": [
    "{a: [a, 0] for a in range(6)}"
   ]
  },
  {
   "cell_type": "code",
   "execution_count": 45,
   "id": "febfd2dd-47ba-46f8-836d-92bd8a5dcfe7",
   "metadata": {},
   "outputs": [],
   "source": [
    "t = 1 if False else 0"
   ]
  },
  {
   "cell_type": "code",
   "execution_count": 46,
   "id": "f2410653-ccc4-455e-94db-1b6e694524ed",
   "metadata": {},
   "outputs": [
    {
     "data": {
      "text/plain": [
       "0"
      ]
     },
     "execution_count": 46,
     "metadata": {},
     "output_type": "execute_result"
    }
   ],
   "source": [
    "t"
   ]
  },
  {
   "cell_type": "code",
   "execution_count": 1,
   "id": "ed0682fe-0367-4c22-9383-fe4e0001017e",
   "metadata": {},
   "outputs": [],
   "source": [
    "from genome_graph import gen_graph, gen_single_graph"
   ]
  },
  {
   "cell_type": "code",
   "execution_count": 7,
   "id": "9e273341-1c08-4485-85fc-138c80758251",
   "metadata": {},
   "outputs": [],
   "source": [
    "mul_test = gen_single_graph([[1,-2,3], [-3,-2,-1]])"
   ]
  },
  {
   "cell_type": "code",
   "execution_count": 15,
   "id": "2b25014b-e991-4557-9a8b-c712d402c595",
   "metadata": {},
   "outputs": [],
   "source": [
    "new_test = gen_graph([[1,-2,3], [-3,-2,-1], [1,-2,-3]])"
   ]
  },
  {
   "cell_type": "code",
   "execution_count": 9,
   "id": "21dc6c1a-eb5c-469b-bbc9-b0a2d4e7b704",
   "metadata": {},
   "outputs": [
    {
     "data": {
      "text/plain": [
       "Data(x=[6, 2], edge_index=[2, 10], dtype=torch.int64, num_nodes=6)"
      ]
     },
     "execution_count": 9,
     "metadata": {},
     "output_type": "execute_result"
    }
   ],
   "source": [
    "mul_test"
   ]
  },
  {
   "cell_type": "code",
   "execution_count": 10,
   "id": "d19dd47a-bff7-4317-8f8e-10c7c6c48036",
   "metadata": {},
   "outputs": [
    {
     "data": {
      "text/plain": [
       "Data(x=[6, 2], edge_index=[2, 10], edge_attr=[10, 2], dtype=torch.int64, num_nodes=6)"
      ]
     },
     "execution_count": 10,
     "metadata": {},
     "output_type": "execute_result"
    }
   ],
   "source": [
    "new_test"
   ]
  },
  {
   "cell_type": "code",
   "execution_count": 11,
   "id": "25c9e29c-f92d-4319-8ad7-30fab155aaaa",
   "metadata": {},
   "outputs": [
    {
     "data": {
      "text/plain": [
       "array([[ True,  True],\n",
       "       [ True,  True],\n",
       "       [ True,  True],\n",
       "       [ True,  True],\n",
       "       [ True,  True],\n",
       "       [ True,  True]])"
      ]
     },
     "execution_count": 11,
     "metadata": {},
     "output_type": "execute_result"
    }
   ],
   "source": [
    "mul_test.x == new_test.x"
   ]
  },
  {
   "cell_type": "code",
   "execution_count": 13,
   "id": "18632ce6-54f9-491d-ae3d-7b74a9cfab28",
   "metadata": {},
   "outputs": [
    {
     "data": {
      "text/plain": [
       "tensor([[True, True, True, True, True, True, True, True, True, True],\n",
       "        [True, True, True, True, True, True, True, True, True, True]])"
      ]
     },
     "execution_count": 13,
     "metadata": {},
     "output_type": "execute_result"
    }
   ],
   "source": [
    "mul_test.edge_index == new_test.edge_index"
   ]
  },
  {
   "cell_type": "code",
   "execution_count": 16,
   "id": "e8b8416f-5989-41df-bd29-7a78d376624b",
   "metadata": {},
   "outputs": [
    {
     "data": {
      "text/plain": [
       "array([[1, 0, 0],\n",
       "       [1, 0, 0],\n",
       "       [1, 0, 0],\n",
       "       [1, 0, 0],\n",
       "       [1, 0, 0],\n",
       "       [0, 1, 0],\n",
       "       [0, 1, 0],\n",
       "       [0, 1, 0],\n",
       "       [0, 1, 0],\n",
       "       [0, 1, 0],\n",
       "       [0, 0, 1],\n",
       "       [0, 0, 1],\n",
       "       [0, 0, 1],\n",
       "       [0, 0, 1],\n",
       "       [0, 0, 1]], dtype=int32)"
      ]
     },
     "execution_count": 16,
     "metadata": {},
     "output_type": "execute_result"
    }
   ],
   "source": [
    "new_test.edge_attr"
   ]
  },
  {
   "cell_type": "code",
   "execution_count": null,
   "id": "dc2bbc00-1639-412a-8ac6-d5315f12c738",
   "metadata": {},
   "outputs": [],
   "source": []
  }
 ],
 "metadata": {
  "kernelspec": {
   "display_name": "Deep AI",
   "language": "python",
   "name": "dl"
  },
  "language_info": {
   "codemirror_mode": {
    "name": "ipython",
    "version": 3
   },
   "file_extension": ".py",
   "mimetype": "text/x-python",
   "name": "python",
   "nbconvert_exporter": "python",
   "pygments_lexer": "ipython3",
   "version": "3.7.11"
  }
 },
 "nbformat": 4,
 "nbformat_minor": 5
}
