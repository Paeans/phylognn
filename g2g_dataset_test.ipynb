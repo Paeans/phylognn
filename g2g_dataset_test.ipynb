{
 "cells": [
  {
   "cell_type": "code",
   "execution_count": 1,
   "id": "c79d1fd6-7025-401e-9c60-dc4af0e885b0",
   "metadata": {},
   "outputs": [],
   "source": [
    "import torch\n",
    "import numpy as np\n",
    "\n",
    "from gene_graph_dataset import G2GraphDataset"
   ]
  },
  {
   "cell_type": "code",
   "execution_count": 2,
   "id": "6777f22d-2efa-416e-8ee6-61d97580bbce",
   "metadata": {},
   "outputs": [],
   "source": [
    "from torch_geometric.utils import to_scipy_sparse_matrix"
   ]
  },
  {
   "cell_type": "code",
   "execution_count": 3,
   "id": "f1e4a671-7814-460b-8be9-b79f243a6398",
   "metadata": {},
   "outputs": [],
   "source": [
    "g2g_data = G2GraphDataset('g2gdataset', 10, 3)"
   ]
  },
  {
   "cell_type": "code",
   "execution_count": 4,
   "id": "ed219c1b-abab-4218-83ad-8993d1100a90",
   "metadata": {},
   "outputs": [
    {
     "data": {
      "text/plain": [
       "G2GraphDataset(30000)"
      ]
     },
     "execution_count": 4,
     "metadata": {},
     "output_type": "execute_result"
    }
   ],
   "source": [
    "g2g_data"
   ]
  },
  {
   "cell_type": "code",
   "execution_count": 5,
   "id": "adb1a9e1-94de-4fc4-bf85-d38697c4b725",
   "metadata": {},
   "outputs": [],
   "source": [
    "g = g2g_data[0]"
   ]
  },
  {
   "cell_type": "code",
   "execution_count": 6,
   "id": "ac874307-3481-48b8-82ba-c16328f34b4a",
   "metadata": {},
   "outputs": [
    {
     "data": {
      "text/plain": [
       "tensor([[13, 12, 17, 16, 19, 18,  9,  8, 15, 14,  1,  0, 11, 10,  3,  2,  6,  7,\n",
       "          5],\n",
       "        [12, 17, 16, 19, 18,  9,  8, 15, 14,  1,  0, 11, 10,  3,  2,  6,  7,  5,\n",
       "          4]])"
      ]
     },
     "execution_count": 6,
     "metadata": {},
     "output_type": "execute_result"
    }
   ],
   "source": [
    "g.pos_edge_label_index"
   ]
  },
  {
   "cell_type": "code",
   "execution_count": 7,
   "id": "45a6a4ac-8567-4cd5-8f08-f1598d8908ad",
   "metadata": {},
   "outputs": [],
   "source": [
    "from torch_geometric.utils import negative_sampling"
   ]
  },
  {
   "cell_type": "code",
   "execution_count": 8,
   "id": "2d417f87-bf46-4852-a6f7-43fd9e235d5f",
   "metadata": {},
   "outputs": [
    {
     "data": {
      "text/plain": [
       "torch.Size([2, 300])"
      ]
     },
     "execution_count": 8,
     "metadata": {},
     "output_type": "execute_result"
    }
   ],
   "source": [
    "negative_sampling(g.pos_edge_label_index, g.x.size(0), num_neg_samples = 300).shape"
   ]
  },
  {
   "cell_type": "code",
   "execution_count": 9,
   "id": "f9952383-f260-47ce-8aca-1d77a0dfdafc",
   "metadata": {},
   "outputs": [],
   "source": [
    "mg = to_scipy_sparse_matrix(negative_sampling(g.pos_edge_label_index, g.x.size(0))).toarray()"
   ]
  },
  {
   "cell_type": "code",
   "execution_count": 10,
   "id": "e2c2e0c5-0fca-4aad-86af-6f65df48a0e7",
   "metadata": {},
   "outputs": [
    {
     "data": {
      "text/plain": [
       "19.0"
      ]
     },
     "execution_count": 10,
     "metadata": {},
     "output_type": "execute_result"
    }
   ],
   "source": [
    "mg.sum()"
   ]
  },
  {
   "cell_type": "code",
   "execution_count": 11,
   "id": "c452480f-6488-4c49-af07-56f24add6375",
   "metadata": {},
   "outputs": [
    {
     "data": {
      "text/plain": [
       "array([0., 1., 0., 1., 1., 1., 2., 0., 1., 0., 0., 2., 0., 1., 3., 1., 1.,\n",
       "       1., 2., 1.], dtype=float32)"
      ]
     },
     "execution_count": 11,
     "metadata": {},
     "output_type": "execute_result"
    }
   ],
   "source": [
    "mg.sum(1)"
   ]
  },
  {
   "cell_type": "code",
   "execution_count": 12,
   "id": "d7b204dc-53ef-4cf4-b08e-485ba7adf8f9",
   "metadata": {},
   "outputs": [
    {
     "data": {
      "text/plain": [
       "array([2., 2., 1., 3., 2., 0., 2., 1., 0., 0., 0., 2., 1., 1., 0., 0., 0.,\n",
       "       1., 1., 0.], dtype=float32)"
      ]
     },
     "execution_count": 12,
     "metadata": {},
     "output_type": "execute_result"
    }
   ],
   "source": [
    "mg.sum(0)"
   ]
  },
  {
   "cell_type": "code",
   "execution_count": null,
   "id": "29b84f4d-6a2d-44ce-8489-0bcc57e8d3e5",
   "metadata": {},
   "outputs": [],
   "source": []
  }
 ],
 "metadata": {
  "kernelspec": {
   "display_name": "Deep AI",
   "language": "python",
   "name": "dl"
  },
  "language_info": {
   "codemirror_mode": {
    "name": "ipython",
    "version": 3
   },
   "file_extension": ".py",
   "mimetype": "text/x-python",
   "name": "python",
   "nbconvert_exporter": "python",
   "pygments_lexer": "ipython3",
   "version": "3.7.11"
  }
 },
 "nbformat": 4,
 "nbformat_minor": 5
}
