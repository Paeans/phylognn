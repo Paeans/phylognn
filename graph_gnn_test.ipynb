{
 "cells": [
  {
   "cell_type": "code",
   "execution_count": 1,
   "id": "25aa328c-fbde-4c86-837d-b109eac25828",
   "metadata": {},
   "outputs": [],
   "source": [
    "import time\n",
    "\n",
    "import torch\n",
    "\n",
    "import torch.nn.functional as F\n",
    "from torch.nn import ModuleList, Embedding\n",
    "from torch.nn import Sequential, ReLU, Linear\n",
    "from torch.optim.lr_scheduler import ReduceLROnPlateau\n",
    "\n",
    "from torch_geometric.utils import degree\n",
    "from torch_geometric.loader import DataLoader\n",
    "from torch_geometric.nn import GCNConv, PNAConv, BatchNorm, global_add_pool\n",
    "\n",
    "from gene_graph_dataset import GeneGraphDataset\n",
    "\n",
    "from torch.utils.tensorboard import SummaryWriter"
   ]
  },
  {
   "cell_type": "code",
   "execution_count": 2,
   "id": "d1afe07e-f45d-4435-9efd-f7be458f83ee",
   "metadata": {},
   "outputs": [],
   "source": [
    "train_p, test_p = 0.7, 0.2"
   ]
  },
  {
   "cell_type": "code",
   "execution_count": 3,
   "id": "0c8f1633-bee2-464b-93e2-6fea1a471948",
   "metadata": {},
   "outputs": [],
   "source": [
    "dataset = GeneGraphDataset('dataset', 100, 5)\n",
    "data_size = len(dataset)\n",
    "train_size, test_size = (int)(data_size * train_p), (int)(data_size * test_p)"
   ]
  },
  {
   "cell_type": "code",
   "execution_count": 4,
   "id": "a95dcce3-4aaf-4d68-b153-a9581899a327",
   "metadata": {},
   "outputs": [],
   "source": [
    "dataset = dataset.shuffle()\n",
    "train_dataset = dataset[:train_size]\n",
    "test_dataset = dataset[train_size:(train_size + test_size)]\n",
    "val_dataset = dataset[(train_size + test_size):]"
   ]
  },
  {
   "cell_type": "code",
   "execution_count": 5,
   "id": "63f6283c-d51a-4747-8f1b-f437ca523abd",
   "metadata": {},
   "outputs": [],
   "source": [
    "# len(train_dataset), len(test_dataset), len(val_dataset)"
   ]
  },
  {
   "cell_type": "code",
   "execution_count": 6,
   "id": "ddbf1dce-6f12-4fdd-be53-37271e03d352",
   "metadata": {},
   "outputs": [],
   "source": [
    "train_loader = DataLoader(train_dataset, batch_size=64, shuffle=True)\n",
    "test_loader = DataLoader(test_dataset, batch_size=128)\n",
    "val_loader = DataLoader(val_dataset, batch_size=128)"
   ]
  },
  {
   "cell_type": "code",
   "execution_count": 7,
   "id": "89c85b3a-1bdf-49db-8494-d04d29ba39eb",
   "metadata": {},
   "outputs": [],
   "source": [
    "# len(train_loader), len(test_loader), len(val_loader)"
   ]
  },
  {
   "cell_type": "code",
   "execution_count": 8,
   "id": "684cbd70-ea87-4b3d-b84a-54ef8dfb8c95",
   "metadata": {},
   "outputs": [],
   "source": [
    "deg = torch.zeros(5, dtype=torch.long)\n",
    "for data in train_dataset:\n",
    "    d = degree(data.edge_index[1].type(torch.int64), \n",
    "               num_nodes=data.num_nodes, dtype=torch.long)\n",
    "    deg += torch.bincount(d, minlength=deg.numel())"
   ]
  },
  {
   "cell_type": "code",
   "execution_count": 9,
   "id": "7ccffcdc-97e6-4d94-91a1-11fe35ec82b1",
   "metadata": {},
   "outputs": [],
   "source": [
    "class Net(torch.nn.Module):\n",
    "    def __init__(self):\n",
    "        super(Net, self).__init__()\n",
    "\n",
    "        self.node_emb = Embedding(21, 75)\n",
    "        self.edge_emb = Embedding(4, 25)\n",
    "\n",
    "        aggregators = ['mean', 'min', 'max', 'std']\n",
    "        scalers = ['identity', 'amplification', 'attenuation']\n",
    "\n",
    "        self.convs = ModuleList()\n",
    "        self.batch_norms = ModuleList()\n",
    "        for _ in range(4):\n",
    "            conv = PNAConv(in_channels=75, out_channels=75,\n",
    "                           aggregators=aggregators, scalers=scalers, deg=deg,\n",
    "                           edge_dim=50, towers=5, pre_layers=1, post_layers=1,\n",
    "                           divide_input=False)\n",
    "            # conv = GCNConv(in_channels=75, out_channels=75)\n",
    "            self.convs.append(conv)\n",
    "            self.batch_norms.append(BatchNorm(75))\n",
    "            \n",
    "        self.pre_lin = Linear(150,75)\n",
    "\n",
    "        self.mlp = Sequential(Linear(75, 50), ReLU(), Linear(50, 25), ReLU(),\n",
    "                              Linear(25, 1))\n",
    "\n",
    "    def forward(self, x, edge_index, edge_attr, batch):\n",
    "        \n",
    "        x = torch.reshape(self.node_emb(x.squeeze()), (-1, 150))\n",
    "        x = self.pre_lin(x)\n",
    "        \n",
    "        edge_attr = torch.reshape(self.edge_emb(edge_attr), (-1,50))\n",
    "\n",
    "        for conv, batch_norm in zip(self.convs, self.batch_norms):\n",
    "            x = F.relu(batch_norm(conv(x, edge_index, edge_attr)))\n",
    "            # x = F.relu(batch_norm(conv(x, edge_index)))\n",
    "        x = global_add_pool(x, batch)        \n",
    "        return self.mlp(x)"
   ]
  },
  {
   "cell_type": "code",
   "execution_count": 10,
   "id": "e6c79a8d-bb5d-4875-80ff-6c22ece243e1",
   "metadata": {},
   "outputs": [],
   "source": [
    "device = torch.device('cuda' if torch.cuda.is_available() else 'cpu')\n",
    "model = Net().to(device)\n",
    "optimizer = torch.optim.Adam(model.parameters(), lr=0.001)\n",
    "scheduler = ReduceLROnPlateau(optimizer, mode='min', factor=0.5, patience=20,\n",
    "                              min_lr=0.00001)"
   ]
  },
  {
   "cell_type": "code",
   "execution_count": 11,
   "id": "e364bfa2-7153-493c-9d74-ba7b1ae117ce",
   "metadata": {},
   "outputs": [],
   "source": [
    "def train(train_loader):\n",
    "    model.train()\n",
    "\n",
    "    total_loss = 0\n",
    "    for data in train_loader:\n",
    "        data = data.to(device)\n",
    "        optimizer.zero_grad()\n",
    "        out = model(data.x, data.edge_index, data.edge_attr, data.batch)\n",
    "        loss = (out.squeeze() - data.y).abs().mean()\n",
    "        \n",
    "        loss.backward()\n",
    "        total_loss += loss.item() * data.num_graphs\n",
    "        optimizer.step()\n",
    "    return total_loss / len(train_loader.dataset)"
   ]
  },
  {
   "cell_type": "code",
   "execution_count": 12,
   "id": "ce1b9829-772b-4e9b-a75e-1e9904d80afa",
   "metadata": {},
   "outputs": [],
   "source": [
    "@torch.no_grad()\n",
    "def test(loader):\n",
    "    model.eval()\n",
    "\n",
    "    total_error = 0\n",
    "    for data in loader:\n",
    "        data = data.to(device)\n",
    "        out = model(data.x, data.edge_index, data.edge_attr, data.batch)\n",
    "        total_error += (out.squeeze() - data.y).abs().sum().item()\n",
    "    return total_error / len(loader.dataset)"
   ]
  },
  {
   "cell_type": "code",
   "execution_count": 13,
   "id": "3fba2c20-6dee-4b91-acdb-8ee1fa2319fe",
   "metadata": {},
   "outputs": [],
   "source": [
    "writer = SummaryWriter(log_dir='runs/g2d')"
   ]
  },
  {
   "cell_type": "code",
   "execution_count": 14,
   "id": "e23bb307-e484-493c-a60e-69911d93d554",
   "metadata": {},
   "outputs": [
    {
     "name": "stdout",
     "output_type": "stream",
     "text": [
      "Mon Dec 13 11:02:48 2021\tEpoch: 050, Loss: 0.6048, Val: 0.6378, Test: 0.6549\n",
      "Mon Dec 13 11:04:55 2021\tEpoch: 100, Loss: 0.4603, Val: 0.6132, Test: 0.5862\n",
      "Mon Dec 13 11:07:03 2021\tEpoch: 150, Loss: 0.4343, Val: 0.5481, Test: 0.5113\n",
      "Mon Dec 13 11:09:10 2021\tEpoch: 200, Loss: 0.3479, Val: 0.6002, Test: 0.5975\n",
      "Mon Dec 13 11:11:17 2021\tEpoch: 250, Loss: 0.2553, Val: 0.4916, Test: 0.4296\n",
      "Mon Dec 13 11:13:25 2021\tEpoch: 300, Loss: 0.2291, Val: 0.4848, Test: 0.4255\n",
      "Mon Dec 13 11:15:32 2021\tEpoch: 350, Loss: 0.2122, Val: 0.4791, Test: 0.4217\n",
      "Mon Dec 13 11:17:40 2021\tEpoch: 400, Loss: 0.1973, Val: 0.4744, Test: 0.4251\n",
      "Mon Dec 13 11:19:47 2021\tEpoch: 450, Loss: 0.2023, Val: 0.4805, Test: 0.4244\n",
      "Mon Dec 13 11:21:55 2021\tEpoch: 500, Loss: 0.2326, Val: 0.4803, Test: 0.4254\n",
      "Mon Dec 13 11:24:02 2021\tEpoch: 550, Loss: 0.1972, Val: 0.4775, Test: 0.4305\n",
      "Mon Dec 13 11:26:10 2021\tEpoch: 600, Loss: 0.1855, Val: 0.4775, Test: 0.4327\n",
      "Mon Dec 13 11:28:17 2021\tEpoch: 650, Loss: 0.1987, Val: 0.4740, Test: 0.4256\n",
      "Mon Dec 13 11:30:24 2021\tEpoch: 700, Loss: 0.1938, Val: 0.4775, Test: 0.4308\n",
      "Mon Dec 13 11:32:32 2021\tEpoch: 750, Loss: 0.2033, Val: 0.4859, Test: 0.4294\n",
      "Mon Dec 13 11:34:39 2021\tEpoch: 800, Loss: 0.1816, Val: 0.4793, Test: 0.4256\n",
      "Mon Dec 13 11:36:47 2021\tEpoch: 850, Loss: 0.1744, Val: 0.4827, Test: 0.4320\n",
      "Mon Dec 13 11:38:54 2021\tEpoch: 900, Loss: 0.2150, Val: 0.4815, Test: 0.4404\n",
      "Mon Dec 13 11:41:02 2021\tEpoch: 950, Loss: 0.1630, Val: 0.4874, Test: 0.4374\n",
      "Mon Dec 13 11:43:09 2021\tEpoch: 1000, Loss: 0.1655, Val: 0.4866, Test: 0.4259\n"
     ]
    }
   ],
   "source": [
    "result = torch.zeros(1000, 3)\n",
    "\n",
    "for epoch in range(1, 1001):\n",
    "    loss = train(train_loader)\n",
    "    test_mae = test(test_loader)\n",
    "    val_mae = test(val_loader)\n",
    "    \n",
    "    scheduler.step(val_mae)\n",
    "    result[epoch - 1] = torch.tensor([loss, val_mae, test_mae])\n",
    "    \n",
    "    writer.add_scalar('Loss/train', loss, epoch)\n",
    "    writer.add_scalar('Loss/test', test_mae, epoch)\n",
    "    writer.add_scalar('Loss/val', val_mae, epoch)\n",
    "    \n",
    "    if epoch % 50 == 0:\n",
    "        print(f'{time.ctime()}\\t'\n",
    "              f'Epoch: {epoch:03d}, Loss: {loss:.4f}, Val: {val_mae:.4f}, '\n",
    "              f'Test: {test_mae:.4f}')"
   ]
  },
  {
   "cell_type": "code",
   "execution_count": 15,
   "id": "da7ec806-9523-4302-9042-9444644e43fc",
   "metadata": {},
   "outputs": [],
   "source": [
    "writer.close()"
   ]
  },
  {
   "cell_type": "code",
   "execution_count": 16,
   "id": "1571b24e-8499-4ea6-9d44-65ad67bddf24",
   "metadata": {},
   "outputs": [
    {
     "data": {
      "text/plain": [
       "Net(\n",
       "  (node_emb): Embedding(21, 75)\n",
       "  (edge_emb): Embedding(4, 25)\n",
       "  (convs): ModuleList(\n",
       "    (0): PNAConv(75, 75, towers=5, edge_dim=50)\n",
       "    (1): PNAConv(75, 75, towers=5, edge_dim=50)\n",
       "    (2): PNAConv(75, 75, towers=5, edge_dim=50)\n",
       "    (3): PNAConv(75, 75, towers=5, edge_dim=50)\n",
       "  )\n",
       "  (batch_norms): ModuleList(\n",
       "    (0): BatchNorm(75)\n",
       "    (1): BatchNorm(75)\n",
       "    (2): BatchNorm(75)\n",
       "    (3): BatchNorm(75)\n",
       "  )\n",
       "  (pre_lin): Linear(in_features=150, out_features=75, bias=True)\n",
       "  (mlp): Sequential(\n",
       "    (0): Linear(in_features=75, out_features=50, bias=True)\n",
       "    (1): ReLU()\n",
       "    (2): Linear(in_features=50, out_features=25, bias=True)\n",
       "    (3): ReLU()\n",
       "    (4): Linear(in_features=25, out_features=1, bias=True)\n",
       "  )\n",
       ")"
      ]
     },
     "execution_count": 16,
     "metadata": {},
     "output_type": "execute_result"
    }
   ],
   "source": [
    "model"
   ]
  },
  {
   "cell_type": "code",
   "execution_count": null,
   "id": "3adca663-8162-47b7-80d1-5088c7ee6c40",
   "metadata": {},
   "outputs": [],
   "source": []
  }
 ],
 "metadata": {
  "kernelspec": {
   "display_name": "Deep AI",
   "language": "python",
   "name": "dl"
  },
  "language_info": {
   "codemirror_mode": {
    "name": "ipython",
    "version": 3
   },
   "file_extension": ".py",
   "mimetype": "text/x-python",
   "name": "python",
   "nbconvert_exporter": "python",
   "pygments_lexer": "ipython3",
   "version": "3.7.11"
  }
 },
 "nbformat": 4,
 "nbformat_minor": 5
}
