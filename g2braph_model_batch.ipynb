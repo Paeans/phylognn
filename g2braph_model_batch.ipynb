{
 "cells": [
  {
   "cell_type": "code",
   "execution_count": 1,
   "id": "8832435c-cc48-40da-b226-548b3281c1e2",
   "metadata": {},
   "outputs": [],
   "source": [
    "import time\n",
    "import torch\n",
    "\n",
    "from phylognn_model import G2Braph\n",
    "from gene_graph_dataset import G2BraphDataset\n",
    "\n",
    "from torch_geometric.utils import degree\n",
    "from torch_geometric.loader import DataLoader\n",
    "\n",
    "import torch.nn.functional as F\n",
    "from torch.optim.lr_scheduler import ReduceLROnPlateau\n",
    "\n",
    "from sklearn.metrics import roc_auc_score, average_precision_score\n",
    "\n",
    "from torch.utils.tensorboard import SummaryWriter"
   ]
  },
  {
   "cell_type": "code",
   "execution_count": 2,
   "id": "b11a6854-b123-4f21-876b-75717250c3e5",
   "metadata": {},
   "outputs": [],
   "source": [
    "train_p, test_p = 0.7, 0.2\n",
    "train_batch = 25\n",
    "test_batch, val_batch = 8, 8"
   ]
  },
  {
   "cell_type": "code",
   "execution_count": 3,
   "id": "ab9e9f86-5660-485c-921d-40e6eeaa2437",
   "metadata": {},
   "outputs": [],
   "source": [
    "dataset = G2BraphDataset('dataset_g2b', 1000, 10).shuffle()\n",
    "data_size = len(dataset)\n",
    "train_size, test_size = (int)(data_size * train_p), (int)(data_size * test_p)"
   ]
  },
  {
   "cell_type": "code",
   "execution_count": 4,
   "id": "5b428c27-6f37-480e-ae50-d86dfc839c2b",
   "metadata": {},
   "outputs": [],
   "source": [
    "train_dataset = dataset[:train_size]\n",
    "test_dataset = dataset[train_size:(train_size + test_size)]\n",
    "val_dataset = dataset[(train_size + test_size):]"
   ]
  },
  {
   "cell_type": "code",
   "execution_count": 5,
   "id": "394976a2-812c-4add-9041-48d897d7caf2",
   "metadata": {},
   "outputs": [],
   "source": [
    "train_loader = DataLoader(train_dataset, batch_size=train_batch, shuffle=True)\n",
    "test_loader = DataLoader(test_dataset, batch_size=test_batch)\n",
    "val_loader = DataLoader(val_dataset, batch_size=val_batch)"
   ]
  },
  {
   "cell_type": "code",
   "execution_count": 6,
   "id": "6ad402c1-6d41-412b-8a9d-fe71da146b0d",
   "metadata": {},
   "outputs": [],
   "source": [
    "deg = torch.zeros(5, dtype=torch.long)\n",
    "for data in train_dataset:\n",
    "    d = degree(data.edge_index[1].type(torch.int64), \n",
    "               num_nodes=data.num_nodes, dtype=torch.long)\n",
    "    deg += torch.bincount(d, minlength=deg.numel())"
   ]
  },
  {
   "cell_type": "code",
   "execution_count": null,
   "id": "ebce5584-e4e5-4963-8d64-f7822cf8757d",
   "metadata": {},
   "outputs": [],
   "source": []
  },
  {
   "cell_type": "code",
   "execution_count": 7,
   "id": "cb03c710-bda4-492e-86e8-3696cd51de49",
   "metadata": {},
   "outputs": [],
   "source": [
    "device = torch.device('cuda' if torch.cuda.is_available() else 'cpu')\n",
    "\n",
    "model = G2Braph(deg).to(device)\n",
    "optimizer = torch.optim.Adam(model.parameters(), lr=0.001)\n",
    "scheduler = ReduceLROnPlateau(optimizer, mode='min', factor=0.5, patience=20,\n",
    "                              min_lr=0.00001)"
   ]
  },
  {
   "cell_type": "code",
   "execution_count": 8,
   "id": "b3c2a368-5a64-4f2f-8c7b-a812984f0c21",
   "metadata": {},
   "outputs": [],
   "source": [
    "def train(train_dataset):\n",
    "    model.train()\n",
    "    \n",
    "    total_loss = 0\n",
    "    for data in train_dataset:\n",
    "        data = data.to(device)\n",
    "        optimizer.zero_grad()\n",
    "        \n",
    "        res = model(data.x, data.edge_index, None, None)\n",
    "        loss = F.binary_cross_entropy(res.squeeze(), data.node_label.to(torch.float))\n",
    "        loss.backward()\n",
    "        \n",
    "        total_loss += loss\n",
    "        optimizer.step()\n",
    "        \n",
    "    return total_loss / len(train_dataset)"
   ]
  },
  {
   "cell_type": "code",
   "execution_count": 9,
   "id": "638752f2-dc13-497c-b692-07f34bfdb141",
   "metadata": {},
   "outputs": [],
   "source": [
    "@torch.no_grad()\n",
    "def validate(test_dataset):\n",
    "    model.eval()\n",
    "    \n",
    "    total_loss, auc, ap = 0, 0, 0\n",
    "    for data in test_dataset:\n",
    "        data = data.to(device)\n",
    "        res = model(data.x, data.edge_index, None, None)\n",
    "        \n",
    "        y, pred = data.node_label.cpu().numpy(), res.squeeze().cpu().numpy()\n",
    "        \n",
    "        total_loss += F.binary_cross_entropy(res.squeeze(), data.node_label.to(torch.float))\n",
    "        auc += roc_auc_score(y, pred)\n",
    "        ap += average_precision_score(y, pred)\n",
    "        \n",
    "    return total_loss / len(test_dataset), auc / len(test_dataset), ap / len(test_dataset)"
   ]
  },
  {
   "cell_type": "code",
   "execution_count": 10,
   "id": "f58ad428-cdd3-4997-a50a-8a911215f0b1",
   "metadata": {},
   "outputs": [],
   "source": [
    "@torch.no_grad()\n",
    "def test(test_dataset):\n",
    "    model.eval()\n",
    "    \n",
    "    loss, auc, ap = [], [], []\n",
    "    for data in test_dataset:\n",
    "        data = data.to(device)\n",
    "        res = model(data.x, data.edge_index, None, None)\n",
    "        \n",
    "        y, pred = data.node_label.cpu().numpy(), res.squeeze().cpu().numpy()\n",
    "        \n",
    "        loss.append(F.binary_cross_entropy(res.squeeze(), data.node_label.to(torch.float)))\n",
    "        auc.append(roc_auc_score(y, pred))\n",
    "        ap.append(average_precision_score(y, pred))\n",
    "        \n",
    "    return loss, auc, ap"
   ]
  },
  {
   "cell_type": "code",
   "execution_count": 11,
   "id": "40d1caae-4b52-4a14-a920-4fec3e93596d",
   "metadata": {},
   "outputs": [],
   "source": [
    "writer = SummaryWriter(log_dir='runs/g2braph_batch_2')"
   ]
  },
  {
   "cell_type": "code",
   "execution_count": 12,
   "id": "fdbc7b73-2132-4f35-97b1-b05117d34b6f",
   "metadata": {},
   "outputs": [
    {
     "name": "stdout",
     "output_type": "stream",
     "text": [
      "Wed Dec 22 16:34:33 2021  Epoch: 0010, Train Loss: 0.0280, Val Loss: 0.0382, Val AUC: 0.8421, Val AP: 0.6103\n",
      "Wed Dec 22 16:39:10 2021  Epoch: 0020, Train Loss: 0.0222, Val Loss: 0.0288, Val AUC: 0.9136, Val AP: 0.6887\n",
      "Wed Dec 22 16:43:47 2021  Epoch: 0030, Train Loss: 0.0194, Val Loss: 0.0302, Val AUC: 0.9133, Val AP: 0.6650\n",
      "Wed Dec 22 16:48:24 2021  Epoch: 0040, Train Loss: 0.0162, Val Loss: 0.0302, Val AUC: 0.9002, Val AP: 0.6814\n",
      "Wed Dec 22 16:53:01 2021  Epoch: 0050, Train Loss: 0.0141, Val Loss: 0.0328, Val AUC: 0.9107, Val AP: 0.6731\n"
     ]
    }
   ],
   "source": [
    "for epoch in range(1, 51):\n",
    "    train_loss = train(train_loader)\n",
    "    val_loss, val_auc, val_ap = validate(val_loader)\n",
    "    \n",
    "    scheduler.step(val_loss)\n",
    "    \n",
    "    writer.add_scalar('Loss/train', train_loss, epoch)\n",
    "    writer.add_scalar('Loss/validate', val_loss, epoch)\n",
    "    writer.add_scalar('AUC/validate', val_auc, epoch)\n",
    "    writer.add_scalar('AP/validate', val_ap, epoch)\n",
    "    \n",
    "    if epoch % 10 == 0:\n",
    "        print(f'{time.ctime()}  '\n",
    "              f'Epoch: {epoch:04d}, Train Loss: {train_loss:.4f}, '\n",
    "              f'Val Loss: {val_loss:.4f}, Val AUC: {val_auc:.4f}, '\n",
    "              f'Val AP: {val_ap:.4f}')"
   ]
  },
  {
   "cell_type": "code",
   "execution_count": 13,
   "id": "7c6b56a7-e2be-4976-a391-3001fdb66c3a",
   "metadata": {},
   "outputs": [
    {
     "name": "stdout",
     "output_type": "stream",
     "text": [
      "Test Loss: \t 0.005354 0.050691 0.030682 0.045348 0.019017 0.051243 0.031681 0.012724 0.039103 0.036835 0.008026 0.058381 0.005135 0.024380 0.007817 0.004937 0.057609 0.005749 0.019348 0.038373 0.065024 0.098988 0.068290 0.024826 0.016429 0.049858 0.009597 0.031701 0.030388 0.034998 0.039312 0.055404 0.006902 0.032704 0.015426 0.047623 0.011754 0.031844 0.016085 0.016053 0.051114 0.015186 0.011782 0.034021 0.053946 0.011753 0.042085 0.043892 0.018423 0.031375 0.024189 0.072504 0.003953 0.021340 0.047164 0.050099 0.031879 0.024087 0.042593 0.021698 0.028279 0.076137 0.056587 0.060260 0.011728 0.035763 0.046189 0.043487 0.011263 0.022523 0.039387 0.013756 0.006370 0.042798 0.005843 0.013248 0.043271 0.047642 0.047707 0.022073 0.042018 0.032200 0.005220 0.062464 0.043325 0.034163 0.018414 0.052686 0.035485 0.013641 0.069731 0.003919 0.040806 0.051475 0.023486 0.043519 0.012952 0.012336 0.059805 0.053709 0.030230 0.038454 0.032066 0.023047 0.032180 0.006966 0.018665 0.023925 0.005592 0.025660 0.025312 0.052628 0.049851 0.043420 0.060780 0.005734 0.056839 0.059193 0.019177 0.012078 0.007527 0.032441 0.035480 0.045123 0.059186 0.058903 0.009123 0.048135 0.050564 0.008018 0.019761 0.009224 0.039882 0.041835 0.015434 0.019696 0.043861 0.040002 0.008402 0.019329 0.056578 0.018890 0.024656 0.017646 0.046130 0.060967 0.040725 0.013480 0.004697 0.019050 0.050325 0.038400 0.008657 0.023357 0.044856 0.021378 0.035746 0.017220 0.030641 0.042535 0.015066 0.019260 0.013126 0.005318 0.016481 0.060270 0.010637 0.029139 0.019409 0.047144 0.015240 0.045200 0.013875 0.050820 0.046653 0.012593 0.103865 0.015641 0.020684 0.020126 0.019509 0.007182 0.008047 0.047582 0.061278 0.012113 0.012861 0.051992 0.037577 0.016446 0.066000 0.041924 0.045164 0.041619 0.035952 0.043753 0.044380 0.040326 0.035931 0.048345 \n",
      "Test AUC: \t 0.973447 0.843788 0.910552 0.830783 0.956370 0.914843 0.966511 0.926330 0.960645 0.945868 0.882640 0.817624 0.989604 0.964638 0.972013 0.981839 0.910903 0.982590 0.970732 0.896845 0.888227 0.891492 0.877819 0.902335 0.964781 0.892991 0.954945 0.893081 0.935581 0.893451 0.911004 0.906059 0.927480 0.823734 0.936117 0.933794 0.926205 0.903087 0.929829 0.942991 0.917600 0.958711 0.922754 0.845073 0.923106 0.981933 0.909139 0.842449 0.921110 0.893712 0.946136 0.916760 0.991984 0.875755 0.888305 0.911547 0.945469 0.960126 0.947047 0.941595 0.961918 0.880931 0.877938 0.924902 0.968060 0.786889 0.922551 0.835556 0.934802 0.927640 0.930672 0.957579 0.969815 0.941557 0.968186 0.939386 0.951728 0.935676 0.849696 0.912204 0.893598 0.915502 0.978081 0.912650 0.916324 0.966713 0.944525 0.929005 0.959683 0.965376 0.865774 0.995741 0.962541 0.908280 0.873994 0.910903 0.925954 0.925201 0.887003 0.909219 0.955665 0.950395 0.916136 0.928333 0.977633 0.929233 0.976342 0.903698 0.982214 0.821793 0.912298 0.840503 0.868202 0.930600 0.892385 0.965306 0.914226 0.918036 0.873114 0.918298 0.937500 0.929782 0.917415 0.881538 0.821227 0.796869 0.796844 0.911311 0.830972 0.989458 0.933937 0.970570 0.965892 0.867942 0.914487 0.955960 0.959145 0.920675 0.875376 0.963258 0.918852 0.962072 0.963162 0.889210 0.885004 0.813641 0.940612 0.880585 0.985220 0.938087 0.946976 0.941867 0.898422 0.959614 0.939311 0.951061 0.957423 0.993737 0.866085 0.956126 0.905434 0.944123 0.877510 0.997119 0.964034 0.906288 0.949109 0.930689 0.800264 0.945255 0.935698 0.921863 0.955635 0.882262 0.873098 0.914345 0.818865 0.965627 0.782129 0.946447 0.961757 0.947019 0.980673 0.874620 0.914082 0.920306 0.990329 0.892229 0.913272 0.912517 0.897730 0.935138 0.943865 0.949060 0.945650 0.906096 0.867323 0.944995 0.870707 0.913187 \n",
      "Test AP: \t 0.754630 0.500495 0.759636 0.612010 0.714852 0.732911 0.823375 0.753169 0.699933 0.753796 0.751063 0.514916 0.761494 0.774841 0.825144 0.756711 0.596899 0.756993 0.790616 0.643522 0.641672 0.534425 0.672273 0.758590 0.765127 0.643431 0.763035 0.742281 0.683252 0.762280 0.729270 0.704397 0.751715 0.507474 0.757729 0.693603 0.753245 0.731216 0.755457 0.715846 0.700524 0.682903 0.753190 0.639008 0.615667 0.744248 0.682113 0.564961 0.674222 0.736557 0.764738 0.654381 0.764706 0.676216 0.612085 0.633251 0.735963 0.735618 0.751245 0.721080 0.709121 0.658201 0.673832 0.672159 0.757298 0.607086 0.685199 0.564173 0.753600 0.681625 0.668974 0.760277 0.754082 0.667450 0.753876 0.789353 0.771421 0.765442 0.634702 0.763549 0.648996 0.696738 0.755587 0.695700 0.713756 0.737883 0.762885 0.708817 0.775122 0.759988 0.577581 0.776316 0.724248 0.744909 0.595537 0.715170 0.753187 0.753202 0.707291 0.669616 0.747022 0.670718 0.664475 0.705793 0.772085 0.751757 0.772539 0.697097 0.756849 0.499404 0.767678 0.599654 0.558544 0.672186 0.706750 0.753559 0.735855 0.709869 0.753556 0.753400 0.751988 0.741986 0.794732 0.632598 0.427000 0.433418 0.750615 0.595920 0.605097 0.770470 0.602898 0.759986 0.718905 0.568506 0.765298 0.712875 0.770209 0.699325 0.751001 0.802330 0.690496 0.763114 0.756931 0.754002 0.725250 0.595715 0.743374 0.752455 0.758197 0.605749 0.699717 0.751521 0.751227 0.709272 0.789581 0.760382 0.785834 0.833072 0.637612 0.683696 0.639724 0.625392 0.752492 0.787037 0.683890 0.695214 0.754849 0.766343 0.629354 0.741294 0.758659 0.735811 0.582247 0.586208 0.637730 0.752786 0.516510 0.739478 0.627638 0.728925 0.723750 0.752342 0.787021 0.634767 0.679047 0.753313 0.811849 0.680074 0.702411 0.754405 0.619538 0.774926 0.746232 0.737392 0.709420 0.700177 0.572369 0.720450 0.679381 0.720785\n"
     ]
    }
   ],
   "source": [
    "test_loss, test_auc, test_ap = test(test_dataset.shuffle())\n",
    "print('Test Loss: \\t',\n",
    "      ' '.join(f'{x:.6f}' for x in test_loss), '\\n'\n",
    "      'Test AUC: \\t',\n",
    "      ' '.join(f'{x:.6f}' for x in test_auc), '\\n'\n",
    "      'Test AP: \\t',\n",
    "      ' '.join(f'{x:.6f}' for x in test_ap))"
   ]
  },
  {
   "cell_type": "code",
   "execution_count": 14,
   "id": "891d2d07-e5c8-4d76-8813-ec4d8b463f17",
   "metadata": {},
   "outputs": [],
   "source": [
    "writer.close()"
   ]
  },
  {
   "cell_type": "code",
   "execution_count": 15,
   "id": "1330d4c6-4dfc-467b-aca8-36477f60e482",
   "metadata": {},
   "outputs": [
    {
     "data": {
      "text/plain": [
       "0.7040116044142253"
      ]
     },
     "execution_count": 15,
     "metadata": {},
     "output_type": "execute_result"
    }
   ],
   "source": [
    "torch.tensor(test_ap).cpu().numpy().mean()"
   ]
  },
  {
   "cell_type": "code",
   "execution_count": null,
   "id": "0b37b986-1ff1-48a5-bfff-953deda66653",
   "metadata": {},
   "outputs": [],
   "source": []
  }
 ],
 "metadata": {
  "kernelspec": {
   "display_name": "Deep AI",
   "language": "python",
   "name": "dl"
  },
  "language_info": {
   "codemirror_mode": {
    "name": "ipython",
    "version": 3
   },
   "file_extension": ".py",
   "mimetype": "text/x-python",
   "name": "python",
   "nbconvert_exporter": "python",
   "pygments_lexer": "ipython3",
   "version": "3.7.11"
  }
 },
 "nbformat": 4,
 "nbformat_minor": 5
}
