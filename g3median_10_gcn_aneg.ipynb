{
 "cells": [
  {
   "cell_type": "code",
   "execution_count": 1,
   "id": "ec436995-a8cf-46d9-bf78-45fd3b96d42e",
   "metadata": {},
   "outputs": [],
   "source": [
    "import time\n",
    "\n",
    "import torch\n",
    "from torch.optim.lr_scheduler import ReduceLROnPlateau\n",
    "\n",
    "from torch_geometric.nn import VGAE\n",
    "from torch_geometric.loader import DataLoader\n",
    "from torch_geometric.utils import (degree, negative_sampling, \n",
    "                                   batched_negative_sampling)\n",
    "\n",
    "from torch.utils.tensorboard import SummaryWriter\n",
    "\n",
    "from gene_graph_dataset import G3MedianDataset\n",
    "from phylognn_model import G3Median_GCNConv"
   ]
  },
  {
   "cell_type": "code",
   "execution_count": 2,
   "id": "3253a61c-5647-495c-9227-a2fdf9c3812f",
   "metadata": {},
   "outputs": [],
   "source": [
    "gpuid = 1\n",
    "\n",
    "train_p, test_p, val_p = 0.7, 0.2, 0.1\n",
    "train_batch, test_batch, val_batch = 128, 128, 4"
   ]
  },
  {
   "cell_type": "code",
   "execution_count": 3,
   "id": "51a7e143-b111-4051-a7ff-b29560aa8fad",
   "metadata": {},
   "outputs": [],
   "source": [
    "device = torch.device('cuda:' + str(gpuid) if torch.cuda.is_available() else 'cpu')"
   ]
  },
  {
   "cell_type": "code",
   "execution_count": 4,
   "id": "ece92178-89e5-4d5f-a806-04b15ba5ac6e",
   "metadata": {},
   "outputs": [],
   "source": [
    "dataset = G3MedianDataset('dataset_g3m', 10, 10, 200)"
   ]
  },
  {
   "cell_type": "code",
   "execution_count": 5,
   "id": "62007446-f148-4baa-af21-2011093c7e70",
   "metadata": {},
   "outputs": [],
   "source": [
    "data_size = len(dataset)\n",
    "train_size, test_size, val_size = ((int)(data_size * train_p), \n",
    "                                   (int)(data_size * test_p), \n",
    "                                   (int)(data_size * val_p))"
   ]
  },
  {
   "cell_type": "code",
   "execution_count": 6,
   "id": "3c4070bb-3305-4710-9ce9-93537ba72c5f",
   "metadata": {},
   "outputs": [],
   "source": [
    "dataset = dataset.shuffle()\n",
    "train_dataset = dataset[:train_size]\n",
    "test_dataset = dataset[train_size:(train_size + test_size)]\n",
    "val_dataset = dataset[(train_size + test_size):(train_size + test_size + val_size)]"
   ]
  },
  {
   "cell_type": "code",
   "execution_count": 7,
   "id": "b2b645f2-0987-459a-8dac-fd86e544fbf4",
   "metadata": {},
   "outputs": [],
   "source": [
    "test_dataset = list(test_dataset)\n",
    "for t in test_dataset:\n",
    "    t.neg_edge_label_index = negative_sampling(t.pos_edge_label_index, \n",
    "                                        t.num_nodes,\n",
    "                                        t.num_nodes**2)\n",
    "train_dataset = list(train_dataset)\n",
    "for t in train_dataset:\n",
    "    t.neg_edge_label_index = negative_sampling(t.pos_edge_label_index, \n",
    "                                        t.num_nodes,\n",
    "                                        t.num_nodes**2)\n",
    "val_dataset = list(val_dataset)\n",
    "for t in val_dataset:\n",
    "    t.neg_edge_label_index = negative_sampling(t.pos_edge_label_index, \n",
    "                                        t.num_nodes,\n",
    "                                        t.num_nodes**2)"
   ]
  },
  {
   "cell_type": "code",
   "execution_count": 8,
   "id": "a2c6a0cb-b675-47a6-8eac-a4e5b82a0ca1",
   "metadata": {},
   "outputs": [],
   "source": [
    "train_loader = DataLoader(train_dataset, batch_size = train_batch, shuffle=True)\n",
    "test_loader = DataLoader(test_dataset, batch_size = test_batch)\n",
    "val_loader = DataLoader(val_dataset, batch_size= val_batch)"
   ]
  },
  {
   "cell_type": "code",
   "execution_count": 9,
   "id": "dbb8f654-2582-482f-886d-07f10fa83841",
   "metadata": {},
   "outputs": [],
   "source": [
    "# deg = torch.zeros(5, dtype=torch.long)\n",
    "# for data in train_dataset:\n",
    "#     d = degree(data.edge_index[1].type(torch.int64), \n",
    "#                num_nodes=data.num_nodes, dtype=torch.long)\n",
    "#     deg += torch.bincount(d, minlength=deg.numel())"
   ]
  },
  {
   "cell_type": "code",
   "execution_count": 10,
   "id": "770c5b84-1b27-42b1-b0eb-ebc893f5b406",
   "metadata": {},
   "outputs": [],
   "source": [
    "in_channels, out_channels = dataset.num_features, 16"
   ]
  },
  {
   "cell_type": "code",
   "execution_count": 11,
   "id": "1a07372c-9ef1-43d2-845f-bc1a9e83926e",
   "metadata": {},
   "outputs": [],
   "source": [
    "model = VGAE(G3Median_GCNConv(in_channels, out_channels)).to(device)\n",
    "optimizer = torch.optim.Adam(model.parameters(), lr=0.05)\n",
    "scheduler = ReduceLROnPlateau(optimizer, mode='min', factor=0.9, patience=10,\n",
    "                              min_lr=0.00001)"
   ]
  },
  {
   "cell_type": "code",
   "execution_count": 12,
   "id": "5c4dd281-b1eb-45d3-9b80-33bbed4db8e5",
   "metadata": {},
   "outputs": [],
   "source": [
    "writer = SummaryWriter(log_dir='runs_g3m_10/g3median_2000_gcn_aneg_run8')"
   ]
  },
  {
   "cell_type": "code",
   "execution_count": 13,
   "id": "a258ffba-549f-4158-96ad-b8f2cc175130",
   "metadata": {},
   "outputs": [],
   "source": [
    "from torch_geometric.data import Batch\n",
    "def train(train_loader):\n",
    "    model.train()\n",
    "    \n",
    "    total_loss = 0\n",
    "    for data in train_loader:\n",
    "        \n",
    "        data = data.to(device)\n",
    "        optimizer.zero_grad()\n",
    "        \n",
    "        z = model.encode(data.x, data.edge_index)\n",
    "        loss = model.recon_loss(z, data.pos_edge_label_index, data.neg_edge_label_index)\n",
    "        loss = loss + (1 / data.num_nodes) * model.kl_loss()\n",
    "        loss.backward()\n",
    "        optimizer.step()\n",
    "        \n",
    "        total_loss += loss\n",
    "    return total_loss/len(train_loader)"
   ]
  },
  {
   "cell_type": "code",
   "execution_count": 14,
   "id": "bdce86c1-c9f8-40d2-9554-4f780ab522fe",
   "metadata": {},
   "outputs": [],
   "source": [
    "@torch.no_grad()\n",
    "def test(test_loader):\n",
    "    model.eval()\n",
    "    auc, ap = 0, 0\n",
    "    \n",
    "    for data in test_loader:\n",
    "        \n",
    "        data = data.to(device)\n",
    "        \n",
    "        z = model.encode(data.x, data.edge_index)\n",
    "        # loss += model.recon_loss(z, data.pos_edge_label_index, data.neg_edge_label_index)\n",
    "        tauc, tap = model.test(z, data.pos_edge_label_index, data.neg_edge_label_index)\n",
    "        \n",
    "        auc += tauc\n",
    "        ap += tap\n",
    "        \n",
    "    return auc/len(test_loader), ap/len(test_loader)"
   ]
  },
  {
   "cell_type": "code",
   "execution_count": 15,
   "id": "61fb7226-a488-49a1-b395-c094576f8d92",
   "metadata": {},
   "outputs": [],
   "source": [
    "@torch.no_grad()\n",
    "def val(val_loader):\n",
    "    model.eval()\n",
    "    loss = 0\n",
    "    \n",
    "    for data in val_loader:\n",
    "        \n",
    "        data = data.to(device)\n",
    "        \n",
    "        z = model.encode(data.x, data.edge_index)\n",
    "        loss += model.recon_loss(z, data.pos_edge_label_index, data.neg_edge_label_index)\n",
    "        # tauc, tap = model.test(z, data.pos_edge_label_index, data.neg_edge_label_index)\n",
    "                \n",
    "    return loss #/len(val_loader)"
   ]
  },
  {
   "cell_type": "code",
   "execution_count": 16,
   "id": "c7c1df12-ce9a-47ca-8fd8-198c4ec9c435",
   "metadata": {},
   "outputs": [
    {
     "name": "stdout",
     "output_type": "stream",
     "text": [
      "Mon Dec 27 11:54:48 2021 - Epoch: 0050        auc: 0.851906, ap: 0.242792\n",
      "Mon Dec 27 12:00:35 2021 - Epoch: 0100        auc: 0.870499, ap: 0.262982\n",
      "Mon Dec 27 12:06:22 2021 - Epoch: 0150        auc: 0.883273, ap: 0.282682\n",
      "Mon Dec 27 12:12:09 2021 - Epoch: 0200        auc: 0.888804, ap: 0.290417\n",
      "Mon Dec 27 12:17:55 2021 - Epoch: 0250        auc: 0.891653, ap: 0.294942\n",
      "Mon Dec 27 12:23:39 2021 - Epoch: 0300        auc: 0.893039, ap: 0.298911\n",
      "Mon Dec 27 12:29:26 2021 - Epoch: 0350        auc: 0.895849, ap: 0.303107\n",
      "Mon Dec 27 12:35:14 2021 - Epoch: 0400        auc: 0.898252, ap: 0.306953\n",
      "Mon Dec 27 12:40:59 2021 - Epoch: 0450        auc: 0.898347, ap: 0.306679\n",
      "Mon Dec 27 12:46:43 2021 - Epoch: 0500        auc: 0.901002, ap: 0.312568\n",
      "Mon Dec 27 12:52:30 2021 - Epoch: 0550        auc: 0.902183, ap: 0.314088\n",
      "Mon Dec 27 12:58:19 2021 - Epoch: 0600        auc: 0.904403, ap: 0.319120\n",
      "Mon Dec 27 13:04:06 2021 - Epoch: 0650        auc: 0.905526, ap: 0.321767\n",
      "Mon Dec 27 13:09:53 2021 - Epoch: 0700        auc: 0.905745, ap: 0.322133\n",
      "Mon Dec 27 13:15:41 2021 - Epoch: 0750        auc: 0.907185, ap: 0.325142\n",
      "Mon Dec 27 13:21:28 2021 - Epoch: 0800        auc: 0.907247, ap: 0.325169\n",
      "Mon Dec 27 13:27:17 2021 - Epoch: 0850        auc: 0.908012, ap: 0.326836\n",
      "Mon Dec 27 13:33:02 2021 - Epoch: 0900        auc: 0.908074, ap: 0.327109\n",
      "Mon Dec 27 13:38:50 2021 - Epoch: 0950        auc: 0.907922, ap: 0.327254\n",
      "Mon Dec 27 13:44:37 2021 - Epoch: 1000        auc: 0.908306, ap: 0.327891\n"
     ]
    }
   ],
   "source": [
    "for epoch in range(1, 1000 + 1):\n",
    "    # print(f'{time.ctime()} - Epoch: {epoch:04d}')\n",
    "    loss = train(train_loader)\n",
    "    # print(f'{time.ctime()} - \\t train loss: {loss:.6f}')\n",
    "    tloss = val(val_loader)\n",
    "    # print(f'{time.ctime()} - \\t val   loss: {tloss:.6f}')\n",
    "    scheduler.step(tloss)\n",
    "    \n",
    "    writer.add_scalar('Loss/train', loss, epoch)\n",
    "    writer.add_scalar('Loss/val', tloss/len(val_loader), epoch)\n",
    "    \n",
    "    \n",
    "    auc, ap = test(test_dataset)\n",
    "    \n",
    "    writer.add_scalar('AUC/test', auc, epoch)\n",
    "    writer.add_scalar('AP/test', ap, epoch)\n",
    "    \n",
    "    if epoch % 50 == 0:\n",
    "        print(f'{time.ctime()} - Epoch: {epoch:04d}        auc: {auc:.6f}, ap: {ap:.6f}')"
   ]
  },
  {
   "cell_type": "code",
   "execution_count": 17,
   "id": "d6367f3c-f5ba-45ed-8a3f-71751cf68356",
   "metadata": {},
   "outputs": [],
   "source": [
    "writer.close()"
   ]
  },
  {
   "cell_type": "code",
   "execution_count": 18,
   "id": "a3efe615-e013-4f91-b642-0605ab2fdd72",
   "metadata": {},
   "outputs": [],
   "source": [
    "# torch.save(model.state_dict(), 'g2g_test_model_batch')"
   ]
  },
  {
   "cell_type": "code",
   "execution_count": null,
   "id": "887d7a7f-42aa-4037-abd6-adf6f139e0d3",
   "metadata": {},
   "outputs": [],
   "source": []
  }
 ],
 "metadata": {
  "kernelspec": {
   "display_name": "Deep AI",
   "language": "python",
   "name": "dl"
  },
  "language_info": {
   "codemirror_mode": {
    "name": "ipython",
    "version": 3
   },
   "file_extension": ".py",
   "mimetype": "text/x-python",
   "name": "python",
   "nbconvert_exporter": "python",
   "pygments_lexer": "ipython3",
   "version": "3.7.11"
  }
 },
 "nbformat": 4,
 "nbformat_minor": 5
}
