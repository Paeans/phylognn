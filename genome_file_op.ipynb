{
 "cells": [
  {
   "cell_type": "code",
   "execution_count": 87,
   "id": "a6e65916-7ac0-46ea-a278-17b3c8db94b1",
   "metadata": {},
   "outputs": [],
   "source": [
    "import numpy as np\n",
    "import random"
   ]
  },
  {
   "cell_type": "code",
   "execution_count": 2,
   "id": "962b7c20-4498-4693-91ba-7a1fb22ba404",
   "metadata": {},
   "outputs": [],
   "source": [
    "with open('genome.txt', 'w') as gfile:\n",
    "    gfile.write('test')"
   ]
  },
  {
   "cell_type": "code",
   "execution_count": 35,
   "id": "cdc46864-099f-4375-9518-2ffffa0ab9ca",
   "metadata": {},
   "outputs": [],
   "source": [
    "def write_genome(gene_groups, fname = 'genome.txt'):\n",
    "    with open(fname, 'w') as gfile:\n",
    "        for i in range(len(gene_groups)):\n",
    "            gfile.write('>g' + str(i) + '\\n')\n",
    "            for g in gene_groups[i]:\n",
    "                if g[0] == g[-1]:\n",
    "                    gfile.write('C: ' + ' '.join([str(x) for x in g[:-1]]) + '\\n')\n",
    "                else:\n",
    "                    gfile.write('L: ' + ' '.join([str(x) for x in g]) + '\\n')"
   ]
  },
  {
   "cell_type": "code",
   "execution_count": 36,
   "id": "037ecd24-13d7-42ec-a8ec-24a1de3902cd",
   "metadata": {},
   "outputs": [],
   "source": [
    "write_genome([[[1,2,3,-4,-5,6], [7,8,-9,-10]], [[1,2,3,5,4,6], [7,8,-9,-10,7]]])"
   ]
  },
  {
   "cell_type": "code",
   "execution_count": 47,
   "id": "778c81a0-2661-43e2-b22d-8c215edc39e2",
   "metadata": {},
   "outputs": [],
   "source": [
    "def read_genome(fname = 'genome.txt'):\n",
    "    gene_groups = []\n",
    "    with open(fname, 'r') as gfile:        \n",
    "        gene = []\n",
    "        tag = False\n",
    "        \n",
    "        for gline in gfile:\n",
    "            if gline.startswith('>'):\n",
    "                if tag and gene:\n",
    "                    gene_groups.append(gene)\n",
    "                tag = True\n",
    "                gene = []\n",
    "                continue\n",
    "            \n",
    "            genes = gline.strip().split()\n",
    "            if genes[0] == 'C:':\n",
    "                genes.append(genes[1])\n",
    "            elif genes[0] != 'L:':\n",
    "                continue\n",
    "            gene.append([int(x) for x in genes[1:]])\n",
    "        if gene:\n",
    "            gene_groups.append(gene)\n",
    "    return gene_groups"
   ]
  },
  {
   "cell_type": "code",
   "execution_count": 48,
   "id": "c5f025db-3522-4104-b30a-c0a01bdc9a97",
   "metadata": {},
   "outputs": [],
   "source": [
    "tmp = read_genome()"
   ]
  },
  {
   "cell_type": "code",
   "execution_count": 49,
   "id": "26b71430-e2bc-49b9-a888-2647ee3e59c6",
   "metadata": {},
   "outputs": [
    {
     "data": {
      "text/plain": [
       "[[[1, 2, 3, -4, -5, 6], [7, 8, -9, -10]],\n",
       " [[1, 2, 3, 5, 4, 6], [7, 8, -9, -10, 7]]]"
      ]
     },
     "execution_count": 49,
     "metadata": {},
     "output_type": "execute_result"
    }
   ],
   "source": [
    "tmp"
   ]
  },
  {
   "cell_type": "code",
   "execution_count": 137,
   "id": "079fb8a0-c1d7-41ff-8b54-876cab71baf4",
   "metadata": {},
   "outputs": [],
   "source": [
    "tmp = [x + 1 for x in range(20)]\n",
    "b1 = 3\n",
    "b2 = 7"
   ]
  },
  {
   "cell_type": "code",
   "execution_count": 138,
   "id": "2cbd6f5c-0e6f-4140-8d52-e6796e12a9f0",
   "metadata": {},
   "outputs": [
    {
     "data": {
      "text/plain": [
       "[1, 2, 3, 8, 9, 10, 11, 12, 13, 14, 15, 16, 17, 18, 19, 20]"
      ]
     },
     "execution_count": 138,
     "metadata": {},
     "output_type": "execute_result"
    }
   ],
   "source": [
    "tmp[0: b1] + tmp[b2:]"
   ]
  },
  {
   "cell_type": "code",
   "execution_count": 85,
   "id": "c5ab803b-e685-472b-8a29-2b397e8f69b5",
   "metadata": {},
   "outputs": [
    {
     "data": {
      "text/plain": [
       "[4, 5, 6, 7, 4]"
      ]
     },
     "execution_count": 85,
     "metadata": {},
     "output_type": "execute_result"
    }
   ],
   "source": [
    "tmp[b1:b2] + tmp[b1:b1+1]"
   ]
  },
  {
   "cell_type": "code",
   "execution_count": 80,
   "id": "394151ad-150d-41eb-a4a0-516ed3d479b2",
   "metadata": {},
   "outputs": [
    {
     "data": {
      "text/plain": [
       "[1, 2, 3, -7, -6, -5, -4, 8, 9, 10]"
      ]
     },
     "execution_count": 80,
     "metadata": {},
     "output_type": "execute_result"
    }
   ],
   "source": [
    "[*tmp[0:b1], *[-x for x in reversed(tmp[b1:b2])], *tmp[b2:]]"
   ]
  },
  {
   "cell_type": "code",
   "execution_count": 83,
   "id": "2394ea00-ba0d-43d4-b589-500f03f52fb6",
   "metadata": {},
   "outputs": [
    {
     "data": {
      "text/plain": [
       "[1, 2, 3, -7, -6, -5, -4, 8, 9, 10]"
      ]
     },
     "execution_count": 83,
     "metadata": {},
     "output_type": "execute_result"
    }
   ],
   "source": [
    "tmp[0:b1] + [-x for x in reversed(tmp[b1:b2])] + tmp[b2:]"
   ]
  },
  {
   "cell_type": "code",
   "execution_count": 203,
   "id": "14ab334d-6de0-4279-9b8a-56bad31d1733",
   "metadata": {},
   "outputs": [],
   "source": [
    "def trans_circle(g, p1, p2):\n",
    "    g = g[:-1]\n",
    "    p1 %= len(g)\n",
    "    p2 %= len(g)\n",
    "    \n",
    "    if p1 == p2:\n",
    "        return [g[p1:] + g[:p1]]\n",
    "    if p2 < p1:\n",
    "        p1, p2 = p2, p1\n",
    "        \n",
    "    if random.random() < 0.5:\n",
    "        c0 = g[0:p1] + [-x for x in reversed(g[p1:p2])] + g[p2:]\n",
    "        return [c0 + c0[0:1]]\n",
    "    else:\n",
    "        c1 = g[0:p1] + g[p2:]\n",
    "        c2 = g[p1:p2]\n",
    "        return [c1 + c1[0:1], c2 + c2[0:1]]"
   ]
  },
  {
   "cell_type": "code",
   "execution_count": 208,
   "id": "9e758073-47b4-4ab3-bc34-c874b2fa30a7",
   "metadata": {},
   "outputs": [],
   "source": [
    "def trans_linear(g, p1, p2):\n",
    "    size = len(g) + 1\n",
    "    p1 %= size\n",
    "    p2 %= size\n",
    "    \n",
    "    if p1 == p2:        \n",
    "        return [g]\n",
    "    if p2 < p1:\n",
    "        p1, p2 = p2, p1\n",
    "        \n",
    "    if p1 == 0 and p2 == len(g):\n",
    "        return [g + g[0:1]]\n",
    "    \n",
    "    if random.random() < 0.5:\n",
    "        return [g[0:p1] + [-x for x in reversed(g[p1:p2])] + g[p2:]]\n",
    "    else:\n",
    "        return [g[0:p1] + g[p2:], g[p1:p2] + g[p1:p1+1]]\n",
    "\n",
    "def trans(g, p1, p2):\n",
    "    if g[0] == g[-1]:\n",
    "        return trans_circle(g, p1, p2)\n",
    "    return trans_linear(g, p1, p2)"
   ]
  },
  {
   "cell_type": "code",
   "execution_count": 211,
   "id": "b00cc2b3-811f-4d82-9ac4-b34a682fe3f9",
   "metadata": {},
   "outputs": [],
   "source": [
    "tmp = [-17, -16, -15, -14, -13, -12, -11, -10, -9, -8, -7, -6, -5, -4, -3, -2, -1, 18, 19, 20]"
   ]
  },
  {
   "cell_type": "code",
   "execution_count": 212,
   "id": "5a0272b8-7eae-4a09-9bf0-71c1af6a97c9",
   "metadata": {},
   "outputs": [
    {
     "name": "stdout",
     "output_type": "stream",
     "text": [
      "[[-17, -16, -15, -14, -13, -2, -1, 18, 19, 20], [-12, -11, -10, -9, -8, -7, -6, -5, -4, -3, -12]]\n",
      "[[-15, -14, -13, -12, -11, -10, -9, -8, -7, -6, -5, -4, -3, -2, -1, 18, 19, 20], [-17, -16, -17]]\n",
      "[[-17, -16, -15, -14, -13, -12, -3, -2, -1, 18, 19, 20], [-11, -10, -9, -8, -7, -6, -5, -4, -11]]\n",
      "[[-17, -16, 6, 7, 8, 9, 10, 11, 12, 13, 14, 15, -5, -4, -3, -2, -1, 18, 19, 20]]\n",
      "[[-17, -16, -15, -14, -13, -12, -11, -10, -9, -8, -7, -6, -5, -4, -3, -2, -1, 18, 19, 20]]\n",
      "[[-17, -16, -15, -14, -13, -12, -11, 10, -9, -8, -7, -6, -5, -4, -3, -2, -1, 18, 19, 20]]\n",
      "[[-17, -16, -15, -14, -13, -12, -11, -10, 3, 4, 5, 6, 7, 8, 9, -2, -1, 18, 19, 20]]\n",
      "[[-17, -16, -15, -14, -13, 2, 3, 4, 5, 6, 7, 8, 9, 10, 11, 12, -1, 18, 19, 20]]\n",
      "[[-17, -16, -15, -14, -13, -12, -11, -10, -9, -8, -7, -6, -5, 20], [-4, -3, -2, -1, 18, 19, -4]]\n",
      "[[-17, -16, -15, -14, -13, 19, 20], [-12, -11, -10, -9, -8, -7, -6, -5, -4, -3, -2, -1, 18, -12]]\n"
     ]
    }
   ],
   "source": [
    "for i in range(10):\n",
    "    print(trans(tmp, random.randint(0,100), random.randint(0,100)))"
   ]
  },
  {
   "cell_type": "code",
   "execution_count": 238,
   "id": "dd56c2ac-88cb-4778-86b8-bb1282d279f2",
   "metadata": {},
   "outputs": [],
   "source": [
    "def trans_cross(g1, g2, p1, p2):\n",
    "    rand_op = random.random()\n",
    "    if g1[0] == g1[-1] and g2[0] == g2[-1]:\n",
    "        # circle and circle\n",
    "        if rand_op < 0.5:\n",
    "            res = g1[:p1] + g2[p2:-1] + g2[:p2] + g1[p1:-1]          \n",
    "        else:\n",
    "            res = g1[:p1] + [-x for x in reversed(g2[:p2])] + \\\n",
    "                    [-x for x in reversed(g2[p2:-1])] + g1[p1:-1]\n",
    "        return [res + res[0:1]]\n",
    "        \n",
    "    if g1[0] != g1[-1] and g2[0] != g2[-1]:\n",
    "        # linear and linear\n",
    "        if rand_op < 0.5:\n",
    "            return [g1[:p1] + g2[p2:], g2[:p2] + g1[p1:]]\n",
    "        else:\n",
    "            return [g1[:p1] + [-x for x in reversed(g2[:p2])], \n",
    "                    [-x for x in reversed(g2[p2:])] + g1[p1:]]\n",
    "        \n",
    "    # linear and circle\n",
    "\n",
    "def trans_op(g, p1, p2):\n",
    "    size_list = []\n",
    "    for gene in g:\n",
    "        size = len(gene)\n",
    "        if gene[0] == gene[-1]:\n",
    "            size -= 2\n",
    "        size_list.append(size)\n",
    "        \n",
    "    p1 %= sum(size_list) + len(size_list)\n",
    "    p2 %= sum(size_list) + len(size_list)\n",
    "        \n",
    "    t1, t2 = 0, 0\n",
    "    if p1 > p2:\n",
    "        p2, p1 = p1, p2\n",
    "    for t1 in range(len(size_list)):\n",
    "        if p1 <= size_list[t1]:\n",
    "            break\n",
    "        p1 -= size_list[t1] + 1\n",
    "    for t2 in range(len(size_list)):\n",
    "        if p2 <= size_list[t2]:\n",
    "            break\n",
    "        p2 -= size_list[t2] + 1\n",
    "    # print(t1, p1, t2, p2)\n",
    "    \n",
    "    if t1 == t2:\n",
    "        res = trans(g[t1], p1, p2)\n",
    "        return g[:t1] + res + g[t1+1:]\n",
    "    \n",
    "    res = trans_cross(g[t1], g[t2], p1, p2)\n",
    "    return g[:t1] + g[t1 + 1:t2] + g[t2 + 1:] + res"
   ]
  }
 ],
 "metadata": {
  "kernelspec": {
   "display_name": "Deep AI",
   "language": "python",
   "name": "dl"
  },
  "language_info": {
   "codemirror_mode": {
    "name": "ipython",
    "version": 3
   },
   "file_extension": ".py",
   "mimetype": "text/x-python",
   "name": "python",
   "nbconvert_exporter": "python",
   "pygments_lexer": "ipython3",
   "version": "3.7.11"
  }
 },
 "nbformat": 4,
 "nbformat_minor": 5
}
