{
 "cells": [
  {
   "cell_type": "code",
   "execution_count": 87,
   "id": "a6e65916-7ac0-46ea-a278-17b3c8db94b1",
   "metadata": {},
   "outputs": [],
   "source": [
    "import numpy as np\n",
    "import random"
   ]
  },
  {
   "cell_type": "code",
   "execution_count": 2,
   "id": "962b7c20-4498-4693-91ba-7a1fb22ba404",
   "metadata": {},
   "outputs": [],
   "source": [
    "with open('genome.txt', 'w') as gfile:\n",
    "    gfile.write('test')"
   ]
  },
  {
   "cell_type": "code",
   "execution_count": 35,
   "id": "cdc46864-099f-4375-9518-2ffffa0ab9ca",
   "metadata": {},
   "outputs": [],
   "source": [
    "def write_genome(gene_groups, fname = 'genome.txt'):\n",
    "    with open(fname, 'w') as gfile:\n",
    "        for i in range(len(gene_groups)):\n",
    "            gfile.write('>g' + str(i) + '\\n')\n",
    "            for g in gene_groups[i]:\n",
    "                if g[0] == g[-1]:\n",
    "                    gfile.write('C: ' + ' '.join([str(x) for x in g[:-1]]) + '\\n')\n",
    "                else:\n",
    "                    gfile.write('L: ' + ' '.join([str(x) for x in g]) + '\\n')"
   ]
  },
  {
   "cell_type": "code",
   "execution_count": 36,
   "id": "037ecd24-13d7-42ec-a8ec-24a1de3902cd",
   "metadata": {},
   "outputs": [],
   "source": [
    "write_genome([[[1,2,3,-4,-5,6], [7,8,-9,-10]], [[1,2,3,5,4,6], [7,8,-9,-10,7]]])"
   ]
  },
  {
   "cell_type": "code",
   "execution_count": 47,
   "id": "778c81a0-2661-43e2-b22d-8c215edc39e2",
   "metadata": {},
   "outputs": [],
   "source": [
    "def read_genome(fname = 'genome.txt'):\n",
    "    gene_groups = []\n",
    "    with open(fname, 'r') as gfile:        \n",
    "        gene = []\n",
    "        tag = False\n",
    "        \n",
    "        for gline in gfile:\n",
    "            if gline.startswith('>'):\n",
    "                if tag and gene:\n",
    "                    gene_groups.append(gene)\n",
    "                tag = True\n",
    "                gene = []\n",
    "                continue\n",
    "            \n",
    "            genes = gline.strip().split()\n",
    "            if genes[0] == 'C:':\n",
    "                genes.append(genes[1])\n",
    "            elif genes[0] != 'L:':\n",
    "                continue\n",
    "            gene.append([int(x) for x in genes[1:]])\n",
    "        if gene:\n",
    "            gene_groups.append(gene)\n",
    "    return gene_groups"
   ]
  },
  {
   "cell_type": "code",
   "execution_count": 48,
   "id": "c5f025db-3522-4104-b30a-c0a01bdc9a97",
   "metadata": {},
   "outputs": [],
   "source": [
    "tmp = read_genome()"
   ]
  },
  {
   "cell_type": "code",
   "execution_count": 49,
   "id": "26b71430-e2bc-49b9-a888-2647ee3e59c6",
   "metadata": {},
   "outputs": [
    {
     "data": {
      "text/plain": [
       "[[[1, 2, 3, -4, -5, 6], [7, 8, -9, -10]],\n",
       " [[1, 2, 3, 5, 4, 6], [7, 8, -9, -10, 7]]]"
      ]
     },
     "execution_count": 49,
     "metadata": {},
     "output_type": "execute_result"
    }
   ],
   "source": [
    "tmp"
   ]
  },
  {
   "cell_type": "code",
   "execution_count": 50,
   "id": "079fb8a0-c1d7-41ff-8b54-876cab71baf4",
   "metadata": {},
   "outputs": [],
   "source": [
    "tmp = [1,2,3,4,5,6,7,8,9,10]\n",
    "b1 = 3\n",
    "b2 = 7"
   ]
  },
  {
   "cell_type": "code",
   "execution_count": 86,
   "id": "2cbd6f5c-0e6f-4140-8d52-e6796e12a9f0",
   "metadata": {},
   "outputs": [
    {
     "data": {
      "text/plain": [
       "[1, 2, 3, 8, 9, 10]"
      ]
     },
     "execution_count": 86,
     "metadata": {},
     "output_type": "execute_result"
    }
   ],
   "source": [
    "tmp[0: b1] + tmp[b2:]"
   ]
  },
  {
   "cell_type": "code",
   "execution_count": 85,
   "id": "c5ab803b-e685-472b-8a29-2b397e8f69b5",
   "metadata": {},
   "outputs": [
    {
     "data": {
      "text/plain": [
       "[4, 5, 6, 7, 4]"
      ]
     },
     "execution_count": 85,
     "metadata": {},
     "output_type": "execute_result"
    }
   ],
   "source": [
    "tmp[b1:b2] + tmp[b1:b1+1]"
   ]
  },
  {
   "cell_type": "code",
   "execution_count": 80,
   "id": "394151ad-150d-41eb-a4a0-516ed3d479b2",
   "metadata": {},
   "outputs": [
    {
     "data": {
      "text/plain": [
       "[1, 2, 3, -7, -6, -5, -4, 8, 9, 10]"
      ]
     },
     "execution_count": 80,
     "metadata": {},
     "output_type": "execute_result"
    }
   ],
   "source": [
    "[*tmp[0:b1], *[-x for x in reversed(tmp[b1:b2])], *tmp[b2:]]"
   ]
  },
  {
   "cell_type": "code",
   "execution_count": 83,
   "id": "2394ea00-ba0d-43d4-b589-500f03f52fb6",
   "metadata": {},
   "outputs": [
    {
     "data": {
      "text/plain": [
       "[1, 2, 3, -7, -6, -5, -4, 8, 9, 10]"
      ]
     },
     "execution_count": 83,
     "metadata": {},
     "output_type": "execute_result"
    }
   ],
   "source": [
    "tmp[0:b1] + [-x for x in reversed(tmp[b1:b2])] + tmp[b2:]"
   ]
  },
  {
   "cell_type": "code",
   "execution_count": 100,
   "id": "9801d547-78bd-4d6f-bda9-471e9fae9792",
   "metadata": {},
   "outputs": [
    {
     "data": {
      "text/plain": [
       "1"
      ]
     },
     "execution_count": 100,
     "metadata": {},
     "output_type": "execute_result"
    }
   ],
   "source": [
    "random.randint(0,3)"
   ]
  },
  {
   "cell_type": "code",
   "execution_count": 101,
   "id": "9e758073-47b4-4ab3-bc34-c874b2fa30a7",
   "metadata": {},
   "outputs": [],
   "source": [
    "def trans(g, p1, p2):\n",
    "    \n",
    "    if random.random() < 0.5:\n",
    "        return [g[0:p1] + [-x for x in reversed(g[p1:p2])] + g[p2:]]\n",
    "    else:\n",
    "        return [g[0: p1] + g[p2:], g[p1:p2] + g[p1:p1+1]]"
   ]
  },
  {
   "cell_type": "code",
   "execution_count": 103,
   "id": "6591fa39-8d73-481f-955a-5f7f139e7fb5",
   "metadata": {},
   "outputs": [
    {
     "name": "stdout",
     "output_type": "stream",
     "text": [
      "[[1, 2, 3, 8, 9, 10], [4, 5, 6, 7, 4]]\n",
      "[[1, 2, 3, 8, 9, 10], [4, 5, 6, 7, 4]]\n",
      "[[1, 2, 3, 8, 9, 10], [4, 5, 6, 7, 4]]\n",
      "[[1, 2, 3, 8, 9, 10], [4, 5, 6, 7, 4]]\n",
      "[[1, 2, 3, -7, -6, -5, -4, 8, 9, 10]]\n",
      "[[1, 2, 3, 8, 9, 10], [4, 5, 6, 7, 4]]\n",
      "[[1, 2, 3, 8, 9, 10], [4, 5, 6, 7, 4]]\n",
      "[[1, 2, 3, 8, 9, 10], [4, 5, 6, 7, 4]]\n",
      "[[1, 2, 3, -7, -6, -5, -4, 8, 9, 10]]\n",
      "[[1, 2, 3, -7, -6, -5, -4, 8, 9, 10]]\n"
     ]
    }
   ],
   "source": [
    "for i in range(10):\n",
    "    print(trans(tmp, 3,7))"
   ]
  },
  {
   "cell_type": "code",
   "execution_count": null,
   "id": "b9932786-89e9-41cc-9866-c612f2cde5b3",
   "metadata": {},
   "outputs": [],
   "source": []
  }
 ],
 "metadata": {
  "kernelspec": {
   "display_name": "Deep AI",
   "language": "python",
   "name": "dl"
  },
  "language_info": {
   "codemirror_mode": {
    "name": "ipython",
    "version": 3
   },
   "file_extension": ".py",
   "mimetype": "text/x-python",
   "name": "python",
   "nbconvert_exporter": "python",
   "pygments_lexer": "ipython3",
   "version": "3.7.11"
  }
 },
 "nbformat": 4,
 "nbformat_minor": 5
}
