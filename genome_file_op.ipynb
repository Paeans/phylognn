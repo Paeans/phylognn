{
 "cells": [
  {
   "cell_type": "code",
   "execution_count": 1,
   "id": "a6e65916-7ac0-46ea-a278-17b3c8db94b1",
   "metadata": {},
   "outputs": [],
   "source": [
    "import numpy as np"
   ]
  },
  {
   "cell_type": "code",
   "execution_count": 2,
   "id": "962b7c20-4498-4693-91ba-7a1fb22ba404",
   "metadata": {},
   "outputs": [],
   "source": [
    "with open('genome.txt', 'w') as gfile:\n",
    "    gfile.write('test')"
   ]
  },
  {
   "cell_type": "code",
   "execution_count": 20,
   "id": "cdc46864-099f-4375-9518-2ffffa0ab9ca",
   "metadata": {},
   "outputs": [],
   "source": [
    "def write_genome(gene_groups, fname = 'genome.txt'):\n",
    "    with open(fname, 'w') as gfile:\n",
    "        for i in range(len(gene_groups)):\n",
    "            gfile.write('>g' + str(i) + '\\n')\n",
    "            for g in gene_groups[i]:\n",
    "                if g[0] == g[-1]:\n",
    "                    gfile.write('C:' + ' '.join([str(x) for x in g[:-1]]) + '\\n')\n",
    "                else:\n",
    "                    gfile.write('L:' + ' '.join([str(x) for x in g]) + '\\n')"
   ]
  },
  {
   "cell_type": "code",
   "execution_count": 22,
   "id": "037ecd24-13d7-42ec-a8ec-24a1de3902cd",
   "metadata": {},
   "outputs": [],
   "source": [
    "write_genome([[[1,2,3,-4,-5,6], [7,8,-9,-10]], [[1,2,3,5,4,6], [7,8,-9,-10,7]]])"
   ]
  },
  {
   "cell_type": "code",
   "execution_count": null,
   "id": "778c81a0-2661-43e2-b22d-8c215edc39e2",
   "metadata": {},
   "outputs": [],
   "source": []
  }
 ],
 "metadata": {
  "kernelspec": {
   "display_name": "Deep AI",
   "language": "python",
   "name": "dl"
  },
  "language_info": {
   "codemirror_mode": {
    "name": "ipython",
    "version": 3
   },
   "file_extension": ".py",
   "mimetype": "text/x-python",
   "name": "python",
   "nbconvert_exporter": "python",
   "pygments_lexer": "ipython3",
   "version": "3.7.11"
  }
 },
 "nbformat": 4,
 "nbformat_minor": 5
}
