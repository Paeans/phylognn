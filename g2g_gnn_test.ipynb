{
 "cells": [
  {
   "cell_type": "code",
   "execution_count": 16,
   "id": "ec436995-a8cf-46d9-bf78-45fd3b96d42e",
   "metadata": {},
   "outputs": [],
   "source": [
    "import time\n",
    "\n",
    "import torch\n",
    "from torch.optim.lr_scheduler import ReduceLROnPlateau\n",
    "\n",
    "from torch_geometric.nn import VGAE\n",
    "from torch_geometric.loader import DataLoader\n",
    "from torch_geometric.utils import degree, negative_sampling\n",
    "\n",
    "from torch.utils.tensorboard import SummaryWriter\n",
    "\n",
    "from gene_graph_dataset import G2GraphDataset\n",
    "from phylognn_model import G3Median"
   ]
  },
  {
   "cell_type": "code",
   "execution_count": 2,
   "id": "3253a61c-5647-495c-9227-a2fdf9c3812f",
   "metadata": {},
   "outputs": [],
   "source": [
    "gpuid = 0\n",
    "\n",
    "train_p, test_p = 0.8, 0.2\n",
    "train_batch, test_batch = 20, 8"
   ]
  },
  {
   "cell_type": "code",
   "execution_count": 3,
   "id": "51a7e143-b111-4051-a7ff-b29560aa8fad",
   "metadata": {},
   "outputs": [],
   "source": [
    "device = torch.device('cuda:' + str(gpuid) if torch.cuda.is_available() else 'cpu')"
   ]
  },
  {
   "cell_type": "code",
   "execution_count": 4,
   "id": "ece92178-89e5-4d5f-a806-04b15ba5ac6e",
   "metadata": {},
   "outputs": [],
   "source": [
    "dataset = G2GraphDataset('dataset_g2g', 1000, 10)"
   ]
  },
  {
   "cell_type": "code",
   "execution_count": 5,
   "id": "62007446-f148-4baa-af21-2011093c7e70",
   "metadata": {},
   "outputs": [],
   "source": [
    "data_size = len(dataset)\n",
    "train_size, test_size = (int)(data_size * train_p), (int)(data_size * test_p)"
   ]
  },
  {
   "cell_type": "code",
   "execution_count": 6,
   "id": "3c4070bb-3305-4710-9ce9-93537ba72c5f",
   "metadata": {},
   "outputs": [],
   "source": [
    "dataset = dataset.shuffle()\n",
    "train_dataset = dataset[:train_size]\n",
    "test_dataset = dataset[train_size:(train_size + test_size)]\n",
    "# val_dataset = dataset[(train_size + test_size):]"
   ]
  },
  {
   "cell_type": "code",
   "execution_count": 7,
   "id": "a2c6a0cb-b675-47a6-8eac-a4e5b82a0ca1",
   "metadata": {},
   "outputs": [],
   "source": [
    "train_loader = DataLoader(train_dataset, batch_size = train_batch, shuffle=True)\n",
    "test_loader = DataLoader(test_dataset, batch_size = test_batch)\n",
    "# val_loader = DataLoader(val_dataset, batch_size=8)"
   ]
  },
  {
   "cell_type": "code",
   "execution_count": 8,
   "id": "dbb8f654-2582-482f-886d-07f10fa83841",
   "metadata": {},
   "outputs": [],
   "source": [
    "deg = torch.zeros(5, dtype=torch.long)\n",
    "for data in train_dataset:\n",
    "    d = degree(data.edge_index[1].type(torch.int64), \n",
    "               num_nodes=data.num_nodes, dtype=torch.long)\n",
    "    deg += torch.bincount(d, minlength=deg.numel())"
   ]
  },
  {
   "cell_type": "code",
   "execution_count": 9,
   "id": "2a4a4642-a2a8-4f5b-93ec-476ec212f422",
   "metadata": {},
   "outputs": [],
   "source": [
    "# class EncoderNet(torch.nn.Module):\n",
    "#     def __init__(self, in_channels, out_channels):\n",
    "#         super(EncoderNet, self).__init__()\n",
    "\n",
    "#         self.node_emb = Embedding(1000, 75)\n",
    "\n",
    "#         aggregators = ['mean', 'min', 'max', 'std']\n",
    "#         scalers = ['identity', 'amplification', 'attenuation']\n",
    "        \n",
    "#         self.conv_mu = GCNConv(75, out_channels)\n",
    "#         self.conv_logstd = GCNConv(75, out_channels)\n",
    "        \n",
    "#         self.convs = ModuleList()\n",
    "#         self.batch_norms = ModuleList()\n",
    "#         for _ in range(4):\n",
    "#             conv = PNAConv(in_channels=75, out_channels=75,\n",
    "#                            aggregators=aggregators, scalers=scalers, deg=deg,\n",
    "#                            # edge_dim=50, \n",
    "#                            towers=5, pre_layers=1, post_layers=1,\n",
    "#                            divide_input=False)\n",
    "#             # conv = GCNConv(in_channels=75, out_channels=75)\n",
    "#             self.convs.append(conv)\n",
    "#             self.batch_norms.append(BatchNorm(75))\n",
    "\n",
    "#     def forward(self, x, edge_index): #, edge_attr, batch):\n",
    "        \n",
    "#         x = self.node_emb(x.squeeze())\n",
    "\n",
    "#         for conv, batch_norm in zip(self.convs, self.batch_norms):\n",
    "#             x = batch_norm(conv(x, edge_index)).relu()\n",
    "#         return self.conv_mu(x, edge_index), self.conv_logstd(x, edge_index)"
   ]
  },
  {
   "cell_type": "code",
   "execution_count": 10,
   "id": "770c5b84-1b27-42b1-b0eb-ebc893f5b406",
   "metadata": {},
   "outputs": [],
   "source": [
    "in_channels, out_channels = dataset.num_features, 16"
   ]
  },
  {
   "cell_type": "code",
   "execution_count": 11,
   "id": "1a07372c-9ef1-43d2-845f-bc1a9e83926e",
   "metadata": {},
   "outputs": [],
   "source": [
    "model = VGAE(G3Median(in_channels, out_channels, deg)).to(device)\n",
    "optimizer = torch.optim.Adam(model.parameters(), lr=0.01)\n",
    "scheduler = ReduceLROnPlateau(optimizer, mode='min', factor=0.5, patience=10,\n",
    "                              min_lr=0.00001)"
   ]
  },
  {
   "cell_type": "code",
   "execution_count": 12,
   "id": "5c4dd281-b1eb-45d3-9b80-33bbed4db8e5",
   "metadata": {},
   "outputs": [],
   "source": [
    "writer = SummaryWriter(log_dir='runs/g2graph_batch')"
   ]
  },
  {
   "cell_type": "code",
   "execution_count": 13,
   "id": "a258ffba-549f-4158-96ad-b8f2cc175130",
   "metadata": {},
   "outputs": [],
   "source": [
    "def train(train_loader):\n",
    "    model.train()\n",
    "    \n",
    "    total_loss = 0\n",
    "    for data in train_loader:\n",
    "        data = data.to(device)\n",
    "        optimizer.zero_grad()\n",
    "        \n",
    "        z = model.encode(data.x, data.edge_index)\n",
    "        loss = model.recon_loss(z, data.pos_edge_label_index)\n",
    "        loss = loss + (1 / data.num_nodes) * model.kl_loss()\n",
    "        loss.backward()\n",
    "        optimizer.step()\n",
    "        \n",
    "        total_loss += loss\n",
    "    return total_loss/len(train_loader)"
   ]
  },
  {
   "cell_type": "code",
   "execution_count": 14,
   "id": "bdce86c1-c9f8-40d2-9554-4f780ab522fe",
   "metadata": {},
   "outputs": [],
   "source": [
    "@torch.no_grad()\n",
    "def test(test_loader):\n",
    "    model.eval()\n",
    "    loss, auc, ap = 0, 0, 0\n",
    "    \n",
    "    for data in test_loader:\n",
    "        \n",
    "        data = data.to(device)\n",
    "        \n",
    "        z = model.encode(data.x, data.edge_index)\n",
    "        loss += model.recon_loss(z, data.pos_edge_label_index, \n",
    "                                 negative_sampling(data.pos_edge_label_index, \n",
    "                                                data.num_nodes,\n",
    "                                                data.num_nodes*10))\n",
    "                                 # data.neg_edge_label_index)\n",
    "        tauc, tap = model.test(z, data.pos_edge_label_index, \n",
    "                               negative_sampling(data.pos_edge_label_index, \n",
    "                                                data.num_nodes,\n",
    "                                                data.num_nodes*10))\n",
    "                               # data.neg_edge_label_index)\n",
    "        auc += tauc\n",
    "        ap += tap\n",
    "        \n",
    "    return loss/len(test_loader), auc/len(test_loader), ap/len(test_loader)"
   ]
  },
  {
   "cell_type": "code",
   "execution_count": null,
   "id": "c7c1df12-ce9a-47ca-8fd8-198c4ec9c435",
   "metadata": {},
   "outputs": [],
   "source": [
    "for epoch in range(1, 200 + 1):\n",
    "    loss = train(train_loader)\n",
    "    tloss, auc, ap = test(test_loader)\n",
    "    \n",
    "    scheduler.step(1 - auc)\n",
    "    \n",
    "    writer.add_scalar('Loss/train', loss, epoch)\n",
    "    writer.add_scalar('Loss/test', tloss, epoch)\n",
    "    writer.add_scalar('AUC/test', auc, epoch)\n",
    "    writer.add_scalar('AP/test', ap, epoch)\n",
    "    if epoch % 50 == 0:\n",
    "        print(f'{time.ctime()} - '\n",
    "              f'Epoch: {epoch:04d}, loss: {loss:.6f}, AUC: {auc:.6f}, '\n",
    "              f'AP: {ap:.6f}, TL: {tloss:.6f}')"
   ]
  },
  {
   "cell_type": "code",
   "execution_count": null,
   "id": "d6367f3c-f5ba-45ed-8a3f-71751cf68356",
   "metadata": {},
   "outputs": [],
   "source": [
    "writer.close()"
   ]
  },
  {
   "cell_type": "code",
   "execution_count": null,
   "id": "1f0946fe-bd7f-4c34-abd9-4e32df454221",
   "metadata": {},
   "outputs": [],
   "source": []
  }
 ],
 "metadata": {
  "kernelspec": {
   "display_name": "Deep AI",
   "language": "python",
   "name": "dl"
  },
  "language_info": {
   "codemirror_mode": {
    "name": "ipython",
    "version": 3
   },
   "file_extension": ".py",
   "mimetype": "text/x-python",
   "name": "python",
   "nbconvert_exporter": "python",
   "pygments_lexer": "ipython3",
   "version": "3.7.11"
  }
 },
 "nbformat": 4,
 "nbformat_minor": 5
}
