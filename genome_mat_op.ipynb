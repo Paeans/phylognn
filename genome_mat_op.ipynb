{
 "cells": [
  {
   "cell_type": "code",
   "execution_count": 1,
   "id": "14417829-5aa6-4807-8749-79a80f089ade",
   "metadata": {},
   "outputs": [],
   "source": [
    "import numpy as np\n",
    "import random\n",
    "\n",
    "import math\n",
    "import time"
   ]
  },
  {
   "cell_type": "code",
   "execution_count": 2,
   "id": "ad749b2f-3810-448d-912f-fd16371c6164",
   "metadata": {},
   "outputs": [],
   "source": [
    "import torch as th"
   ]
  },
  {
   "cell_type": "code",
   "execution_count": 3,
   "id": "7c38e9d7-e270-4aa6-977d-42be81dacc27",
   "metadata": {},
   "outputs": [],
   "source": [
    "device = th.device('cuda')"
   ]
  },
  {
   "cell_type": "code",
   "execution_count": 4,
   "id": "ee8bc704-198b-4574-87c2-b4e23a53393a",
   "metadata": {},
   "outputs": [],
   "source": [
    "from gene_mat import revers_mat, trans_rev, trans_mat"
   ]
  },
  {
   "cell_type": "code",
   "execution_count": 5,
   "id": "d677fe56-e360-44a9-9d12-085d92d944a7",
   "metadata": {},
   "outputs": [],
   "source": [
    "n = 200\n",
    "tmp = np.array([range(1,n + 1)])\n",
    "mat_list = []\n",
    "for _ in range(20):\n",
    "    p1,p2,p3,p4 = [random.randint(0,n) for _ in range(4)]\n",
    "    mat_list.append(trans_rev(n, p1, p2, p3, p4))\n",
    "tmp_tensor = th.tensor(tmp, dtype = th.float, device = device)\n",
    "mat_tensor = th.tensor(np.array(mat_list), dtype = th.float, device = device)\n",
    "test = th.matmul(tmp_tensor, mat_tensor)"
   ]
  },
  {
   "cell_type": "code",
   "execution_count": 6,
   "id": "2430d2b1-0a44-4771-8cf7-f0cf62ee05b2",
   "metadata": {},
   "outputs": [
    {
     "data": {
      "text/plain": [
       "(145, 53, 110, 48)"
      ]
     },
     "execution_count": 6,
     "metadata": {},
     "output_type": "execute_result"
    }
   ],
   "source": [
    "p1,p2,p3,p4"
   ]
  },
  {
   "cell_type": "code",
   "execution_count": 7,
   "id": "8e04305a-08ca-4fcb-807d-4411edf4f6a6",
   "metadata": {},
   "outputs": [],
   "source": [
    "# n = 6\n",
    "# count = 2**n*math.factorial(n)\n",
    "# for _ in range(10):\n",
    "#     num = []\n",
    "#     genes_5 = []\n",
    "#     g_5 = [list(range(1, n + 1))]\n",
    "#     test = th.tensor(g_5, dtype = th.float, device = device)\n",
    "#     num.append((1,-1))\n",
    "#     genes_5.append(g_5)\n",
    "    \n",
    "#     mat_op_list = [trans_rev, trans_mat, revers_mat]\n",
    "#     for i in range(1000):\n",
    "#         op_list = [mat_op_list[random.randint(0,2)](\n",
    "#     n, *[random.randint(0,n) for _ in range(4)]) \n",
    "#            for _ in range(200)]\n",
    "        \n",
    "#         mat_tensor = th.tensor(op_list, dtype = th.float, device = device)\n",
    "#         test = th.matmul(test, mat_tensor)\n",
    "        \n",
    "#         g_res = test.cpu().numpy().astype(dtype=np.int32).tolist()\n",
    "#         for g_5 in g_res:\n",
    "#             if g_5 not in genes_5:\n",
    "#                 genes_5.append(g_5)\n",
    "#         l = len(genes_5)\n",
    "#         if l > num[-1][0]:\n",
    "#             num.append((l, i))\n",
    "#             if l%100 == 0 or i % 1000 == 0: \n",
    "#                 print(time.ctime(), num[-1])\n",
    "#         if l >= count:\n",
    "#             break\n",
    "#     print(time.ctime(), num[-1])"
   ]
  },
  {
   "cell_type": "code",
   "execution_count": 8,
   "id": "ddfe4277-83f5-4ba6-9530-233122f3efdb",
   "metadata": {},
   "outputs": [
    {
     "name": "stdout",
     "output_type": "stream",
     "text": [
      "Wed Nov  3 11:27:16 2021\n",
      "Wed Nov  3 11:27:16 2021\n",
      "Wed Nov  3 11:27:16 2021\n"
     ]
    }
   ],
   "source": [
    "n = 10\n",
    "print(time.ctime())\n",
    "test = th.tensor(np.diag(np.repeat(1,n)), \n",
    "                 dtype = th.float, device = device)\n",
    "mat_op_list = [trans_rev, trans_mat, revers_mat]\n",
    "\n",
    "print(time.ctime())\n",
    "for _ in range(10):    \n",
    "    op_list = np.array([mat_op_list[random.randint(0,2)](\n",
    "    n, *[random.randint(0,n) for _ in range(4)]) \n",
    "           for _ in range(20)])\n",
    "    mat_tensor = th.tensor(op_list, dtype = th.float, device = device)\n",
    "    test = th.matmul(test, mat_tensor)\n",
    "#     print(test[0])\n",
    "#     print(mat_tensor[0])\n",
    "#     mat_tensor = mat_tensor[th.randperm(mat_tensor.shape[0])]\n",
    "print(time.ctime())"
   ]
  },
  {
   "cell_type": "code",
   "execution_count": 9,
   "id": "651b794b-8955-433a-b912-517e2e36c4f5",
   "metadata": {},
   "outputs": [
    {
     "data": {
      "text/plain": [
       "tensor([[1., 0., 0., 0., 0., 0., 0., 0., 0., 0.],\n",
       "        [0., 1., 0., 0., 0., 0., 0., 0., 0., 0.],\n",
       "        [0., 0., 1., 0., 0., 0., 0., 0., 0., 0.],\n",
       "        [0., 0., 0., 1., 0., 0., 0., 0., 0., 0.],\n",
       "        [0., 0., 0., 0., 1., 0., 0., 0., 0., 0.],\n",
       "        [0., 0., 0., 0., 0., 1., 0., 0., 0., 0.],\n",
       "        [0., 0., 0., 0., 0., 0., 1., 0., 0., 0.],\n",
       "        [0., 0., 0., 0., 0., 0., 0., 1., 0., 0.],\n",
       "        [0., 0., 0., 0., 0., 0., 0., 0., 1., 0.],\n",
       "        [0., 0., 0., 0., 0., 0., 0., 0., 0., 1.]], device='cuda:0')"
      ]
     },
     "execution_count": 9,
     "metadata": {},
     "output_type": "execute_result"
    }
   ],
   "source": [
    "th.matmul(test[0], test[0].T)"
   ]
  },
  {
   "cell_type": "code",
   "execution_count": 10,
   "id": "5045f487-efd2-49a0-9608-5f7b7c5796d8",
   "metadata": {},
   "outputs": [
    {
     "data": {
      "text/plain": [
       "tensor([[ 0.,  0.,  0.,  0.,  0.,  0.,  0., -1.,  0.,  0.],\n",
       "        [ 0.,  0.,  0.,  0.,  0.,  0.,  0.,  0.,  0.,  1.],\n",
       "        [ 1.,  0.,  0.,  0.,  0.,  0.,  0.,  0.,  0.,  0.],\n",
       "        [ 0.,  0.,  0.,  0.,  0.,  0.,  1.,  0.,  0.,  0.],\n",
       "        [ 0.,  0.,  0.,  0., -1.,  0.,  0.,  0.,  0.,  0.],\n",
       "        [ 0.,  0.,  0.,  0.,  0.,  0.,  0.,  0.,  1.,  0.],\n",
       "        [ 0.,  0.,  0.,  0.,  0.,  1.,  0.,  0.,  0.,  0.],\n",
       "        [ 0.,  0.,  0., -1.,  0.,  0.,  0.,  0.,  0.,  0.],\n",
       "        [ 0.,  1.,  0.,  0.,  0.,  0.,  0.,  0.,  0.,  0.],\n",
       "        [ 0.,  0.,  1.,  0.,  0.,  0.,  0.,  0.,  0.,  0.]], device='cuda:0')"
      ]
     },
     "execution_count": 10,
     "metadata": {},
     "output_type": "execute_result"
    }
   ],
   "source": [
    "test[0]"
   ]
  },
  {
   "cell_type": "code",
   "execution_count": 11,
   "id": "ac550597-5e81-4305-b800-d36f4a79f246",
   "metadata": {},
   "outputs": [
    {
     "data": {
      "text/plain": [
       "tensor([[ 0.,  0.,  1.,  0.,  0.,  0.,  0.,  0.,  0.,  0.],\n",
       "        [ 0.,  0.,  0.,  0.,  0.,  0.,  0.,  0.,  1.,  0.],\n",
       "        [ 0.,  0.,  0.,  0.,  0.,  0.,  0.,  0.,  0.,  1.],\n",
       "        [ 0.,  0.,  0.,  0.,  0.,  0.,  0., -1.,  0.,  0.],\n",
       "        [ 0.,  0.,  0.,  0., -1.,  0.,  0.,  0.,  0.,  0.],\n",
       "        [ 0.,  0.,  0.,  0.,  0.,  0.,  1.,  0.,  0.,  0.],\n",
       "        [ 0.,  0.,  0.,  1.,  0.,  0.,  0.,  0.,  0.,  0.],\n",
       "        [-1.,  0.,  0.,  0.,  0.,  0.,  0.,  0.,  0.,  0.],\n",
       "        [ 0.,  0.,  0.,  0.,  0.,  1.,  0.,  0.,  0.,  0.],\n",
       "        [ 0.,  1.,  0.,  0.,  0.,  0.,  0.,  0.,  0.,  0.]], device='cuda:0')"
      ]
     },
     "execution_count": 11,
     "metadata": {},
     "output_type": "execute_result"
    }
   ],
   "source": [
    "test[0].T"
   ]
  },
  {
   "cell_type": "code",
   "execution_count": 12,
   "id": "91f91163-c970-46b1-9d98-257b58a9b313",
   "metadata": {},
   "outputs": [],
   "source": [
    "gene = th.tensor(np.arange(1, 11).reshape((1,10)), dtype = th.float, device = device)"
   ]
  },
  {
   "cell_type": "code",
   "execution_count": 13,
   "id": "c8cd747d-41c8-4e1e-9043-28a79ad82c5f",
   "metadata": {},
   "outputs": [
    {
     "data": {
      "text/plain": [
       "tensor([[ 1.,  2.,  3.,  4.,  5.,  6.,  7.,  8.,  9., 10.]], device='cuda:0')"
      ]
     },
     "execution_count": 13,
     "metadata": {},
     "output_type": "execute_result"
    }
   ],
   "source": [
    "gene"
   ]
  },
  {
   "cell_type": "code",
   "execution_count": 14,
   "id": "ba9b5987-5ae1-4242-8806-1444e70984c5",
   "metadata": {},
   "outputs": [],
   "source": [
    "t1 = th.matmul(gene, test[0])"
   ]
  },
  {
   "cell_type": "code",
   "execution_count": 15,
   "id": "eff78903-7775-4c92-9dfb-5ad849e70e42",
   "metadata": {},
   "outputs": [
    {
     "data": {
      "text/plain": [
       "tensor([[ 3.,  9., 10., -8., -5.,  7.,  4., -1.,  6.,  2.]], device='cuda:0')"
      ]
     },
     "execution_count": 15,
     "metadata": {},
     "output_type": "execute_result"
    }
   ],
   "source": [
    "t1"
   ]
  },
  {
   "cell_type": "code",
   "execution_count": 16,
   "id": "006d99cc-d4a1-4bbe-a8fa-571ce03d28d7",
   "metadata": {},
   "outputs": [],
   "source": [
    "t2 = th.matmul(t1, test[0].T)"
   ]
  },
  {
   "cell_type": "code",
   "execution_count": 17,
   "id": "119ac46f-201e-451f-9688-2c601ac78e85",
   "metadata": {},
   "outputs": [
    {
     "data": {
      "text/plain": [
       "tensor([[ 1.,  2.,  3.,  4.,  5.,  6.,  7.,  8.,  9., 10.]], device='cuda:0')"
      ]
     },
     "execution_count": 17,
     "metadata": {},
     "output_type": "execute_result"
    }
   ],
   "source": [
    "t2"
   ]
  },
  {
   "cell_type": "code",
   "execution_count": 18,
   "id": "698c2466-c13a-41c5-869f-f7094d028de9",
   "metadata": {},
   "outputs": [],
   "source": [
    "# p1,p2,p3,p4 = [random.randint(0,n) for _ in range(4)]\n",
    "# for _ in range(2000):\n",
    "#     op_type = random.randint(0,2)\n",
    "#     if op_type == 0:\n",
    "#         op_mat = trans_rev(n, p1, p2, p3, p4)\n",
    "#     elif op_type == 1:\n",
    "#         op_mat = trans_mat(n, p1, p2, p3, p4)\n",
    "#     else:\n",
    "#         op_mat = revers_mat(n, p1, p2)\n",
    "#     op_list.append(op_mat)"
   ]
  },
  {
   "cell_type": "markdown",
   "id": "9ac78174-5033-4fcf-bbc1-f2d48c56b18b",
   "metadata": {
    "tags": []
   },
   "source": [
    "---"
   ]
  },
  {
   "cell_type": "code",
   "execution_count": 19,
   "id": "0eb9d149-85a8-4f1f-ad40-28ff4d708e67",
   "metadata": {},
   "outputs": [],
   "source": [
    "from dcj_comp import dcj_dist"
   ]
  },
  {
   "cell_type": "code",
   "execution_count": 79,
   "id": "8020a526-4a7a-4998-9cf8-1cd62c08f55c",
   "metadata": {},
   "outputs": [],
   "source": [
    "n, vol = 5, 2000\n",
    "gene = th.tensor(np.arange(1, n+1).reshape((1,n)), dtype = th.float, device = device)\n",
    "oriseq = gene.cpu().numpy().astype(np.int32).reshape(n,).tolist()\n",
    "\n",
    "genome = []\n",
    "genome.append(oriseq)\n",
    "\n",
    "t_dist = [0 for _ in range(vol)]"
   ]
  },
  {
   "cell_type": "code",
   "execution_count": 80,
   "id": "911a757d-d363-4202-a1d9-f0f3956cbb72",
   "metadata": {},
   "outputs": [],
   "source": [
    "test = th.tensor(np.diag(np.repeat(1,n)), \n",
    "                 dtype = th.float, device = device)\n",
    "mat_op_list = [trans_rev, trans_mat, revers_mat]\n",
    "rand_op = [2 for _ in range(vol)] #[random.randint(0,2) for _ in range(vol)]\n",
    "param_op = [[random.randint(0,n) for _ in range(4)] for _ in range(vol)]\n",
    "t_dist = np.add(t_dist, [1 if x == 2 else 2 for x in rand_op])\n",
    "\n",
    "# op_list = np.array([mat_op_list[random.randint(0,2)](\n",
    "# n, *[random.randint(0,n) for _ in range(4)]) \n",
    "#        for _ in range(20)])\n",
    "op_list = np.array([mat_op_list[op](\n",
    "n, *param) \n",
    "       for op, param in zip(rand_op, param_op)])\n",
    "\n",
    "\n",
    "mat_tensor = th.tensor(op_list, dtype = th.float, device = device)\n",
    "test = th.matmul(test, mat_tensor)\n",
    "trans_seq = th.matmul(gene, test)"
   ]
  },
  {
   "cell_type": "code",
   "execution_count": 81,
   "id": "fce23b49-e63b-4c53-893a-01c8cec3d138",
   "metadata": {},
   "outputs": [
    {
     "name": "stdout",
     "output_type": "stream",
     "text": [
      "[-5 -4 -3 -2 -1] ***\t 0 1 revers_mat [0, 5, 0, 0]\n",
      "[-5 -4 -3 -2 -1] ***\t 0 1 revers_mat [5, 0, 0, 4]\n",
      "[1 2 3 4 5] ***\t 0 1 revers_mat [5, 5, 1, 3]\n",
      "[-5 -4 -3 -2 -1] ***\t 0 1 revers_mat [5, 0, 0, 2]\n",
      "[1 2 3 4 5] ***\t 0 1 revers_mat [3, 3, 3, 2]\n",
      "[1 2 3 4 5] ***\t 0 1 revers_mat [4, 4, 1, 5]\n",
      "[1 2 3 4 5] ***\t 0 1 revers_mat [1, 1, 5, 1]\n",
      "[1 2 3 4 5] ***\t 0 1 revers_mat [4, 4, 0, 4]\n",
      "[1 2 3 4 5] ***\t 0 1 revers_mat [1, 1, 2, 2]\n",
      "[1 2 3 4 5] ***\t 0 1 revers_mat [1, 1, 1, 0]\n",
      "[1 2 3 4 5] ***\t 0 1 revers_mat [1, 1, 5, 1]\n",
      "[1 2 3 4 5] ***\t 0 1 revers_mat [1, 1, 2, 4]\n",
      "[-5 -4 -3 -2 -1] ***\t 0 1 revers_mat [5, 0, 4, 3]\n",
      "[1 2 3 4 5] ***\t 0 1 revers_mat [2, 2, 5, 3]\n",
      "[1 2 3 4 5] ***\t 0 1 revers_mat [2, 2, 4, 0]\n",
      "[1 2 3 4 5] ***\t 0 1 revers_mat [4, 4, 0, 3]\n",
      "[1 2 3 4 5] ***\t 0 1 revers_mat [2, 2, 4, 3]\n",
      "[1 2 3 4 5] ***\t 0 1 revers_mat [5, 5, 0, 1]\n",
      "[-5 -4 -3 -2 -1] ***\t 0 1 revers_mat [5, 0, 3, 2]\n",
      "[1 2 3 4 5] ***\t 0 1 revers_mat [3, 3, 4, 1]\n",
      "[1 2 3 4 5] ***\t 0 1 revers_mat [5, 5, 4, 5]\n",
      "[1 2 3 4 5] ***\t 0 1 revers_mat [5, 5, 3, 2]\n",
      "[-5 -4 -3 -2 -1] ***\t 0 1 revers_mat [5, 0, 3, 0]\n",
      "[1 2 3 4 5] ***\t 0 1 revers_mat [5, 5, 4, 0]\n",
      "[1 2 3 4 5] ***\t 0 1 revers_mat [0, 0, 4, 5]\n",
      "[-5 -4 -3 -2 -1] ***\t 0 1 revers_mat [0, 5, 2, 0]\n",
      "[1 2 3 4 5] ***\t 0 1 revers_mat [0, 0, 2, 3]\n",
      "[1 2 3 4 5] ***\t 0 1 revers_mat [0, 0, 1, 0]\n",
      "[1 2 3 4 5] ***\t 0 1 revers_mat [4, 4, 3, 4]\n",
      "[1 2 3 4 5] ***\t 0 1 revers_mat [0, 0, 5, 2]\n",
      "[-5 -4 -3 -2 -1] ***\t 0 1 revers_mat [0, 5, 5, 5]\n",
      "[1 2 3 4 5] ***\t 0 1 revers_mat [2, 2, 1, 5]\n",
      "[1 2 3 4 5] ***\t 0 1 revers_mat [1, 1, 4, 1]\n",
      "[1 2 3 4 5] ***\t 0 1 revers_mat [1, 1, 0, 2]\n",
      "[1 2 3 4 5] ***\t 0 1 revers_mat [5, 5, 3, 1]\n",
      "[1 2 3 4 5] ***\t 0 1 revers_mat [5, 5, 0, 1]\n",
      "[1 2 3 4 5] ***\t 0 1 revers_mat [2, 2, 2, 0]\n",
      "[-5 -4 -3 -2 -1] ***\t 0 1 revers_mat [5, 0, 3, 4]\n",
      "[1 2 3 4 5] ***\t 0 1 revers_mat [5, 5, 1, 0]\n",
      "[1 2 3 4 5] ***\t 0 1 revers_mat [5, 5, 4, 5]\n",
      "[1 2 3 4 5] ***\t 0 1 revers_mat [3, 3, 5, 3]\n",
      "[1 2 3 4 5] ***\t 0 1 revers_mat [4, 4, 2, 1]\n",
      "[-5 -4 -3 -2 -1] ***\t 0 1 revers_mat [5, 0, 4, 5]\n",
      "[1 2 3 4 5] ***\t 0 1 revers_mat [1, 1, 0, 4]\n",
      "[1 2 3 4 5] ***\t 0 1 revers_mat [1, 1, 4, 3]\n",
      "[1 2 3 4 5] ***\t 0 1 revers_mat [3, 3, 3, 5]\n",
      "[1 2 3 4 5] ***\t 0 1 revers_mat [5, 5, 0, 4]\n",
      "[-5 -4 -3 -2 -1] ***\t 0 1 revers_mat [5, 0, 1, 3]\n",
      "[1 2 3 4 5] ***\t 0 1 revers_mat [1, 1, 3, 5]\n",
      "[1 2 3 4 5] ***\t 0 1 revers_mat [3, 3, 1, 1]\n",
      "[1 2 3 4 5] ***\t 0 1 revers_mat [3, 3, 2, 5]\n",
      "[1 2 3 4 5] ***\t 0 1 revers_mat [1, 1, 0, 0]\n",
      "[1 2 3 4 5] ***\t 0 1 revers_mat [2, 2, 0, 3]\n",
      "[1 2 3 4 5] ***\t 0 1 revers_mat [4, 4, 4, 0]\n",
      "[-5 -4 -3 -2 -1] ***\t 0 1 revers_mat [5, 0, 2, 5]\n",
      "[1 2 3 4 5] ***\t 0 1 revers_mat [2, 2, 0, 5]\n",
      "[-5 -4 -3 -2 -1] ***\t 0 1 revers_mat [0, 5, 1, 4]\n",
      "[1 2 3 4 5] ***\t 0 1 revers_mat [1, 1, 0, 0]\n",
      "[1 2 3 4 5] ***\t 0 1 revers_mat [3, 3, 5, 2]\n",
      "[-5 -4 -3 -2 -1] ***\t 0 1 revers_mat [0, 5, 1, 5]\n",
      "[1 2 3 4 5] ***\t 0 1 revers_mat [3, 3, 5, 2]\n",
      "[1 2 3 4 5] ***\t 0 1 revers_mat [2, 2, 1, 1]\n",
      "[1 2 3 4 5] ***\t 0 1 revers_mat [4, 4, 4, 2]\n",
      "[1 2 3 4 5] ***\t 0 1 revers_mat [2, 2, 5, 3]\n",
      "[1 2 3 4 5] ***\t 0 1 revers_mat [4, 4, 1, 5]\n",
      "[-5 -4 -3 -2 -1] ***\t 0 1 revers_mat [0, 5, 5, 4]\n",
      "[1 2 3 4 5] ***\t 0 1 revers_mat [2, 2, 0, 3]\n",
      "[1 2 3 4 5] ***\t 0 1 revers_mat [5, 5, 4, 3]\n",
      "[-5 -4 -3 -2 -1] ***\t 0 1 revers_mat [5, 0, 0, 0]\n",
      "[1 2 3 4 5] ***\t 0 1 revers_mat [5, 5, 3, 2]\n",
      "[-5 -4 -3 -2 -1] ***\t 0 1 revers_mat [5, 0, 4, 1]\n",
      "[-5 -4 -3 -2 -1] ***\t 0 1 revers_mat [0, 5, 0, 2]\n",
      "[1 2 3 4 5] ***\t 0 1 revers_mat [4, 4, 3, 4]\n",
      "[1 2 3 4 5] ***\t 0 1 revers_mat [4, 4, 2, 5]\n",
      "[1 2 3 4 5] ***\t 0 1 revers_mat [1, 1, 0, 1]\n",
      "[-5 -4 -3 -2 -1] ***\t 0 1 revers_mat [0, 5, 0, 0]\n",
      "[-5 -4 -3 -2 -1] ***\t 0 1 revers_mat [0, 5, 5, 0]\n",
      "[1 2 3 4 5] ***\t 0 1 revers_mat [1, 1, 3, 1]\n",
      "[-5 -4 -3 -2 -1] ***\t 0 1 revers_mat [0, 5, 0, 1]\n",
      "[1 2 3 4 5] ***\t 0 1 revers_mat [2, 2, 2, 5]\n",
      "[1 2 3 4 5] ***\t 0 1 revers_mat [5, 5, 5, 3]\n",
      "[1 2 3 4 5] ***\t 0 1 revers_mat [1, 1, 4, 5]\n",
      "[1 2 3 4 5] ***\t 0 1 revers_mat [4, 4, 0, 4]\n",
      "[1 2 3 4 5] ***\t 0 1 revers_mat [5, 5, 0, 1]\n",
      "[-5 -4 -3 -2 -1] ***\t 0 1 revers_mat [5, 0, 3, 5]\n",
      "[-5 -4 -3 -2 -1] ***\t 0 1 revers_mat [0, 5, 3, 0]\n",
      "[1 2 3 4 5] ***\t 0 1 revers_mat [5, 5, 3, 1]\n",
      "[1 2 3 4 5] ***\t 0 1 revers_mat [3, 3, 4, 4]\n",
      "[1 2 3 4 5] ***\t 0 1 revers_mat [3, 3, 0, 1]\n",
      "[1 2 3 4 5] ***\t 0 1 revers_mat [4, 4, 3, 4]\n",
      "[1 2 3 4 5] ***\t 0 1 revers_mat [4, 4, 2, 5]\n",
      "[1 2 3 4 5] ***\t 0 1 revers_mat [3, 3, 0, 5]\n",
      "[1 2 3 4 5] ***\t 0 1 revers_mat [5, 5, 5, 0]\n",
      "[1 2 3 4 5] ***\t 0 1 revers_mat [0, 0, 2, 4]\n",
      "[-5 -4 -3 -2 -1] ***\t 0 1 revers_mat [5, 0, 4, 2]\n",
      "[1 2 3 4 5] ***\t 0 1 revers_mat [2, 2, 4, 5]\n",
      "[1 2 3 4 5] ***\t 0 1 revers_mat [3, 3, 1, 0]\n",
      "[-5 -4 -3 -2 -1] ***\t 0 1 revers_mat [5, 0, 0, 3]\n",
      "[1 2 3 4 5] ***\t 0 1 revers_mat [1, 1, 2, 1]\n",
      "[1 2 3 4 5] ***\t 0 1 revers_mat [5, 5, 3, 0]\n",
      "[-5 -4 -3 -2 -1] ***\t 0 1 revers_mat [0, 5, 4, 2]\n",
      "[1 2 3 4 5] ***\t 0 1 revers_mat [2, 2, 4, 2]\n",
      "[1 2 3 4 5] ***\t 0 1 revers_mat [2, 2, 4, 5]\n",
      "[1 2 3 4 5] ***\t 0 1 revers_mat [5, 5, 0, 4]\n",
      "[1 2 3 4 5] ***\t 0 1 revers_mat [2, 2, 2, 5]\n",
      "[1 2 3 4 5] ***\t 0 1 revers_mat [0, 0, 0, 3]\n",
      "[1 2 3 4 5] ***\t 0 1 revers_mat [1, 1, 5, 0]\n",
      "[1 2 3 4 5] ***\t 0 1 revers_mat [3, 3, 1, 0]\n",
      "[1 2 3 4 5] ***\t 0 1 revers_mat [2, 2, 3, 1]\n",
      "[1 2 3 4 5] ***\t 0 1 revers_mat [0, 0, 2, 5]\n",
      "[-5 -4 -3 -2 -1] ***\t 0 1 revers_mat [5, 0, 3, 3]\n",
      "[1 2 3 4 5] ***\t 0 1 revers_mat [2, 2, 3, 3]\n",
      "[-5 -4 -3 -2 -1] ***\t 0 1 revers_mat [5, 0, 1, 4]\n",
      "[1 2 3 4 5] ***\t 0 1 revers_mat [3, 3, 0, 4]\n",
      "[1 2 3 4 5] ***\t 0 1 revers_mat [3, 3, 5, 1]\n",
      "[-5 -4 -3 -2 -1] ***\t 0 1 revers_mat [0, 5, 4, 2]\n",
      "[-5 -4 -3 -2 -1] ***\t 0 1 revers_mat [5, 0, 2, 5]\n",
      "[1 2 3 4 5] ***\t 0 1 revers_mat [1, 1, 1, 1]\n",
      "[1 2 3 4 5] ***\t 0 1 revers_mat [1, 1, 0, 2]\n",
      "[1 2 3 4 5] ***\t 0 1 revers_mat [4, 4, 5, 0]\n",
      "[1 2 3 4 5] ***\t 0 1 revers_mat [5, 5, 3, 4]\n",
      "[1 2 3 4 5] ***\t 0 1 revers_mat [2, 2, 2, 1]\n",
      "[-5 -4 -3 -2 -1] ***\t 0 1 revers_mat [0, 5, 3, 0]\n",
      "[-5 -4 -3 -2 -1] ***\t 0 1 revers_mat [5, 0, 3, 2]\n",
      "[-5 -4 -3 -2 -1] ***\t 0 1 revers_mat [5, 0, 4, 2]\n",
      "[1 2 3 4 5] ***\t 0 1 revers_mat [4, 4, 1, 1]\n",
      "[1 2 3 4 5] ***\t 0 1 revers_mat [3, 3, 0, 0]\n",
      "[1 2 3 4 5] ***\t 0 1 revers_mat [5, 5, 2, 3]\n",
      "[1 2 3 4 5] ***\t 0 1 revers_mat [2, 2, 2, 4]\n",
      "[1 2 3 4 5] ***\t 0 1 revers_mat [2, 2, 5, 2]\n",
      "[1 2 3 4 5] ***\t 0 1 revers_mat [2, 2, 0, 4]\n",
      "[1 2 3 4 5] ***\t 0 1 revers_mat [0, 0, 3, 5]\n",
      "[1 2 3 4 5] ***\t 0 1 revers_mat [5, 5, 4, 0]\n",
      "[1 2 3 4 5] ***\t 0 1 revers_mat [5, 5, 5, 4]\n",
      "[1 2 3 4 5] ***\t 0 1 revers_mat [1, 1, 3, 2]\n",
      "[1 2 3 4 5] ***\t 0 1 revers_mat [1, 1, 0, 1]\n",
      "[1 2 3 4 5] ***\t 0 1 revers_mat [5, 5, 5, 4]\n",
      "[-5 -4 -3 -2 -1] ***\t 0 1 revers_mat [5, 0, 4, 1]\n",
      "[1 2 3 4 5] ***\t 0 1 revers_mat [2, 2, 4, 1]\n",
      "[1 2 3 4 5] ***\t 0 1 revers_mat [3, 3, 3, 0]\n",
      "[1 2 3 4 5] ***\t 0 1 revers_mat [0, 0, 0, 5]\n",
      "[1 2 3 4 5] ***\t 0 1 revers_mat [5, 5, 5, 3]\n",
      "[-5 -4 -3 -2 -1] ***\t 0 1 revers_mat [5, 0, 3, 5]\n",
      "[1 2 3 4 5] ***\t 0 1 revers_mat [3, 3, 0, 1]\n",
      "[1 2 3 4 5] ***\t 0 1 revers_mat [3, 3, 5, 2]\n",
      "[1 2 3 4 5] ***\t 0 1 revers_mat [2, 2, 5, 0]\n",
      "[1 2 3 4 5] ***\t 0 1 revers_mat [1, 1, 3, 4]\n",
      "[1 2 3 4 5] ***\t 0 1 revers_mat [0, 0, 2, 4]\n",
      "[1 2 3 4 5] ***\t 0 1 revers_mat [3, 3, 1, 3]\n",
      "[1 2 3 4 5] ***\t 0 1 revers_mat [2, 2, 3, 1]\n",
      "[1 2 3 4 5] ***\t 0 1 revers_mat [1, 1, 3, 2]\n",
      "[1 2 3 4 5] ***\t 0 1 revers_mat [3, 3, 3, 1]\n",
      "[-5 -4 -3 -2 -1] ***\t 0 1 revers_mat [5, 0, 5, 3]\n",
      "[1 2 3 4 5] ***\t 0 1 revers_mat [4, 4, 4, 3]\n",
      "[1 2 3 4 5] ***\t 0 1 revers_mat [0, 0, 0, 4]\n",
      "[1 2 3 4 5] ***\t 0 1 revers_mat [5, 5, 1, 2]\n",
      "[1 2 3 4 5] ***\t 0 1 revers_mat [4, 4, 4, 5]\n",
      "[1 2 3 4 5] ***\t 0 1 revers_mat [0, 0, 4, 1]\n",
      "[1 2 3 4 5] ***\t 0 1 revers_mat [4, 4, 3, 0]\n",
      "[-5 -4 -3 -2 -1] ***\t 0 1 revers_mat [0, 5, 5, 2]\n",
      "[1 2 3 4 5] ***\t 0 1 revers_mat [3, 3, 3, 2]\n",
      "[-5 -4 -3 -2 -1] ***\t 0 1 revers_mat [5, 0, 1, 1]\n",
      "[1 2 3 4 5] ***\t 0 1 revers_mat [2, 2, 1, 3]\n",
      "[1 2 3 4 5] ***\t 0 1 revers_mat [4, 4, 1, 4]\n",
      "[1 2 3 4 5] ***\t 0 1 revers_mat [5, 5, 3, 0]\n",
      "[1 2 3 4 5] ***\t 0 1 revers_mat [2, 2, 3, 2]\n",
      "[1 2 3 4 5] ***\t 0 1 revers_mat [0, 0, 5, 1]\n",
      "[1 2 3 4 5] ***\t 0 1 revers_mat [2, 2, 2, 3]\n",
      "[-5 -4 -3 -2 -1] ***\t 0 1 revers_mat [5, 0, 4, 3]\n",
      "[1 2 3 4 5] ***\t 0 1 revers_mat [5, 5, 3, 3]\n",
      "[1 2 3 4 5] ***\t 0 1 revers_mat [2, 2, 5, 3]\n",
      "[1 2 3 4 5] ***\t 0 1 revers_mat [3, 3, 2, 2]\n",
      "[1 2 3 4 5] ***\t 0 1 revers_mat [5, 5, 0, 2]\n",
      "[1 2 3 4 5] ***\t 0 1 revers_mat [1, 1, 0, 4]\n",
      "[1 2 3 4 5] ***\t 0 1 revers_mat [3, 3, 1, 4]\n",
      "[1 2 3 4 5] ***\t 0 1 revers_mat [3, 3, 4, 0]\n",
      "[-5 -4 -3 -2 -1] ***\t 0 1 revers_mat [5, 0, 0, 5]\n",
      "[1 2 3 4 5] ***\t 0 1 revers_mat [5, 5, 1, 4]\n",
      "[-5 -4 -3 -2 -1] ***\t 0 1 revers_mat [0, 5, 2, 5]\n",
      "[-5 -4 -3 -2 -1] ***\t 0 1 revers_mat [5, 0, 0, 1]\n",
      "[1 2 3 4 5] ***\t 0 1 revers_mat [2, 2, 1, 3]\n",
      "[1 2 3 4 5] ***\t 0 1 revers_mat [3, 3, 2, 5]\n",
      "[1 2 3 4 5] ***\t 0 1 revers_mat [4, 4, 2, 3]\n",
      "[1 2 3 4 5] ***\t 0 1 revers_mat [3, 3, 1, 4]\n",
      "[1 2 3 4 5] ***\t 0 1 revers_mat [0, 0, 3, 2]\n",
      "[1 2 3 4 5] ***\t 0 1 revers_mat [4, 4, 1, 2]\n",
      "[1 2 3 4 5] ***\t 0 1 revers_mat [3, 3, 2, 0]\n",
      "[1 2 3 4 5] ***\t 0 1 revers_mat [1, 1, 5, 3]\n",
      "[1 2 3 4 5] ***\t 0 1 revers_mat [4, 4, 4, 5]\n",
      "[1 2 3 4 5] ***\t 0 1 revers_mat [1, 1, 0, 5]\n",
      "[1 2 3 4 5] ***\t 0 1 revers_mat [0, 0, 5, 5]\n",
      "[-5 -4 -3 -2 -1] ***\t 0 1 revers_mat [5, 0, 5, 1]\n",
      "[-5 -4 -3 -2 -1] ***\t 0 1 revers_mat [5, 0, 2, 0]\n",
      "[1 2 3 4 5] ***\t 0 1 revers_mat [0, 0, 4, 1]\n",
      "[1 2 3 4 5] ***\t 0 1 revers_mat [4, 4, 1, 2]\n",
      "[-5 -4 -3 -2 -1] ***\t 0 1 revers_mat [5, 0, 5, 3]\n",
      "[1 2 3 4 5] ***\t 0 1 revers_mat [3, 3, 2, 4]\n",
      "[1 2 3 4 5] ***\t 0 1 revers_mat [1, 1, 5, 1]\n",
      "[1 2 3 4 5] ***\t 0 1 revers_mat [3, 3, 3, 4]\n",
      "[1 2 3 4 5] ***\t 0 1 revers_mat [2, 2, 0, 0]\n",
      "[-5 -4 -3 -2 -1] ***\t 0 1 revers_mat [0, 5, 5, 0]\n",
      "[-5 -4 -3 -2 -1] ***\t 0 1 revers_mat [0, 5, 1, 2]\n",
      "[1 2 3 4 5] ***\t 0 1 revers_mat [3, 3, 5, 5]\n",
      "[1 2 3 4 5] ***\t 0 1 revers_mat [0, 0, 3, 5]\n",
      "[1 2 3 4 5] ***\t 0 1 revers_mat [5, 5, 1, 3]\n",
      "[1 2 3 4 5] ***\t 0 1 revers_mat [2, 2, 5, 5]\n",
      "[1 2 3 4 5] ***\t 0 1 revers_mat [4, 4, 4, 5]\n",
      "[1 2 3 4 5] ***\t 0 1 revers_mat [0, 0, 1, 4]\n",
      "[-5 -4 -3 -2 -1] ***\t 0 1 revers_mat [0, 5, 3, 0]\n",
      "[-5 -4 -3 -2 -1] ***\t 0 1 revers_mat [5, 0, 2, 3]\n",
      "[1 2 3 4 5] ***\t 0 1 revers_mat [0, 0, 4, 5]\n",
      "[1 2 3 4 5] ***\t 0 1 revers_mat [3, 3, 2, 3]\n",
      "[-5 -4 -3 -2 -1] ***\t 0 1 revers_mat [0, 5, 0, 0]\n",
      "[1 2 3 4 5] ***\t 0 1 revers_mat [5, 5, 1, 1]\n",
      "[1 2 3 4 5] ***\t 0 1 revers_mat [1, 1, 4, 5]\n",
      "[1 2 3 4 5] ***\t 0 1 revers_mat [0, 0, 4, 5]\n",
      "[1 2 3 4 5] ***\t 0 1 revers_mat [1, 1, 5, 1]\n",
      "[-5 -4 -3 -2 -1] ***\t 0 1 revers_mat [5, 0, 1, 0]\n",
      "[1 2 3 4 5] ***\t 0 1 revers_mat [5, 5, 1, 1]\n",
      "[1 2 3 4 5] ***\t 0 1 revers_mat [0, 0, 5, 1]\n",
      "[1 2 3 4 5] ***\t 0 1 revers_mat [4, 4, 3, 1]\n",
      "[1 2 3 4 5] ***\t 0 1 revers_mat [0, 0, 5, 4]\n",
      "[1 2 3 4 5] ***\t 0 1 revers_mat [4, 4, 0, 1]\n",
      "[-5 -4 -3 -2 -1] ***\t 0 1 revers_mat [0, 5, 2, 1]\n",
      "[1 2 3 4 5] ***\t 0 1 revers_mat [5, 5, 5, 0]\n",
      "[-5 -4 -3 -2 -1] ***\t 0 1 revers_mat [5, 0, 4, 3]\n",
      "[1 2 3 4 5] ***\t 0 1 revers_mat [1, 1, 5, 0]\n",
      "[1 2 3 4 5] ***\t 0 1 revers_mat [4, 4, 4, 1]\n",
      "[1 2 3 4 5] ***\t 0 1 revers_mat [1, 1, 1, 1]\n",
      "[1 2 3 4 5] ***\t 0 1 revers_mat [3, 3, 2, 4]\n",
      "[1 2 3 4 5] ***\t 0 1 revers_mat [5, 5, 5, 4]\n",
      "[1 2 3 4 5] ***\t 0 1 revers_mat [2, 2, 3, 4]\n",
      "[1 2 3 4 5] ***\t 0 1 revers_mat [1, 1, 1, 3]\n",
      "[1 2 3 4 5] ***\t 0 1 revers_mat [3, 3, 5, 0]\n",
      "[1 2 3 4 5] ***\t 0 1 revers_mat [3, 3, 2, 1]\n",
      "[1 2 3 4 5] ***\t 0 1 revers_mat [3, 3, 0, 5]\n",
      "[1 2 3 4 5] ***\t 0 1 revers_mat [1, 1, 4, 5]\n",
      "[1 2 3 4 5] ***\t 0 1 revers_mat [5, 5, 3, 1]\n",
      "[-5 -4 -3 -2 -1] ***\t 0 1 revers_mat [0, 5, 5, 3]\n",
      "[1 2 3 4 5] ***\t 0 1 revers_mat [1, 1, 5, 0]\n",
      "[-5 -4 -3 -2 -1] ***\t 0 1 revers_mat [5, 0, 5, 3]\n",
      "[1 2 3 4 5] ***\t 0 1 revers_mat [0, 0, 0, 4]\n",
      "[-5 -4 -3 -2 -1] ***\t 0 1 revers_mat [5, 0, 2, 2]\n",
      "[1 2 3 4 5] ***\t 0 1 revers_mat [5, 5, 4, 3]\n",
      "[1 2 3 4 5] ***\t 0 1 revers_mat [0, 0, 1, 1]\n",
      "[1 2 3 4 5] ***\t 0 1 revers_mat [3, 3, 4, 2]\n",
      "[1 2 3 4 5] ***\t 0 1 revers_mat [1, 1, 3, 2]\n",
      "[1 2 3 4 5] ***\t 0 1 revers_mat [1, 1, 1, 3]\n",
      "[1 2 3 4 5] ***\t 0 1 revers_mat [0, 0, 3, 4]\n",
      "[1 2 3 4 5] ***\t 0 1 revers_mat [3, 3, 3, 4]\n",
      "[1 2 3 4 5] ***\t 0 1 revers_mat [5, 5, 4, 0]\n",
      "[1 2 3 4 5] ***\t 0 1 revers_mat [4, 4, 3, 2]\n",
      "[-5 -4 -3 -2 -1] ***\t 0 1 revers_mat [0, 5, 3, 0]\n",
      "[1 2 3 4 5] ***\t 0 1 revers_mat [3, 3, 4, 5]\n",
      "[1 2 3 4 5] ***\t 0 1 revers_mat [3, 3, 4, 5]\n",
      "[-5 -4 -3 -2 -1] ***\t 0 1 revers_mat [5, 0, 0, 5]\n",
      "[1 2 3 4 5] ***\t 0 1 revers_mat [5, 5, 3, 4]\n",
      "[1 2 3 4 5] ***\t 0 1 revers_mat [4, 4, 3, 1]\n",
      "[1 2 3 4 5] ***\t 0 1 revers_mat [2, 2, 1, 2]\n",
      "[1 2 3 4 5] ***\t 0 1 revers_mat [1, 1, 5, 3]\n",
      "[1 2 3 4 5] ***\t 0 1 revers_mat [2, 2, 1, 3]\n",
      "[1 2 3 4 5] ***\t 0 1 revers_mat [4, 4, 2, 0]\n",
      "[-5 -4 -3 -2 -1] ***\t 0 1 revers_mat [5, 0, 0, 1]\n",
      "[1 2 3 4 5] ***\t 0 1 revers_mat [3, 3, 1, 3]\n",
      "[1 2 3 4 5] ***\t 0 1 revers_mat [3, 3, 2, 3]\n",
      "[1 2 3 4 5] ***\t 0 1 revers_mat [4, 4, 0, 5]\n",
      "[1 2 3 4 5] ***\t 0 1 revers_mat [0, 0, 4, 5]\n",
      "[1 2 3 4 5] ***\t 0 1 revers_mat [0, 0, 2, 2]\n",
      "[1 2 3 4 5] ***\t 0 1 revers_mat [0, 0, 3, 0]\n",
      "[-5 -4 -3 -2 -1] ***\t 0 1 revers_mat [0, 5, 2, 1]\n",
      "[1 2 3 4 5] ***\t 0 1 revers_mat [0, 0, 5, 4]\n",
      "[1 2 3 4 5] ***\t 0 1 revers_mat [3, 3, 0, 5]\n",
      "[1 2 3 4 5] ***\t 0 1 revers_mat [0, 0, 2, 4]\n",
      "[1 2 3 4 5] ***\t 0 1 revers_mat [3, 3, 1, 1]\n",
      "[1 2 3 4 5] ***\t 0 1 revers_mat [5, 5, 4, 5]\n",
      "[1 2 3 4 5] ***\t 0 1 revers_mat [3, 3, 3, 1]\n",
      "[1 2 3 4 5] ***\t 0 1 revers_mat [2, 2, 0, 4]\n",
      "[-5 -4 -3 -2 -1] ***\t 0 1 revers_mat [0, 5, 3, 1]\n",
      "[-5 -4 -3 -2 -1] ***\t 0 1 revers_mat [5, 0, 0, 0]\n",
      "[-5 -4 -3 -2 -1] ***\t 0 1 revers_mat [5, 0, 0, 1]\n",
      "[-5 -4 -3 -2 -1] ***\t 0 1 revers_mat [0, 5, 1, 1]\n",
      "[1 2 3 4 5] ***\t 0 1 revers_mat [2, 2, 3, 0]\n",
      "[1 2 3 4 5] ***\t 0 1 revers_mat [1, 1, 1, 4]\n",
      "[1 2 3 4 5] ***\t 0 1 revers_mat [5, 5, 2, 5]\n",
      "[1 2 3 4 5] ***\t 0 1 revers_mat [4, 4, 2, 2]\n",
      "[-5 -4 -3 -2 -1] ***\t 0 1 revers_mat [0, 5, 4, 3]\n",
      "[1 2 3 4 5] ***\t 0 1 revers_mat [5, 5, 2, 5]\n",
      "[1 2 3 4 5] ***\t 0 1 revers_mat [0, 0, 5, 0]\n",
      "[1 2 3 4 5] ***\t 0 1 revers_mat [4, 4, 0, 2]\n",
      "[-5 -4 -3 -2 -1] ***\t 0 1 revers_mat [0, 5, 0, 3]\n",
      "[1 2 3 4 5] ***\t 0 1 revers_mat [1, 1, 4, 0]\n",
      "[1 2 3 4 5] ***\t 0 1 revers_mat [3, 3, 4, 1]\n",
      "[-5 -4 -3 -2 -1] ***\t 0 1 revers_mat [5, 0, 3, 3]\n",
      "[1 2 3 4 5] ***\t 0 1 revers_mat [0, 0, 3, 2]\n",
      "[1 2 3 4 5] ***\t 0 1 revers_mat [3, 3, 3, 1]\n",
      "[-5 -4 -3 -2 -1] ***\t 0 1 revers_mat [5, 0, 4, 4]\n",
      "[1 2 3 4 5] ***\t 0 1 revers_mat [1, 1, 1, 0]\n",
      "[1 2 3 4 5] ***\t 0 1 revers_mat [0, 0, 4, 1]\n",
      "[1 2 3 4 5] ***\t 0 1 revers_mat [4, 4, 0, 5]\n",
      "[1 2 3 4 5] ***\t 0 1 revers_mat [5, 5, 2, 5]\n",
      "[1 2 3 4 5] ***\t 0 1 revers_mat [5, 5, 5, 0]\n",
      "[1 2 3 4 5] ***\t 0 1 revers_mat [5, 5, 3, 1]\n",
      "[1 2 3 4 5] ***\t 0 1 revers_mat [1, 1, 0, 1]\n",
      "[1 2 3 4 5] ***\t 0 1 revers_mat [1, 1, 3, 3]\n",
      "[-5 -4 -3 -2 -1] ***\t 0 1 revers_mat [0, 5, 5, 5]\n",
      "[1 2 3 4 5] ***\t 0 1 revers_mat [3, 3, 4, 2]\n",
      "[-5 -4 -3 -2 -1] ***\t 0 1 revers_mat [5, 0, 0, 4]\n",
      "[-5 -4 -3 -2 -1] ***\t 0 1 revers_mat [5, 0, 2, 0]\n",
      "[1 2 3 4 5] ***\t 0 1 revers_mat [0, 0, 1, 4]\n",
      "[1 2 3 4 5] ***\t 0 1 revers_mat [3, 3, 3, 1]\n",
      "[1 2 3 4 5] ***\t 0 1 revers_mat [3, 3, 2, 5]\n",
      "[1 2 3 4 5] ***\t 0 1 revers_mat [4, 4, 3, 5]\n",
      "[1 2 3 4 5] ***\t 0 1 revers_mat [3, 3, 2, 3]\n",
      "[1 2 3 4 5] ***\t 0 1 revers_mat [3, 3, 1, 1]\n",
      "[1 2 3 4 5] ***\t 0 1 revers_mat [2, 2, 3, 0]\n",
      "[1 2 3 4 5] ***\t 0 1 revers_mat [4, 4, 3, 1]\n",
      "[1 2 3 4 5] ***\t 0 1 revers_mat [4, 4, 2, 5]\n",
      "[1 2 3 4 5] ***\t 0 1 revers_mat [3, 3, 4, 1]\n",
      "[1 2 3 4 5] ***\t 0 1 revers_mat [3, 3, 4, 5]\n",
      "[1 2 3 4 5] ***\t 0 1 revers_mat [4, 4, 0, 0]\n",
      "[1 2 3 4 5] ***\t 0 1 revers_mat [1, 1, 2, 5]\n",
      "[-5 -4 -3 -2 -1] ***\t 0 1 revers_mat [0, 5, 5, 3]\n",
      "[1 2 3 4 5] ***\t 0 1 revers_mat [1, 1, 2, 2]\n",
      "[1 2 3 4 5] ***\t 0 1 revers_mat [4, 4, 4, 3]\n",
      "[1 2 3 4 5] ***\t 0 1 revers_mat [1, 1, 2, 4]\n",
      "[1 2 3 4 5] ***\t 0 1 revers_mat [5, 5, 1, 1]\n",
      "[-5 -4 -3 -2 -1] ***\t 0 1 revers_mat [5, 0, 2, 0]\n",
      "[1 2 3 4 5] ***\t 0 1 revers_mat [5, 5, 0, 2]\n",
      "[1 2 3 4 5] ***\t 0 1 revers_mat [0, 0, 5, 1]\n",
      "[1 2 3 4 5] ***\t 0 1 revers_mat [4, 4, 1, 5]\n",
      "[1 2 3 4 5] ***\t 0 1 revers_mat [5, 5, 1, 3]\n",
      "[1 2 3 4 5] ***\t 0 1 revers_mat [2, 2, 2, 4]\n",
      "[1 2 3 4 5] ***\t 0 1 revers_mat [0, 0, 2, 0]\n",
      "[1 2 3 4 5] ***\t 0 1 revers_mat [4, 4, 4, 1]\n",
      "[1 2 3 4 5] ***\t 0 1 revers_mat [3, 3, 4, 4]\n",
      "[1 2 3 4 5] ***\t 0 1 revers_mat [5, 5, 1, 4]\n",
      "[1 2 3 4 5] ***\t 0 1 revers_mat [1, 1, 4, 1]\n",
      "[1 2 3 4 5] ***\t 0 1 revers_mat [1, 1, 2, 1]\n",
      "[1 2 3 4 5] ***\t 0 1 revers_mat [1, 1, 2, 1]\n",
      "[1 2 3 4 5] ***\t 0 1 revers_mat [5, 5, 4, 0]\n",
      "[1 2 3 4 5] ***\t 0 1 revers_mat [2, 2, 2, 5]\n",
      "[-5 -4 -3 -2 -1] ***\t 0 1 revers_mat [5, 0, 0, 5]\n",
      "[-5 -4 -3 -2 -1] ***\t 0 1 revers_mat [5, 0, 1, 3]\n",
      "[-5 -4 -3 -2 -1] ***\t 0 1 revers_mat [0, 5, 0, 1]\n",
      "[1 2 3 4 5] ***\t 0 1 revers_mat [5, 5, 5, 1]\n",
      "[-5 -4 -3 -2 -1] ***\t 0 1 revers_mat [5, 0, 4, 2]\n",
      "[1 2 3 4 5] ***\t 0 1 revers_mat [3, 3, 2, 4]\n",
      "[1 2 3 4 5] ***\t 0 1 revers_mat [1, 1, 2, 3]\n",
      "[1 2 3 4 5] ***\t 0 1 revers_mat [2, 2, 3, 4]\n",
      "[1 2 3 4 5] ***\t 0 1 revers_mat [0, 0, 2, 2]\n",
      "[1 2 3 4 5] ***\t 0 1 revers_mat [2, 2, 0, 3]\n",
      "[-5 -4 -3 -2 -1] ***\t 0 1 revers_mat [5, 0, 4, 3]\n",
      "[-5 -4 -3 -2 -1] ***\t 0 1 revers_mat [0, 5, 1, 1]\n",
      "[1 2 3 4 5] ***\t 0 1 revers_mat [4, 4, 3, 2]\n",
      "[1 2 3 4 5] ***\t 0 1 revers_mat [3, 3, 0, 0]\n",
      "[1 2 3 4 5] ***\t 0 1 revers_mat [1, 1, 3, 5]\n",
      "[-5 -4 -3 -2 -1] ***\t 0 1 revers_mat [0, 5, 0, 1]\n",
      "[1 2 3 4 5] ***\t 0 1 revers_mat [5, 5, 4, 5]\n",
      "[-5 -4 -3 -2 -1] ***\t 0 1 revers_mat [5, 0, 3, 3]\n",
      "[1 2 3 4 5] ***\t 0 1 revers_mat [0, 0, 1, 2]\n",
      "[1 2 3 4 5] ***\t 0 1 revers_mat [5, 5, 2, 3]\n",
      "[-5 -4 -3 -2 -1] ***\t 0 1 revers_mat [0, 5, 1, 5]\n",
      "[1 2 3 4 5] ***\t 0 1 revers_mat [0, 0, 0, 4]\n",
      "[-5 -4 -3 -2 -1] ***\t 0 1 revers_mat [5, 0, 3, 1]\n",
      "[1 2 3 4 5] ***\t 0 1 revers_mat [3, 3, 4, 5]\n",
      "[1 2 3 4 5] ***\t 0 1 revers_mat [4, 4, 4, 1]\n",
      "[1 2 3 4 5] ***\t 0 1 revers_mat [1, 1, 5, 2]\n",
      "[1 2 3 4 5] ***\t 0 1 revers_mat [5, 5, 3, 4]\n",
      "[-5 -4 -3 -2 -1] ***\t 0 1 revers_mat [0, 5, 1, 2]\n",
      "[1 2 3 4 5] ***\t 0 1 revers_mat [5, 5, 0, 3]\n",
      "[-5 -4 -3 -2 -1] ***\t 0 1 revers_mat [0, 5, 5, 5]\n",
      "[1 2 3 4 5] ***\t 0 1 revers_mat [1, 1, 4, 2]\n",
      "[1 2 3 4 5] ***\t 0 1 revers_mat [5, 5, 5, 1]\n",
      "[1 2 3 4 5] ***\t 0 1 revers_mat [0, 0, 0, 1]\n",
      "[1 2 3 4 5] ***\t 0 1 revers_mat [0, 0, 5, 0]\n",
      "[1 2 3 4 5] ***\t 0 1 revers_mat [0, 0, 2, 1]\n",
      "[1 2 3 4 5] ***\t 0 1 revers_mat [2, 2, 4, 4]\n",
      "[1 2 3 4 5] ***\t 0 1 revers_mat [1, 1, 2, 0]\n",
      "[-5 -4 -3 -2 -1] ***\t 0 1 revers_mat [0, 5, 5, 5]\n",
      "[1 2 3 4 5] ***\t 0 1 revers_mat [5, 5, 3, 4]\n",
      "[1 2 3 4 5] ***\t 0 1 revers_mat [5, 5, 4, 3]\n",
      "[1 2 3 4 5] ***\t 0 1 revers_mat [0, 0, 3, 4]\n",
      "[1 2 3 4 5] ***\t 0 1 revers_mat [4, 4, 3, 2]\n",
      "[1 2 3 4 5] ***\t 0 1 revers_mat [1, 1, 4, 0]\n",
      "[1 2 3 4 5] ***\t 0 1 revers_mat [0, 0, 3, 5]\n",
      "[1 2 3 4 5] ***\t 0 1 revers_mat [3, 3, 1, 3]\n",
      "[1 2 3 4 5] ***\t 0 1 revers_mat [4, 4, 3, 0]\n",
      "[1 2 3 4 5] ***\t 0 1 revers_mat [5, 5, 1, 2]\n",
      "[1 2 3 4 5] ***\t 0 1 revers_mat [1, 1, 1, 5]\n",
      "[1 2 3 4 5] ***\t 0 1 revers_mat [3, 3, 2, 4]\n",
      "[-5 -4 -3 -2 -1] ***\t 0 1 revers_mat [5, 0, 1, 1]\n",
      "[1 2 3 4 5] ***\t 0 1 revers_mat [0, 0, 0, 1]\n",
      "[1 2 3 4 5] ***\t 0 1 revers_mat [0, 0, 1, 1]\n",
      "[1 2 3 4 5] ***\t 0 1 revers_mat [3, 3, 3, 3]\n",
      "[1 2 3 4 5] ***\t 0 1 revers_mat [1, 1, 4, 3]\n",
      "[1 2 3 4 5] ***\t 0 1 revers_mat [2, 2, 4, 4]\n",
      "[1 2 3 4 5] ***\t 0 1 revers_mat [1, 1, 3, 4]\n",
      "[1 2 3 4 5] ***\t 0 1 revers_mat [3, 3, 4, 0]\n",
      "[-5 -4 -3 -2 -1] ***\t 0 1 revers_mat [0, 5, 2, 5]\n",
      "[-5 -4 -3 -2 -1] ***\t 0 1 revers_mat [5, 0, 4, 4]\n",
      "[-5 -4 -3 -2 -1] ***\t 0 1 revers_mat [0, 5, 4, 5]\n",
      "[1 2 3 4 5] ***\t 0 1 revers_mat [4, 4, 1, 4]\n",
      "[1 2 3 4 5] ***\t 0 1 revers_mat [0, 0, 1, 1]\n",
      "[1 2 3 4 5] ***\t 0 1 revers_mat [4, 4, 5, 3]\n",
      "[1 2 3 4 5] ***\t 0 1 revers_mat [2, 2, 4, 1]\n",
      "[1 2 3 4 5] ***\t 0 1 revers_mat [0, 0, 5, 1]\n",
      "[1 2 3 4 5] ***\t 0 1 revers_mat [4, 4, 1, 1]\n",
      "[1 2 3 4 5] ***\t 0 1 revers_mat [2, 2, 3, 3]\n",
      "[1 2 3 4 5] ***\t 0 1 revers_mat [0, 0, 1, 2]\n",
      "[-5 -4 -3 -2 -1] ***\t 0 1 revers_mat [0, 5, 1, 3]\n",
      "[1 2 3 4 5] ***\t 0 1 revers_mat [4, 4, 3, 3]\n",
      "[1 2 3 4 5] ***\t 0 1 revers_mat [3, 3, 4, 0]\n",
      "[1 2 3 4 5] ***\t 0 1 revers_mat [2, 2, 3, 0]\n",
      "[-5 -4 -3 -2 -1] ***\t 0 1 revers_mat [0, 5, 2, 3]\n",
      "[-5 -4 -3 -2 -1] ***\t 0 1 revers_mat [5, 0, 1, 0]\n",
      "[-5 -4 -3 -2 -1] ***\t 0 1 revers_mat [5, 0, 2, 0]\n",
      "[1 2 3 4 5] ***\t 0 1 revers_mat [4, 4, 3, 4]\n",
      "[-5 -4 -3 -2 -1] ***\t 0 1 revers_mat [5, 0, 3, 1]\n",
      "[1 2 3 4 5] ***\t 0 1 revers_mat [1, 1, 0, 4]\n",
      "[1 2 3 4 5] ***\t 0 1 revers_mat [4, 4, 4, 1]\n",
      "[-5 -4 -3 -2 -1] ***\t 0 1 revers_mat [0, 5, 1, 5]\n",
      "[1 2 3 4 5] ***\t 0 1 revers_mat [2, 2, 4, 1]\n",
      "[-5 -4 -3 -2 -1] ***\t 0 1 revers_mat [0, 5, 2, 3]\n",
      "[1 2 3 4 5] ***\t 0 1 revers_mat [5, 5, 1, 3]\n",
      "[1 2 3 4 5] ***\t 0 1 revers_mat [3, 3, 3, 2]\n",
      "[1 2 3 4 5] ***\t 0 1 revers_mat [3, 3, 5, 5]\n",
      "[-5 -4 -3 -2 -1] ***\t 0 1 revers_mat [5, 0, 3, 1]\n",
      "[1 2 3 4 5] ***\t 0 1 revers_mat [3, 3, 4, 1]\n",
      "[1 2 3 4 5] ***\t 0 1 revers_mat [3, 3, 3, 5]\n",
      "[1 2 3 4 5] ***\t 0 1 revers_mat [5, 5, 4, 0]\n",
      "[1 2 3 4 5] ***\t 0 1 revers_mat [5, 5, 4, 1]\n",
      "[1 2 3 4 5] ***\t 0 1 revers_mat [3, 3, 4, 3]\n",
      "[-5 -4 -3 -2 -1] ***\t 0 1 revers_mat [5, 0, 3, 4]\n",
      "[-5 -4 -3 -2 -1] ***\t 0 1 revers_mat [5, 0, 1, 0]\n",
      "[-5 -4 -3 -2 -1] ***\t 0 1 revers_mat [0, 5, 5, 1]\n",
      "[1 2 3 4 5] ***\t 0 1 revers_mat [5, 5, 0, 0]\n",
      "[1 2 3 4 5] ***\t 0 1 revers_mat [3, 3, 5, 0]\n",
      "[1 2 3 4 5] ***\t 0 1 revers_mat [5, 5, 5, 4]\n",
      "[1 2 3 4 5] ***\t 0 1 revers_mat [5, 5, 3, 1]\n",
      "[-5 -4 -3 -2 -1] ***\t 0 1 revers_mat [5, 0, 5, 2]\n",
      "[-5 -4 -3 -2 -1] ***\t 0 1 revers_mat [0, 5, 1, 4]\n",
      "[1 2 3 4 5] ***\t 0 1 revers_mat [0, 0, 0, 2]\n",
      "[-5 -4 -3 -2 -1] ***\t 0 1 revers_mat [0, 5, 3, 2]\n",
      "[1 2 3 4 5] ***\t 0 1 revers_mat [5, 5, 0, 2]\n",
      "[1 2 3 4 5] ***\t 0 1 revers_mat [0, 0, 1, 2]\n",
      "[1 2 3 4 5] ***\t 0 1 revers_mat [0, 0, 2, 5]\n",
      "[-5 -4 -3 -2 -1] ***\t 0 1 revers_mat [0, 5, 5, 0]\n",
      "[-5 -4 -3 -2 -1] ***\t 0 1 revers_mat [0, 5, 4, 4]\n",
      "[1 2 3 4 5] ***\t 0 1 revers_mat [2, 2, 5, 4]\n",
      "[1 2 3 4 5] ***\t 0 1 revers_mat [4, 4, 1, 1]\n",
      "[1 2 3 4 5] ***\t 0 1 revers_mat [4, 4, 3, 2]\n"
     ]
    }
   ],
   "source": [
    "new_seq = trans_seq.cpu().numpy().astype(np.int32)\n",
    "for x, d, o, op_param in zip(new_seq, t_dist, rand_op, param_op):\n",
    "    if dcj_dist(oriseq, x[0])[-1] != d:\n",
    "        print(x[0], '***\\t', dcj_dist(oriseq, x[0])[-1], d, mat_op_list[o].__name__, op_param)\n",
    "    if x[0].tolist() in genome:\n",
    "        continue\n",
    "    genome.append(x[0].tolist())"
   ]
  },
  {
   "cell_type": "code",
   "execution_count": 39,
   "id": "35785fa4-5efe-4389-bd71-872f9185b232",
   "metadata": {},
   "outputs": [
    {
     "data": {
      "text/plain": [
       "[1, 2, 0, 0, 2, 0, 0, 0, 2, 1, 0, 0, 2, 1, 2, 1, 2, 2, 2, 1]"
      ]
     },
     "execution_count": 39,
     "metadata": {},
     "output_type": "execute_result"
    }
   ],
   "source": [
    "rand_op"
   ]
  },
  {
   "cell_type": "code",
   "execution_count": 61,
   "id": "19a1d008-16cd-4176-a1b2-ae0be0f15d7d",
   "metadata": {},
   "outputs": [
    {
     "data": {
      "text/plain": [
       "'trans_mat'"
      ]
     },
     "execution_count": 61,
     "metadata": {},
     "output_type": "execute_result"
    }
   ],
   "source": [
    "trans_mat.__name__"
   ]
  },
  {
   "cell_type": "code",
   "execution_count": 25,
   "id": "7d52ee6c-2fd3-4722-ba50-17485de03a31",
   "metadata": {},
   "outputs": [
    {
     "data": {
      "text/plain": [
       "(2, 2, 2)"
      ]
     },
     "execution_count": 25,
     "metadata": {},
     "output_type": "execute_result"
    }
   ],
   "source": [
    "dcj_dist([1,2,3,4,5], [-1, -3, -2,  4,  5])"
   ]
  },
  {
   "cell_type": "code",
   "execution_count": 33,
   "id": "98ee120b-11c3-46c7-a535-a4c5e51dcc5a",
   "metadata": {},
   "outputs": [
    {
     "data": {
      "text/plain": [
       "array([[[ 5,  3,  4,  1,  2]],\n",
       "\n",
       "       [[ 1,  3,  4,  2,  5]],\n",
       "\n",
       "       [[-3, -2, -1, -5, -4]],\n",
       "\n",
       "       [[-4, -3,  1,  2,  5]],\n",
       "\n",
       "       [[ 1,  3,  4,  2,  5]],\n",
       "\n",
       "       [[-4, -5,  1,  2,  3]],\n",
       "\n",
       "       [[ 1,  2,  3,  4,  5]],\n",
       "\n",
       "       [[ 1,  2,  3,  4,  5]],\n",
       "\n",
       "       [[ 1,  3,  4,  5, -2]],\n",
       "\n",
       "       [[ 1,  2, -5, -4, -3]],\n",
       "\n",
       "       [[ 1,  2,  3,  5,  4]],\n",
       "\n",
       "       [[ 1, -3, -2,  4,  5]],\n",
       "\n",
       "       [[-1,  2,  3,  4,  5]],\n",
       "\n",
       "       [[ 1,  2, -4, -3,  5]],\n",
       "\n",
       "       [[ 5, -3, -2, -1, -4]],\n",
       "\n",
       "       [[-4,  1,  2,  3,  5]],\n",
       "\n",
       "       [[ 1,  2,  3,  4,  5]],\n",
       "\n",
       "       [[ 1, -5, -4, -3, -2]],\n",
       "\n",
       "       [[ 3,  1,  2,  4,  5]],\n",
       "\n",
       "       [[ 1,  2,  3,  4,  5]]], dtype=int32)"
      ]
     },
     "execution_count": 33,
     "metadata": {},
     "output_type": "execute_result"
    }
   ],
   "source": [
    "new_seq"
   ]
  },
  {
   "cell_type": "code",
   "execution_count": 49,
   "id": "46028ead-6267-4ed3-bfc7-3d56b8796e22",
   "metadata": {},
   "outputs": [
    {
     "data": {
      "text/plain": [
       "array([[ 0,  0, -1,  0,  0],\n",
       "       [ 0, -1,  0,  0,  0],\n",
       "       [-1,  0,  0,  0,  0],\n",
       "       [ 0,  0,  0,  1,  0],\n",
       "       [ 0,  0,  0,  0,  1]])"
      ]
     },
     "execution_count": 49,
     "metadata": {},
     "output_type": "execute_result"
    }
   ],
   "source": [
    "trans_rev(5, 0,3,0,3)"
   ]
  },
  {
   "cell_type": "code",
   "execution_count": 51,
   "id": "b9d19067-c8a1-476f-8b60-16aaf90b6d12",
   "metadata": {},
   "outputs": [
    {
     "data": {
      "text/plain": [
       "array([[1, 0, 0, 0, 0],\n",
       "       [0, 1, 0, 0, 0],\n",
       "       [0, 0, 1, 0, 0],\n",
       "       [0, 0, 0, 1, 0],\n",
       "       [0, 0, 0, 0, 1]])"
      ]
     },
     "execution_count": 51,
     "metadata": {},
     "output_type": "execute_result"
    }
   ],
   "source": [
    "revers_mat(5, 3,3,2,4)"
   ]
  },
  {
   "cell_type": "code",
   "execution_count": 54,
   "id": "48c46748-350e-421c-af21-ad0990e64b35",
   "metadata": {},
   "outputs": [
    {
     "data": {
      "text/plain": [
       "array([[1, 0, 0, 0, 0],\n",
       "       [0, 1, 0, 0, 0],\n",
       "       [0, 0, 1, 0, 0],\n",
       "       [0, 0, 0, 1, 0],\n",
       "       [0, 0, 0, 0, 1]])"
      ]
     },
     "execution_count": 54,
     "metadata": {},
     "output_type": "execute_result"
    }
   ],
   "source": [
    "trans_mat(5, 2,2,4,4)"
   ]
  },
  {
   "cell_type": "code",
   "execution_count": 55,
   "id": "975486ad-f5a2-4586-9cf8-7c4275943458",
   "metadata": {},
   "outputs": [
    {
     "data": {
      "text/plain": [
       "array([[1, 0, 0, 0, 0],\n",
       "       [0, 1, 0, 0, 0],\n",
       "       [0, 0, 1, 0, 0],\n",
       "       [0, 0, 0, 1, 0],\n",
       "       [0, 0, 0, 0, 1]])"
      ]
     },
     "execution_count": 55,
     "metadata": {},
     "output_type": "execute_result"
    }
   ],
   "source": [
    "trans_rev(5, 3,3,0,3)"
   ]
  },
  {
   "cell_type": "code",
   "execution_count": 56,
   "id": "d263dda1-154b-47d1-85c6-f72011469ab2",
   "metadata": {},
   "outputs": [
    {
     "name": "stdout",
     "output_type": "stream",
     "text": [
      "1 4 6\n",
      "2 5 7\n",
      "3 6 8\n"
     ]
    }
   ],
   "source": [
    "a=[1,2,3]\n",
    "b=[4,5,6]\n",
    "c=[6,7,8]\n",
    "for x,y,z in zip(a,b,c):\n",
    "    print(x,y,z)"
   ]
  },
  {
   "cell_type": "code",
   "execution_count": null,
   "id": "84f82530-bdf4-4aba-b5f7-7f4aa4f3fd32",
   "metadata": {},
   "outputs": [],
   "source": []
  }
 ],
 "metadata": {
  "kernelspec": {
   "display_name": "Deep AI",
   "language": "python",
   "name": "dl"
  },
  "language_info": {
   "codemirror_mode": {
    "name": "ipython",
    "version": 3
   },
   "file_extension": ".py",
   "mimetype": "text/x-python",
   "name": "python",
   "nbconvert_exporter": "python",
   "pygments_lexer": "ipython3",
   "version": "3.7.11"
  }
 },
 "nbformat": 4,
 "nbformat_minor": 5
}
