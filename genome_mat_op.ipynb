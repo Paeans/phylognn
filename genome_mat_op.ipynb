{
 "cells": [
  {
   "cell_type": "code",
   "execution_count": 1,
   "id": "14417829-5aa6-4807-8749-79a80f089ade",
   "metadata": {},
   "outputs": [],
   "source": [
    "import numpy as np\n",
    "import random\n",
    "\n",
    "import math\n",
    "import time"
   ]
  },
  {
   "cell_type": "code",
   "execution_count": 2,
   "id": "ad749b2f-3810-448d-912f-fd16371c6164",
   "metadata": {},
   "outputs": [],
   "source": [
    "import torch as th"
   ]
  },
  {
   "cell_type": "code",
   "execution_count": 3,
   "id": "7c38e9d7-e270-4aa6-977d-42be81dacc27",
   "metadata": {},
   "outputs": [],
   "source": [
    "device = th.device('cuda')"
   ]
  },
  {
   "cell_type": "code",
   "execution_count": 4,
   "id": "ee8bc704-198b-4574-87c2-b4e23a53393a",
   "metadata": {},
   "outputs": [],
   "source": [
    "from gene_mat import revers_mat, trans_rev, trans_mat"
   ]
  },
  {
   "cell_type": "code",
   "execution_count": 5,
   "id": "c33d6956-0ecb-4c7c-bdd9-551814471c32",
   "metadata": {},
   "outputs": [],
   "source": [
    "from dcj_comp import dcj_dist"
   ]
  },
  {
   "cell_type": "code",
   "execution_count": 6,
   "id": "704bfa3e-ed5c-4a5f-aabe-250f30600722",
   "metadata": {
    "tags": []
   },
   "outputs": [],
   "source": [
    "from gene_mat import gen_data_file, gen_dataset"
   ]
  },
  {
   "cell_type": "code",
   "execution_count": null,
   "id": "d677fe56-e360-44a9-9d12-085d92d944a7",
   "metadata": {
    "jupyter": {
     "source_hidden": true
    },
    "tags": []
   },
   "outputs": [],
   "source": [
    "n = 200\n",
    "tmp = np.array([range(1,n + 1)])\n",
    "mat_list = []\n",
    "for _ in range(20):\n",
    "    p1,p2,p3,p4 = [random.randint(0,n) for _ in range(4)]\n",
    "    mat_list.append(trans_rev(n, p1, p2, p3, p4))\n",
    "tmp_tensor = th.tensor(tmp, dtype = th.float, device = device)\n",
    "mat_tensor = th.tensor(np.array(mat_list), dtype = th.float, device = device)\n",
    "test = th.matmul(tmp_tensor, mat_tensor)"
   ]
  },
  {
   "cell_type": "code",
   "execution_count": null,
   "id": "ddfe4277-83f5-4ba6-9530-233122f3efdb",
   "metadata": {
    "jupyter": {
     "source_hidden": true
    },
    "tags": []
   },
   "outputs": [],
   "source": [
    "n = 10\n",
    "print(time.ctime())\n",
    "test = th.tensor(np.diag(np.repeat(1,n)), \n",
    "                 dtype = th.float, device = device)\n",
    "mat_op_list = [trans_rev, trans_mat, revers_mat]\n",
    "\n",
    "print(time.ctime())\n",
    "for _ in range(10):    \n",
    "    op_list = np.array([mat_op_list[random.randint(0,2)](\n",
    "    n, *[random.randint(0,n) for _ in range(4)]) \n",
    "           for _ in range(20)])\n",
    "    mat_tensor = th.tensor(op_list, dtype = th.float, device = device)\n",
    "    test = th.matmul(test, mat_tensor)\n",
    "#     print(test[0])\n",
    "#     print(mat_tensor[0])\n",
    "#     mat_tensor = mat_tensor[th.randperm(mat_tensor.shape[0])]\n",
    "print(time.ctime())"
   ]
  },
  {
   "cell_type": "code",
   "execution_count": null,
   "id": "698c2466-c13a-41c5-869f-f7094d028de9",
   "metadata": {
    "jupyter": {
     "source_hidden": true
    },
    "tags": []
   },
   "outputs": [],
   "source": [
    "# p1,p2,p3,p4 = [random.randint(0,n) for _ in range(4)]\n",
    "# for _ in range(2000):\n",
    "#     op_type = random.randint(0,2)\n",
    "#     if op_type == 0:\n",
    "#         op_mat = trans_rev(n, p1, p2, p3, p4)\n",
    "#     elif op_type == 1:\n",
    "#         op_mat = trans_mat(n, p1, p2, p3, p4)\n",
    "#     else:\n",
    "#         op_mat = revers_mat(n, p1, p2)\n",
    "#     op_list.append(op_mat)"
   ]
  },
  {
   "cell_type": "markdown",
   "id": "9ac78174-5033-4fcf-bbc1-f2d48c56b18b",
   "metadata": {
    "tags": []
   },
   "source": [
    "---"
   ]
  },
  {
   "cell_type": "code",
   "execution_count": null,
   "id": "8020a526-4a7a-4998-9cf8-1cd62c08f55c",
   "metadata": {
    "jupyter": {
     "source_hidden": true
    },
    "tags": []
   },
   "outputs": [],
   "source": [
    "n, vol = 50, 2000\n",
    "gene = th.tensor(np.arange(1, n+1).reshape((1,n)), dtype = th.float, device = device)\n",
    "oriseq = gene.cpu().numpy().astype(np.int32).reshape(n,).tolist()\n",
    "\n",
    "genome = []\n",
    "genome.append(oriseq)\n",
    "\n",
    "t_dist = [0 for _ in range(vol)]"
   ]
  },
  {
   "cell_type": "code",
   "execution_count": null,
   "id": "911a757d-d363-4202-a1d9-f0f3956cbb72",
   "metadata": {
    "jupyter": {
     "source_hidden": true
    },
    "tags": []
   },
   "outputs": [],
   "source": [
    "test = th.tensor(np.diag(np.repeat(1,n)), \n",
    "                 dtype = th.float, device = device)\n",
    "mat_op_list = [trans_rev, trans_mat, revers_mat]\n",
    "rand_op = [1 for _ in range(vol)] #[random.randint(0,2) for _ in range(vol)]\n",
    "param_op = [rand_param(n, op_type) for op_type in rand_op] #[[random.randint(0,n) for _ in range(4)] for _ in range(vol)]\n",
    "t_dist = np.add(t_dist, [1 if x == 2 else 2 for x in rand_op])\n",
    "\n",
    "# op_list = np.array([mat_op_list[random.randint(0,2)](\n",
    "# n, *[random.randint(0,n) for _ in range(4)]) \n",
    "#        for _ in range(20)])\n",
    "op_list = np.array([mat_op_list[op](n, *param) \n",
    "       for op, param in zip(rand_op, param_op)])\n",
    "\n",
    "\n",
    "mat_tensor = th.tensor(op_list, dtype = th.float, device = device)\n",
    "test = th.matmul(test, mat_tensor)\n",
    "trans_seq = th.matmul(gene, test)"
   ]
  },
  {
   "cell_type": "code",
   "execution_count": null,
   "id": "fce23b49-e63b-4c53-893a-01c8cec3d138",
   "metadata": {
    "jupyter": {
     "source_hidden": true
    },
    "tags": []
   },
   "outputs": [],
   "source": [
    "new_seq = trans_seq.cpu().numpy().astype(np.int32)\n",
    "for x, d, o, op_param in zip(new_seq, t_dist, rand_op, param_op):\n",
    "    if dcj_dist(oriseq, x[0])[-1] != d:\n",
    "        print(x[0], '***\\t', dcj_dist(oriseq, x[0])[-1], d, mat_op_list[o].__name__, op_param)\n",
    "    if x[0].tolist() in genome:\n",
    "        continue\n",
    "    genome.append(x[0].tolist())"
   ]
  },
  {
   "cell_type": "code",
   "execution_count": null,
   "id": "84f82530-bdf4-4aba-b5f7-7f4aa4f3fd32",
   "metadata": {
    "jupyter": {
     "source_hidden": true
    },
    "tags": []
   },
   "outputs": [],
   "source": [
    "def generate_seq_pos(gene):\n",
    "    if len(gene) == 1:\n",
    "        return [[gene[0]]]\n",
    "    res = []\n",
    "    for i in range(len(gene)):\n",
    "        g = gene[i]\n",
    "        rest = gene[0:i] + gene[i+1:]\n",
    "        tmp = generate_seq_pos(rest)\n",
    "        res += [[g] + x for x in tmp] #+ [[-g] + x for x in tmp]\n",
    "    return res"
   ]
  },
  {
   "cell_type": "code",
   "execution_count": null,
   "id": "ac9bbf1a-67de-465b-8581-0342772b7de6",
   "metadata": {
    "jupyter": {
     "source_hidden": true
    },
    "tags": []
   },
   "outputs": [],
   "source": [
    "genome = []"
   ]
  },
  {
   "cell_type": "code",
   "execution_count": null,
   "id": "7b36e9eb-1363-4097-99bc-b2628e1a9477",
   "metadata": {
    "jupyter": {
     "source_hidden": true
    },
    "tags": []
   },
   "outputs": [],
   "source": [
    "n, vol = 100, 20000\n",
    "gene = th.tensor(np.arange(1, n+1).reshape((1,n)), dtype = th.float, device = device)\n",
    "oriseq = gene.cpu().numpy().astype(np.int32).reshape(n,).tolist()\n",
    "genome.append(oriseq)\n",
    "\n",
    "t_dist = [0 for _ in range(vol)]\n",
    "\n",
    "test = th.tensor(np.diag(np.repeat(1,n)), \n",
    "                 dtype = th.float, device = device)"
   ]
  },
  {
   "cell_type": "code",
   "execution_count": null,
   "id": "ee51621f-84fd-48ba-a0aa-f17af4dd281d",
   "metadata": {
    "jupyter": {
     "source_hidden": true
    },
    "tags": []
   },
   "outputs": [],
   "source": [
    "for _ in range(10):\n",
    "    mat_op_list = [trans_rev, trans_mat, revers_mat]\n",
    "    rand_op = [random.randint(0,2) for _ in range(vol)]\n",
    "    param_op = [rand_param(n, op_type) for op_type in rand_op] #[[random.randint(0,n) for _ in range(4)] for _ in range(vol)]\n",
    "    t_dist = np.add(t_dist, [1 if x == 2 else 2 for x in rand_op])\n",
    "\n",
    "    op_list = np.array([mat_op_list[op](n, *param) \n",
    "           for op, param in zip(rand_op, param_op)])\n",
    "\n",
    "\n",
    "    mat_tensor = th.tensor(op_list, dtype = th.float, device = device)\n",
    "    test = th.matmul(test, mat_tensor)\n",
    "    trans_seq = th.matmul(gene, test)\n",
    "    new_seq = trans_seq.cpu().numpy().astype(np.int32)\n",
    "\n",
    "    # tmp = np.unique(new_seq, axis=0).reshape((-1,n))\n",
    "    # tmp.shape\n",
    "    count = 0\n",
    "    tmp = []\n",
    "    for x, d, o, op_param in zip(new_seq, t_dist, rand_op, param_op):\n",
    "        if dcj_dist(oriseq, x[0])[-1] != d:\n",
    "    #         print(x[0], '***\\t', dcj_dist(oriseq, x[0])[-1], d, mat_op_list[o].__name__, op_param)\n",
    "            count += 1\n",
    "            continue\n",
    "        tmp.append(x[0])\n",
    "\n",
    "    tmp = np.unique(tmp, axis = 0)\n",
    "    if len(tmp) != 0:\n",
    "        genome += tmp.tolist()\n",
    "#     print(count)\n",
    "\n",
    "    genome = np.unique(genome, axis = 0).tolist()"
   ]
  },
  {
   "cell_type": "code",
   "execution_count": 14,
   "id": "d94362da-b0b2-482c-a92a-451ff4ab4f44",
   "metadata": {},
   "outputs": [],
   "source": [
    "gen_data_file(10, 1000, 5, 'data/data_10.mat')"
   ]
  },
  {
   "cell_type": "code",
   "execution_count": 11,
   "id": "01661697-75bd-4b62-8f5f-1f2a6ab08752",
   "metadata": {},
   "outputs": [],
   "source": [
    "gen_data_file(50, 1000, 20, 'data/data_50.mat')"
   ]
  },
  {
   "cell_type": "code",
   "execution_count": 12,
   "id": "69b41af6-cc32-4129-a86d-a07e4e648c68",
   "metadata": {},
   "outputs": [],
   "source": [
    "gen_data_file(100, 1000, 40, 'data/data_100.mat')"
   ]
  },
  {
   "cell_type": "code",
   "execution_count": 13,
   "id": "95e53951-6b8e-4b4a-b0a2-5294388e0675",
   "metadata": {},
   "outputs": [],
   "source": [
    "gen_data_file(500, 1000, 200, 'data/data_500.mat')"
   ]
  },
  {
   "cell_type": "code",
   "execution_count": null,
   "id": "7265ee48-c534-4f6b-8067-bea4165f1630",
   "metadata": {},
   "outputs": [],
   "source": []
  },
  {
   "cell_type": "code",
   "execution_count": 10,
   "id": "bbce0c9c-1f00-42f1-9bae-11aff4c2d244",
   "metadata": {},
   "outputs": [],
   "source": [
    "# gen_data_file(2000, 1, 800, 'data_2000.mat')"
   ]
  },
  {
   "cell_type": "code",
   "execution_count": null,
   "id": "69663ceb-fbba-4bb0-8cd8-66d2a79a3d07",
   "metadata": {},
   "outputs": [],
   "source": []
  },
  {
   "cell_type": "code",
   "execution_count": 1,
   "id": "86849c15-b60c-41dd-aaf0-2d5c59532cc1",
   "metadata": {},
   "outputs": [],
   "source": [
    "import torch as th\n",
    "from torch.nn import Linear as linear"
   ]
  },
  {
   "cell_type": "code",
   "execution_count": 2,
   "id": "9c1ad14e-f62b-4bd4-b463-050b7b37acf7",
   "metadata": {},
   "outputs": [],
   "source": [
    "from torch.nn import Module\n",
    "from gene_mat import gen_op_mat"
   ]
  },
  {
   "cell_type": "code",
   "execution_count": 3,
   "id": "41b75ede-f98a-48cf-a6c1-5c3c03541530",
   "metadata": {},
   "outputs": [],
   "source": [
    "class trans_linear(linear):\n",
    "    def __init__(self, l: int,\n",
    "                 device=None, dtype=None) -> None:\n",
    "        super(trans_linear, self).__init__(in_features = l, \n",
    "                                           out_features = l, \n",
    "                                           bias = False, \n",
    "                                           device = device, \n",
    "                                           dtype = dtype)\n",
    "        self.weight = th.nn.Parameter(th.tensor(gen_op_mat(l, 1)[0][0], \n",
    "                                                dtype = th.float, device = device))"
   ]
  },
  {
   "cell_type": "code",
   "execution_count": 4,
   "id": "bd6a5a42-c904-439b-86a9-ff1b35204379",
   "metadata": {},
   "outputs": [],
   "source": [
    "def t_l(x, step):\n",
    "    for _ in range(step):\n",
    "        x = trans_linear(x.shape[-1], device = 'cuda')(x)\n",
    "    return x"
   ]
  },
  {
   "cell_type": "code",
   "execution_count": 5,
   "id": "7b07faea-9b83-4fe0-83d0-b3727360f340",
   "metadata": {},
   "outputs": [],
   "source": [
    "l,n,step = 1000, 500, 500\n",
    "x = th.zeros(n, l, dtype = th.float, device = 'cuda')\n",
    "for i in range(x.shape[0]):\n",
    "    x[i] = th.randperm(l) + 1"
   ]
  },
  {
   "cell_type": "code",
   "execution_count": 6,
   "id": "d835d43c-c6b0-401c-b89a-88a49d2fb690",
   "metadata": {},
   "outputs": [
    {
     "data": {
      "text/plain": [
       "tensor([[966., 281., 611.,  ...,  47., 535., 151.],\n",
       "        [ 56., 307., 399.,  ..., 488., 552., 266.],\n",
       "        [929., 363., 502.,  ..., 157., 331., 193.],\n",
       "        ...,\n",
       "        [532., 962., 764.,  ..., 757., 839.,   9.],\n",
       "        [854., 768., 730.,  ..., 106., 740., 591.],\n",
       "        [133., 536., 271.,  ..., 414., 469., 522.]], device='cuda:0')"
      ]
     },
     "execution_count": 6,
     "metadata": {},
     "output_type": "execute_result"
    }
   ],
   "source": [
    "x"
   ]
  },
  {
   "cell_type": "code",
   "execution_count": 7,
   "id": "fd0a578d-28e1-462b-a45a-fbf8e15b9376",
   "metadata": {},
   "outputs": [
    {
     "data": {
      "text/plain": [
       "tensor([[ 877.,  710.,  973.,  ...,  622.,  356., -507.],\n",
       "        [ 495.,  473.,  761.,  ...,  254.,  576., -726.],\n",
       "        [ 313.,  795.,  778.,  ...,  172.,  899., -901.],\n",
       "        ...,\n",
       "        [ 624.,  645.,  403.,  ...,  796.,  287., -465.],\n",
       "        [ 149.,   33.,  954.,  ...,  630.,   20., -686.],\n",
       "        [ 142.,  498., 1000.,  ...,  754.,  589., -823.]], device='cuda:0',\n",
       "       grad_fn=<MmBackward0>)"
      ]
     },
     "execution_count": 7,
     "metadata": {},
     "output_type": "execute_result"
    }
   ],
   "source": [
    "t_l(x, step)"
   ]
  },
  {
   "cell_type": "code",
   "execution_count": null,
   "id": "0d132738-bf74-4748-ae88-9f48fe3c7bfa",
   "metadata": {},
   "outputs": [],
   "source": []
  }
 ],
 "metadata": {
  "kernelspec": {
   "display_name": "Deep AI",
   "language": "python",
   "name": "dl"
  },
  "language_info": {
   "codemirror_mode": {
    "name": "ipython",
    "version": 3
   },
   "file_extension": ".py",
   "mimetype": "text/x-python",
   "name": "python",
   "nbconvert_exporter": "python",
   "pygments_lexer": "ipython3",
   "version": "3.7.11"
  }
 },
 "nbformat": 4,
 "nbformat_minor": 5
}
