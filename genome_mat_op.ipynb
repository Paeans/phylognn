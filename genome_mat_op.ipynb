{
 "cells": [
  {
   "cell_type": "code",
   "execution_count": 1,
   "id": "14417829-5aa6-4807-8749-79a80f089ade",
   "metadata": {},
   "outputs": [],
   "source": [
    "import numpy as np\n",
    "import random\n",
    "\n",
    "import math\n",
    "import time"
   ]
  },
  {
   "cell_type": "code",
   "execution_count": 2,
   "id": "ad749b2f-3810-448d-912f-fd16371c6164",
   "metadata": {},
   "outputs": [],
   "source": [
    "import torch as th"
   ]
  },
  {
   "cell_type": "code",
   "execution_count": 3,
   "id": "7c38e9d7-e270-4aa6-977d-42be81dacc27",
   "metadata": {},
   "outputs": [],
   "source": [
    "device = th.device('cuda')"
   ]
  },
  {
   "cell_type": "code",
   "execution_count": 4,
   "id": "ee8bc704-198b-4574-87c2-b4e23a53393a",
   "metadata": {},
   "outputs": [],
   "source": [
    "from gene_mat import revers_mat, trans_rev, trans_mat"
   ]
  },
  {
   "cell_type": "code",
   "execution_count": 5,
   "id": "d677fe56-e360-44a9-9d12-085d92d944a7",
   "metadata": {},
   "outputs": [],
   "source": [
    "n = 200\n",
    "tmp = np.array([range(1,n + 1)])\n",
    "mat_list = []\n",
    "for _ in range(20):\n",
    "    p1,p2,p3,p4 = [random.randint(0,n) for _ in range(4)]\n",
    "    mat_list.append(trans_rev(n, p1, p2, p3, p4))\n",
    "tmp_tensor = th.tensor(tmp, dtype = th.float, device = device)\n",
    "mat_tensor = th.tensor(np.array(mat_list), dtype = th.float, device = device)\n",
    "test = th.matmul(tmp_tensor, mat_tensor)"
   ]
  },
  {
   "cell_type": "code",
   "execution_count": 6,
   "id": "2430d2b1-0a44-4771-8cf7-f0cf62ee05b2",
   "metadata": {},
   "outputs": [
    {
     "data": {
      "text/plain": [
       "(120, 3, 97, 39)"
      ]
     },
     "execution_count": 6,
     "metadata": {},
     "output_type": "execute_result"
    }
   ],
   "source": [
    "p1,p2,p3,p4"
   ]
  },
  {
   "cell_type": "code",
   "execution_count": 7,
   "id": "8e04305a-08ca-4fcb-807d-4411edf4f6a6",
   "metadata": {},
   "outputs": [],
   "source": [
    "# n = 6\n",
    "# count = 2**n*math.factorial(n)\n",
    "# for _ in range(10):\n",
    "#     num = []\n",
    "#     genes_5 = []\n",
    "#     g_5 = [list(range(1, n + 1))]\n",
    "#     test = th.tensor(g_5, dtype = th.float, device = device)\n",
    "#     num.append((1,-1))\n",
    "#     genes_5.append(g_5)\n",
    "    \n",
    "#     mat_op_list = [trans_rev, trans_mat, revers_mat]\n",
    "#     for i in range(1000):\n",
    "#         op_list = [mat_op_list[random.randint(0,2)](\n",
    "#     n, *[random.randint(0,n) for _ in range(4)]) \n",
    "#            for _ in range(200)]\n",
    "        \n",
    "#         mat_tensor = th.tensor(op_list, dtype = th.float, device = device)\n",
    "#         test = th.matmul(test, mat_tensor)\n",
    "        \n",
    "#         g_res = test.cpu().numpy().astype(dtype=np.int32).tolist()\n",
    "#         for g_5 in g_res:\n",
    "#             if g_5 not in genes_5:\n",
    "#                 genes_5.append(g_5)\n",
    "#         l = len(genes_5)\n",
    "#         if l > num[-1][0]:\n",
    "#             num.append((l, i))\n",
    "#             if l%100 == 0 or i % 1000 == 0: \n",
    "#                 print(time.ctime(), num[-1])\n",
    "#         if l >= count:\n",
    "#             break\n",
    "#     print(time.ctime(), num[-1])"
   ]
  },
  {
   "cell_type": "code",
   "execution_count": 8,
   "id": "ddfe4277-83f5-4ba6-9530-233122f3efdb",
   "metadata": {},
   "outputs": [
    {
     "name": "stdout",
     "output_type": "stream",
     "text": [
      "Wed Nov  3 14:57:48 2021\n",
      "Wed Nov  3 14:57:48 2021\n",
      "Wed Nov  3 14:57:48 2021\n"
     ]
    }
   ],
   "source": [
    "n = 10\n",
    "print(time.ctime())\n",
    "test = th.tensor(np.diag(np.repeat(1,n)), \n",
    "                 dtype = th.float, device = device)\n",
    "mat_op_list = [trans_rev, trans_mat, revers_mat]\n",
    "\n",
    "print(time.ctime())\n",
    "for _ in range(10):    \n",
    "    op_list = np.array([mat_op_list[random.randint(0,2)](\n",
    "    n, *[random.randint(0,n) for _ in range(4)]) \n",
    "           for _ in range(20)])\n",
    "    mat_tensor = th.tensor(op_list, dtype = th.float, device = device)\n",
    "    test = th.matmul(test, mat_tensor)\n",
    "#     print(test[0])\n",
    "#     print(mat_tensor[0])\n",
    "#     mat_tensor = mat_tensor[th.randperm(mat_tensor.shape[0])]\n",
    "print(time.ctime())"
   ]
  },
  {
   "cell_type": "code",
   "execution_count": 9,
   "id": "651b794b-8955-433a-b912-517e2e36c4f5",
   "metadata": {},
   "outputs": [
    {
     "data": {
      "text/plain": [
       "tensor([[1., 0., 0., 0., 0., 0., 0., 0., 0., 0.],\n",
       "        [0., 1., 0., 0., 0., 0., 0., 0., 0., 0.],\n",
       "        [0., 0., 1., 0., 0., 0., 0., 0., 0., 0.],\n",
       "        [0., 0., 0., 1., 0., 0., 0., 0., 0., 0.],\n",
       "        [0., 0., 0., 0., 1., 0., 0., 0., 0., 0.],\n",
       "        [0., 0., 0., 0., 0., 1., 0., 0., 0., 0.],\n",
       "        [0., 0., 0., 0., 0., 0., 1., 0., 0., 0.],\n",
       "        [0., 0., 0., 0., 0., 0., 0., 1., 0., 0.],\n",
       "        [0., 0., 0., 0., 0., 0., 0., 0., 1., 0.],\n",
       "        [0., 0., 0., 0., 0., 0., 0., 0., 0., 1.]], device='cuda:0')"
      ]
     },
     "execution_count": 9,
     "metadata": {},
     "output_type": "execute_result"
    }
   ],
   "source": [
    "th.matmul(test[0], test[0].T)"
   ]
  },
  {
   "cell_type": "code",
   "execution_count": 10,
   "id": "5045f487-efd2-49a0-9608-5f7b7c5796d8",
   "metadata": {},
   "outputs": [
    {
     "data": {
      "text/plain": [
       "tensor([[ 0.,  0.,  1.,  0.,  0.,  0.,  0.,  0.,  0.,  0.],\n",
       "        [ 0.,  0.,  0.,  0.,  0.,  0.,  0.,  1.,  0.,  0.],\n",
       "        [ 0.,  0.,  0.,  0.,  0.,  0.,  0.,  0.,  1.,  0.],\n",
       "        [ 0.,  0.,  0.,  0.,  0.,  1.,  0.,  0.,  0.,  0.],\n",
       "        [ 0.,  0.,  0.,  0.,  0.,  0., -1.,  0.,  0.,  0.],\n",
       "        [ 0.,  0.,  0.,  0.,  0.,  0.,  0.,  0.,  0., -1.],\n",
       "        [ 0.,  1.,  0.,  0.,  0.,  0.,  0.,  0.,  0.,  0.],\n",
       "        [ 0.,  0.,  0.,  0., -1.,  0.,  0.,  0.,  0.,  0.],\n",
       "        [ 1.,  0.,  0.,  0.,  0.,  0.,  0.,  0.,  0.,  0.],\n",
       "        [ 0.,  0.,  0.,  1.,  0.,  0.,  0.,  0.,  0.,  0.]], device='cuda:0')"
      ]
     },
     "execution_count": 10,
     "metadata": {},
     "output_type": "execute_result"
    }
   ],
   "source": [
    "test[0]"
   ]
  },
  {
   "cell_type": "code",
   "execution_count": 11,
   "id": "ac550597-5e81-4305-b800-d36f4a79f246",
   "metadata": {},
   "outputs": [
    {
     "data": {
      "text/plain": [
       "tensor([[ 0.,  0.,  0.,  0.,  0.,  0.,  0.,  0.,  1.,  0.],\n",
       "        [ 0.,  0.,  0.,  0.,  0.,  0.,  1.,  0.,  0.,  0.],\n",
       "        [ 1.,  0.,  0.,  0.,  0.,  0.,  0.,  0.,  0.,  0.],\n",
       "        [ 0.,  0.,  0.,  0.,  0.,  0.,  0.,  0.,  0.,  1.],\n",
       "        [ 0.,  0.,  0.,  0.,  0.,  0.,  0., -1.,  0.,  0.],\n",
       "        [ 0.,  0.,  0.,  1.,  0.,  0.,  0.,  0.,  0.,  0.],\n",
       "        [ 0.,  0.,  0.,  0., -1.,  0.,  0.,  0.,  0.,  0.],\n",
       "        [ 0.,  1.,  0.,  0.,  0.,  0.,  0.,  0.,  0.,  0.],\n",
       "        [ 0.,  0.,  1.,  0.,  0.,  0.,  0.,  0.,  0.,  0.],\n",
       "        [ 0.,  0.,  0.,  0.,  0., -1.,  0.,  0.,  0.,  0.]], device='cuda:0')"
      ]
     },
     "execution_count": 11,
     "metadata": {},
     "output_type": "execute_result"
    }
   ],
   "source": [
    "test[0].T"
   ]
  },
  {
   "cell_type": "code",
   "execution_count": 12,
   "id": "91f91163-c970-46b1-9d98-257b58a9b313",
   "metadata": {},
   "outputs": [],
   "source": [
    "gene = th.tensor(np.arange(1, 11).reshape((1,10)), dtype = th.float, device = device)"
   ]
  },
  {
   "cell_type": "code",
   "execution_count": 13,
   "id": "c8cd747d-41c8-4e1e-9043-28a79ad82c5f",
   "metadata": {},
   "outputs": [
    {
     "data": {
      "text/plain": [
       "tensor([[ 1.,  2.,  3.,  4.,  5.,  6.,  7.,  8.,  9., 10.]], device='cuda:0')"
      ]
     },
     "execution_count": 13,
     "metadata": {},
     "output_type": "execute_result"
    }
   ],
   "source": [
    "gene"
   ]
  },
  {
   "cell_type": "code",
   "execution_count": 14,
   "id": "ba9b5987-5ae1-4242-8806-1444e70984c5",
   "metadata": {},
   "outputs": [],
   "source": [
    "t1 = th.matmul(gene, test[0])"
   ]
  },
  {
   "cell_type": "code",
   "execution_count": 15,
   "id": "eff78903-7775-4c92-9dfb-5ad849e70e42",
   "metadata": {},
   "outputs": [
    {
     "data": {
      "text/plain": [
       "tensor([[ 9.,  7.,  1., 10., -8.,  4., -5.,  2.,  3., -6.]], device='cuda:0')"
      ]
     },
     "execution_count": 15,
     "metadata": {},
     "output_type": "execute_result"
    }
   ],
   "source": [
    "t1"
   ]
  },
  {
   "cell_type": "code",
   "execution_count": 16,
   "id": "006d99cc-d4a1-4bbe-a8fa-571ce03d28d7",
   "metadata": {},
   "outputs": [],
   "source": [
    "t2 = th.matmul(t1, test[0].T)"
   ]
  },
  {
   "cell_type": "code",
   "execution_count": 17,
   "id": "119ac46f-201e-451f-9688-2c601ac78e85",
   "metadata": {},
   "outputs": [
    {
     "data": {
      "text/plain": [
       "tensor([[ 1.,  2.,  3.,  4.,  5.,  6.,  7.,  8.,  9., 10.]], device='cuda:0')"
      ]
     },
     "execution_count": 17,
     "metadata": {},
     "output_type": "execute_result"
    }
   ],
   "source": [
    "t2"
   ]
  },
  {
   "cell_type": "code",
   "execution_count": 18,
   "id": "698c2466-c13a-41c5-869f-f7094d028de9",
   "metadata": {},
   "outputs": [],
   "source": [
    "# p1,p2,p3,p4 = [random.randint(0,n) for _ in range(4)]\n",
    "# for _ in range(2000):\n",
    "#     op_type = random.randint(0,2)\n",
    "#     if op_type == 0:\n",
    "#         op_mat = trans_rev(n, p1, p2, p3, p4)\n",
    "#     elif op_type == 1:\n",
    "#         op_mat = trans_mat(n, p1, p2, p3, p4)\n",
    "#     else:\n",
    "#         op_mat = revers_mat(n, p1, p2)\n",
    "#     op_list.append(op_mat)"
   ]
  },
  {
   "cell_type": "markdown",
   "id": "9ac78174-5033-4fcf-bbc1-f2d48c56b18b",
   "metadata": {
    "tags": []
   },
   "source": [
    "---"
   ]
  },
  {
   "cell_type": "code",
   "execution_count": 19,
   "id": "0eb9d149-85a8-4f1f-ad40-28ff4d708e67",
   "metadata": {},
   "outputs": [],
   "source": [
    "from dcj_comp import dcj_dist"
   ]
  },
  {
   "cell_type": "code",
   "execution_count": 53,
   "id": "9bcc7062-20a3-4d48-96dd-3df7e7d898ad",
   "metadata": {},
   "outputs": [],
   "source": [
    "def rand_param(size, op_type):    \n",
    "    p = [random.randint(0,size) for _ in range(4)]\n",
    "    if op_type == 2: # reverse operation\n",
    "        while p[0] == p[1]:\n",
    "            p = [random.randint(0,size) for _ in range(4)]\n",
    "    elif op_type == 0: # trans reverse\n",
    "        while p[0] == p[1] or \\\n",
    "        (min(p[0], p[1]) == p[2] and (p[3] == 0 or p[3] % abs(p[0] - p[1]) == 0)) or \\\n",
    "        p[2] % (size - abs(p[0] - p[1]) + 1) == min(p[0], p[1]):\n",
    "            p = [random.randint(0,size) for _ in range(4)]\n",
    "    elif op_type == 1: # trans op\n",
    "        p = sorted(p)\n",
    "        while (p[0] == p[1] and p[2] == p[3]) or \\\n",
    "        (p[0] == p[1] and p[1] == p[2]) or \\\n",
    "        (p[1] == p[2] and p[2] == p[3]):\n",
    "            p = sorted([random.randint(0,size) for _ in range(4)])\n",
    "            \n",
    "    return p"
   ]
  },
  {
   "cell_type": "code",
   "execution_count": 160,
   "id": "8020a526-4a7a-4998-9cf8-1cd62c08f55c",
   "metadata": {},
   "outputs": [],
   "source": [
    "n, vol = 50, 2000\n",
    "gene = th.tensor(np.arange(1, n+1).reshape((1,n)), dtype = th.float, device = device)\n",
    "oriseq = gene.cpu().numpy().astype(np.int32).reshape(n,).tolist()\n",
    "\n",
    "genome = []\n",
    "genome.append(oriseq)\n",
    "\n",
    "t_dist = [0 for _ in range(vol)]"
   ]
  },
  {
   "cell_type": "code",
   "execution_count": 161,
   "id": "911a757d-d363-4202-a1d9-f0f3956cbb72",
   "metadata": {},
   "outputs": [],
   "source": [
    "test = th.tensor(np.diag(np.repeat(1,n)), \n",
    "                 dtype = th.float, device = device)\n",
    "mat_op_list = [trans_rev, trans_mat, revers_mat]\n",
    "rand_op = [1 for _ in range(vol)] #[random.randint(0,2) for _ in range(vol)]\n",
    "param_op = [rand_param(n, op_type) for op_type in rand_op] #[[random.randint(0,n) for _ in range(4)] for _ in range(vol)]\n",
    "t_dist = np.add(t_dist, [1 if x == 2 else 2 for x in rand_op])\n",
    "\n",
    "# op_list = np.array([mat_op_list[random.randint(0,2)](\n",
    "# n, *[random.randint(0,n) for _ in range(4)]) \n",
    "#        for _ in range(20)])\n",
    "op_list = np.array([mat_op_list[op](n, *param) \n",
    "       for op, param in zip(rand_op, param_op)])\n",
    "\n",
    "\n",
    "mat_tensor = th.tensor(op_list, dtype = th.float, device = device)\n",
    "test = th.matmul(test, mat_tensor)\n",
    "trans_seq = th.matmul(gene, test)"
   ]
  },
  {
   "cell_type": "code",
   "execution_count": 56,
   "id": "fce23b49-e63b-4c53-893a-01c8cec3d138",
   "metadata": {},
   "outputs": [],
   "source": [
    "new_seq = trans_seq.cpu().numpy().astype(np.int32)\n",
    "for x, d, o, op_param in zip(new_seq, t_dist, rand_op, param_op):\n",
    "    if dcj_dist(oriseq, x[0])[-1] != d:\n",
    "        print(x[0], '***\\t', dcj_dist(oriseq, x[0])[-1], d, mat_op_list[o].__name__, op_param)\n",
    "    if x[0].tolist() in genome:\n",
    "        continue\n",
    "    genome.append(x[0].tolist())"
   ]
  },
  {
   "cell_type": "code",
   "execution_count": 57,
   "id": "7d52ee6c-2fd3-4722-ba50-17485de03a31",
   "metadata": {},
   "outputs": [
    {
     "data": {
      "text/plain": [
       "(4, 0, 2)"
      ]
     },
     "execution_count": 57,
     "metadata": {},
     "output_type": "execute_result"
    }
   ],
   "source": [
    "dcj_dist([1,2,3,4,5], [-1, -3, -2,  4,  5])"
   ]
  },
  {
   "cell_type": "code",
   "execution_count": 61,
   "id": "84f82530-bdf4-4aba-b5f7-7f4aa4f3fd32",
   "metadata": {},
   "outputs": [],
   "source": [
    "def generate_seq_pos(gene):\n",
    "    if len(gene) == 1:\n",
    "        return [[gene[0]]]\n",
    "    res = []\n",
    "    for i in range(len(gene)):\n",
    "        g = gene[i]\n",
    "        rest = gene[0:i] + gene[i+1:]\n",
    "        tmp = generate_seq_pos(rest)\n",
    "        res += [[g] + x for x in tmp] #+ [[-g] + x for x in tmp]\n",
    "    return res"
   ]
  },
  {
   "cell_type": "code",
   "execution_count": 118,
   "id": "601602bf-5057-4bf6-b8d1-8fa127be552e",
   "metadata": {},
   "outputs": [],
   "source": [
    "def generate_seq(gene):\n",
    "    if len(gene) == 1:\n",
    "        return [[gene[0]], [-gene[0]]]\n",
    "    res = []\n",
    "    for i in range(len(gene)):\n",
    "        g = gene[i]\n",
    "        rest = gene[0:i] + gene[i+1:]\n",
    "        tmp = generate_seq(rest)\n",
    "        res += [[g] + x for x in tmp] + [[-g] + x for x in tmp]\n",
    "    return res"
   ]
  },
  {
   "cell_type": "code",
   "execution_count": 124,
   "id": "10f64f1b-ca23-47e8-ae9e-1c041688c7ab",
   "metadata": {
    "collapsed": true,
    "jupyter": {
     "outputs_hidden": true
    },
    "tags": []
   },
   "outputs": [
    {
     "name": "stdout",
     "output_type": "stream",
     "text": [
      "[1, 2, 3] 0\n",
      "[1, 2, -3] 1\n",
      "[1, -2, 3] 1\n",
      "[1, -2, -3] 2\n",
      "[1, 3, 2] 2\n",
      "[1, 3, -2] 2\n",
      "[1, -3, 2] 2\n",
      "[1, -3, -2] 1\n",
      "[-1, 2, 3] 1\n",
      "[-1, 2, -3] 2\n",
      "[-1, -2, 3] 2\n",
      "[-1, -2, -3] 3\n",
      "[-1, 3, 2] 3\n",
      "[-1, 3, -2] 3\n",
      "[-1, -3, 2] 3\n",
      "[-1, -3, -2] 2\n",
      "[2, 1, 3] 2\n",
      "[2, 1, -3] 3\n",
      "[2, -1, 3] 2\n",
      "[2, -1, -3] 3\n",
      "[2, 3, 1] 2\n",
      "[2, 3, -1] 2\n",
      "[2, -3, 1] 3\n",
      "[2, -3, -1] 3\n",
      "[-2, 1, 3] 2\n",
      "[-2, 1, -3] 3\n",
      "[-2, -1, 3] 1\n",
      "[-2, -1, -3] 2\n",
      "[-2, 3, 1] 3\n",
      "[-2, 3, -1] 3\n",
      "[-2, -3, 1] 2\n",
      "[-2, -3, -1] 3\n",
      "[3, 1, 2] 2\n",
      "[3, 1, -2] 3\n",
      "[3, -1, 2] 3\n",
      "[3, -1, -2] 2\n",
      "[3, 2, 1] 2\n",
      "[3, 2, -1] 3\n",
      "[3, -2, 1] 3\n",
      "[3, -2, -1] 2\n",
      "[-3, 1, 2] 2\n",
      "[-3, 1, -2] 3\n",
      "[-3, -1, 2] 3\n",
      "[-3, -1, -2] 3\n",
      "[-3, 2, 1] 3\n",
      "[-3, 2, -1] 2\n",
      "[-3, -2, 1] 2\n",
      "[-3, -2, -1] 1\n"
     ]
    }
   ],
   "source": [
    "for x in generate_seq([1,2,3]):\n",
    "    print(x, dcj_dist([1,2,3], x)[-1])"
   ]
  },
  {
   "cell_type": "code",
   "execution_count": 259,
   "id": "ac9bbf1a-67de-465b-8581-0342772b7de6",
   "metadata": {},
   "outputs": [],
   "source": [
    "genome = []"
   ]
  },
  {
   "cell_type": "code",
   "execution_count": 260,
   "id": "7b36e9eb-1363-4097-99bc-b2628e1a9477",
   "metadata": {},
   "outputs": [],
   "source": [
    "n, vol = 100, 20000\n",
    "gene = th.tensor(np.arange(1, n+1).reshape((1,n)), dtype = th.float, device = device)\n",
    "oriseq = gene.cpu().numpy().astype(np.int32).reshape(n,).tolist()\n",
    "genome.append(oriseq)\n",
    "\n",
    "t_dist = [0 for _ in range(vol)]\n",
    "\n",
    "test = th.tensor(np.diag(np.repeat(1,n)), \n",
    "                 dtype = th.float, device = device)"
   ]
  },
  {
   "cell_type": "code",
   "execution_count": 261,
   "id": "ee51621f-84fd-48ba-a0aa-f17af4dd281d",
   "metadata": {},
   "outputs": [
    {
     "name": "stdout",
     "output_type": "stream",
     "text": [
      "0\n",
      "15\n",
      "37\n",
      "81\n",
      "134\n",
      "210\n",
      "308\n",
      "410\n",
      "513\n",
      "666\n"
     ]
    }
   ],
   "source": [
    "for _ in range(10):\n",
    "    mat_op_list = [trans_rev, trans_mat, revers_mat]\n",
    "    rand_op = [random.randint(0,2) for _ in range(vol)]\n",
    "    param_op = [rand_param(n, op_type) for op_type in rand_op] #[[random.randint(0,n) for _ in range(4)] for _ in range(vol)]\n",
    "    t_dist = np.add(t_dist, [1 if x == 2 else 2 for x in rand_op])\n",
    "\n",
    "    op_list = np.array([mat_op_list[op](n, *param) \n",
    "           for op, param in zip(rand_op, param_op)])\n",
    "\n",
    "\n",
    "    mat_tensor = th.tensor(op_list, dtype = th.float, device = device)\n",
    "    test = th.matmul(test, mat_tensor)\n",
    "    trans_seq = th.matmul(gene, test)\n",
    "    new_seq = trans_seq.cpu().numpy().astype(np.int32)\n",
    "\n",
    "    # tmp = np.unique(new_seq, axis=0).reshape((-1,n))\n",
    "    # tmp.shape\n",
    "    count = 0\n",
    "    tmp = []\n",
    "    for x, d, o, op_param in zip(new_seq, t_dist, rand_op, param_op):\n",
    "        if dcj_dist(oriseq, x[0])[-1] != d:\n",
    "    #         print(x[0], '***\\t', dcj_dist(oriseq, x[0])[-1], d, mat_op_list[o].__name__, op_param)\n",
    "            count += 1\n",
    "            continue\n",
    "        tmp.append(x[0])\n",
    "\n",
    "    tmp = np.unique(tmp, axis = 0)\n",
    "    if len(tmp) != 0:\n",
    "        genome += tmp.tolist()\n",
    "    print(count)\n",
    "\n",
    "    genome = np.unique(genome, axis = 0).tolist()"
   ]
  },
  {
   "cell_type": "code",
   "execution_count": 325,
   "id": "25b90898-2d92-4648-be3c-8a91c6a4cd9d",
   "metadata": {},
   "outputs": [],
   "source": [
    "def gen_random_seq(l, n, r_n):\n",
    "    res = np.zeros((n, l), dtype = np.int32)\n",
    "    for i in range(n):\n",
    "        s = np.random.permutation(l) + 1\n",
    "        s[np.random.randint(l, size = r_n)] *=-1\n",
    "        res[i] = s\n",
    "    return res"
   ]
  },
  {
   "cell_type": "code",
   "execution_count": 421,
   "id": "5d6e74cc-e935-403e-bd2b-92aafdd99ff8",
   "metadata": {},
   "outputs": [],
   "source": [
    "def gen_seqs(l,n):\n",
    "    genes = np.zeros((n * (l+1), l), dtype = np.int32)\n",
    "    for i in range(l+1):\n",
    "        genes[i*n : (i+1)*n] = gen_random_seq(l,n,i)\n",
    "    np.random.shuffle(genes)\n",
    "    return np.reshape(genes, (-1,1,l))"
   ]
  },
  {
   "cell_type": "code",
   "execution_count": 422,
   "id": "42d4cefc-7992-49c7-8de0-4bd7aab93cfc",
   "metadata": {},
   "outputs": [],
   "source": [
    "l, n = 10, 100\n",
    "tmp = gen_seqs(l,n)"
   ]
  },
  {
   "cell_type": "code",
   "execution_count": 423,
   "id": "5b0ba9a3-2f83-49d0-b507-bd564370a9d9",
   "metadata": {},
   "outputs": [
    {
     "data": {
      "text/plain": [
       "(1100, 1, 10)"
      ]
     },
     "execution_count": 423,
     "metadata": {},
     "output_type": "execute_result"
    }
   ],
   "source": [
    "tmp.shape"
   ]
  },
  {
   "cell_type": "code",
   "execution_count": 424,
   "id": "a94f7b13-1929-4463-9868-4f9931f4c97b",
   "metadata": {},
   "outputs": [],
   "source": [
    "def gen_op_mat(l, n):\n",
    "    t_dist = [0 for _ in range(n)]\n",
    "    \n",
    "    mat_op_list = [trans_rev, trans_mat, revers_mat]\n",
    "    rand_op = [random.randint(0,2) for _ in range(n)]\n",
    "    param_op = [rand_param(l, op_type) for op_type in rand_op] #[[random.randint(0,n) for _ in range(4)] for _ in range(vol)]\n",
    "    t_dist = np.add(t_dist, [1 if x == 2 else 2 for x in rand_op])\n",
    "\n",
    "    op_list = np.array([mat_op_list[op](l, *param) \n",
    "           for op, param in zip(rand_op, param_op)])\n",
    "    return op_list, t_dist"
   ]
  },
  {
   "cell_type": "code",
   "execution_count": 425,
   "id": "aedded5d-4919-4dbb-a278-cd8b32cd3c61",
   "metadata": {},
   "outputs": [],
   "source": [
    "o, t = gen_op_mat(tmp.shape[-1], tmp.shape[0])"
   ]
  },
  {
   "cell_type": "code",
   "execution_count": 426,
   "id": "991926bc-58c5-4001-982f-959308a5c84c",
   "metadata": {},
   "outputs": [],
   "source": [
    "def gen_dataset(l,n):\n",
    "    s = gen_seqs(l,n)\n",
    "    o, t = gen_op_mat(s.shape[-1], s.shape[0])\n",
    "    new_seq = np.matmul(s, o)\n",
    "    \n",
    "    return s, o, t"
   ]
  },
  {
   "cell_type": "code",
   "execution_count": 438,
   "id": "70f3ad60-d1c2-4d01-b120-e7e29ca1b453",
   "metadata": {},
   "outputs": [],
   "source": [
    "s, o, t = gen_dataset(4, 10)"
   ]
  },
  {
   "cell_type": "code",
   "execution_count": 439,
   "id": "5aeb440e-9678-408d-8bba-3eff28efb8ed",
   "metadata": {},
   "outputs": [],
   "source": [
    "tmp = np.matmul(s,o)"
   ]
  },
  {
   "cell_type": "code",
   "execution_count": 440,
   "id": "c321dea2-461a-424f-aaab-bb9fb310fe22",
   "metadata": {},
   "outputs": [
    {
     "data": {
      "text/plain": [
       "(50, 1, 4)"
      ]
     },
     "execution_count": 440,
     "metadata": {},
     "output_type": "execute_result"
    }
   ],
   "source": [
    "tmp.shape"
   ]
  },
  {
   "cell_type": "code",
   "execution_count": 443,
   "id": "ada3270c-0ad5-4ccb-b83b-45965f634123",
   "metadata": {},
   "outputs": [],
   "source": [
    "_, o1, t = gen_dataset(4, 10)\n",
    "_, o2, t = gen_dataset(4, 10)"
   ]
  },
  {
   "cell_type": "code",
   "execution_count": 444,
   "id": "9fec1a0a-993a-4c8b-8b6b-dfd0764877d5",
   "metadata": {},
   "outputs": [],
   "source": [
    "o3 = np.matmul(o, o1)\n",
    "o3 = np.matmul(o3, o2)"
   ]
  },
  {
   "cell_type": "code",
   "execution_count": 448,
   "id": "38ebef5f-1a84-4fee-814e-f8d00433bc74",
   "metadata": {},
   "outputs": [
    {
     "data": {
      "text/plain": [
       "array([[[-1,  0,  0,  0],\n",
       "        [ 0,  0,  1,  0],\n",
       "        [ 0,  0,  0, -1],\n",
       "        [ 0,  1,  0,  0]],\n",
       "\n",
       "       [[-1,  0,  0,  0],\n",
       "        [ 0,  0, -1,  0],\n",
       "        [ 0,  0,  0,  1],\n",
       "        [ 0,  1,  0,  0]]])"
      ]
     },
     "execution_count": 448,
     "metadata": {},
     "output_type": "execute_result"
    }
   ],
   "source": [
    "np.matmul(np.matmul(o, o1), o2)[:2]"
   ]
  },
  {
   "cell_type": "code",
   "execution_count": 449,
   "id": "813efed2-6d41-43b3-8c1e-333cde78b195",
   "metadata": {},
   "outputs": [
    {
     "data": {
      "text/plain": [
       "array([[[ 0,  0, -1,  0],\n",
       "        [ 0,  0,  0, -1],\n",
       "        [ 1,  0,  0,  0],\n",
       "        [ 0,  1,  0,  0]],\n",
       "\n",
       "       [[ 0,  0,  1,  0],\n",
       "        [ 0, -1,  0,  0],\n",
       "        [ 0,  0,  0,  1],\n",
       "        [-1,  0,  0,  0]]])"
      ]
     },
     "execution_count": 449,
     "metadata": {},
     "output_type": "execute_result"
    }
   ],
   "source": [
    "np.matmul(np.matmul(o, o2), o1)[:2]"
   ]
  },
  {
   "cell_type": "code",
   "execution_count": 450,
   "id": "3530f79d-11ea-4e60-b71e-45cd3bb0aae9",
   "metadata": {},
   "outputs": [
    {
     "data": {
      "text/plain": [
       "array([[[ 0,  0,  0,  1],\n",
       "        [ 0,  0,  1,  0],\n",
       "        [ 0, -1,  0,  0],\n",
       "        [-1,  0,  0,  0]],\n",
       "\n",
       "       [[-1,  0,  0,  0],\n",
       "        [ 0,  0, -1,  0],\n",
       "        [ 0,  0,  0,  1],\n",
       "        [ 0,  1,  0,  0]]])"
      ]
     },
     "execution_count": 450,
     "metadata": {},
     "output_type": "execute_result"
    }
   ],
   "source": [
    "np.matmul(np.matmul(o1, o), o2)[:2]"
   ]
  },
  {
   "cell_type": "code",
   "execution_count": 447,
   "id": "65eff598-0726-4881-aca2-86a1da684565",
   "metadata": {},
   "outputs": [
    {
     "data": {
      "text/plain": [
       "array([[[0, 1, 0, 0],\n",
       "        [0, 0, 1, 0],\n",
       "        [1, 0, 0, 0],\n",
       "        [0, 0, 0, 1]],\n",
       "\n",
       "       [[1, 0, 0, 0],\n",
       "        [0, 0, 1, 0],\n",
       "        [0, 0, 0, 1],\n",
       "        [0, 1, 0, 0]]])"
      ]
     },
     "execution_count": 447,
     "metadata": {},
     "output_type": "execute_result"
    }
   ],
   "source": [
    "o2[:2]"
   ]
  },
  {
   "cell_type": "code",
   "execution_count": 442,
   "id": "8b6b855f-ec0c-4730-be05-2a4dbf8a122e",
   "metadata": {},
   "outputs": [
    {
     "data": {
      "text/plain": [
       "array([[[ 0,  0,  0,  1],\n",
       "        [ 0,  1,  0,  0],\n",
       "        [ 0,  0,  1,  0],\n",
       "        [ 1,  0,  0,  0]],\n",
       "\n",
       "       [[ 0,  1,  0,  0],\n",
       "        [ 1,  0,  0,  0],\n",
       "        [ 0,  0,  1,  0],\n",
       "        [ 0,  0,  0,  1]],\n",
       "\n",
       "       [[ 0, -1,  0,  0],\n",
       "        [-1,  0,  0,  0],\n",
       "        [ 0,  0,  1,  0],\n",
       "        [ 0,  0,  0,  1]],\n",
       "\n",
       "       [[-1,  0,  0,  0],\n",
       "        [ 0,  1,  0,  0],\n",
       "        [ 0,  0,  1,  0],\n",
       "        [ 0,  0,  0,  1]],\n",
       "\n",
       "       [[ 1,  0,  0,  0],\n",
       "        [ 0,  1,  0,  0],\n",
       "        [ 0,  0,  1,  0],\n",
       "        [ 0,  0,  0, -1]],\n",
       "\n",
       "       [[ 0,  0,  1,  0],\n",
       "        [ 0, -1,  0,  0],\n",
       "        [-1,  0,  0,  0],\n",
       "        [ 0,  0,  0,  1]],\n",
       "\n",
       "       [[ 1,  0,  0,  0],\n",
       "        [ 0, -1,  0,  0],\n",
       "        [ 0,  0,  1,  0],\n",
       "        [ 0,  0,  0,  1]],\n",
       "\n",
       "       [[ 0,  0, -1,  0],\n",
       "        [ 0, -1,  0,  0],\n",
       "        [ 1,  0,  0,  0],\n",
       "        [ 0,  0,  0,  1]],\n",
       "\n",
       "       [[ 0,  0,  1,  0],\n",
       "        [ 1,  0,  0,  0],\n",
       "        [ 0,  1,  0,  0],\n",
       "        [ 0,  0,  0,  1]],\n",
       "\n",
       "       [[-1,  0,  0,  0],\n",
       "        [ 0,  1,  0,  0],\n",
       "        [ 0,  0,  1,  0],\n",
       "        [ 0,  0,  0,  1]],\n",
       "\n",
       "       [[ 0,  0,  1,  0],\n",
       "        [ 0,  0,  0,  1],\n",
       "        [ 1,  0,  0,  0],\n",
       "        [ 0,  1,  0,  0]],\n",
       "\n",
       "       [[ 1,  0,  0,  0],\n",
       "        [ 0,  0,  0,  1],\n",
       "        [ 0,  0, -1,  0],\n",
       "        [ 0, -1,  0,  0]],\n",
       "\n",
       "       [[ 1,  0,  0,  0],\n",
       "        [ 0,  0,  0,  1],\n",
       "        [ 0,  1,  0,  0],\n",
       "        [ 0,  0,  1,  0]],\n",
       "\n",
       "       [[ 0,  0,  0, -1],\n",
       "        [ 0,  0, -1,  0],\n",
       "        [ 0, -1,  0,  0],\n",
       "        [-1,  0,  0,  0]],\n",
       "\n",
       "       [[ 0, -1,  0,  0],\n",
       "        [-1,  0,  0,  0],\n",
       "        [ 0,  0,  1,  0],\n",
       "        [ 0,  0,  0,  1]],\n",
       "\n",
       "       [[ 1,  0,  0,  0],\n",
       "        [ 0,  0,  1,  0],\n",
       "        [ 0,  0,  0,  1],\n",
       "        [ 0,  1,  0,  0]],\n",
       "\n",
       "       [[ 1,  0,  0,  0],\n",
       "        [ 0,  0,  0,  1],\n",
       "        [ 0,  0, -1,  0],\n",
       "        [ 0, -1,  0,  0]],\n",
       "\n",
       "       [[ 1,  0,  0,  0],\n",
       "        [ 0, -1,  0,  0],\n",
       "        [ 0,  0,  1,  0],\n",
       "        [ 0,  0,  0,  1]],\n",
       "\n",
       "       [[ 0,  0,  1,  0],\n",
       "        [ 0,  0,  0,  1],\n",
       "        [ 0, -1,  0,  0],\n",
       "        [-1,  0,  0,  0]],\n",
       "\n",
       "       [[ 1,  0,  0,  0],\n",
       "        [ 0,  0,  0,  1],\n",
       "        [ 0,  1,  0,  0],\n",
       "        [ 0,  0,  1,  0]],\n",
       "\n",
       "       [[ 0,  0,  1,  0],\n",
       "        [ 0,  0,  0,  1],\n",
       "        [ 1,  0,  0,  0],\n",
       "        [ 0,  1,  0,  0]],\n",
       "\n",
       "       [[ 1,  0,  0,  0],\n",
       "        [ 0,  1,  0,  0],\n",
       "        [ 0,  0, -1,  0],\n",
       "        [ 0,  0,  0,  1]],\n",
       "\n",
       "       [[ 1,  0,  0,  0],\n",
       "        [ 0,  0, -1,  0],\n",
       "        [ 0, -1,  0,  0],\n",
       "        [ 0,  0,  0,  1]],\n",
       "\n",
       "       [[ 0,  1,  0,  0],\n",
       "        [ 1,  0,  0,  0],\n",
       "        [ 0,  0,  1,  0],\n",
       "        [ 0,  0,  0,  1]],\n",
       "\n",
       "       [[ 0,  0,  1,  0],\n",
       "        [ 0,  0,  0,  1],\n",
       "        [ 1,  0,  0,  0],\n",
       "        [ 0,  1,  0,  0]],\n",
       "\n",
       "       [[ 0,  0,  0,  1],\n",
       "        [ 1,  0,  0,  0],\n",
       "        [ 0,  1,  0,  0],\n",
       "        [ 0,  0,  1,  0]],\n",
       "\n",
       "       [[ 0, -1,  0,  0],\n",
       "        [-1,  0,  0,  0],\n",
       "        [ 0,  0,  1,  0],\n",
       "        [ 0,  0,  0,  1]],\n",
       "\n",
       "       [[ 0,  0,  1,  0],\n",
       "        [ 1,  0,  0,  0],\n",
       "        [ 0,  1,  0,  0],\n",
       "        [ 0,  0,  0,  1]],\n",
       "\n",
       "       [[ 0,  0, -1,  0],\n",
       "        [ 1,  0,  0,  0],\n",
       "        [ 0,  1,  0,  0],\n",
       "        [ 0,  0,  0,  1]],\n",
       "\n",
       "       [[ 1,  0,  0,  0],\n",
       "        [ 0,  1,  0,  0],\n",
       "        [ 0,  0,  0, -1],\n",
       "        [ 0,  0, -1,  0]],\n",
       "\n",
       "       [[ 0,  1,  0,  0],\n",
       "        [-1,  0,  0,  0],\n",
       "        [ 0,  0,  1,  0],\n",
       "        [ 0,  0,  0,  1]],\n",
       "\n",
       "       [[ 0,  0,  0,  1],\n",
       "        [ 0,  0, -1,  0],\n",
       "        [ 0, -1,  0,  0],\n",
       "        [-1,  0,  0,  0]],\n",
       "\n",
       "       [[ 0,  1,  0,  0],\n",
       "        [ 1,  0,  0,  0],\n",
       "        [ 0,  0,  1,  0],\n",
       "        [ 0,  0,  0,  1]],\n",
       "\n",
       "       [[ 0, -1,  0,  0],\n",
       "        [-1,  0,  0,  0],\n",
       "        [ 0,  0,  1,  0],\n",
       "        [ 0,  0,  0,  1]],\n",
       "\n",
       "       [[ 0, -1,  0,  0],\n",
       "        [-1,  0,  0,  0],\n",
       "        [ 0,  0,  1,  0],\n",
       "        [ 0,  0,  0,  1]],\n",
       "\n",
       "       [[ 0,  0,  0,  1],\n",
       "        [ 0,  1,  0,  0],\n",
       "        [ 0,  0,  1,  0],\n",
       "        [ 1,  0,  0,  0]],\n",
       "\n",
       "       [[ 1,  0,  0,  0],\n",
       "        [ 0,  0,  1,  0],\n",
       "        [ 0,  1,  0,  0],\n",
       "        [ 0,  0,  0,  1]],\n",
       "\n",
       "       [[ 0,  1,  0,  0],\n",
       "        [ 0,  0,  1,  0],\n",
       "        [ 1,  0,  0,  0],\n",
       "        [ 0,  0,  0,  1]],\n",
       "\n",
       "       [[ 0,  0,  1,  0],\n",
       "        [-1,  0,  0,  0],\n",
       "        [ 0, -1,  0,  0],\n",
       "        [ 0,  0,  0,  1]],\n",
       "\n",
       "       [[ 1,  0,  0,  0],\n",
       "        [ 0,  1,  0,  0],\n",
       "        [ 0,  0,  0,  1],\n",
       "        [ 0,  0,  1,  0]],\n",
       "\n",
       "       [[ 1,  0,  0,  0],\n",
       "        [ 0,  1,  0,  0],\n",
       "        [ 0,  0, -1,  0],\n",
       "        [ 0,  0,  0,  1]],\n",
       "\n",
       "       [[ 1,  0,  0,  0],\n",
       "        [ 0,  0,  0,  1],\n",
       "        [ 0,  0, -1,  0],\n",
       "        [ 0, -1,  0,  0]],\n",
       "\n",
       "       [[ 0,  0, -1,  0],\n",
       "        [ 0, -1,  0,  0],\n",
       "        [ 1,  0,  0,  0],\n",
       "        [ 0,  0,  0,  1]],\n",
       "\n",
       "       [[ 0,  0, -1,  0],\n",
       "        [ 0, -1,  0,  0],\n",
       "        [ 0,  0,  0, -1],\n",
       "        [ 1,  0,  0,  0]],\n",
       "\n",
       "       [[ 1,  0,  0,  0],\n",
       "        [ 0,  1,  0,  0],\n",
       "        [ 0,  0, -1,  0],\n",
       "        [ 0,  0,  0,  1]],\n",
       "\n",
       "       [[ 1,  0,  0,  0],\n",
       "        [ 0,  1,  0,  0],\n",
       "        [ 0,  0,  0, -1],\n",
       "        [ 0,  0, -1,  0]],\n",
       "\n",
       "       [[ 1,  0,  0,  0],\n",
       "        [ 0, -1,  0,  0],\n",
       "        [ 0,  0,  1,  0],\n",
       "        [ 0,  0,  0,  1]],\n",
       "\n",
       "       [[ 1,  0,  0,  0],\n",
       "        [ 0,  0,  0, -1],\n",
       "        [ 0,  0, -1,  0],\n",
       "        [ 0, -1,  0,  0]],\n",
       "\n",
       "       [[ 0,  0,  0, -1],\n",
       "        [ 0,  0, -1,  0],\n",
       "        [ 0, -1,  0,  0],\n",
       "        [-1,  0,  0,  0]],\n",
       "\n",
       "       [[ 0,  0,  0,  1],\n",
       "        [ 1,  0,  0,  0],\n",
       "        [ 0,  1,  0,  0],\n",
       "        [ 0,  0,  1,  0]]])"
      ]
     },
     "execution_count": 442,
     "metadata": {},
     "output_type": "execute_result"
    }
   ],
   "source": [
    "o"
   ]
  },
  {
   "cell_type": "code",
   "execution_count": 433,
   "id": "062a544d-e4c3-4954-abbb-7ab1a9779dca",
   "metadata": {},
   "outputs": [],
   "source": [
    "a = np.concatenate((s,tmp), axis = 1)"
   ]
  },
  {
   "cell_type": "code",
   "execution_count": 434,
   "id": "1f13d0d2-bfc6-4351-add0-1d0a9f10fc3c",
   "metadata": {},
   "outputs": [
    {
     "data": {
      "text/plain": [
       "(1100, 2, 10)"
      ]
     },
     "execution_count": 434,
     "metadata": {},
     "output_type": "execute_result"
    }
   ],
   "source": [
    "a.shape"
   ]
  },
  {
   "cell_type": "code",
   "execution_count": 437,
   "id": "44558e32-b5cf-4a38-a806-f91c124d3a72",
   "metadata": {},
   "outputs": [
    {
     "data": {
      "text/plain": [
       "(1100, 2, 10)"
      ]
     },
     "execution_count": 437,
     "metadata": {},
     "output_type": "execute_result"
    }
   ],
   "source": [
    "np.matmul(a, o).shape"
   ]
  },
  {
   "cell_type": "code",
   "execution_count": null,
   "id": "c073fed0-1f75-41de-b849-75d4abdbebd1",
   "metadata": {},
   "outputs": [],
   "source": []
  }
 ],
 "metadata": {
  "kernelspec": {
   "display_name": "Deep AI",
   "language": "python",
   "name": "dl"
  },
  "language_info": {
   "codemirror_mode": {
    "name": "ipython",
    "version": 3
   },
   "file_extension": ".py",
   "mimetype": "text/x-python",
   "name": "python",
   "nbconvert_exporter": "python",
   "pygments_lexer": "ipython3",
   "version": "3.7.11"
  }
 },
 "nbformat": 4,
 "nbformat_minor": 5
}
