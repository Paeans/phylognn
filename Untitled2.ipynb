{
 "cells": [
  {
   "cell_type": "code",
   "execution_count": 1,
   "id": "df72ea47-0277-4cfb-8120-4ffcbc9f638a",
   "metadata": {},
   "outputs": [],
   "source": [
    "from gene_graph_dataset import GeneGraphDataset"
   ]
  },
  {
   "cell_type": "code",
   "execution_count": null,
   "id": "96b44685-05f8-44c3-840f-4c920e7a6991",
   "metadata": {},
   "outputs": [],
   "source": [
    "ds = GeneGraphDataset('dataset', 500, 300)"
   ]
  },
  {
   "cell_type": "code",
   "execution_count": 3,
   "id": "335f966c-5d65-42d3-b71f-da8e0f6f5c02",
   "metadata": {},
   "outputs": [
    {
     "data": {
      "text/plain": [
       "GeneGraphDataset(200)"
      ]
     },
     "execution_count": 3,
     "metadata": {},
     "output_type": "execute_result"
    }
   ],
   "source": [
    "ds"
   ]
  },
  {
   "cell_type": "code",
   "execution_count": null,
   "id": "6ac9e501-095b-498b-932b-c9268073a686",
   "metadata": {},
   "outputs": [],
   "source": []
  }
 ],
 "metadata": {
  "kernelspec": {
   "display_name": "Deep AI",
   "language": "python",
   "name": "dl"
  },
  "language_info": {
   "codemirror_mode": {
    "name": "ipython",
    "version": 3
   },
   "file_extension": ".py",
   "mimetype": "text/x-python",
   "name": "python",
   "nbconvert_exporter": "python",
   "pygments_lexer": "ipython3",
   "version": "3.7.11"
  }
 },
 "nbformat": 4,
 "nbformat_minor": 5
}
