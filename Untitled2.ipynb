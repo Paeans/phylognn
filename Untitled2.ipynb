{
 "cells": [
  {
   "cell_type": "code",
   "execution_count": 1,
   "id": "ec436995-a8cf-46d9-bf78-45fd3b96d42e",
   "metadata": {},
   "outputs": [],
   "source": [
    "import time\n",
    "\n",
    "import torch\n",
    "from torch.nn import ModuleList, Embedding\n",
    "from torch.nn import Sequential, ReLU, Linear\n",
    "from torch.optim.lr_scheduler import ReduceLROnPlateau\n",
    "import torch_geometric.transforms as T\n",
    "\n",
    "from torch_geometric.nn import GCNConv, VGAE, PNAConv, BatchNorm\n",
    "from torch_geometric.loader import DataLoader\n",
    "\n",
    "from gene_graph_dataset import G2GraphDataset\n",
    "\n",
    "from torch_geometric.utils import (degree,\n",
    "                                   negative_sampling, \n",
    "                                   remove_self_loops,\n",
    "                                   add_self_loops)\n",
    "\n",
    "from torch.utils.tensorboard import SummaryWriter\n",
    "\n",
    "import torch_geometric"
   ]
  },
  {
   "cell_type": "code",
   "execution_count": 2,
   "id": "3253a61c-5647-495c-9227-a2fdf9c3812f",
   "metadata": {},
   "outputs": [],
   "source": [
    "gpuid = 1\n",
    "\n",
    "train_p, test_p = 0.8, 0.2"
   ]
  },
  {
   "cell_type": "code",
   "execution_count": 3,
   "id": "51a7e143-b111-4051-a7ff-b29560aa8fad",
   "metadata": {},
   "outputs": [],
   "source": [
    "device = torch.device('cuda:' + str(gpuid) if torch.cuda.is_available() else 'cpu')"
   ]
  },
  {
   "cell_type": "code",
   "execution_count": 4,
   "id": "ece92178-89e5-4d5f-a806-04b15ba5ac6e",
   "metadata": {},
   "outputs": [],
   "source": [
    "dataset = G2GraphDataset('dataset_g2g_x', 10, 3)"
   ]
  },
  {
   "cell_type": "code",
   "execution_count": 5,
   "id": "62007446-f148-4baa-af21-2011093c7e70",
   "metadata": {},
   "outputs": [],
   "source": [
    "data_size = len(dataset)\n",
    "train_size, test_size = (int)(data_size * train_p), (int)(data_size * test_p)"
   ]
  },
  {
   "cell_type": "code",
   "execution_count": 6,
   "id": "3c4070bb-3305-4710-9ce9-93537ba72c5f",
   "metadata": {},
   "outputs": [],
   "source": [
    "dataset = dataset.shuffle()\n",
    "train_dataset = dataset[:train_size]\n",
    "test_dataset = dataset[train_size:(train_size + test_size)]\n",
    "# val_dataset = dataset[(train_size + test_size):]"
   ]
  },
  {
   "cell_type": "code",
   "execution_count": 7,
   "id": "a2c6a0cb-b675-47a6-8eac-a4e5b82a0ca1",
   "metadata": {},
   "outputs": [],
   "source": [
    "train_loader = DataLoader(train_dataset, batch_size=64, shuffle=True)\n",
    "test_loader = DataLoader(test_dataset, batch_size=64)\n",
    "# val_loader = DataLoader(val_dataset, batch_size=8)"
   ]
  },
  {
   "cell_type": "code",
   "execution_count": 8,
   "id": "dbb8f654-2582-482f-886d-07f10fa83841",
   "metadata": {},
   "outputs": [],
   "source": [
    "deg = torch.zeros(5, dtype=torch.long)\n",
    "for data in train_dataset:\n",
    "    d = degree(data.edge_index[1].type(torch.int64), \n",
    "               num_nodes=data.num_nodes, dtype=torch.long)\n",
    "    deg += torch.bincount(d, minlength=deg.numel())"
   ]
  },
  {
   "cell_type": "code",
   "execution_count": 9,
   "id": "2a4a4642-a2a8-4f5b-93ec-476ec212f422",
   "metadata": {},
   "outputs": [],
   "source": [
    "class EncoderNet(torch.nn.Module):\n",
    "    def __init__(self, in_channels, out_channels):\n",
    "        super(EncoderNet, self).__init__()\n",
    "\n",
    "        self.node_emb = Embedding(1000, 75)\n",
    "\n",
    "        aggregators = ['mean', 'min', 'max', 'std']\n",
    "        scalers = ['identity', 'amplification', 'attenuation']\n",
    "        \n",
    "        self.conv_mu = GCNConv(75, out_channels)\n",
    "        self.conv_logstd = GCNConv(75, out_channels)\n",
    "        \n",
    "        self.convs = ModuleList()\n",
    "        self.batch_norms = ModuleList()\n",
    "        for _ in range(4):\n",
    "            conv = PNAConv(in_channels=75, out_channels=75,\n",
    "                           aggregators=aggregators, scalers=scalers, deg=deg,\n",
    "                           # edge_dim=50, \n",
    "                           towers=5, pre_layers=1, post_layers=1,\n",
    "                           divide_input=False)\n",
    "            # conv = GCNConv(in_channels=75, out_channels=75)\n",
    "            self.convs.append(conv)\n",
    "            self.batch_norms.append(BatchNorm(75))\n",
    "\n",
    "    def forward(self, x, edge_index): #, edge_attr, batch):\n",
    "        \n",
    "        x = self.node_emb(x.squeeze())\n",
    "\n",
    "        for conv, batch_norm in zip(self.convs, self.batch_norms):\n",
    "            x = batch_norm(conv(x, edge_index)).relu()\n",
    "        return self.conv_mu(x, edge_index), self.conv_logstd(x, edge_index)"
   ]
  },
  {
   "cell_type": "code",
   "execution_count": 10,
   "id": "770c5b84-1b27-42b1-b0eb-ebc893f5b406",
   "metadata": {},
   "outputs": [],
   "source": [
    "in_channels, out_channels = dataset.num_features, 16"
   ]
  },
  {
   "cell_type": "code",
   "execution_count": 11,
   "id": "1a07372c-9ef1-43d2-845f-bc1a9e83926e",
   "metadata": {},
   "outputs": [],
   "source": [
    "# model = VGAE(VariationalGCNEncoder(in_channels, out_channels))\n",
    "model = VGAE(EncoderNet(in_channels, out_channels))\n",
    "model = model.to(device)\n",
    "optimizer = torch.optim.Adam(model.parameters(), lr=0.05)\n",
    "scheduler = ReduceLROnPlateau(optimizer, mode='min', factor=0.5, patience=20,\n",
    "                              min_lr=0.00001)"
   ]
  },
  {
   "cell_type": "code",
   "execution_count": 12,
   "id": "a258ffba-549f-4158-96ad-b8f2cc175130",
   "metadata": {},
   "outputs": [],
   "source": [
    "def train(train_loader):\n",
    "    model.train()\n",
    "    \n",
    "    total_loss = 0\n",
    "    for data in train_loader:\n",
    "        data = data.to(device)\n",
    "        optimizer.zero_grad()\n",
    "        \n",
    "        # z = model.encode(data.x, data.edge_index)\n",
    "        z = model.encode(data.x, data.edge_index)\n",
    "        loss = model.recon_loss(z, data.pos_edge_label_index, data.neg_edge_label_index)\n",
    "        # loss = loss + (1 / data.num_nodes) * model.kl_loss()\n",
    "        loss = loss + (1 / data.num_nodes) * model.kl_loss()\n",
    "        loss.backward()\n",
    "        optimizer.step()\n",
    "        \n",
    "        total_loss += loss\n",
    "    return total_loss/len(train_loader)\n",
    "\n",
    "@torch.no_grad()\n",
    "def test(test_loader):\n",
    "    model.eval()\n",
    "    loss, auc, ap = 0, 0, 0\n",
    "    \n",
    "    for data in test_loader:\n",
    "        \n",
    "        data = data.to(device)\n",
    "        # z = model.encode(data.x, data.edge_index)\n",
    "        z = model.encode(data.x, data.edge_index)\n",
    "        loss += model.recon_loss(z, data.pos_edge_label_index, data.neg_edge_label_index)\n",
    "        tauc, tap = model.test(z, data.pos_edge_label_index, data.neg_edge_label_index)\n",
    "        auc += tauc\n",
    "        ap += tap\n",
    "        \n",
    "    return loss/len(test_loader), auc/len(test_loader), ap/len(test_loader)"
   ]
  },
  {
   "cell_type": "code",
   "execution_count": 13,
   "id": "1681d1ec-38aa-4a05-bb78-1c085b7eb263",
   "metadata": {},
   "outputs": [],
   "source": [
    "writer = SummaryWriter(log_dir='runs/g2g_10_nodex')"
   ]
  },
  {
   "cell_type": "code",
   "execution_count": 14,
   "id": "c7c1df12-ce9a-47ca-8fd8-198c4ec9c435",
   "metadata": {},
   "outputs": [
    {
     "name": "stdout",
     "output_type": "stream",
     "text": [
      "Tue Dec 14 14:07:54 2021\tEpoch: 0050, loss: 0.9965, AUC: 0.9044, AP: 0.3134, TEST: 0.9817\n",
      "Tue Dec 14 14:09:00 2021\tEpoch: 0100, loss: 0.8557, AUC: 0.9348, AP: 0.3666, TEST: 0.9106\n",
      "Tue Dec 14 14:10:06 2021\tEpoch: 0150, loss: 0.7898, AUC: 0.9419, AP: 0.3969, TEST: 0.8751\n",
      "Tue Dec 14 14:11:12 2021\tEpoch: 0200, loss: 0.7299, AUC: 0.9399, AP: 0.3745, TEST: 0.9031\n",
      "Tue Dec 14 14:12:18 2021\tEpoch: 0250, loss: 0.7143, AUC: 0.9405, AP: 0.3787, TEST: 0.8996\n",
      "Tue Dec 14 14:13:24 2021\tEpoch: 0300, loss: 0.7137, AUC: 0.9402, AP: 0.3772, TEST: 0.9058\n",
      "Tue Dec 14 14:14:31 2021\tEpoch: 0350, loss: 0.7124, AUC: 0.9398, AP: 0.3753, TEST: 0.9075\n",
      "Tue Dec 14 14:15:37 2021\tEpoch: 0400, loss: 0.7117, AUC: 0.9398, AP: 0.3751, TEST: 0.9075\n",
      "Tue Dec 14 14:16:42 2021\tEpoch: 0450, loss: 0.7113, AUC: 0.9398, AP: 0.3754, TEST: 0.9074\n",
      "Tue Dec 14 14:17:48 2021\tEpoch: 0500, loss: 0.7127, AUC: 0.9398, AP: 0.3751, TEST: 0.9076\n",
      "Tue Dec 14 14:18:53 2021\tEpoch: 0550, loss: 0.7115, AUC: 0.9398, AP: 0.3753, TEST: 0.9076\n",
      "Tue Dec 14 14:19:58 2021\tEpoch: 0600, loss: 0.7113, AUC: 0.9397, AP: 0.3751, TEST: 0.9078\n",
      "Tue Dec 14 14:21:04 2021\tEpoch: 0650, loss: 0.7120, AUC: 0.9398, AP: 0.3754, TEST: 0.9074\n",
      "Tue Dec 14 14:22:09 2021\tEpoch: 0700, loss: 0.7119, AUC: 0.9397, AP: 0.3750, TEST: 0.9078\n",
      "Tue Dec 14 14:23:15 2021\tEpoch: 0750, loss: 0.7131, AUC: 0.9397, AP: 0.3752, TEST: 0.9080\n",
      "Tue Dec 14 14:24:20 2021\tEpoch: 0800, loss: 0.7116, AUC: 0.9397, AP: 0.3750, TEST: 0.9082\n",
      "Tue Dec 14 14:25:26 2021\tEpoch: 0850, loss: 0.7126, AUC: 0.9398, AP: 0.3752, TEST: 0.9079\n",
      "Tue Dec 14 14:26:31 2021\tEpoch: 0900, loss: 0.7122, AUC: 0.9398, AP: 0.3751, TEST: 0.9078\n",
      "Tue Dec 14 14:27:37 2021\tEpoch: 0950, loss: 0.7116, AUC: 0.9397, AP: 0.3750, TEST: 0.9080\n",
      "Tue Dec 14 14:28:43 2021\tEpoch: 1000, loss: 0.7111, AUC: 0.9397, AP: 0.3749, TEST: 0.9083\n",
      "Tue Dec 14 14:29:50 2021\tEpoch: 1050, loss: 0.7109, AUC: 0.9397, AP: 0.3749, TEST: 0.9082\n",
      "Tue Dec 14 14:30:56 2021\tEpoch: 1100, loss: 0.7103, AUC: 0.9397, AP: 0.3746, TEST: 0.9086\n",
      "Tue Dec 14 14:32:02 2021\tEpoch: 1150, loss: 0.7109, AUC: 0.9397, AP: 0.3748, TEST: 0.9085\n",
      "Tue Dec 14 14:33:08 2021\tEpoch: 1200, loss: 0.7117, AUC: 0.9397, AP: 0.3749, TEST: 0.9084\n",
      "Tue Dec 14 14:34:15 2021\tEpoch: 1250, loss: 0.7107, AUC: 0.9396, AP: 0.3745, TEST: 0.9091\n",
      "Tue Dec 14 14:35:21 2021\tEpoch: 1300, loss: 0.7114, AUC: 0.9396, AP: 0.3743, TEST: 0.9090\n",
      "Tue Dec 14 14:36:27 2021\tEpoch: 1350, loss: 0.7098, AUC: 0.9397, AP: 0.3749, TEST: 0.9085\n",
      "Tue Dec 14 14:37:33 2021\tEpoch: 1400, loss: 0.7112, AUC: 0.9396, AP: 0.3745, TEST: 0.9091\n",
      "Tue Dec 14 14:38:40 2021\tEpoch: 1450, loss: 0.7103, AUC: 0.9396, AP: 0.3743, TEST: 0.9092\n",
      "Tue Dec 14 14:39:46 2021\tEpoch: 1500, loss: 0.7111, AUC: 0.9396, AP: 0.3742, TEST: 0.9097\n",
      "Tue Dec 14 14:40:52 2021\tEpoch: 1550, loss: 0.7123, AUC: 0.9395, AP: 0.3741, TEST: 0.9093\n",
      "Tue Dec 14 14:41:59 2021\tEpoch: 1600, loss: 0.7107, AUC: 0.9395, AP: 0.3740, TEST: 0.9097\n",
      "Tue Dec 14 14:43:05 2021\tEpoch: 1650, loss: 0.7099, AUC: 0.9395, AP: 0.3742, TEST: 0.9096\n",
      "Tue Dec 14 14:44:11 2021\tEpoch: 1700, loss: 0.7092, AUC: 0.9395, AP: 0.3739, TEST: 0.9101\n",
      "Tue Dec 14 14:45:17 2021\tEpoch: 1750, loss: 0.7097, AUC: 0.9395, AP: 0.3739, TEST: 0.9102\n",
      "Tue Dec 14 14:46:24 2021\tEpoch: 1800, loss: 0.7091, AUC: 0.9394, AP: 0.3736, TEST: 0.9104\n",
      "Tue Dec 14 14:47:30 2021\tEpoch: 1850, loss: 0.7098, AUC: 0.9395, AP: 0.3739, TEST: 0.9101\n",
      "Tue Dec 14 14:48:36 2021\tEpoch: 1900, loss: 0.7089, AUC: 0.9394, AP: 0.3737, TEST: 0.9106\n",
      "Tue Dec 14 14:49:42 2021\tEpoch: 1950, loss: 0.7107, AUC: 0.9394, AP: 0.3736, TEST: 0.9107\n",
      "Tue Dec 14 14:50:49 2021\tEpoch: 2000, loss: 0.7107, AUC: 0.9393, AP: 0.3734, TEST: 0.9109\n"
     ]
    }
   ],
   "source": [
    "for epoch in range(1, 2000 + 1):\n",
    "    loss = train(train_loader)\n",
    "    tloss, auc, ap = test(test_loader)\n",
    "    \n",
    "    scheduler.step(tloss)\n",
    "    \n",
    "    writer.add_scalar('Loss/train', loss, epoch)\n",
    "    writer.add_scalar('Loss/test', tloss, epoch)\n",
    "    writer.add_scalar('AUC/test', auc, epoch)\n",
    "    writer.add_scalar('AP/test', ap, epoch)\n",
    "    \n",
    "    # writer.add_embedding(model.encoder.node_emb.weight, global_step=epoch)\n",
    "    if epoch % 50 == 0:\n",
    "        print(f'{time.ctime()}\\t'\n",
    "              f'Epoch: {epoch:04d}, loss: {loss:.4f}, AUC: {auc:.4f}, AP: {ap:.4f}, TEST: {tloss:.4f}')"
   ]
  },
  {
   "cell_type": "code",
   "execution_count": 15,
   "id": "7f66cf0e-fce8-4170-b27e-55d446f2ad40",
   "metadata": {},
   "outputs": [],
   "source": [
    "writer.close()"
   ]
  },
  {
   "cell_type": "code",
   "execution_count": null,
   "id": "b7e99b23-025d-4734-8958-06a4f6e870a8",
   "metadata": {},
   "outputs": [],
   "source": []
  }
 ],
 "metadata": {
  "kernelspec": {
   "display_name": "Deep AI",
   "language": "python",
   "name": "dl"
  },
  "language_info": {
   "codemirror_mode": {
    "name": "ipython",
    "version": 3
   },
   "file_extension": ".py",
   "mimetype": "text/x-python",
   "name": "python",
   "nbconvert_exporter": "python",
   "pygments_lexer": "ipython3",
   "version": "3.7.11"
  }
 },
 "nbformat": 4,
 "nbformat_minor": 5
}
