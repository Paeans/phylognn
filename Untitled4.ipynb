{
 "cells": [
  {
   "cell_type": "code",
   "execution_count": 1,
   "id": "7923d4af-80e8-4506-96bd-bd48198ff5a2",
   "metadata": {},
   "outputs": [],
   "source": [
    "from gene_graph_dataset import G3MedianDataset"
   ]
  },
  {
   "cell_type": "code",
   "execution_count": 2,
   "id": "bfb2919f-26ae-41aa-a3f5-0b5a3dc10c29",
   "metadata": {},
   "outputs": [
    {
     "name": "stderr",
     "output_type": "stream",
     "text": [
      "Generating...\n"
     ]
    },
    {
     "name": "stdout",
     "output_type": "stream",
     "text": [
      "1 Fri Dec 24 11:59:12 2021\n",
      "1 Fri Dec 24 11:59:14 2021\n",
      "2 Fri Dec 24 11:59:47 2021\n",
      "2 Fri Dec 24 11:59:49 2021\n",
      "3 Fri Dec 24 12:00:37 2021\n",
      "3 Fri Dec 24 12:00:39 2021\n"
     ]
    },
    {
     "name": "stderr",
     "output_type": "stream",
     "text": [
      "Processing...\n",
      "Done!\n"
     ]
    }
   ],
   "source": [
    "dataset = G3MedianDataset('dataset_g3m', 1000, 3)"
   ]
  },
  {
   "cell_type": "code",
   "execution_count": null,
   "id": "51d44c58-f333-4dba-ba70-918bf11434be",
   "metadata": {},
   "outputs": [
    {
     "name": "stderr",
     "output_type": "stream",
     "text": [
      "Generating...\n"
     ]
    }
   ],
   "source": [
    "dataset = G3MedianDataset('dataset_g3m', 1000, 3, graph_num = 1000)"
   ]
  },
  {
   "cell_type": "code",
   "execution_count": null,
   "id": "9f32cba5-5c30-44e1-ba64-4e4d1a26e6e1",
   "metadata": {},
   "outputs": [],
   "source": []
  }
 ],
 "metadata": {
  "kernelspec": {
   "display_name": "Deep AI",
   "language": "python",
   "name": "dl"
  },
  "language_info": {
   "codemirror_mode": {
    "name": "ipython",
    "version": 3
   },
   "file_extension": ".py",
   "mimetype": "text/x-python",
   "name": "python",
   "nbconvert_exporter": "python",
   "pygments_lexer": "ipython3",
   "version": "3.7.11"
  }
 },
 "nbformat": 4,
 "nbformat_minor": 5
}
