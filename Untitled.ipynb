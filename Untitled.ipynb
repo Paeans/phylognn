{
 "cells": [
  {
   "cell_type": "code",
   "execution_count": 60,
   "id": "01ef56f6-6c8c-4f4b-99b7-fdab7147d3ba",
   "metadata": {},
   "outputs": [],
   "source": [
    "import random\n",
    "import math\n",
    "from genome_file import rev_trans, trans_op, trans_cross, trans_linear, is_circle"
   ]
  },
  {
   "cell_type": "code",
   "execution_count": 25,
   "id": "e68c1814-5be3-463a-8221-4fddbe9d4fcc",
   "metadata": {},
   "outputs": [
    {
     "name": "stdout",
     "output_type": "stream",
     "text": [
      "(45672, 999996)\n"
     ]
    }
   ],
   "source": [
    "n = 6\n",
    "count = 2**n*math.factorial(n)\n",
    "num = []\n",
    "genes_5 = []\n",
    "g_5 = [list(range(1, n + 1))]\n",
    "num.append((1,-1))\n",
    "genes_5.append(g_5)\n",
    "for i in range(1000000):\n",
    "    g_5 = trans_op(g_5, random.randint(0,3000), random.randint(0,3000))\n",
    "    if len(g_5) == 1 and len(g_5[0]) == n and g_5 not in genes_5:\n",
    "        genes_5.append(g_5)\n",
    "    l = len(genes_5)\n",
    "    if l > num[-1][0]:\n",
    "        num.append((l, i))\n",
    "    if l == count:\n",
    "        break\n",
    "print(num[-1])"
   ]
  },
  {
   "cell_type": "code",
   "execution_count": 24,
   "id": "79fe4b65-e369-4668-88c2-144d6dd8f72b",
   "metadata": {},
   "outputs": [
    {
     "data": {
      "text/plain": [
       "46080"
      ]
     },
     "execution_count": 24,
     "metadata": {},
     "output_type": "execute_result"
    }
   ],
   "source": [
    "count"
   ]
  },
  {
   "cell_type": "code",
   "execution_count": 47,
   "id": "f94da7e7-caff-4d60-8521-ec6c8c120618",
   "metadata": {},
   "outputs": [
    {
     "name": "stdout",
     "output_type": "stream",
     "text": [
      "[[1, 2, 3, 4, 5, 6, 7, 8, 9]]\n",
      "[[1, 2, 3, 4, 5, 6, 7, 8, 9]]\n",
      "[[1, 2, 3, 4, 5, 6, 7, 8, 9]]\n",
      "[[1, 2, 3, 4, 5, 6, 7, 8, 9]]\n",
      "[[1, 2, 3, 4, 5, 6, 7, 8, 9]]\n",
      "[[1, 2, 3, 4, 5, 6, 7, 8, 9]]\n",
      "[[1, 2, 3, 4, 5, 6, 7, 8, 9]]\n",
      "[[1, 2, 3, 4, 5, 6, 7, 8, 9]]\n",
      "[[1, 2, 3, 4, 5, 6, 7, 8, 9]]\n",
      "[[1, 2, 3, 4, 5, 6, 7, 8, 9]]\n"
     ]
    }
   ],
   "source": [
    "for _ in range(10):\n",
    "    print(trans_cross([1,2,3,4,5], [6,7,8,9, 6], 5, 0, rand_op = 0))"
   ]
  },
  {
   "cell_type": "code",
   "execution_count": 41,
   "id": "3597c1e6-2d6d-44bc-91bf-7e0b98f0e5ab",
   "metadata": {},
   "outputs": [],
   "source": [
    "tmp = list(range(1,11))"
   ]
  },
  {
   "cell_type": "code",
   "execution_count": 42,
   "id": "b33caa24-d690-4268-a1a6-336b53ba7454",
   "metadata": {},
   "outputs": [
    {
     "data": {
      "text/plain": [
       "[1, 2, 3, 4, 5, 6, 7, 8, 9, 10]"
      ]
     },
     "execution_count": 42,
     "metadata": {},
     "output_type": "execute_result"
    }
   ],
   "source": [
    "tmp"
   ]
  },
  {
   "cell_type": "code",
   "execution_count": 51,
   "id": "803f0395-26db-42d5-88fa-b32595a32f9a",
   "metadata": {},
   "outputs": [
    {
     "data": {
      "text/plain": [
       "[[-10, -9, -8, -7, -6, -5, -4, -3, -2, -1]]"
      ]
     },
     "execution_count": 51,
     "metadata": {},
     "output_type": "execute_result"
    }
   ],
   "source": [
    "trans_linear(tmp, 0, 10, rand_op = 0)"
   ]
  },
  {
   "cell_type": "code",
   "execution_count": 46,
   "id": "49b23a4a-9c35-4892-acca-d7a39adfc972",
   "metadata": {},
   "outputs": [
    {
     "data": {
      "text/plain": [
       "[[1, 2, 6, 7, 8, 9, 10], [3, 4, 5, 3]]"
      ]
     },
     "execution_count": 46,
     "metadata": {},
     "output_type": "execute_result"
    }
   ],
   "source": [
    "trans_linear(tmp, 2, 5, rand_op = 1)"
   ]
  },
  {
   "cell_type": "code",
   "execution_count": 52,
   "id": "62e228d8-dad9-4054-a06e-6feda438ed05",
   "metadata": {},
   "outputs": [],
   "source": [
    "def rev_trans(g, p1 = None, p2 = None):\n",
    "    g0_range = len(g[0]) - (2 if is_circle(g[0]) else 0)\n",
    "    if p1 == None:\n",
    "        p1 = random.randint(0, g0_range)\n",
    "    if p2 == None:\n",
    "        start = 0 if len(g) == 1 else (g0_range + 1)\n",
    "        end = g0_range if len(g) == 1 else (start + len(g[1]) - (2 if is_circle(g[1]) else 0))\n",
    "        p2 = random.randint(start, end)\n",
    "    return trans_op(g, p1, p2)"
   ]
  },
  {
   "cell_type": "code",
   "execution_count": 83,
   "id": "ef8254eb-731a-458d-b5a5-51c865fe0833",
   "metadata": {},
   "outputs": [
    {
     "name": "stdout",
     "output_type": "stream",
     "text": [
      "(46080, 375795)\n"
     ]
    }
   ],
   "source": [
    "n = 6\n",
    "count = 2**n*math.factorial(n)\n",
    "#     for _ in range(10):\n",
    "num = []\n",
    "genes_5 = []\n",
    "g_5 = [list(range(1, n + 1))]\n",
    "num.append((1,-1))\n",
    "genes_5.append(g_5)\n",
    "for i in range(1000000):\n",
    "    g_5 = rev_trans(g_5)\n",
    "    if len(g_5) >= 2:\n",
    "        g_5 = rev_trans(g_5)\n",
    "    if len(g_5) == 1 and len(g_5[0]) == n and g_5 not in genes_5:\n",
    "        genes_5.append(g_5)\n",
    "        t_5 = [[-x for x in reversed(g_5[0])]]\n",
    "        if t_5 not in genes_5:\n",
    "            genes_5.append(t_5)\n",
    "    l = len(genes_5)\n",
    "    if l > num[-1][0]:\n",
    "        num.append((l, i))\n",
    "    if l == count:\n",
    "        break\n",
    "    g_5 = genes_5[random.randint(0, l - 1)]\n",
    "print(num[-1])"
   ]
  },
  {
   "cell_type": "code",
   "execution_count": 85,
   "id": "b849683d-c5ba-4721-a3f7-97bb184463c5",
   "metadata": {},
   "outputs": [
    {
     "data": {
      "text/plain": [
       "'Mon Nov  1 23:22:06 2021'"
      ]
     },
     "execution_count": 85,
     "metadata": {},
     "output_type": "execute_result"
    }
   ],
   "source": [
    "import time\n",
    "time.ctime()"
   ]
  },
  {
   "cell_type": "code",
   "execution_count": 100,
   "id": "1ff95942-c010-4bdd-9c7d-58d6a3d9f334",
   "metadata": {},
   "outputs": [
    {
     "data": {
      "text/plain": [
       "1"
      ]
     },
     "execution_count": 100,
     "metadata": {},
     "output_type": "execute_result"
    }
   ],
   "source": [
    "random.randint(0,2)"
   ]
  },
  {
   "cell_type": "code",
   "execution_count": 101,
   "id": "4bf968ce-159a-44da-b60a-7ed3b6852ca3",
   "metadata": {},
   "outputs": [
    {
     "data": {
      "text/plain": [
       "46080"
      ]
     },
     "execution_count": 101,
     "metadata": {},
     "output_type": "execute_result"
    }
   ],
   "source": [
    "2**6*math.factorial(6)"
   ]
  },
  {
   "cell_type": "code",
   "execution_count": null,
   "id": "ba8c706d-20de-4509-bad0-a47f8cb216aa",
   "metadata": {},
   "outputs": [],
   "source": []
  }
 ],
 "metadata": {
  "kernelspec": {
   "display_name": "Deep AI",
   "language": "python",
   "name": "dl"
  },
  "language_info": {
   "codemirror_mode": {
    "name": "ipython",
    "version": 3
   },
   "file_extension": ".py",
   "mimetype": "text/x-python",
   "name": "python",
   "nbconvert_exporter": "python",
   "pygments_lexer": "ipython3",
   "version": "3.7.11"
  }
 },
 "nbformat": 4,
 "nbformat_minor": 5
}
