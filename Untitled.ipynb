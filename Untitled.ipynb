{
 "cells": [
  {
   "cell_type": "code",
   "execution_count": 3,
   "id": "8062191b-10c2-44b4-961c-938ae18a8275",
   "metadata": {},
   "outputs": [],
   "source": [
    "import torch as th\n",
    "import time"
   ]
  },
  {
   "cell_type": "code",
   "execution_count": 6,
   "id": "c7f3e097-7f80-40dd-bed4-81ed95447aa2",
   "metadata": {},
   "outputs": [
    {
     "name": "stdout",
     "output_type": "stream",
     "text": [
      "Fri Nov 12 10:54:46 2021\n",
      "Fri Nov 12 10:55:08 2021\n"
     ]
    }
   ],
   "source": [
    "print(time.ctime())\n",
    "for _ in range(10):\n",
    "    _ = th.randint(10, (100, 1000, 1000), device = 'cpu')\n",
    "print(time.ctime())"
   ]
  },
  {
   "cell_type": "code",
   "execution_count": 7,
   "id": "9a623256-d134-4243-8ddf-7afac75bd323",
   "metadata": {},
   "outputs": [
    {
     "name": "stdout",
     "output_type": "stream",
     "text": [
      "Fri Nov 12 10:55:20 2021\n",
      "Fri Nov 12 10:55:20 2021\n"
     ]
    }
   ],
   "source": [
    "print(time.ctime())\n",
    "for _ in range(10):\n",
    "    _ = th.randint(10, (100, 1000, 1000), device = 'cuda')\n",
    "print(time.ctime())"
   ]
  },
  {
   "cell_type": "code",
   "execution_count": 8,
   "id": "79890894-352d-4241-b12d-d76a5f283e6a",
   "metadata": {},
   "outputs": [],
   "source": [
    "import numpy as np"
   ]
  },
  {
   "cell_type": "code",
   "execution_count": 9,
   "id": "7c05bb60-2ffa-451a-8159-0c04f8b7b172",
   "metadata": {},
   "outputs": [
    {
     "name": "stdout",
     "output_type": "stream",
     "text": [
      "Fri Nov 12 10:56:13 2021\n",
      "Fri Nov 12 10:56:33 2021\n"
     ]
    }
   ],
   "source": [
    "print(time.ctime())\n",
    "for _ in range(10):\n",
    "    _ = np.random.randint(10, size = (100, 1000, 1000))\n",
    "print(time.ctime())"
   ]
  },
  {
   "cell_type": "code",
   "execution_count": null,
   "id": "e8938946-8e2a-4688-8cc6-0fd36eac012b",
   "metadata": {},
   "outputs": [],
   "source": []
  }
 ],
 "metadata": {
  "kernelspec": {
   "display_name": "Deep AI",
   "language": "python",
   "name": "dl"
  },
  "language_info": {
   "codemirror_mode": {
    "name": "ipython",
    "version": 3
   },
   "file_extension": ".py",
   "mimetype": "text/x-python",
   "name": "python",
   "nbconvert_exporter": "python",
   "pygments_lexer": "ipython3",
   "version": "3.7.11"
  }
 },
 "nbformat": 4,
 "nbformat_minor": 5
}
