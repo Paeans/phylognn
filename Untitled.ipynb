{
 "cells": [
  {
   "cell_type": "code",
   "execution_count": 1,
   "id": "1789889d-5f2a-498a-bb1c-35dea5523db7",
   "metadata": {},
   "outputs": [],
   "source": [
    "import numpy as np\n",
    "import torch as th\n",
    "from scipy.io import savemat, loadmat"
   ]
  },
  {
   "cell_type": "code",
   "execution_count": 2,
   "id": "b5b999c5-989e-4994-ac71-1ed664fc6925",
   "metadata": {},
   "outputs": [],
   "source": [
    "from genome_file import write_genome_notag"
   ]
  },
  {
   "cell_type": "code",
   "execution_count": 3,
   "id": "9562a60c-087c-4f71-9b85-d0075de893c6",
   "metadata": {},
   "outputs": [],
   "source": [
    "from gene_mat import gen_dataset_wt"
   ]
  },
  {
   "cell_type": "code",
   "execution_count": 9,
   "id": "5262e794-d670-44d9-8783-af076b73ec2c",
   "metadata": {},
   "outputs": [],
   "source": [
    "data = loadmat('data/data_100.mat')"
   ]
  },
  {
   "cell_type": "code",
   "execution_count": 10,
   "id": "dcb93c4b-a10c-47d4-906d-f84ec2b011e8",
   "metadata": {},
   "outputs": [],
   "source": [
    "s = data['s']"
   ]
  },
  {
   "cell_type": "code",
   "execution_count": 22,
   "id": "b2373e12-ddbf-41a1-8f30-fe99042e52fa",
   "metadata": {},
   "outputs": [],
   "source": [
    "write_genome_notag(np.reshape(s[0:1], (-1, 1, 100)).astype(np.int32))"
   ]
  },
  {
   "cell_type": "code",
   "execution_count": 35,
   "id": "7cad7bd9-8c46-45c7-9b46-43fdbcf33349",
   "metadata": {},
   "outputs": [
    {
     "name": "stdout",
     "output_type": "stream",
     "text": [
      "Running: \t\t../GRAPPA20/GRAPPA/distmat\t\n",
      "Input: \t\t\t./genome.txt\n",
      "Genome: \t\tCircular\n",
      "Number of Genomes:\t3\n",
      "Number of Genes:  \t5\n",
      "\n",
      "Breakpoint Distance Matrix:\n",
      "\n",
      "   3\n",
      "g0\t 0  2  3 \n",
      "g1\t 2  0  2 \n",
      "g2\t 3  2  0 \n",
      "\n",
      "Inversion Distance Matrix:\n",
      "\n",
      "   3\n",
      "g0\t 0  1  2 \n",
      "g1\t 1  0  1 \n",
      "g2\t 2  1  0 \n",
      "\n"
     ]
    }
   ],
   "source": [
    "!../GRAPPA20/GRAPPA/distmat -f ./genome.txt"
   ]
  },
  {
   "cell_type": "code",
   "execution_count": 36,
   "id": "5642fc4c-0103-4141-a3b1-5b23002c8d68",
   "metadata": {},
   "outputs": [],
   "source": [
    "write_genome_notag(np.reshape(s[1], (-1,1,5)).astype(np.int32))"
   ]
  },
  {
   "cell_type": "code",
   "execution_count": 37,
   "id": "baa5e5bc-a5fc-47f5-8425-740f380ede43",
   "metadata": {},
   "outputs": [
    {
     "name": "stdout",
     "output_type": "stream",
     "text": [
      "Running: \t\t../GRAPPA20/GRAPPA/distmat\t\n",
      "Input: \t\t\t./genome.txt\n",
      "Genome: \t\tCircular\n",
      "Number of Genomes:\t3\n",
      "Number of Genes:  \t5\n",
      "\n",
      "Breakpoint Distance Matrix:\n",
      "\n",
      "   3\n",
      "g0\t 0  2  0 \n",
      "g1\t 2  0  2 \n",
      "g2\t 0  2  0 \n",
      "\n",
      "Inversion Distance Matrix:\n",
      "\n",
      "   3\n",
      "g0\t 0  1  0 \n",
      "g1\t 1  0  1 \n",
      "g2\t 0  1  0 \n",
      "\n"
     ]
    }
   ],
   "source": [
    "!../GRAPPA20/GRAPPA/distmat -f ./genome.txt"
   ]
  },
  {
   "cell_type": "code",
   "execution_count": 41,
   "id": "71e451a1-159c-4bac-ab95-a9eb80ef3891",
   "metadata": {},
   "outputs": [],
   "source": [
    "write_genome_notag(np.reshape(s[2], (-1,1,5)).astype(np.int32))"
   ]
  },
  {
   "cell_type": "code",
   "execution_count": 42,
   "id": "11203f0a-03c1-4a7a-980e-bc6289abb79a",
   "metadata": {},
   "outputs": [
    {
     "name": "stdout",
     "output_type": "stream",
     "text": [
      "Running: \t\t../GRAPPA20/GRAPPA/distmat\t\n",
      "Input: \t\t\t./genome.txt\n",
      "Genome: \t\tCircular\n",
      "Number of Genomes:\t3\n",
      "Number of Genes:  \t5\n",
      "\n",
      "Breakpoint Distance Matrix:\n",
      "\n",
      "   3\n",
      "g0\t 0  0  2 \n",
      "g1\t 0  0  2 \n",
      "g2\t 2  2  0 \n",
      "\n",
      "Inversion Distance Matrix:\n",
      "\n",
      "   3\n",
      "g0\t 0  0  1 \n",
      "g1\t 0  0  1 \n",
      "g2\t 1  1  0 \n",
      "\n"
     ]
    }
   ],
   "source": [
    "!../GRAPPA20/GRAPPA/distmat -f ./genome.txt"
   ]
  },
  {
   "cell_type": "code",
   "execution_count": 43,
   "id": "e36e2054-6fd1-450d-ab9f-71f8d15e654b",
   "metadata": {},
   "outputs": [
    {
     "data": {
      "text/plain": [
       "array([[[[-3.,  5., -1., -2.,  4.],\n",
       "         [-3.,  5., -1., -4.,  2.],\n",
       "         [-3.,  5., -1., -2.,  4.]],\n",
       "\n",
       "        [[ 5.,  1.,  3.,  2.,  4.],\n",
       "         [-4., -2., -3., -1., -5.],\n",
       "         [-4.,  5.,  1.,  3.,  2.]]],\n",
       "\n",
       "\n",
       "       [[[-4.,  3., -2.,  1., -5.],\n",
       "         [-1.,  2., -3.,  4., -5.],\n",
       "         [-2.,  1., -3.,  4., -5.]],\n",
       "\n",
       "        [[-3.,  5., -1., -2.,  4.],\n",
       "         [-3.,  5., -1., -4.,  2.],\n",
       "         [-3.,  5., -1., -2.,  4.]]]])"
      ]
     },
     "execution_count": 43,
     "metadata": {},
     "output_type": "execute_result"
    }
   ],
   "source": [
    "s[[[1,2], [0,1]], :]"
   ]
  },
  {
   "cell_type": "code",
   "execution_count": 52,
   "id": "fd5f1b4d-e54a-4e0a-9e8e-57fa219a4558",
   "metadata": {},
   "outputs": [
    {
     "data": {
      "text/plain": [
       "array([-3.,  5., -1., -2.,  4.])"
      ]
     },
     "execution_count": 52,
     "metadata": {},
     "output_type": "execute_result"
    }
   ],
   "source": [
    "s[(1,2)]"
   ]
  },
  {
   "cell_type": "code",
   "execution_count": 53,
   "id": "641948b7-ad99-4d3a-ba68-6b80d589ad5f",
   "metadata": {},
   "outputs": [
    {
     "data": {
      "text/plain": [
       "array([[[-4.,  3., -2.,  1., -5.],\n",
       "        [-2.,  1., -3.,  4., -5.]],\n",
       "\n",
       "       [[-3.,  5., -1., -2.,  4.],\n",
       "        [-3.,  5., -1., -2.,  4.]],\n",
       "\n",
       "       [[ 5.,  1.,  3.,  2.,  4.],\n",
       "        [-4.,  5.,  1.,  3.,  2.]]])"
      ]
     },
     "execution_count": 53,
     "metadata": {},
     "output_type": "execute_result"
    }
   ],
   "source": [
    "s[:, [0,-1]]"
   ]
  },
  {
   "cell_type": "code",
   "execution_count": 54,
   "id": "1e160fe4-83b7-495d-a35c-5e060e465aee",
   "metadata": {},
   "outputs": [
    {
     "data": {
      "text/plain": [
       "array([[[-4.,  3., -2.,  1., -5.],\n",
       "        [-1.,  2., -3.,  4., -5.],\n",
       "        [-2.,  1., -3.,  4., -5.]],\n",
       "\n",
       "       [[-3.,  5., -1., -2.,  4.],\n",
       "        [-3.,  5., -1., -4.,  2.],\n",
       "        [-3.,  5., -1., -2.,  4.]],\n",
       "\n",
       "       [[ 5.,  1.,  3.,  2.,  4.],\n",
       "        [-4., -2., -3., -1., -5.],\n",
       "        [-4.,  5.,  1.,  3.,  2.]]])"
      ]
     },
     "execution_count": 54,
     "metadata": {},
     "output_type": "execute_result"
    }
   ],
   "source": [
    "s"
   ]
  },
  {
   "cell_type": "code",
   "execution_count": 55,
   "id": "46302e92-ea97-4be7-b339-25a4143bfb44",
   "metadata": {},
   "outputs": [
    {
     "data": {
      "text/plain": [
       "array([[0., 1., 1.],\n",
       "       [0., 1., 1.],\n",
       "       [0., 1., 1.]])"
      ]
     },
     "execution_count": 55,
     "metadata": {},
     "output_type": "execute_result"
    }
   ],
   "source": [
    "t"
   ]
  },
  {
   "cell_type": "code",
   "execution_count": 21,
   "id": "59ed6420-46b4-4598-9f36-aa1ebbc77209",
   "metadata": {},
   "outputs": [],
   "source": [
    "s, o, t = gen_dataset_wt(l = 300, n = 1, step = 10, op_type = 2)"
   ]
  },
  {
   "cell_type": "code",
   "execution_count": 10,
   "id": "8885d980-99b9-4ed8-b14a-4ea9771e2637",
   "metadata": {},
   "outputs": [],
   "source": [
    "s = s[:, (0,-1)].astype(np.int32)"
   ]
  },
  {
   "cell_type": "code",
   "execution_count": 16,
   "id": "6f06bf97-4a61-4d23-b240-272b7b1f9c35",
   "metadata": {},
   "outputs": [
    {
     "data": {
      "text/plain": [
       "(1, 10, 300)"
      ]
     },
     "execution_count": 16,
     "metadata": {},
     "output_type": "execute_result"
    }
   ],
   "source": [
    "s.shape"
   ]
  },
  {
   "cell_type": "code",
   "execution_count": 22,
   "id": "f22c02d5-9c96-46c6-ae68-8704d53436ba",
   "metadata": {},
   "outputs": [],
   "source": [
    "write_genome_notag(np.reshape(s[0:1], (-1, 1, 300)).astype(np.int32))"
   ]
  },
  {
   "cell_type": "code",
   "execution_count": 7,
   "id": "51dc752b-13dd-44fe-aadb-2f5e7417666a",
   "metadata": {},
   "outputs": [],
   "source": [
    "from dcj_comp import dcj_dist"
   ]
  },
  {
   "cell_type": "code",
   "execution_count": 8,
   "id": "dfb05436-865b-476b-842a-a6b6a18496ca",
   "metadata": {},
   "outputs": [],
   "source": [
    "count = 0\n",
    "for x in s:\n",
    "    if dcj_dist(x[0], x[1])[-1] != 9:\n",
    "        count += 1"
   ]
  },
  {
   "cell_type": "code",
   "execution_count": 9,
   "id": "7e748286-37c5-4149-9431-56a898c2b423",
   "metadata": {},
   "outputs": [
    {
     "data": {
      "text/plain": [
       "797"
      ]
     },
     "execution_count": 9,
     "metadata": {},
     "output_type": "execute_result"
    }
   ],
   "source": [
    "count"
   ]
  },
  {
   "cell_type": "code",
   "execution_count": 20,
   "id": "1b55346b-2b8c-47f2-901c-478d22f476e1",
   "metadata": {},
   "outputs": [],
   "source": [
    "def test(x):\n",
    "    return np.array([dcj_dist(a[0], a[1])[-1] for a in x])"
   ]
  },
  {
   "cell_type": "code",
   "execution_count": 11,
   "id": "cc785f1f-d394-411e-ad22-6f69e87062b1",
   "metadata": {},
   "outputs": [
    {
     "data": {
      "text/plain": [
       "[9, 9, 9, 9]"
      ]
     },
     "execution_count": 11,
     "metadata": {},
     "output_type": "execute_result"
    }
   ],
   "source": [
    "test(s[:4])"
   ]
  },
  {
   "cell_type": "code",
   "execution_count": 18,
   "id": "51327cfb-5192-4614-a108-92d487cdd76a",
   "metadata": {},
   "outputs": [
    {
     "data": {
      "text/plain": [
       "3"
      ]
     },
     "execution_count": 18,
     "metadata": {},
     "output_type": "execute_result"
    }
   ],
   "source": [
    "res = lambda x : 3\n",
    "res(3)"
   ]
  },
  {
   "cell_type": "code",
   "execution_count": 29,
   "id": "8260c50d-72ec-44c9-88c0-090a26bada48",
   "metadata": {},
   "outputs": [],
   "source": [
    "from multiprocessing import Pool\n",
    "\n",
    "with Pool(20) as p:\n",
    "    tmp = p.map(test, [s[i * 5000:(i+1)*5000] for i in range(20)])"
   ]
  },
  {
   "cell_type": "code",
   "execution_count": 30,
   "id": "b4c2d380-0f40-46d2-ad85-96f72e59363d",
   "metadata": {},
   "outputs": [
    {
     "data": {
      "text/plain": [
       "20"
      ]
     },
     "execution_count": 30,
     "metadata": {},
     "output_type": "execute_result"
    }
   ],
   "source": [
    "len(tmp)"
   ]
  },
  {
   "cell_type": "code",
   "execution_count": 24,
   "id": "b9bd3d44-1ae5-4c60-a77a-57db00a9a242",
   "metadata": {},
   "outputs": [
    {
     "data": {
      "text/plain": [
       "(1, 10, 300)"
      ]
     },
     "execution_count": 24,
     "metadata": {},
     "output_type": "execute_result"
    }
   ],
   "source": [
    "s.shape"
   ]
  },
  {
   "cell_type": "code",
   "execution_count": 65,
   "id": "1758137a-fc28-451a-a001-9c8014e88b74",
   "metadata": {},
   "outputs": [
    {
     "data": {
      "text/plain": [
       "array([[0., 1., 1., ..., 1., 1., 1.],\n",
       "       [0., 1., 1., ..., 1., 1., 1.],\n",
       "       [0., 1., 1., ..., 1., 1., 1.],\n",
       "       ...,\n",
       "       [0., 1., 1., ..., 1., 1., 1.],\n",
       "       [0., 1., 1., ..., 1., 1., 1.],\n",
       "       [0., 1., 1., ..., 1., 1., 1.]])"
      ]
     },
     "execution_count": 65,
     "metadata": {},
     "output_type": "execute_result"
    }
   ],
   "source": [
    "t"
   ]
  },
  {
   "cell_type": "code",
   "execution_count": 67,
   "id": "50ebc5a8-46bf-4321-b056-2085ff295438",
   "metadata": {},
   "outputs": [
    {
     "name": "stdout",
     "output_type": "stream",
     "text": [
      "[[0 1 1 ... 1 1 1]\n",
      " [0 1 1 ... 1 1 1]\n",
      " [0 1 1 ... 1 1 1]\n",
      " ...\n",
      " [0 1 1 ... 1 1 1]\n",
      " [0 1 1 ... 1 1 1]\n",
      " [0 1 1 ... 1 1 1]]\n"
     ]
    }
   ],
   "source": [
    "print(t.astype(np.int32))"
   ]
  },
  {
   "cell_type": "code",
   "execution_count": 68,
   "id": "28c5a1f6-aee0-438e-b18d-4ebd469ddb6f",
   "metadata": {},
   "outputs": [
    {
     "data": {
      "text/plain": [
       "(1000, 10)"
      ]
     },
     "execution_count": 68,
     "metadata": {},
     "output_type": "execute_result"
    }
   ],
   "source": [
    "t.shape"
   ]
  },
  {
   "cell_type": "code",
   "execution_count": 23,
   "id": "51521604-6016-402a-9f63-ab8b93e848be",
   "metadata": {},
   "outputs": [
    {
     "name": "stdout",
     "output_type": "stream",
     "text": [
      "Running: \t\t../GRAPPA20/GRAPPA/distmat\t\n",
      "Input: \t\t\t./genome.txt\n",
      "Genome: \t\tCircular\n",
      "Number of Genomes:\t10\n",
      "Number of Genes:  \t300\n",
      "\n",
      "Breakpoint Distance Matrix:\n",
      "\n",
      "   10\n",
      "g0\t 0  2  4  6  8 10 12 14 16 18 \n",
      "g1\t 2  0  2  4  6  8 10 12 14 16 \n",
      "g2\t 4  2  0  2  4  6  8 10 12 14 \n",
      "g3\t 6  4  2  0  2  4  6  8 10 12 \n",
      "g4\t 8  6  4  2  0  2  4  6  8 10 \n",
      "g5\t10  8  6  4  2  0  2  4  6  8 \n",
      "g6\t12 10  8  6  4  2  0  2  4  6 \n",
      "g7\t14 12 10  8  6  4  2  0  2  4 \n",
      "g8\t16 14 12 10  8  6  4  2  0  2 \n",
      "g9\t18 16 14 12 10  8  6  4  2  0 \n",
      "\n",
      "Inversion Distance Matrix:\n",
      "\n",
      "   10\n",
      "g0\t 0  1  2  3  4  5  6  7  8  9 \n",
      "g1\t 1  0  1  2  3  4  5  6  7  8 \n",
      "g2\t 2  1  0  1  2  3  4  5  6  7 \n",
      "g3\t 3  2  1  0  1  2  3  4  5  6 \n",
      "g4\t 4  3  2  1  0  1  2  3  4  5 \n",
      "g5\t 5  4  3  2  1  0  1  2  3  4 \n",
      "g6\t 6  5  4  3  2  1  0  1  2  3 \n",
      "g7\t 7  6  5  4  3  2  1  0  1  2 \n",
      "g8\t 8  7  6  5  4  3  2  1  0  1 \n",
      "g9\t 9  8  7  6  5  4  3  2  1  0 \n",
      "\n"
     ]
    }
   ],
   "source": [
    "!../GRAPPA20/GRAPPA/distmat -f ./genome.txt"
   ]
  },
  {
   "cell_type": "code",
   "execution_count": 25,
   "id": "30b044c1-4590-4c39-bb68-766facddc0ca",
   "metadata": {},
   "outputs": [
    {
     "data": {
      "text/plain": [
       "(1, 10, 300)"
      ]
     },
     "execution_count": 25,
     "metadata": {},
     "output_type": "execute_result"
    }
   ],
   "source": [
    "s.shape"
   ]
  },
  {
   "cell_type": "code",
   "execution_count": null,
   "id": "ef1e243d-a320-405a-90a2-dc1ba035a862",
   "metadata": {},
   "outputs": [],
   "source": []
  }
 ],
 "metadata": {
  "kernelspec": {
   "display_name": "Deep AI",
   "language": "python",
   "name": "dl"
  },
  "language_info": {
   "codemirror_mode": {
    "name": "ipython",
    "version": 3
   },
   "file_extension": ".py",
   "mimetype": "text/x-python",
   "name": "python",
   "nbconvert_exporter": "python",
   "pygments_lexer": "ipython3",
   "version": "3.7.11"
  }
 },
 "nbformat": 4,
 "nbformat_minor": 5
}
