{
 "cells": [
  {
   "cell_type": "code",
   "execution_count": 1,
   "id": "1789889d-5f2a-498a-bb1c-35dea5523db7",
   "metadata": {},
   "outputs": [],
   "source": [
    "import numpy as np\n",
    "import torch as th\n",
    "from scipy.io import savemat, loadmat"
   ]
  },
  {
   "cell_type": "code",
   "execution_count": 2,
   "id": "b5b999c5-989e-4994-ac71-1ed664fc6925",
   "metadata": {},
   "outputs": [],
   "source": [
    "from genome_file import write_genome_notag"
   ]
  },
  {
   "cell_type": "code",
   "execution_count": 3,
   "id": "9562a60c-087c-4f71-9b85-d0075de893c6",
   "metadata": {},
   "outputs": [],
   "source": [
    "from gene_mat import gen_dataset_wt"
   ]
  },
  {
   "cell_type": "code",
   "execution_count": 9,
   "id": "5262e794-d670-44d9-8783-af076b73ec2c",
   "metadata": {},
   "outputs": [],
   "source": [
    "data = loadmat('data/data_100.mat')"
   ]
  },
  {
   "cell_type": "code",
   "execution_count": 10,
   "id": "dcb93c4b-a10c-47d4-906d-f84ec2b011e8",
   "metadata": {},
   "outputs": [],
   "source": [
    "s = data['s']"
   ]
  },
  {
   "cell_type": "code",
   "execution_count": 11,
   "id": "d56df396-faf2-4748-8aca-2387588627f3",
   "metadata": {},
   "outputs": [
    {
     "data": {
      "text/plain": [
       "(1000, 40, 100)"
      ]
     },
     "execution_count": 11,
     "metadata": {},
     "output_type": "execute_result"
    }
   ],
   "source": [
    "s.shape"
   ]
  },
  {
   "cell_type": "code",
   "execution_count": 22,
   "id": "b2373e12-ddbf-41a1-8f30-fe99042e52fa",
   "metadata": {},
   "outputs": [],
   "source": [
    "write_genome_notag(np.reshape(s[0:1], (-1, 1, 100)).astype(np.int32))"
   ]
  },
  {
   "cell_type": "code",
   "execution_count": 25,
   "id": "0453f125-0fc7-41d8-b01d-34529e2ab3d2",
   "metadata": {
    "collapsed": true,
    "jupyter": {
     "outputs_hidden": true
    },
    "tags": []
   },
   "outputs": [
    {
     "data": {
      "text/plain": [
       "array([[ -64,    4,   -3,  -63,   14,  -76,  -17,   -2,   57,   20,   12,\n",
       "          84,  -74,   47,   31,   86,  -45,  -28,   34,  -33,  -42,   40,\n",
       "         -24,    7,   56,  -99,  -26,   48,  -30,   58,   27,   37,   38,\n",
       "         -81,   80,   90,  -13,   71,   41,  -88,  -91,  -67,   44,   83,\n",
       "         -61,   18,   53,  -93,   94,   68,  -21,   54,   15,   -9,   98,\n",
       "         -89,  -32,   52,   62,   29,   69,   59,   49,  -35,   25,   19,\n",
       "          73,   96,  -55,   16,   95,  -87,   -5,  100,    6,   97,   -8,\n",
       "          23,   10,  -50,   36,   51,   75,  -11,   60,  -78,   39,  -65,\n",
       "          66,   70,  -92,   72,   77,  -82,  -46,    1,   43,   85,   79,\n",
       "          22],\n",
       "       [ -64,    4,   -3,  -63,   14,  -76,  -17,   -2,   57,   20,   12,\n",
       "          84,  -74,   47,   31,   86,  -45,  -28,   34,  -33,  -42,   40,\n",
       "         -24,    7,   56,  -99,  -26,   48,  -30,   95,  -87,   -5,  100,\n",
       "           6,   97,   -8,   23,   10,  -50,   36,   51,   75,  -11,   60,\n",
       "          44,   83,  -61,   18,   53,  -93,   94,   68,  -21,   54,   15,\n",
       "          -9,   98,  -89,  -32,   52,   62,   29,   69,   59,   49,  -35,\n",
       "          25,   19,   73,   96,  -55,   16,   58,   27,   37,   38,  -81,\n",
       "          80,   90,  -13,   71,   41,  -88,  -91,  -67,  -78,   39,  -65,\n",
       "          66,   70,  -92,   72,   77,  -82,  -46,    1,   43,   85,   79,\n",
       "          22],\n",
       "       [ -64,    4,   -3,  -63,   14,  -76,  -17,   -2,   57,   20,   12,\n",
       "          84,  -74,   47,   31,   86,  -45,  -28,   34,  -33,  -42,   40,\n",
       "         -24,    7,   56,  -99,  -26,   48,  -30,   95,  -87,   -5,  100,\n",
       "           6,   97,   -8,   23,   32,   89,  -98,    9,  -15,  -54,   21,\n",
       "         -68,  -94,   93,  -53,  -18,   61,  -83,  -44,  -60,   11,  -75,\n",
       "         -51,  -36,   50,  -10,   52,   62,   29,   69,   59,   49,  -35,\n",
       "          25,   19,   73,   96,  -55,   16,   58,   27,   37,   38,  -81,\n",
       "          80,   90,  -13,   71,   41,  -88,  -91,  -67,  -78,   39,  -65,\n",
       "          66,   70,  -92,   72,   77,  -82,  -46,    1,   43,   85,   79,\n",
       "          22],\n",
       "       [ -64,    4,   -3,  -63,   14,  -76,  -21,   54,   15,   -9,   98,\n",
       "         -89,  -32,  -23,    8,  -97,   -6, -100,    5,   87,  -95,   30,\n",
       "         -48,   26,   99,  -56,   -7,   24,  -40,   42,   33,  -34,   28,\n",
       "          45,  -86,  -31,  -47,   74,  -84,  -12,  -20,  -57,    2,   17,\n",
       "         -68,  -94,   93,  -53,  -18,   61,  -83,  -44,  -60,   11,  -75,\n",
       "         -51,  -36,   50,  -10,   52,   62,   29,   69,   59,   49,  -35,\n",
       "          25,   19,   73,   96,  -55,   16,   58,   27,   37,   38,  -81,\n",
       "          80,   90,  -13,   71,   41,  -88,  -91,  -67,  -78,   39,  -65,\n",
       "          66,   70,  -92,   72,   77,  -82,  -46,    1,   43,   85,   79,\n",
       "          22]], dtype=int32)"
      ]
     },
     "execution_count": 25,
     "metadata": {},
     "output_type": "execute_result"
    }
   ],
   "source": [
    "s[0][:4].astype(np.int32)"
   ]
  },
  {
   "cell_type": "code",
   "execution_count": 26,
   "id": "cb964e7a-b6d3-490c-9afa-45be733ae0ef",
   "metadata": {},
   "outputs": [
    {
     "data": {
      "text/plain": [
       "array([3, 3, 3, 3, 3, 3, 3, 3, 3, 3])"
      ]
     },
     "execution_count": 26,
     "metadata": {},
     "output_type": "execute_result"
    }
   ],
   "source": [
    "np.repeat(3, 10)"
   ]
  },
  {
   "cell_type": "code",
   "execution_count": 31,
   "id": "38dc0d4b-e321-4800-94d5-33bd07b3236c",
   "metadata": {},
   "outputs": [],
   "source": [
    "s,o,t = gen_dataset_type(5, 3, 3, 2)"
   ]
  },
  {
   "cell_type": "code",
   "execution_count": 33,
   "id": "c62ca480-a901-41e2-ae96-e1d5773a291a",
   "metadata": {},
   "outputs": [
    {
     "data": {
      "text/plain": [
       "array([[[-4,  3, -2,  1, -5],\n",
       "        [-1,  2, -3,  4, -5],\n",
       "        [-2,  1, -3,  4, -5]],\n",
       "\n",
       "       [[-3,  5, -1, -2,  4],\n",
       "        [-3,  5, -1, -4,  2],\n",
       "        [-3,  5, -1, -2,  4]],\n",
       "\n",
       "       [[ 5,  1,  3,  2,  4],\n",
       "        [-4, -2, -3, -1, -5],\n",
       "        [-4,  5,  1,  3,  2]]], dtype=int32)"
      ]
     },
     "execution_count": 33,
     "metadata": {},
     "output_type": "execute_result"
    }
   ],
   "source": [
    "s.astype(np.int32)"
   ]
  },
  {
   "cell_type": "code",
   "execution_count": 34,
   "id": "3133a3ed-fe68-4061-80a9-5c71425a4a7f",
   "metadata": {},
   "outputs": [],
   "source": [
    "write_genome_notag(np.reshape(s[0], (-1,1,5)).astype(np.int32))"
   ]
  },
  {
   "cell_type": "code",
   "execution_count": 35,
   "id": "7cad7bd9-8c46-45c7-9b46-43fdbcf33349",
   "metadata": {},
   "outputs": [
    {
     "name": "stdout",
     "output_type": "stream",
     "text": [
      "Running: \t\t../GRAPPA20/GRAPPA/distmat\t\n",
      "Input: \t\t\t./genome.txt\n",
      "Genome: \t\tCircular\n",
      "Number of Genomes:\t3\n",
      "Number of Genes:  \t5\n",
      "\n",
      "Breakpoint Distance Matrix:\n",
      "\n",
      "   3\n",
      "g0\t 0  2  3 \n",
      "g1\t 2  0  2 \n",
      "g2\t 3  2  0 \n",
      "\n",
      "Inversion Distance Matrix:\n",
      "\n",
      "   3\n",
      "g0\t 0  1  2 \n",
      "g1\t 1  0  1 \n",
      "g2\t 2  1  0 \n",
      "\n"
     ]
    }
   ],
   "source": [
    "!../GRAPPA20/GRAPPA/distmat -f ./genome.txt"
   ]
  },
  {
   "cell_type": "code",
   "execution_count": null,
   "id": "4d3431eb-b2ae-4a6d-9416-c16949d53b38",
   "metadata": {},
   "outputs": [],
   "source": []
  },
  {
   "cell_type": "code",
   "execution_count": 36,
   "id": "5642fc4c-0103-4141-a3b1-5b23002c8d68",
   "metadata": {},
   "outputs": [],
   "source": [
    "write_genome_notag(np.reshape(s[1], (-1,1,5)).astype(np.int32))"
   ]
  },
  {
   "cell_type": "code",
   "execution_count": 37,
   "id": "baa5e5bc-a5fc-47f5-8425-740f380ede43",
   "metadata": {},
   "outputs": [
    {
     "name": "stdout",
     "output_type": "stream",
     "text": [
      "Running: \t\t../GRAPPA20/GRAPPA/distmat\t\n",
      "Input: \t\t\t./genome.txt\n",
      "Genome: \t\tCircular\n",
      "Number of Genomes:\t3\n",
      "Number of Genes:  \t5\n",
      "\n",
      "Breakpoint Distance Matrix:\n",
      "\n",
      "   3\n",
      "g0\t 0  2  0 \n",
      "g1\t 2  0  2 \n",
      "g2\t 0  2  0 \n",
      "\n",
      "Inversion Distance Matrix:\n",
      "\n",
      "   3\n",
      "g0\t 0  1  0 \n",
      "g1\t 1  0  1 \n",
      "g2\t 0  1  0 \n",
      "\n"
     ]
    }
   ],
   "source": [
    "!../GRAPPA20/GRAPPA/distmat -f ./genome.txt"
   ]
  },
  {
   "cell_type": "code",
   "execution_count": 41,
   "id": "71e451a1-159c-4bac-ab95-a9eb80ef3891",
   "metadata": {},
   "outputs": [],
   "source": [
    "write_genome_notag(np.reshape(s[2], (-1,1,5)).astype(np.int32))"
   ]
  },
  {
   "cell_type": "code",
   "execution_count": 42,
   "id": "11203f0a-03c1-4a7a-980e-bc6289abb79a",
   "metadata": {},
   "outputs": [
    {
     "name": "stdout",
     "output_type": "stream",
     "text": [
      "Running: \t\t../GRAPPA20/GRAPPA/distmat\t\n",
      "Input: \t\t\t./genome.txt\n",
      "Genome: \t\tCircular\n",
      "Number of Genomes:\t3\n",
      "Number of Genes:  \t5\n",
      "\n",
      "Breakpoint Distance Matrix:\n",
      "\n",
      "   3\n",
      "g0\t 0  0  2 \n",
      "g1\t 0  0  2 \n",
      "g2\t 2  2  0 \n",
      "\n",
      "Inversion Distance Matrix:\n",
      "\n",
      "   3\n",
      "g0\t 0  0  1 \n",
      "g1\t 0  0  1 \n",
      "g2\t 1  1  0 \n",
      "\n"
     ]
    }
   ],
   "source": [
    "!../GRAPPA20/GRAPPA/distmat -f ./genome.txt"
   ]
  },
  {
   "cell_type": "code",
   "execution_count": 43,
   "id": "e36e2054-6fd1-450d-ab9f-71f8d15e654b",
   "metadata": {},
   "outputs": [
    {
     "data": {
      "text/plain": [
       "array([[[[-3.,  5., -1., -2.,  4.],\n",
       "         [-3.,  5., -1., -4.,  2.],\n",
       "         [-3.,  5., -1., -2.,  4.]],\n",
       "\n",
       "        [[ 5.,  1.,  3.,  2.,  4.],\n",
       "         [-4., -2., -3., -1., -5.],\n",
       "         [-4.,  5.,  1.,  3.,  2.]]],\n",
       "\n",
       "\n",
       "       [[[-4.,  3., -2.,  1., -5.],\n",
       "         [-1.,  2., -3.,  4., -5.],\n",
       "         [-2.,  1., -3.,  4., -5.]],\n",
       "\n",
       "        [[-3.,  5., -1., -2.,  4.],\n",
       "         [-3.,  5., -1., -4.,  2.],\n",
       "         [-3.,  5., -1., -2.,  4.]]]])"
      ]
     },
     "execution_count": 43,
     "metadata": {},
     "output_type": "execute_result"
    }
   ],
   "source": [
    "s[[[1,2], [0,1]], :]"
   ]
  },
  {
   "cell_type": "code",
   "execution_count": 52,
   "id": "fd5f1b4d-e54a-4e0a-9e8e-57fa219a4558",
   "metadata": {},
   "outputs": [
    {
     "data": {
      "text/plain": [
       "array([-3.,  5., -1., -2.,  4.])"
      ]
     },
     "execution_count": 52,
     "metadata": {},
     "output_type": "execute_result"
    }
   ],
   "source": [
    "s[(1,2)]"
   ]
  },
  {
   "cell_type": "code",
   "execution_count": 53,
   "id": "641948b7-ad99-4d3a-ba68-6b80d589ad5f",
   "metadata": {},
   "outputs": [
    {
     "data": {
      "text/plain": [
       "array([[[-4.,  3., -2.,  1., -5.],\n",
       "        [-2.,  1., -3.,  4., -5.]],\n",
       "\n",
       "       [[-3.,  5., -1., -2.,  4.],\n",
       "        [-3.,  5., -1., -2.,  4.]],\n",
       "\n",
       "       [[ 5.,  1.,  3.,  2.,  4.],\n",
       "        [-4.,  5.,  1.,  3.,  2.]]])"
      ]
     },
     "execution_count": 53,
     "metadata": {},
     "output_type": "execute_result"
    }
   ],
   "source": [
    "s[:, [0,-1]]"
   ]
  },
  {
   "cell_type": "code",
   "execution_count": 54,
   "id": "1e160fe4-83b7-495d-a35c-5e060e465aee",
   "metadata": {},
   "outputs": [
    {
     "data": {
      "text/plain": [
       "array([[[-4.,  3., -2.,  1., -5.],\n",
       "        [-1.,  2., -3.,  4., -5.],\n",
       "        [-2.,  1., -3.,  4., -5.]],\n",
       "\n",
       "       [[-3.,  5., -1., -2.,  4.],\n",
       "        [-3.,  5., -1., -4.,  2.],\n",
       "        [-3.,  5., -1., -2.,  4.]],\n",
       "\n",
       "       [[ 5.,  1.,  3.,  2.,  4.],\n",
       "        [-4., -2., -3., -1., -5.],\n",
       "        [-4.,  5.,  1.,  3.,  2.]]])"
      ]
     },
     "execution_count": 54,
     "metadata": {},
     "output_type": "execute_result"
    }
   ],
   "source": [
    "s"
   ]
  },
  {
   "cell_type": "code",
   "execution_count": 55,
   "id": "46302e92-ea97-4be7-b339-25a4143bfb44",
   "metadata": {},
   "outputs": [
    {
     "data": {
      "text/plain": [
       "array([[0., 1., 1.],\n",
       "       [0., 1., 1.],\n",
       "       [0., 1., 1.]])"
      ]
     },
     "execution_count": 55,
     "metadata": {},
     "output_type": "execute_result"
    }
   ],
   "source": [
    "t"
   ]
  },
  {
   "cell_type": "code",
   "execution_count": 21,
   "id": "59ed6420-46b4-4598-9f36-aa1ebbc77209",
   "metadata": {},
   "outputs": [],
   "source": [
    "s, o, t = gen_dataset_wt(l = 300, n = 1, step = 10, op_type = 2)"
   ]
  },
  {
   "cell_type": "code",
   "execution_count": 10,
   "id": "8885d980-99b9-4ed8-b14a-4ea9771e2637",
   "metadata": {},
   "outputs": [],
   "source": [
    "s = s[:, (0,-1)].astype(np.int32)"
   ]
  },
  {
   "cell_type": "code",
   "execution_count": 16,
   "id": "6f06bf97-4a61-4d23-b240-272b7b1f9c35",
   "metadata": {},
   "outputs": [
    {
     "data": {
      "text/plain": [
       "(1, 10, 300)"
      ]
     },
     "execution_count": 16,
     "metadata": {},
     "output_type": "execute_result"
    }
   ],
   "source": [
    "s.shape"
   ]
  },
  {
   "cell_type": "code",
   "execution_count": 22,
   "id": "f22c02d5-9c96-46c6-ae68-8704d53436ba",
   "metadata": {},
   "outputs": [],
   "source": [
    "write_genome_notag(np.reshape(s[0:1], (-1, 1, 300)).astype(np.int32))"
   ]
  },
  {
   "cell_type": "code",
   "execution_count": 7,
   "id": "51dc752b-13dd-44fe-aadb-2f5e7417666a",
   "metadata": {},
   "outputs": [],
   "source": [
    "from dcj_comp import dcj_dist"
   ]
  },
  {
   "cell_type": "code",
   "execution_count": 8,
   "id": "dfb05436-865b-476b-842a-a6b6a18496ca",
   "metadata": {},
   "outputs": [],
   "source": [
    "count = 0\n",
    "for x in s:\n",
    "    if dcj_dist(x[0], x[1])[-1] != 9:\n",
    "        count += 1"
   ]
  },
  {
   "cell_type": "code",
   "execution_count": 9,
   "id": "7e748286-37c5-4149-9431-56a898c2b423",
   "metadata": {},
   "outputs": [
    {
     "data": {
      "text/plain": [
       "797"
      ]
     },
     "execution_count": 9,
     "metadata": {},
     "output_type": "execute_result"
    }
   ],
   "source": [
    "count"
   ]
  },
  {
   "cell_type": "code",
   "execution_count": 20,
   "id": "1b55346b-2b8c-47f2-901c-478d22f476e1",
   "metadata": {},
   "outputs": [],
   "source": [
    "def test(x):\n",
    "    return np.array([dcj_dist(a[0], a[1])[-1] for a in x])"
   ]
  },
  {
   "cell_type": "code",
   "execution_count": 11,
   "id": "cc785f1f-d394-411e-ad22-6f69e87062b1",
   "metadata": {},
   "outputs": [
    {
     "data": {
      "text/plain": [
       "[9, 9, 9, 9]"
      ]
     },
     "execution_count": 11,
     "metadata": {},
     "output_type": "execute_result"
    }
   ],
   "source": [
    "test(s[:4])"
   ]
  },
  {
   "cell_type": "code",
   "execution_count": 18,
   "id": "51327cfb-5192-4614-a108-92d487cdd76a",
   "metadata": {},
   "outputs": [
    {
     "data": {
      "text/plain": [
       "3"
      ]
     },
     "execution_count": 18,
     "metadata": {},
     "output_type": "execute_result"
    }
   ],
   "source": [
    "res = lambda x : 3\n",
    "res(3)"
   ]
  },
  {
   "cell_type": "code",
   "execution_count": 29,
   "id": "8260c50d-72ec-44c9-88c0-090a26bada48",
   "metadata": {},
   "outputs": [],
   "source": [
    "from multiprocessing import Pool\n",
    "\n",
    "with Pool(20) as p:\n",
    "    tmp = p.map(test, [s[i * 5000:(i+1)*5000] for i in range(20)])"
   ]
  },
  {
   "cell_type": "code",
   "execution_count": 30,
   "id": "b4c2d380-0f40-46d2-ad85-96f72e59363d",
   "metadata": {},
   "outputs": [
    {
     "data": {
      "text/plain": [
       "20"
      ]
     },
     "execution_count": 30,
     "metadata": {},
     "output_type": "execute_result"
    }
   ],
   "source": [
    "len(tmp)"
   ]
  },
  {
   "cell_type": "code",
   "execution_count": 24,
   "id": "b9bd3d44-1ae5-4c60-a77a-57db00a9a242",
   "metadata": {},
   "outputs": [
    {
     "data": {
      "text/plain": [
       "(1, 10, 300)"
      ]
     },
     "execution_count": 24,
     "metadata": {},
     "output_type": "execute_result"
    }
   ],
   "source": [
    "s.shape"
   ]
  },
  {
   "cell_type": "code",
   "execution_count": 65,
   "id": "1758137a-fc28-451a-a001-9c8014e88b74",
   "metadata": {},
   "outputs": [
    {
     "data": {
      "text/plain": [
       "array([[0., 1., 1., ..., 1., 1., 1.],\n",
       "       [0., 1., 1., ..., 1., 1., 1.],\n",
       "       [0., 1., 1., ..., 1., 1., 1.],\n",
       "       ...,\n",
       "       [0., 1., 1., ..., 1., 1., 1.],\n",
       "       [0., 1., 1., ..., 1., 1., 1.],\n",
       "       [0., 1., 1., ..., 1., 1., 1.]])"
      ]
     },
     "execution_count": 65,
     "metadata": {},
     "output_type": "execute_result"
    }
   ],
   "source": [
    "t"
   ]
  },
  {
   "cell_type": "code",
   "execution_count": 67,
   "id": "50ebc5a8-46bf-4321-b056-2085ff295438",
   "metadata": {},
   "outputs": [
    {
     "name": "stdout",
     "output_type": "stream",
     "text": [
      "[[0 1 1 ... 1 1 1]\n",
      " [0 1 1 ... 1 1 1]\n",
      " [0 1 1 ... 1 1 1]\n",
      " ...\n",
      " [0 1 1 ... 1 1 1]\n",
      " [0 1 1 ... 1 1 1]\n",
      " [0 1 1 ... 1 1 1]]\n"
     ]
    }
   ],
   "source": [
    "print(t.astype(np.int32))"
   ]
  },
  {
   "cell_type": "code",
   "execution_count": 68,
   "id": "28c5a1f6-aee0-438e-b18d-4ebd469ddb6f",
   "metadata": {},
   "outputs": [
    {
     "data": {
      "text/plain": [
       "(1000, 10)"
      ]
     },
     "execution_count": 68,
     "metadata": {},
     "output_type": "execute_result"
    }
   ],
   "source": [
    "t.shape"
   ]
  },
  {
   "cell_type": "code",
   "execution_count": 23,
   "id": "51521604-6016-402a-9f63-ab8b93e848be",
   "metadata": {},
   "outputs": [
    {
     "name": "stdout",
     "output_type": "stream",
     "text": [
      "Running: \t\t../GRAPPA20/GRAPPA/distmat\t\n",
      "Input: \t\t\t./genome.txt\n",
      "Genome: \t\tCircular\n",
      "Number of Genomes:\t10\n",
      "Number of Genes:  \t300\n",
      "\n",
      "Breakpoint Distance Matrix:\n",
      "\n",
      "   10\n",
      "g0\t 0  2  4  6  8 10 12 14 16 18 \n",
      "g1\t 2  0  2  4  6  8 10 12 14 16 \n",
      "g2\t 4  2  0  2  4  6  8 10 12 14 \n",
      "g3\t 6  4  2  0  2  4  6  8 10 12 \n",
      "g4\t 8  6  4  2  0  2  4  6  8 10 \n",
      "g5\t10  8  6  4  2  0  2  4  6  8 \n",
      "g6\t12 10  8  6  4  2  0  2  4  6 \n",
      "g7\t14 12 10  8  6  4  2  0  2  4 \n",
      "g8\t16 14 12 10  8  6  4  2  0  2 \n",
      "g9\t18 16 14 12 10  8  6  4  2  0 \n",
      "\n",
      "Inversion Distance Matrix:\n",
      "\n",
      "   10\n",
      "g0\t 0  1  2  3  4  5  6  7  8  9 \n",
      "g1\t 1  0  1  2  3  4  5  6  7  8 \n",
      "g2\t 2  1  0  1  2  3  4  5  6  7 \n",
      "g3\t 3  2  1  0  1  2  3  4  5  6 \n",
      "g4\t 4  3  2  1  0  1  2  3  4  5 \n",
      "g5\t 5  4  3  2  1  0  1  2  3  4 \n",
      "g6\t 6  5  4  3  2  1  0  1  2  3 \n",
      "g7\t 7  6  5  4  3  2  1  0  1  2 \n",
      "g8\t 8  7  6  5  4  3  2  1  0  1 \n",
      "g9\t 9  8  7  6  5  4  3  2  1  0 \n",
      "\n"
     ]
    }
   ],
   "source": [
    "!../GRAPPA20/GRAPPA/distmat -f ./genome.txt"
   ]
  },
  {
   "cell_type": "code",
   "execution_count": 25,
   "id": "30b044c1-4590-4c39-bb68-766facddc0ca",
   "metadata": {},
   "outputs": [
    {
     "data": {
      "text/plain": [
       "(1, 10, 300)"
      ]
     },
     "execution_count": 25,
     "metadata": {},
     "output_type": "execute_result"
    }
   ],
   "source": [
    "s.shape"
   ]
  },
  {
   "cell_type": "code",
   "execution_count": 4,
   "id": "35fce7fa-d228-42f0-9201-087a9528fe23",
   "metadata": {},
   "outputs": [],
   "source": [
    "graph_num, gene_len, step = 100, 500, 3"
   ]
  },
  {
   "cell_type": "code",
   "execution_count": 5,
   "id": "98aa178e-f852-4016-a5d0-fd59060af99b",
   "metadata": {},
   "outputs": [],
   "source": [
    "s, o, t = gen_dataset_wt(gene_len, graph_num, step, op_type = 2)"
   ]
  },
  {
   "cell_type": "code",
   "execution_count": 6,
   "id": "ff44d141-0910-406e-9dad-2a8487b24d68",
   "metadata": {},
   "outputs": [],
   "source": [
    "inv_num = step - 1"
   ]
  },
  {
   "cell_type": "code",
   "execution_count": 35,
   "id": "d94043ff-c622-4dc4-a974-71af33d24c4e",
   "metadata": {},
   "outputs": [],
   "source": [
    "s = s[:, (0,-1)].astype(np.int32)"
   ]
  },
  {
   "cell_type": "code",
   "execution_count": 36,
   "id": "0e284ab8-47e2-4e3b-84ce-9c363fd6d950",
   "metadata": {},
   "outputs": [
    {
     "data": {
      "text/plain": [
       "(100, 2, 500)"
      ]
     },
     "execution_count": 36,
     "metadata": {},
     "output_type": "execute_result"
    }
   ],
   "source": [
    "s.shape"
   ]
  },
  {
   "cell_type": "code",
   "execution_count": 8,
   "id": "23a1b8e7-0e47-4721-a48d-831af19bd1a3",
   "metadata": {},
   "outputs": [],
   "source": [
    "from genome_graph import gen_graph, gen_single_graph"
   ]
  },
  {
   "cell_type": "code",
   "execution_count": 11,
   "id": "05b5705a-afb1-43c4-baec-d77f9d7c01f7",
   "metadata": {},
   "outputs": [],
   "source": [
    "g = [gen_graph(x, label = inv_num) for x in s]"
   ]
  },
  {
   "cell_type": "code",
   "execution_count": null,
   "id": "c1244743-db85-4824-80d2-a3861535cd31",
   "metadata": {},
   "outputs": [],
   "source": [
    "g"
   ]
  },
  {
   "cell_type": "code",
   "execution_count": 71,
   "id": "81553aea-a5ad-4a0e-8d28-16b4211aedd5",
   "metadata": {},
   "outputs": [],
   "source": [
    "class MyOwnDataset(InMemoryDataset):\n",
    "    def __init__(self, root, transform=None, pre_transform=None):\n",
    "        super().__init__(root, transform, pre_transform)\n",
    "        self.data, self.slices = torch.load(self.processed_paths[0])\n",
    "\n",
    "    @property\n",
    "    def raw_file_names(self):\n",
    "        return ['file_1.pt']\n",
    "\n",
    "    @property\n",
    "    def processed_file_names(self):\n",
    "        return ['data.pt']\n",
    "\n",
    "    def download(self):\n",
    "        # Download to `self.raw_dir`.\n",
    "        pass\n",
    "\n",
    "    def process(self):\n",
    "        # Read data into huge `Data` list.\n",
    "        for file in self.raw_file_names:\n",
    "            torch.load(file)\n",
    "        data_list = [...]\n",
    "\n",
    "        if self.pre_filter is not None:\n",
    "            data_list = [data for data in data_list if self.pre_filter(data)]\n",
    "\n",
    "        if self.pre_transform is not None:\n",
    "            data_list = [self.pre_transform(data) for data in data_list]\n",
    "\n",
    "        data, slices = self.collate(data_list)\n",
    "        torch.save((data, slices), self.processed_paths[0])"
   ]
  },
  {
   "cell_type": "code",
   "execution_count": 13,
   "id": "99dc236f-3a44-42cf-8e95-1541c8c93aaa",
   "metadata": {},
   "outputs": [],
   "source": [
    "from torch_geometric.data.collate import collate"
   ]
  },
  {
   "cell_type": "code",
   "execution_count": 18,
   "id": "22c45545-bbb7-487f-a1bf-ed20e681e6a2",
   "metadata": {},
   "outputs": [],
   "source": [
    "d, slices, _ = collate(g[0].__class__, data_list = g)"
   ]
  },
  {
   "cell_type": "code",
   "execution_count": 21,
   "id": "82076844-85a0-4361-bcb2-ffd1f15f30ae",
   "metadata": {},
   "outputs": [],
   "source": [
    "th.save((d,slices), 'tmp.pt')"
   ]
  },
  {
   "cell_type": "code",
   "execution_count": 23,
   "id": "dc9e5400-23a9-4a50-b883-6eb15b084e5d",
   "metadata": {},
   "outputs": [],
   "source": [
    "graphs = th.load('tmp1.pt')"
   ]
  },
  {
   "cell_type": "code",
   "execution_count": 25,
   "id": "97bcf4aa-02b2-4874-b9a0-20d65b5e159d",
   "metadata": {},
   "outputs": [
    {
     "data": {
      "text/plain": [
       "list"
      ]
     },
     "execution_count": 25,
     "metadata": {},
     "output_type": "execute_result"
    }
   ],
   "source": [
    "type(graphs)"
   ]
  },
  {
   "cell_type": "code",
   "execution_count": 20,
   "id": "0cc67ead-44f9-4ea5-82a9-6c8c6a8097ef",
   "metadata": {},
   "outputs": [
    {
     "data": {
      "text/plain": [
       "defaultdict(dict,\n",
       "            {'x': tensor([  0,   1,   2,   3,   4,   5,   6,   7,   8,   9,  10,  11,  12,  13,\n",
       "                      14,  15,  16,  17,  18,  19,  20,  21,  22,  23,  24,  25,  26,  27,\n",
       "                      28,  29,  30,  31,  32,  33,  34,  35,  36,  37,  38,  39,  40,  41,\n",
       "                      42,  43,  44,  45,  46,  47,  48,  49,  50,  51,  52,  53,  54,  55,\n",
       "                      56,  57,  58,  59,  60,  61,  62,  63,  64,  65,  66,  67,  68,  69,\n",
       "                      70,  71,  72,  73,  74,  75,  76,  77,  78,  79,  80,  81,  82,  83,\n",
       "                      84,  85,  86,  87,  88,  89,  90,  91,  92,  93,  94,  95,  96,  97,\n",
       "                      98,  99, 100]),\n",
       "             'edge_index': tensor([     0,   2997,   5994,   8991,  11988,  14985,  17982,  20979,  23976,\n",
       "                      26973,  29970,  32967,  35964,  38961,  41958,  44955,  47952,  50949,\n",
       "                      53946,  56943,  59940,  62937,  65934,  68931,  71928,  74925,  77922,\n",
       "                      80919,  83916,  86913,  89910,  92907,  95904,  98901, 101898, 104895,\n",
       "                     107892, 110889, 113886, 116883, 119880, 122877, 125874, 128871, 131868,\n",
       "                     134865, 137862, 140859, 143856, 146853, 149850, 152847, 155844, 158841,\n",
       "                     161838, 164835, 167832, 170829, 173826, 176823, 179820, 182817, 185814,\n",
       "                     188811, 191808, 194805, 197802, 200799, 203796, 206793, 209790, 212787,\n",
       "                     215784, 218781, 221778, 224775, 227772, 230769, 233766, 236763, 239760,\n",
       "                     242757, 245754, 248751, 251748, 254745, 257742, 260739, 263736, 266733,\n",
       "                     269730, 272727, 275724, 278721, 281718, 284715, 287712, 290709, 293706,\n",
       "                     296703, 299700]),\n",
       "             'edge_attr': tensor([  0,   1,   2,   3,   4,   5,   6,   7,   8,   9,  10,  11,  12,  13,\n",
       "                      14,  15,  16,  17,  18,  19,  20,  21,  22,  23,  24,  25,  26,  27,\n",
       "                      28,  29,  30,  31,  32,  33,  34,  35,  36,  37,  38,  39,  40,  41,\n",
       "                      42,  43,  44,  45,  46,  47,  48,  49,  50,  51,  52,  53,  54,  55,\n",
       "                      56,  57,  58,  59,  60,  61,  62,  63,  64,  65,  66,  67,  68,  69,\n",
       "                      70,  71,  72,  73,  74,  75,  76,  77,  78,  79,  80,  81,  82,  83,\n",
       "                      84,  85,  86,  87,  88,  89,  90,  91,  92,  93,  94,  95,  96,  97,\n",
       "                      98,  99, 100]),\n",
       "             'dtype': tensor([  0,   1,   2,   3,   4,   5,   6,   7,   8,   9,  10,  11,  12,  13,\n",
       "                      14,  15,  16,  17,  18,  19,  20,  21,  22,  23,  24,  25,  26,  27,\n",
       "                      28,  29,  30,  31,  32,  33,  34,  35,  36,  37,  38,  39,  40,  41,\n",
       "                      42,  43,  44,  45,  46,  47,  48,  49,  50,  51,  52,  53,  54,  55,\n",
       "                      56,  57,  58,  59,  60,  61,  62,  63,  64,  65,  66,  67,  68,  69,\n",
       "                      70,  71,  72,  73,  74,  75,  76,  77,  78,  79,  80,  81,  82,  83,\n",
       "                      84,  85,  86,  87,  88,  89,  90,  91,  92,  93,  94,  95,  96,  97,\n",
       "                      98,  99, 100]),\n",
       "             'y': tensor([  0,   1,   2,   3,   4,   5,   6,   7,   8,   9,  10,  11,  12,  13,\n",
       "                      14,  15,  16,  17,  18,  19,  20,  21,  22,  23,  24,  25,  26,  27,\n",
       "                      28,  29,  30,  31,  32,  33,  34,  35,  36,  37,  38,  39,  40,  41,\n",
       "                      42,  43,  44,  45,  46,  47,  48,  49,  50,  51,  52,  53,  54,  55,\n",
       "                      56,  57,  58,  59,  60,  61,  62,  63,  64,  65,  66,  67,  68,  69,\n",
       "                      70,  71,  72,  73,  74,  75,  76,  77,  78,  79,  80,  81,  82,  83,\n",
       "                      84,  85,  86,  87,  88,  89,  90,  91,  92,  93,  94,  95,  96,  97,\n",
       "                      98,  99, 100])})"
      ]
     },
     "execution_count": 20,
     "metadata": {},
     "output_type": "execute_result"
    }
   ],
   "source": [
    "slices"
   ]
  },
  {
   "cell_type": "code",
   "execution_count": 73,
   "id": "bda9d55c-5b08-41a8-af0f-9fa2b24c0ede",
   "metadata": {},
   "outputs": [],
   "source": [
    "th.save((a, b), './dataset/raw/test.pt')"
   ]
  },
  {
   "cell_type": "code",
   "execution_count": 68,
   "id": "b1d93f50-17fd-4402-9162-d6aad6a174d2",
   "metadata": {},
   "outputs": [
    {
     "data": {
      "text/plain": [
       "(tensor([1, 2, 3]), tensor([4]))"
      ]
     },
     "execution_count": 68,
     "metadata": {},
     "output_type": "execute_result"
    }
   ],
   "source": [
    "th.load('test.pt')"
   ]
  },
  {
   "cell_type": "code",
   "execution_count": null,
   "id": "ef1e243d-a320-405a-90a2-dc1ba035a862",
   "metadata": {},
   "outputs": [],
   "source": []
  }
 ],
 "metadata": {
  "kernelspec": {
   "display_name": "Deep AI",
   "language": "python",
   "name": "dl"
  },
  "language_info": {
   "codemirror_mode": {
    "name": "ipython",
    "version": 3
   },
   "file_extension": ".py",
   "mimetype": "text/x-python",
   "name": "python",
   "nbconvert_exporter": "python",
   "pygments_lexer": "ipython3",
   "version": "3.7.11"
  }
 },
 "nbformat": 4,
 "nbformat_minor": 5
}
