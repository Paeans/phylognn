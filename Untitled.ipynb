{
 "cells": [
  {
   "cell_type": "code",
   "execution_count": 1,
   "id": "e976d2b0-c4c3-4f19-beb7-0e568a0c07af",
   "metadata": {},
   "outputs": [],
   "source": [
    "import torch\n",
    "from torch_geometric.datasets import Planetoid\n",
    "import torch_geometric.transforms as T\n",
    "from torch_geometric.nn import GCNConv, GAE, VGAE"
   ]
  },
  {
   "cell_type": "code",
   "execution_count": 2,
   "id": "457d9760-f498-433f-bdfd-e40b68bfb7f3",
   "metadata": {},
   "outputs": [],
   "source": [
    "device = torch.device('cuda:1' if torch.cuda.is_available() else 'cpu')\n",
    "transform = T.Compose([\n",
    "    # T.NormalizeFeatures(),\n",
    "    T.ToDevice(device),\n",
    "    T.RandomLinkSplit(num_val=0.05, num_test=0.1, is_undirected=True,\n",
    "                      split_labels=True, add_negative_train_samples=False),\n",
    "])"
   ]
  },
  {
   "cell_type": "code",
   "execution_count": 3,
   "id": "43c275ca-b60a-4947-b924-cc94c53e1f53",
   "metadata": {},
   "outputs": [],
   "source": [
    "dataset = Planetoid('/tmp/Planetoid', 'Cora', transform=transform)\n",
    "train_data, val_data, test_data = dataset[0]"
   ]
  },
  {
   "cell_type": "code",
   "execution_count": 24,
   "id": "2e797dad-6ad6-47e9-a454-49c96aeee418",
   "metadata": {},
   "outputs": [
    {
     "data": {
      "text/plain": [
       "Data(x=[2708, 1433], edge_index=[2, 8976], y=[2708], train_mask=[2708], val_mask=[2708], test_mask=[2708], pos_edge_label=[4488], pos_edge_label_index=[2, 4488])"
      ]
     },
     "execution_count": 24,
     "metadata": {},
     "output_type": "execute_result"
    }
   ],
   "source": [
    "train_data"
   ]
  },
  {
   "cell_type": "code",
   "execution_count": 25,
   "id": "96e54306-dc14-4317-afe0-88917e9a6c33",
   "metadata": {},
   "outputs": [
    {
     "data": {
      "text/plain": [
       "Data(x=[2708, 1433], edge_index=[2, 8976], y=[2708], train_mask=[2708], val_mask=[2708], test_mask=[2708], pos_edge_label=[263], pos_edge_label_index=[2, 263], neg_edge_label=[263], neg_edge_label_index=[2, 263])"
      ]
     },
     "execution_count": 25,
     "metadata": {},
     "output_type": "execute_result"
    }
   ],
   "source": [
    "val_data"
   ]
  },
  {
   "cell_type": "code",
   "execution_count": 26,
   "id": "c7503a2f-b905-4030-88ef-f7232f7d5929",
   "metadata": {},
   "outputs": [
    {
     "data": {
      "text/plain": [
       "Data(x=[2708, 1433], edge_index=[2, 9502], y=[2708], train_mask=[2708], val_mask=[2708], test_mask=[2708], pos_edge_label=[527], pos_edge_label_index=[2, 527], neg_edge_label=[527], neg_edge_label_index=[2, 527])"
      ]
     },
     "execution_count": 26,
     "metadata": {},
     "output_type": "execute_result"
    }
   ],
   "source": [
    "test_data"
   ]
  },
  {
   "cell_type": "code",
   "execution_count": 4,
   "id": "8e9dee53-7538-4119-b719-67c82fbe8d9c",
   "metadata": {},
   "outputs": [
    {
     "data": {
      "text/plain": [
       "tensor([[1095, 2284,  743,  ...,  457, 1096, 1957],\n",
       "        [1325, 1901,   88,  ...,   51,  411, 2630]], device='cuda:1')"
      ]
     },
     "execution_count": 4,
     "metadata": {},
     "output_type": "execute_result"
    }
   ],
   "source": [
    "train_data.pos_edge_label_index"
   ]
  },
  {
   "cell_type": "code",
   "execution_count": 5,
   "id": "10905ed5-9c98-4b49-8c10-075c3dd01f9c",
   "metadata": {},
   "outputs": [],
   "source": [
    "class VariationalGCNEncoder(torch.nn.Module):\n",
    "    def __init__(self, in_channels, out_channels):\n",
    "        super().__init__()\n",
    "        self.conv1 = GCNConv(in_channels, 2 * out_channels)\n",
    "        self.conv_mu = GCNConv(2 * out_channels, out_channels)\n",
    "        self.conv_logstd = GCNConv(2 * out_channels, out_channels)\n",
    "\n",
    "    def forward(self, x, edge_index):\n",
    "        x = self.conv1(x, edge_index).relu()\n",
    "        return self.conv_mu(x, edge_index), self.conv_logstd(x, edge_index)\n"
   ]
  },
  {
   "cell_type": "code",
   "execution_count": 6,
   "id": "8c39ef98-9e41-4b5b-aaa1-791499488773",
   "metadata": {},
   "outputs": [],
   "source": [
    "in_channels, out_channels = dataset.num_features, 16"
   ]
  },
  {
   "cell_type": "code",
   "execution_count": 7,
   "id": "6573e625-d86b-48ea-a78a-e54485f92c6e",
   "metadata": {},
   "outputs": [],
   "source": [
    "model = VGAE(VariationalGCNEncoder(in_channels, out_channels))"
   ]
  },
  {
   "cell_type": "code",
   "execution_count": 8,
   "id": "f939a4a1-60e7-4a46-8ae9-8770d2893f0b",
   "metadata": {},
   "outputs": [],
   "source": [
    "model = model.to(device)\n",
    "optimizer = torch.optim.Adam(model.parameters(), lr=0.01)"
   ]
  },
  {
   "cell_type": "code",
   "execution_count": 9,
   "id": "ddf17d64-0473-4738-bae1-bd8674566c96",
   "metadata": {},
   "outputs": [],
   "source": [
    "def train():\n",
    "    model.train()\n",
    "    optimizer.zero_grad()\n",
    "    z = model.encode(train_data.x, train_data.edge_index)\n",
    "    loss = model.recon_loss(z, train_data.pos_edge_label_index)\n",
    "    loss = loss + (1 / train_data.num_nodes) * model.kl_loss()\n",
    "    loss.backward()\n",
    "    optimizer.step()\n",
    "    return float(loss)\n",
    "\n",
    "\n",
    "@torch.no_grad()\n",
    "def test(data):\n",
    "    model.eval()\n",
    "    z = model.encode(data.x, data.edge_index)\n",
    "    return model.test(z, data.pos_edge_label_index, data.neg_edge_label_index)\n"
   ]
  },
  {
   "cell_type": "code",
   "execution_count": 10,
   "id": "d70567c3-888d-47c3-ab3d-12a8882aa3b4",
   "metadata": {},
   "outputs": [
    {
     "name": "stdout",
     "output_type": "stream",
     "text": [
      "Epoch: 050, AUC: 0.9147, AP: 0.9194\n",
      "Epoch: 100, AUC: 0.9198, AP: 0.9335\n",
      "Epoch: 150, AUC: 0.9188, AP: 0.9365\n",
      "Epoch: 200, AUC: 0.9159, AP: 0.9359\n",
      "Epoch: 250, AUC: 0.9161, AP: 0.9364\n",
      "Epoch: 300, AUC: 0.9204, AP: 0.9392\n",
      "Epoch: 350, AUC: 0.9199, AP: 0.9392\n",
      "Epoch: 400, AUC: 0.9240, AP: 0.9407\n",
      "Epoch: 450, AUC: 0.9227, AP: 0.9397\n",
      "Epoch: 500, AUC: 0.9123, AP: 0.9341\n"
     ]
    }
   ],
   "source": [
    "for epoch in range(1, 500 + 1):\n",
    "    loss = train()\n",
    "    auc, ap = test(test_data)\n",
    "    if epoch % 50 == 0:\n",
    "        print(f'Epoch: {epoch:03d}, AUC: {auc:.4f}, AP: {ap:.4f}')"
   ]
  },
  {
   "cell_type": "code",
   "execution_count": 11,
   "id": "5379d41f-8add-49d3-8204-55ba0e567ec6",
   "metadata": {},
   "outputs": [],
   "source": [
    "xd = train_data.x[0]"
   ]
  },
  {
   "cell_type": "code",
   "execution_count": 13,
   "id": "fc6fc0eb-3fb6-47e6-b413-8b9e58417bb6",
   "metadata": {},
   "outputs": [
    {
     "data": {
      "text/plain": [
       "tensor([16., 33., 70.,  ...,  6., 65., 12.], device='cuda:1')"
      ]
     },
     "execution_count": 13,
     "metadata": {},
     "output_type": "execute_result"
    }
   ],
   "source": [
    "train_data.x.sum(0)"
   ]
  },
  {
   "cell_type": "code",
   "execution_count": 19,
   "id": "03205521-b0db-4c82-8f9a-d62d2ca5498c",
   "metadata": {},
   "outputs": [
    {
     "data": {
      "text/plain": [
       "torch.int64"
      ]
     },
     "execution_count": 19,
     "metadata": {},
     "output_type": "execute_result"
    }
   ],
   "source": [
    "train_data.edge_index.dtype"
   ]
  },
  {
   "cell_type": "code",
   "execution_count": 20,
   "id": "ed0a298e-c19a-4e17-9506-e1b615b06765",
   "metadata": {},
   "outputs": [],
   "source": [
    "model.train()\n",
    "optimizer.zero_grad()\n",
    "z = model.encode(train_data.x, train_data.edge_index)"
   ]
  },
  {
   "cell_type": "code",
   "execution_count": 21,
   "id": "9d6ec998-e85d-4431-a678-e7d8a8682a25",
   "metadata": {},
   "outputs": [
    {
     "data": {
      "text/plain": [
       "torch.Size([2708, 16])"
      ]
     },
     "execution_count": 21,
     "metadata": {},
     "output_type": "execute_result"
    }
   ],
   "source": [
    "z.shape"
   ]
  },
  {
   "cell_type": "code",
   "execution_count": 27,
   "id": "ce37a26f-3251-4ec2-bf46-0635914e77b5",
   "metadata": {},
   "outputs": [],
   "source": [
    "from gene_graph_dataset import G2GraphDataset"
   ]
  },
  {
   "cell_type": "code",
   "execution_count": 28,
   "id": "76908717-4590-4459-8986-24450bb4c0d1",
   "metadata": {},
   "outputs": [
    {
     "name": "stderr",
     "output_type": "stream",
     "text": [
      "Generating...\n",
      "Processing...\n",
      "Done!\n"
     ]
    },
    {
     "data": {
      "text/plain": [
       "G2GraphDataset(30000)"
      ]
     },
     "execution_count": 28,
     "metadata": {},
     "output_type": "execute_result"
    }
   ],
   "source": [
    "G2GraphDataset('dataset_g2g', 100, 3, 10000)"
   ]
  },
  {
   "cell_type": "code",
   "execution_count": 29,
   "id": "23dd0122-0c1b-496a-9fdc-f9747896ee08",
   "metadata": {},
   "outputs": [],
   "source": [
    "from genome_graph import gen_g2g_graph"
   ]
  },
  {
   "cell_type": "code",
   "execution_count": 30,
   "id": "f79b7dac-4e0b-49e5-bbf4-c17de7559932",
   "metadata": {},
   "outputs": [],
   "source": [
    "gd = gen_g2g_graph([[1,2,3], [1,-2,3]], [-1,2,-3])"
   ]
  },
  {
   "cell_type": "code",
   "execution_count": 31,
   "id": "6f84d548-1b41-4eb7-8480-667962723a18",
   "metadata": {},
   "outputs": [
    {
     "data": {
      "text/plain": [
       "Data(x=[6, 2], edge_index=[2, 10], edge_attr=[10, 2], num_nodes=6, pos_edge_label_index=[2, 5])"
      ]
     },
     "execution_count": 31,
     "metadata": {},
     "output_type": "execute_result"
    }
   ],
   "source": [
    "gd"
   ]
  },
  {
   "cell_type": "code",
   "execution_count": 32,
   "id": "609af64a-2283-4c15-b109-a42ce1a7a248",
   "metadata": {},
   "outputs": [
    {
     "data": {
      "text/plain": [
       "tensor([[1, 0, 2, 3, 5],\n",
       "        [0, 2, 3, 5, 4]])"
      ]
     },
     "execution_count": 32,
     "metadata": {},
     "output_type": "execute_result"
    }
   ],
   "source": [
    "gd.pos_edge_label_index"
   ]
  },
  {
   "cell_type": "code",
   "execution_count": 33,
   "id": "485dfd2b-2c34-474d-a774-89595c34a252",
   "metadata": {},
   "outputs": [],
   "source": [
    "from torch_geometric.utils import negative_sampling"
   ]
  },
  {
   "cell_type": "code",
   "execution_count": 40,
   "id": "bd2ebc8d-c550-444c-afc6-738038a49ff8",
   "metadata": {},
   "outputs": [
    {
     "data": {
      "text/plain": [
       "tensor([[0, 0, 0, 0, 1, 1, 1, 1, 2, 2, 2, 2, 3, 3, 3, 3, 4, 4, 4, 4, 4, 5, 5, 5,\n",
       "         5],\n",
       "        [1, 3, 4, 5, 2, 3, 4, 5, 0, 1, 4, 5, 0, 1, 2, 4, 0, 1, 2, 3, 5, 0, 1, 2,\n",
       "         3]])"
      ]
     },
     "execution_count": 40,
     "metadata": {},
     "output_type": "execute_result"
    }
   ],
   "source": [
    "negative_sampling(gd.pos_edge_label_index, gd.num_nodes, 100)"
   ]
  },
  {
   "cell_type": "code",
   "execution_count": null,
   "id": "00a6e914-898c-4d64-a47f-43e00e7ec03a",
   "metadata": {},
   "outputs": [],
   "source": []
  }
 ],
 "metadata": {
  "kernelspec": {
   "display_name": "Deep AI",
   "language": "python",
   "name": "dl"
  },
  "language_info": {
   "codemirror_mode": {
    "name": "ipython",
    "version": 3
   },
   "file_extension": ".py",
   "mimetype": "text/x-python",
   "name": "python",
   "nbconvert_exporter": "python",
   "pygments_lexer": "ipython3",
   "version": "3.7.11"
  }
 },
 "nbformat": 4,
 "nbformat_minor": 5
}
