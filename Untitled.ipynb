{
 "cells": [
  {
   "cell_type": "code",
   "execution_count": 1,
   "id": "8062191b-10c2-44b4-961c-938ae18a8275",
   "metadata": {},
   "outputs": [],
   "source": [
    "import numpy as np\n",
    "import torch as th\n",
    "import time"
   ]
  },
  {
   "cell_type": "code",
   "execution_count": 2,
   "id": "e8938946-8e2a-4688-8cc6-0fd36eac012b",
   "metadata": {},
   "outputs": [],
   "source": [
    "from scipy.io import savemat, loadmat"
   ]
  },
  {
   "cell_type": "code",
   "execution_count": 9,
   "id": "0b17611e-8b83-42cf-94f9-aea092c9d7b0",
   "metadata": {},
   "outputs": [],
   "source": [
    "from genome_file import write_genome_notag"
   ]
  },
  {
   "cell_type": "code",
   "execution_count": 3,
   "id": "2272d120-03ff-4873-acbf-0e9725fe9401",
   "metadata": {},
   "outputs": [],
   "source": [
    "data = loadmat('data/data_100.mat')"
   ]
  },
  {
   "cell_type": "code",
   "execution_count": 4,
   "id": "bf5ba1db-8381-4cec-89b2-8cb1a3c7a3ff",
   "metadata": {},
   "outputs": [
    {
     "data": {
      "text/plain": [
       "dict_keys(['__header__', '__version__', '__globals__', 's', 'o', 't', 'd'])"
      ]
     },
     "execution_count": 4,
     "metadata": {},
     "output_type": "execute_result"
    }
   ],
   "source": [
    "data.keys()"
   ]
  },
  {
   "cell_type": "code",
   "execution_count": 5,
   "id": "a759b26c-5869-4d01-a91e-d4790e54cb97",
   "metadata": {},
   "outputs": [],
   "source": [
    "s = data['s']"
   ]
  },
  {
   "cell_type": "code",
   "execution_count": 6,
   "id": "e6ec2e8e-0b75-4da1-9ebe-776efe643420",
   "metadata": {},
   "outputs": [],
   "source": [
    "o = data['o']"
   ]
  },
  {
   "cell_type": "code",
   "execution_count": 7,
   "id": "3587f65c-8d5a-4633-9678-7c62b38a94f2",
   "metadata": {},
   "outputs": [],
   "source": [
    "t = data['t']"
   ]
  },
  {
   "cell_type": "code",
   "execution_count": 8,
   "id": "21b8744c-5170-496d-8d00-b31f7414b91c",
   "metadata": {},
   "outputs": [],
   "source": [
    "d = data['d']"
   ]
  },
  {
   "cell_type": "code",
   "execution_count": 10,
   "id": "7412f641-51f7-4e4f-9255-9fdcc7af2646",
   "metadata": {},
   "outputs": [],
   "source": [
    "write_genome_notag(np.reshape(s[0], (-1,1,100)).astype(np.int32))"
   ]
  }
 ],
 "metadata": {
  "kernelspec": {
   "display_name": "Deep AI",
   "language": "python",
   "name": "dl"
  },
  "language_info": {
   "codemirror_mode": {
    "name": "ipython",
    "version": 3
   },
   "file_extension": ".py",
   "mimetype": "text/x-python",
   "name": "python",
   "nbconvert_exporter": "python",
   "pygments_lexer": "ipython3",
   "version": "3.7.11"
  }
 },
 "nbformat": 4,
 "nbformat_minor": 5
}
