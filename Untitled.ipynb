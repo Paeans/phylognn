{
 "cells": [
  {
   "cell_type": "code",
   "execution_count": 1,
   "id": "e976d2b0-c4c3-4f19-beb7-0e568a0c07af",
   "metadata": {},
   "outputs": [],
   "source": [
    "import torch\n",
    "from torch_geometric.datasets import Planetoid\n",
    "import torch_geometric.transforms as T\n",
    "from torch_geometric.nn import GCNConv, GAE, VGAE"
   ]
  },
  {
   "cell_type": "code",
   "execution_count": 2,
   "id": "457d9760-f498-433f-bdfd-e40b68bfb7f3",
   "metadata": {},
   "outputs": [],
   "source": [
    "device = torch.device('cuda:1' if torch.cuda.is_available() else 'cpu')\n",
    "transform = T.Compose([\n",
    "    T.NormalizeFeatures(),\n",
    "    T.ToDevice(device),\n",
    "    T.RandomLinkSplit(num_val=0.05, num_test=0.1, is_undirected=True,\n",
    "                      split_labels=True, add_negative_train_samples=False),\n",
    "])"
   ]
  },
  {
   "cell_type": "code",
   "execution_count": 3,
   "id": "43c275ca-b60a-4947-b924-cc94c53e1f53",
   "metadata": {},
   "outputs": [],
   "source": [
    "dataset = Planetoid('/tmp/Planetoid', 'Cora', transform=transform)\n",
    "train_data, val_data, test_data = dataset[0]"
   ]
  },
  {
   "cell_type": "code",
   "execution_count": 4,
   "id": "8e9dee53-7538-4119-b719-67c82fbe8d9c",
   "metadata": {},
   "outputs": [
    {
     "data": {
      "text/plain": [
       "tensor([[2067,  633, 1409,  ...,  335, 2336,  964],\n",
       "        [1477, 1866, 1553,  ..., 1701, 2524,  736]], device='cuda:1')"
      ]
     },
     "execution_count": 4,
     "metadata": {},
     "output_type": "execute_result"
    }
   ],
   "source": [
    "train_data.pos_edge_label_index"
   ]
  },
  {
   "cell_type": "code",
   "execution_count": 5,
   "id": "10905ed5-9c98-4b49-8c10-075c3dd01f9c",
   "metadata": {},
   "outputs": [],
   "source": [
    "class VariationalGCNEncoder(torch.nn.Module):\n",
    "    def __init__(self, in_channels, out_channels):\n",
    "        super().__init__()\n",
    "        self.conv1 = GCNConv(in_channels, 2 * out_channels)\n",
    "        self.conv_mu = GCNConv(2 * out_channels, out_channels)\n",
    "        self.conv_logstd = GCNConv(2 * out_channels, out_channels)\n",
    "\n",
    "    def forward(self, x, edge_index):\n",
    "        x = self.conv1(x, edge_index).relu()\n",
    "        return self.conv_mu(x, edge_index), self.conv_logstd(x, edge_index)\n"
   ]
  },
  {
   "cell_type": "code",
   "execution_count": 6,
   "id": "8c39ef98-9e41-4b5b-aaa1-791499488773",
   "metadata": {},
   "outputs": [],
   "source": [
    "in_channels, out_channels = dataset.num_features, 16"
   ]
  },
  {
   "cell_type": "code",
   "execution_count": 7,
   "id": "6573e625-d86b-48ea-a78a-e54485f92c6e",
   "metadata": {},
   "outputs": [],
   "source": [
    "model = VGAE(VariationalGCNEncoder(in_channels, out_channels))"
   ]
  },
  {
   "cell_type": "code",
   "execution_count": 8,
   "id": "f939a4a1-60e7-4a46-8ae9-8770d2893f0b",
   "metadata": {},
   "outputs": [],
   "source": [
    "model = model.to(device)\n",
    "optimizer = torch.optim.Adam(model.parameters(), lr=0.01)"
   ]
  },
  {
   "cell_type": "code",
   "execution_count": 9,
   "id": "ddf17d64-0473-4738-bae1-bd8674566c96",
   "metadata": {},
   "outputs": [],
   "source": [
    "def train():\n",
    "    model.train()\n",
    "    optimizer.zero_grad()\n",
    "    z = model.encode(train_data.x, train_data.edge_index)\n",
    "    loss = model.recon_loss(z, train_data.pos_edge_label_index)\n",
    "    loss = loss + (1 / train_data.num_nodes) * model.kl_loss()\n",
    "    loss.backward()\n",
    "    optimizer.step()\n",
    "    return float(loss)\n",
    "\n",
    "\n",
    "@torch.no_grad()\n",
    "def test(data):\n",
    "    model.eval()\n",
    "    z = model.encode(data.x, data.edge_index)\n",
    "    return model.test(z, data.pos_edge_label_index, data.neg_edge_label_index)\n"
   ]
  },
  {
   "cell_type": "code",
   "execution_count": 10,
   "id": "d70567c3-888d-47c3-ab3d-12a8882aa3b4",
   "metadata": {},
   "outputs": [],
   "source": [
    "# for epoch in range(1, 500 + 1):\n",
    "#     loss = train()\n",
    "#     auc, ap = test(test_data)\n",
    "#     if epoch % 50 == 0:\n",
    "#         print(f'Epoch: {epoch:03d}, AUC: {auc:.4f}, AP: {ap:.4f}')"
   ]
  },
  {
   "cell_type": "code",
   "execution_count": 11,
   "id": "2dcc69a8-4b8f-4cd0-86f0-453e76c29929",
   "metadata": {},
   "outputs": [],
   "source": [
    "model.train()\n",
    "optimizer.zero_grad()\n",
    "z = model.encode(train_data.x, train_data.edge_index)"
   ]
  },
  {
   "cell_type": "code",
   "execution_count": 14,
   "id": "445c6b30-c462-4d6f-a41c-c39b6f4daa1f",
   "metadata": {},
   "outputs": [
    {
     "data": {
      "text/plain": [
       "torch.Size([4488])"
      ]
     },
     "execution_count": 14,
     "metadata": {},
     "output_type": "execute_result"
    }
   ],
   "source": [
    "model.decode(z, train_data.pos_edge_label_index).shape"
   ]
  },
  {
   "cell_type": "code",
   "execution_count": 15,
   "id": "1e634faa-9b2a-48f2-9ba8-fb1854fcada4",
   "metadata": {},
   "outputs": [
    {
     "data": {
      "text/plain": [
       "torch.Size([2708, 16])"
      ]
     },
     "execution_count": 15,
     "metadata": {},
     "output_type": "execute_result"
    }
   ],
   "source": [
    "z.shape"
   ]
  },
  {
   "cell_type": "code",
   "execution_count": 16,
   "id": "a3b60d20-f706-42dd-b06d-f3732c3b6ef8",
   "metadata": {},
   "outputs": [
    {
     "data": {
      "text/plain": [
       "torch.Size([2, 4488])"
      ]
     },
     "execution_count": 16,
     "metadata": {},
     "output_type": "execute_result"
    }
   ],
   "source": [
    "train_data.pos_edge_label_index.shape"
   ]
  },
  {
   "cell_type": "code",
   "execution_count": 17,
   "id": "841422fe-a449-4816-80c2-d4a981d7d316",
   "metadata": {},
   "outputs": [],
   "source": [
    "from torch_geometric.utils import negative_sampling"
   ]
  },
  {
   "cell_type": "code",
   "execution_count": 19,
   "id": "30b037ea-fdd1-4fc3-8f99-795ce303bde9",
   "metadata": {},
   "outputs": [
    {
     "data": {
      "text/plain": [
       "torch.Size([2, 4488])"
      ]
     },
     "execution_count": 19,
     "metadata": {},
     "output_type": "execute_result"
    }
   ],
   "source": [
    "negative_sampling(train_data.pos_edge_label_index, z.size(0)).shape"
   ]
  },
  {
   "cell_type": "code",
   "execution_count": 20,
   "id": "16671d6c-57f9-45c2-94ea-befbecaee843",
   "metadata": {},
   "outputs": [
    {
     "data": {
      "text/plain": [
       "2708"
      ]
     },
     "execution_count": 20,
     "metadata": {},
     "output_type": "execute_result"
    }
   ],
   "source": [
    "z.size(0)"
   ]
  },
  {
   "cell_type": "code",
   "execution_count": 21,
   "id": "29f5906d-e205-4f7a-8b05-793d2728b487",
   "metadata": {},
   "outputs": [
    {
     "data": {
      "text/plain": [
       "torch.Size([2, 4488])"
      ]
     },
     "execution_count": 21,
     "metadata": {},
     "output_type": "execute_result"
    }
   ],
   "source": [
    "negative_sampling(train_data.pos_edge_label_index).shape"
   ]
  },
  {
   "cell_type": "code",
   "execution_count": 22,
   "id": "d965e96f-b4e4-4e36-afa1-9d86d43d934d",
   "metadata": {},
   "outputs": [],
   "source": [
    "from gene_graph_dataset import GeneGraphDataset"
   ]
  },
  {
   "cell_type": "code",
   "execution_count": 23,
   "id": "fc475fb1-6e85-4af3-b3f4-920d5ab787fd",
   "metadata": {},
   "outputs": [],
   "source": [
    "data = GeneGraphDataset('dataset', 100, 5)"
   ]
  },
  {
   "cell_type": "code",
   "execution_count": 26,
   "id": "3dd3ae9c-0859-4b54-8cec-09f6081161e5",
   "metadata": {},
   "outputs": [],
   "source": [
    "d = data[0]"
   ]
  },
  {
   "cell_type": "code",
   "execution_count": 27,
   "id": "f3b3cd36-d534-4773-abb8-e1543d119c21",
   "metadata": {},
   "outputs": [
    {
     "data": {
      "text/plain": [
       "Data(x=[200, 2], edge_index=[2, 398], edge_attr=[398, 2], dtype=torch.int64, y=[1], num_nodes=200)"
      ]
     },
     "execution_count": 27,
     "metadata": {},
     "output_type": "execute_result"
    }
   ],
   "source": [
    "d"
   ]
  },
  {
   "cell_type": "code",
   "execution_count": 29,
   "id": "eeda6286-5b35-4dc0-afc5-358eb6e0ae27",
   "metadata": {},
   "outputs": [
    {
     "data": {
      "text/plain": [
       "torch.Size([2, 398])"
      ]
     },
     "execution_count": 29,
     "metadata": {},
     "output_type": "execute_result"
    }
   ],
   "source": [
    "d.edge_index.shape"
   ]
  },
  {
   "cell_type": "code",
   "execution_count": 31,
   "id": "28257ef1-3254-4fc4-90dd-afb6e5224e93",
   "metadata": {},
   "outputs": [],
   "source": [
    "from torch_geometric.utils import to_scipy_sparse_matrix"
   ]
  },
  {
   "cell_type": "code",
   "execution_count": 33,
   "id": "ad471130-58be-4186-b0d0-4b8172e9d2a4",
   "metadata": {},
   "outputs": [],
   "source": [
    "md = to_scipy_sparse_matrix(d.edge_index, num_nodes = d.num_nodes)"
   ]
  },
  {
   "cell_type": "code",
   "execution_count": 42,
   "id": "fc41bd93-3e3e-4805-8e2f-a22f803a1440",
   "metadata": {},
   "outputs": [],
   "source": [
    "from torch_geometric.data import InMemoryDataset"
   ]
  },
  {
   "cell_type": "code",
   "execution_count": null,
   "id": "5379d41f-8add-49d3-8204-55ba0e567ec6",
   "metadata": {},
   "outputs": [],
   "source": []
  }
 ],
 "metadata": {
  "kernelspec": {
   "display_name": "Deep AI",
   "language": "python",
   "name": "dl"
  },
  "language_info": {
   "codemirror_mode": {
    "name": "ipython",
    "version": 3
   },
   "file_extension": ".py",
   "mimetype": "text/x-python",
   "name": "python",
   "nbconvert_exporter": "python",
   "pygments_lexer": "ipython3",
   "version": "3.7.11"
  }
 },
 "nbformat": 4,
 "nbformat_minor": 5
}
