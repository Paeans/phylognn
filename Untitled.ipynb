{
 "cells": [
  {
   "cell_type": "code",
   "execution_count": 2,
   "id": "e3596498-f35f-47c7-8931-6cc8dca6b755",
   "metadata": {},
   "outputs": [],
   "source": [
    "import torch as th\n",
    "import numpy as np\n",
    "\n",
    "import time"
   ]
  },
  {
   "cell_type": "code",
   "execution_count": 3,
   "id": "958ad630-233a-479d-ba3a-78f2dca02708",
   "metadata": {},
   "outputs": [],
   "source": [
    "device = th.device('cuda:0')"
   ]
  },
  {
   "cell_type": "code",
   "execution_count": 3,
   "id": "0377d5e7-5014-4b05-adba-831c75182e48",
   "metadata": {},
   "outputs": [
    {
     "name": "stdout",
     "output_type": "stream",
     "text": [
      "Tue Nov  2 22:02:51 2021\n"
     ]
    }
   ],
   "source": [
    "n = 200\n",
    "print(time.ctime())\n",
    "test = th.tensor(np.diag(np.repeat(1,n)), \n",
    "                 dtype = th.float, device = 'cpu').to_sparse()"
   ]
  },
  {
   "cell_type": "code",
   "execution_count": 4,
   "id": "8a244632-94be-4d6b-8587-f0dc9cb594c5",
   "metadata": {},
   "outputs": [],
   "source": [
    "t=th.tensor([[1,2],[3,4]])\n",
    "r=th.randperm(2)\n",
    "c=th.randperm(2)\n",
    "t=t[r][:,c]"
   ]
  },
  {
   "cell_type": "code",
   "execution_count": 8,
   "id": "0c24e80a-26b2-456b-ace0-63cdc555dccb",
   "metadata": {},
   "outputs": [
    {
     "data": {
      "text/plain": [
       "tensor([[1, 2],\n",
       "        [3, 4]])"
      ]
     },
     "execution_count": 8,
     "metadata": {},
     "output_type": "execute_result"
    }
   ],
   "source": [
    "t[r]"
   ]
  },
  {
   "cell_type": "code",
   "execution_count": 6,
   "id": "bd1a475e-7d94-4f98-8e1f-fe989c4055f8",
   "metadata": {},
   "outputs": [
    {
     "data": {
      "text/plain": [
       "tensor([1, 0])"
      ]
     },
     "execution_count": 6,
     "metadata": {},
     "output_type": "execute_result"
    }
   ],
   "source": [
    "r"
   ]
  },
  {
   "cell_type": "code",
   "execution_count": 7,
   "id": "3b3a6f46-9355-4aff-8c1a-3fdc9a8b5979",
   "metadata": {},
   "outputs": [
    {
     "data": {
      "text/plain": [
       "tensor([0, 1])"
      ]
     },
     "execution_count": 7,
     "metadata": {},
     "output_type": "execute_result"
    }
   ],
   "source": [
    "c"
   ]
  },
  {
   "cell_type": "code",
   "execution_count": 17,
   "id": "1085d771-25ad-4612-9d61-80a65f931797",
   "metadata": {},
   "outputs": [
    {
     "data": {
      "text/plain": [
       "[1, 2, 3]"
      ]
     },
     "execution_count": 17,
     "metadata": {},
     "output_type": "execute_result"
    }
   ],
   "source": [
    "np.array([1,2,3]).astype(np.int32).tolist()"
   ]
  },
  {
   "cell_type": "code",
   "execution_count": 20,
   "id": "fd203c72-3e15-4df6-a1c6-7c38c8ff2c56",
   "metadata": {},
   "outputs": [],
   "source": [
    "t = np.diag(np.repeat(1,10))"
   ]
  },
  {
   "cell_type": "code",
   "execution_count": 22,
   "id": "b0e5d389-7b78-4794-83b5-8893ab964e8a",
   "metadata": {},
   "outputs": [],
   "source": [
    "t[3,3] = -1"
   ]
  },
  {
   "cell_type": "code",
   "execution_count": 23,
   "id": "8edde034-ac95-4549-a425-d5c8ab70771d",
   "metadata": {},
   "outputs": [],
   "source": [
    "t1 = np.diag(np.repeat(1,10))"
   ]
  },
  {
   "cell_type": "code",
   "execution_count": 24,
   "id": "3d11382e-535e-4d45-b589-0e428159a99d",
   "metadata": {},
   "outputs": [],
   "source": [
    "t1[6,6] = -1"
   ]
  },
  {
   "cell_type": "code",
   "execution_count": 29,
   "id": "3af02e57-241c-490a-98ae-9579fa27c07b",
   "metadata": {},
   "outputs": [],
   "source": [
    "n1 = np.matmul(t,t1)"
   ]
  },
  {
   "cell_type": "code",
   "execution_count": 51,
   "id": "4996222a-aad6-43b2-8d4f-eed568e8329e",
   "metadata": {},
   "outputs": [
    {
     "data": {
      "text/plain": [
       "array([[ 1,  0,  0,  0,  0,  0,  0,  0,  0,  0],\n",
       "       [ 0,  1,  0,  0,  0,  0,  0,  0,  0,  0],\n",
       "       [ 0,  0,  1,  0,  0,  0,  0,  0,  0,  0],\n",
       "       [ 0,  0,  0, -1,  0,  0,  0,  0,  0,  0],\n",
       "       [ 0,  0,  0,  0,  1,  0,  0,  0,  0,  0],\n",
       "       [ 0,  0,  0,  0,  0,  1,  0,  0,  0,  0],\n",
       "       [ 0,  0,  0,  0,  0,  0, -1,  0,  0,  0],\n",
       "       [ 0,  0,  0,  0,  0,  0,  0,  1,  0,  0],\n",
       "       [ 0,  0,  0,  0,  0,  0,  0,  0,  1,  0],\n",
       "       [ 0,  0,  0,  0,  0,  0,  0,  0,  0,  1]])"
      ]
     },
     "execution_count": 51,
     "metadata": {},
     "output_type": "execute_result"
    }
   ],
   "source": [
    "n1"
   ]
  },
  {
   "cell_type": "code",
   "execution_count": 26,
   "id": "dc2068ce-03a5-4273-b72a-7285ca44b37f",
   "metadata": {},
   "outputs": [],
   "source": [
    "t2 = np.diag(np.repeat(1,10))"
   ]
  },
  {
   "cell_type": "code",
   "execution_count": 30,
   "id": "d307c44f-51f5-4a86-89c3-97f3cfd1b90d",
   "metadata": {},
   "outputs": [],
   "source": [
    "t2[3,3] = 0\n",
    "t2[6,6] = 0\n",
    "t2[3,6] = -1\n",
    "t2[6,3] = -1"
   ]
  },
  {
   "cell_type": "code",
   "execution_count": 38,
   "id": "41986ce9-c87d-4f4c-8c09-43a6242f4a58",
   "metadata": {},
   "outputs": [],
   "source": [
    "seq = np.array([1,2,3,4,5,6,7,8,9, 10])"
   ]
  },
  {
   "cell_type": "code",
   "execution_count": 39,
   "id": "ebe4f761-4c07-40c8-b975-e8e1d64b42ed",
   "metadata": {},
   "outputs": [
    {
     "data": {
      "text/plain": [
       "array([ 1,  2,  3,  4,  5,  6,  7,  8,  9, 10])"
      ]
     },
     "execution_count": 39,
     "metadata": {},
     "output_type": "execute_result"
    }
   ],
   "source": [
    "seq"
   ]
  },
  {
   "cell_type": "code",
   "execution_count": 40,
   "id": "ac6af331-6f2b-4693-bda6-225cfc7bddd0",
   "metadata": {},
   "outputs": [
    {
     "data": {
      "text/plain": [
       "array([[ 1,  0,  0,  0,  0,  0,  0,  0,  0,  0],\n",
       "       [ 0,  1,  0,  0,  0,  0,  0,  0,  0,  0],\n",
       "       [ 0,  0,  1,  0,  0,  0,  0,  0,  0,  0],\n",
       "       [ 0,  0,  0,  0,  0,  0, -1,  0,  0,  0],\n",
       "       [ 0,  0,  0,  0,  1,  0,  0,  0,  0,  0],\n",
       "       [ 0,  0,  0,  0,  0,  1,  0,  0,  0,  0],\n",
       "       [ 0,  0,  0, -1,  0,  0,  0,  0,  0,  0],\n",
       "       [ 0,  0,  0,  0,  0,  0,  0,  1,  0,  0],\n",
       "       [ 0,  0,  0,  0,  0,  0,  0,  0,  1,  0],\n",
       "       [ 0,  0,  0,  0,  0,  0,  0,  0,  0,  1]])"
      ]
     },
     "execution_count": 40,
     "metadata": {},
     "output_type": "execute_result"
    }
   ],
   "source": [
    "t2"
   ]
  },
  {
   "cell_type": "code",
   "execution_count": 52,
   "id": "bdd56ad2-b907-4213-9c62-47d25b34e1be",
   "metadata": {},
   "outputs": [],
   "source": [
    "tmp = np.matmul(seq, t2)"
   ]
  },
  {
   "cell_type": "code",
   "execution_count": 54,
   "id": "e7fa4d95-cf89-4fdc-8440-bff9fa12313c",
   "metadata": {},
   "outputs": [
    {
     "data": {
      "text/plain": [
       "array([ 1,  2,  3,  7,  5,  6,  4,  8,  9, 10])"
      ]
     },
     "execution_count": 54,
     "metadata": {},
     "output_type": "execute_result"
    }
   ],
   "source": [
    "np.matmul(tmp, n1)"
   ]
  },
  {
   "cell_type": "code",
   "execution_count": 42,
   "id": "97fc0405-2fff-4d96-b88f-83029fe14d91",
   "metadata": {},
   "outputs": [],
   "source": [
    "from dcj_comp import dcj_dist"
   ]
  },
  {
   "cell_type": "code",
   "execution_count": 43,
   "id": "df212c0d-a3f3-4c12-ba2a-9a2432f6d74c",
   "metadata": {},
   "outputs": [
    {
     "data": {
      "text/plain": [
       "(9, 0, 2)"
      ]
     },
     "execution_count": 43,
     "metadata": {},
     "output_type": "execute_result"
    }
   ],
   "source": [
    "dcj_dist(seq, np.matmul(seq, t2))"
   ]
  },
  {
   "cell_type": "code",
   "execution_count": 44,
   "id": "a87b84e2-fec7-4687-a65e-8a576f09237a",
   "metadata": {},
   "outputs": [],
   "source": [
    "t3 = np.diag(np.repeat(1,10))\n",
    "t4 = np.diag(np.repeat(1,10))"
   ]
  },
  {
   "cell_type": "code",
   "execution_count": 47,
   "id": "ce62f308-7fdf-4305-8263-138be1e651f7",
   "metadata": {},
   "outputs": [],
   "source": [
    "t3[(3,6), (6,3)] = 1"
   ]
  },
  {
   "cell_type": "code",
   "execution_count": 60,
   "id": "a4351d8f-694b-478f-8129-15e70e815337",
   "metadata": {},
   "outputs": [],
   "source": [
    "t3 = np.diag(np.repeat(1,10))"
   ]
  },
  {
   "cell_type": "code",
   "execution_count": 50,
   "id": "966289f2-feb0-410d-aba0-59ba4f866550",
   "metadata": {},
   "outputs": [
    {
     "data": {
      "text/plain": [
       "array([ 1,  2,  3,  7,  5,  6,  4,  8,  9, 10])"
      ]
     },
     "execution_count": 50,
     "metadata": {},
     "output_type": "execute_result"
    }
   ],
   "source": [
    "np.matmul(seq, t3)"
   ]
  },
  {
   "cell_type": "code",
   "execution_count": 55,
   "id": "a6f01849-3ff9-4081-89c8-d25c2a92df74",
   "metadata": {},
   "outputs": [],
   "source": [
    "t4[3:6, 6:3] = -1\n",
    "t4[3:6, 3:6] = 0"
   ]
  },
  {
   "cell_type": "code",
   "execution_count": 58,
   "id": "21077e66-16f8-48dc-86bd-37b21a937dff",
   "metadata": {},
   "outputs": [],
   "source": [
    "t4[(3,4,5,6), (6,5,4,3)] = -1\n",
    "t4[6,6] = 0"
   ]
  },
  {
   "cell_type": "code",
   "execution_count": 59,
   "id": "367bec50-653e-4b52-a8c1-32e64a1a5753",
   "metadata": {},
   "outputs": [
    {
     "data": {
      "text/plain": [
       "array([[ 1,  0,  0,  0,  0,  0,  0,  0,  0,  0],\n",
       "       [ 0,  1,  0,  0,  0,  0,  0,  0,  0,  0],\n",
       "       [ 0,  0,  1,  0,  0,  0,  0,  0,  0,  0],\n",
       "       [ 0,  0,  0,  0,  0,  0, -1,  0,  0,  0],\n",
       "       [ 0,  0,  0,  0,  0, -1,  0,  0,  0,  0],\n",
       "       [ 0,  0,  0,  0, -1,  0,  0,  0,  0,  0],\n",
       "       [ 0,  0,  0, -1,  0,  0,  0,  0,  0,  0],\n",
       "       [ 0,  0,  0,  0,  0,  0,  0,  1,  0,  0],\n",
       "       [ 0,  0,  0,  0,  0,  0,  0,  0,  1,  0],\n",
       "       [ 0,  0,  0,  0,  0,  0,  0,  0,  0,  1]])"
      ]
     },
     "execution_count": 59,
     "metadata": {},
     "output_type": "execute_result"
    }
   ],
   "source": [
    "t4"
   ]
  },
  {
   "cell_type": "code",
   "execution_count": 61,
   "id": "828ba05a-c7e7-4c61-bf92-f60d5a9abc33",
   "metadata": {},
   "outputs": [],
   "source": [
    "t3[(4,5), (4,5)] = 0\n",
    "t3[(5,4), (4,5)] = -1"
   ]
  },
  {
   "cell_type": "code",
   "execution_count": 62,
   "id": "008fbe48-0fe3-4272-ae8c-12cd01d9988d",
   "metadata": {},
   "outputs": [
    {
     "data": {
      "text/plain": [
       "array([[ 1,  0,  0,  0,  0,  0,  0,  0,  0,  0],\n",
       "       [ 0,  1,  0,  0,  0,  0,  0,  0,  0,  0],\n",
       "       [ 0,  0,  1,  0,  0,  0,  0,  0,  0,  0],\n",
       "       [ 0,  0,  0,  1,  0,  0,  0,  0,  0,  0],\n",
       "       [ 0,  0,  0,  0,  0, -1,  0,  0,  0,  0],\n",
       "       [ 0,  0,  0,  0, -1,  0,  0,  0,  0,  0],\n",
       "       [ 0,  0,  0,  0,  0,  0,  1,  0,  0,  0],\n",
       "       [ 0,  0,  0,  0,  0,  0,  0,  1,  0,  0],\n",
       "       [ 0,  0,  0,  0,  0,  0,  0,  0,  1,  0],\n",
       "       [ 0,  0,  0,  0,  0,  0,  0,  0,  0,  1]])"
      ]
     },
     "execution_count": 62,
     "metadata": {},
     "output_type": "execute_result"
    }
   ],
   "source": [
    "t3"
   ]
  },
  {
   "cell_type": "code",
   "execution_count": 63,
   "id": "6e340068-6589-4a84-b1ab-e6d257ca6a16",
   "metadata": {},
   "outputs": [
    {
     "data": {
      "text/plain": [
       "array([[ 1,  0,  0,  0,  0,  0,  0,  0,  0,  0],\n",
       "       [ 0,  1,  0,  0,  0,  0,  0,  0,  0,  0],\n",
       "       [ 0,  0,  1,  0,  0,  0,  0,  0,  0,  0],\n",
       "       [ 0,  0,  0,  0,  0,  0, -1,  0,  0,  0],\n",
       "       [ 0,  0,  0,  0,  1,  0,  0,  0,  0,  0],\n",
       "       [ 0,  0,  0,  0,  0,  1,  0,  0,  0,  0],\n",
       "       [ 0,  0,  0, -1,  0,  0,  0,  0,  0,  0],\n",
       "       [ 0,  0,  0,  0,  0,  0,  0,  1,  0,  0],\n",
       "       [ 0,  0,  0,  0,  0,  0,  0,  0,  1,  0],\n",
       "       [ 0,  0,  0,  0,  0,  0,  0,  0,  0,  1]])"
      ]
     },
     "execution_count": 63,
     "metadata": {},
     "output_type": "execute_result"
    }
   ],
   "source": [
    "np.matmul(t3,t4)"
   ]
  },
  {
   "cell_type": "code",
   "execution_count": null,
   "id": "98f0ef14-abb2-4bee-bc67-37b08c6472e1",
   "metadata": {},
   "outputs": [],
   "source": []
  }
 ],
 "metadata": {
  "kernelspec": {
   "display_name": "Deep AI",
   "language": "python",
   "name": "dl"
  },
  "language_info": {
   "codemirror_mode": {
    "name": "ipython",
    "version": 3
   },
   "file_extension": ".py",
   "mimetype": "text/x-python",
   "name": "python",
   "nbconvert_exporter": "python",
   "pygments_lexer": "ipython3",
   "version": "3.7.11"
  }
 },
 "nbformat": 4,
 "nbformat_minor": 5
}
