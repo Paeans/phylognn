{
 "cells": [
  {
   "cell_type": "code",
   "execution_count": 1,
   "id": "c5d30121-2a61-48af-a8bd-354776515c2a",
   "metadata": {},
   "outputs": [],
   "source": [
    "import torch\n",
    "from gene_graph_dataset import GeneGraphDataset"
   ]
  },
  {
   "cell_type": "code",
   "execution_count": 5,
   "id": "e108e347-8e71-42f4-a54c-9ed0ecfcf2f9",
   "metadata": {},
   "outputs": [
    {
     "name": "stderr",
     "output_type": "stream",
     "text": [
      "Processing...\n",
      "Done!\n"
     ]
    }
   ],
   "source": [
    "with torch.cuda.device(1):\n",
    "    ds = GeneGraphDataset('dataset', 200, 100)"
   ]
  },
  {
   "cell_type": "code",
   "execution_count": 6,
   "id": "b0ef9855-a105-495c-8914-688c4c105ed8",
   "metadata": {},
   "outputs": [
    {
     "data": {
      "text/plain": [
       "GeneGraphDataset(9800)"
      ]
     },
     "execution_count": 6,
     "metadata": {},
     "output_type": "execute_result"
    }
   ],
   "source": [
    "ds.shuffle()"
   ]
  },
  {
   "cell_type": "code",
   "execution_count": null,
   "id": "5b2b3aa8-fa2a-45da-b9f4-94d5b451f957",
   "metadata": {},
   "outputs": [],
   "source": []
  }
 ],
 "metadata": {
  "kernelspec": {
   "display_name": "Deep AI",
   "language": "python",
   "name": "dl"
  },
  "language_info": {
   "codemirror_mode": {
    "name": "ipython",
    "version": 3
   },
   "file_extension": ".py",
   "mimetype": "text/x-python",
   "name": "python",
   "nbconvert_exporter": "python",
   "pygments_lexer": "ipython3",
   "version": "3.7.11"
  }
 },
 "nbformat": 4,
 "nbformat_minor": 5
}
