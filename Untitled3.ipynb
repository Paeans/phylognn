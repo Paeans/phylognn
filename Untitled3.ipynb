{
 "cells": [
  {
   "cell_type": "code",
   "execution_count": 1,
   "id": "ec436995-a8cf-46d9-bf78-45fd3b96d42e",
   "metadata": {},
   "outputs": [],
   "source": [
    "import time\n",
    "\n",
    "import torch\n",
    "from torch.nn import ModuleList, Embedding\n",
    "from torch.nn import Sequential, ReLU, Linear\n",
    "from torch.optim.lr_scheduler import ReduceLROnPlateau\n",
    "import torch_geometric.transforms as T\n",
    "\n",
    "from torch_geometric.nn import GCNConv, VGAE, PNAConv, BatchNorm\n",
    "from torch_geometric.loader import DataLoader\n",
    "\n",
    "from gene_graph_dataset import G2GraphDataset\n",
    "\n",
    "from torch_geometric.utils import (degree,\n",
    "                                   negative_sampling, \n",
    "                                   remove_self_loops,\n",
    "                                   add_self_loops)\n",
    "\n",
    "from torch.utils.tensorboard import SummaryWriter"
   ]
  },
  {
   "cell_type": "code",
   "execution_count": 2,
   "id": "3253a61c-5647-495c-9227-a2fdf9c3812f",
   "metadata": {},
   "outputs": [],
   "source": [
    "gpuid = 0\n",
    "\n",
    "train_p, test_p = 0.8, 0.2"
   ]
  },
  {
   "cell_type": "code",
   "execution_count": 3,
   "id": "51a7e143-b111-4051-a7ff-b29560aa8fad",
   "metadata": {},
   "outputs": [],
   "source": [
    "device = torch.device('cuda:' + str(gpuid) if torch.cuda.is_available() else 'cpu')"
   ]
  },
  {
   "cell_type": "code",
   "execution_count": 4,
   "id": "ece92178-89e5-4d5f-a806-04b15ba5ac6e",
   "metadata": {},
   "outputs": [],
   "source": [
    "dataset = G2GraphDataset('dataset_g2g', 100, 3)"
   ]
  },
  {
   "cell_type": "code",
   "execution_count": 5,
   "id": "62007446-f148-4baa-af21-2011093c7e70",
   "metadata": {},
   "outputs": [],
   "source": [
    "data_size = len(dataset)\n",
    "train_size, test_size = (int)(data_size * train_p), (int)(data_size * test_p)"
   ]
  },
  {
   "cell_type": "code",
   "execution_count": 6,
   "id": "3c4070bb-3305-4710-9ce9-93537ba72c5f",
   "metadata": {},
   "outputs": [],
   "source": [
    "dataset = dataset.shuffle()\n",
    "train_dataset = dataset[:train_size]\n",
    "test_dataset = dataset[train_size:(train_size + test_size)]\n",
    "# val_dataset = dataset[(train_size + test_size):]"
   ]
  },
  {
   "cell_type": "code",
   "execution_count": 7,
   "id": "a2c6a0cb-b675-47a6-8eac-a4e5b82a0ca1",
   "metadata": {},
   "outputs": [],
   "source": [
    "train_loader = DataLoader(train_dataset, batch_size=64, shuffle=True)\n",
    "test_loader = DataLoader(test_dataset, batch_size=64)\n",
    "# val_loader = DataLoader(val_dataset, batch_size=8)"
   ]
  },
  {
   "cell_type": "code",
   "execution_count": 8,
   "id": "dbb8f654-2582-482f-886d-07f10fa83841",
   "metadata": {},
   "outputs": [],
   "source": [
    "deg = torch.zeros(5, dtype=torch.long)\n",
    "for data in train_dataset:\n",
    "    d = degree(data.edge_index[1].type(torch.int64), \n",
    "               num_nodes=data.num_nodes, dtype=torch.long)\n",
    "    deg += torch.bincount(d, minlength=deg.numel())"
   ]
  },
  {
   "cell_type": "code",
   "execution_count": 9,
   "id": "2a4a4642-a2a8-4f5b-93ec-476ec212f422",
   "metadata": {},
   "outputs": [],
   "source": [
    "class EncoderNet(torch.nn.Module):\n",
    "    def __init__(self, in_channels, out_channels):\n",
    "        super(EncoderNet, self).__init__()\n",
    "\n",
    "        self.node_emb = Embedding(21, 75)        \n",
    "\n",
    "        aggregators = ['mean', 'min', 'max', 'std']\n",
    "        scalers = ['identity', 'amplification', 'attenuation']\n",
    "        \n",
    "        self.conv_mu = GCNConv(75, out_channels)\n",
    "        self.conv_logstd = GCNConv(75, out_channels)\n",
    "        \n",
    "        self.convs = ModuleList()\n",
    "        self.batch_norms = ModuleList()\n",
    "        for _ in range(4):\n",
    "            conv = PNAConv(in_channels=75, out_channels=75,\n",
    "                           aggregators=aggregators, scalers=scalers, deg=deg,\n",
    "                           towers=5, pre_layers=1, post_layers=1,\n",
    "                           divide_input=False)\n",
    "            # conv = GCNConv(in_channels=75, out_channels=75)\n",
    "            self.convs.append(conv)\n",
    "            self.batch_norms.append(BatchNorm(75))\n",
    "            \n",
    "        self.pre_lin = Linear(150,75)\n",
    "        \n",
    "    def forward(self, x, edge_index):\n",
    "        \n",
    "        x = torch.reshape(self.node_emb(x.squeeze().to(torch.int)), (-1, 150))\n",
    "        x = self.pre_lin(x)\n",
    "        \n",
    "        for conv, batch_norm in zip(self.convs, self.batch_norms):\n",
    "            x = batch_norm(conv(x, edge_index)).relu()\n",
    "            # x = F.relu(batch_norm(conv(x, edge_index)))\n",
    "        return self.conv_mu(x, edge_index), self.conv_logstd(x, edge_index)"
   ]
  },
  {
   "cell_type": "code",
   "execution_count": 10,
   "id": "770c5b84-1b27-42b1-b0eb-ebc893f5b406",
   "metadata": {},
   "outputs": [],
   "source": [
    "in_channels, out_channels = dataset.num_features, 16"
   ]
  },
  {
   "cell_type": "code",
   "execution_count": 11,
   "id": "1a07372c-9ef1-43d2-845f-bc1a9e83926e",
   "metadata": {},
   "outputs": [],
   "source": [
    "# model = VGAE(VariationalGCNEncoder(in_channels, out_channels))\n",
    "model = VGAE(EncoderNet(in_channels, out_channels))\n",
    "model = model.to(device)\n",
    "optimizer = torch.optim.Adam(model.parameters(), lr=0.01)\n",
    "scheduler = ReduceLROnPlateau(optimizer, mode='min', factor=0.5, patience=10,\n",
    "                              min_lr=0.00001)"
   ]
  },
  {
   "cell_type": "code",
   "execution_count": 12,
   "id": "5c4dd281-b1eb-45d3-9b80-33bbed4db8e5",
   "metadata": {},
   "outputs": [],
   "source": [
    "writer = SummaryWriter(log_dir='runs/g2g_100_nattr')"
   ]
  },
  {
   "cell_type": "code",
   "execution_count": 13,
   "id": "a258ffba-549f-4158-96ad-b8f2cc175130",
   "metadata": {},
   "outputs": [],
   "source": [
    "def train(train_loader):\n",
    "    model.train()\n",
    "    \n",
    "    total_loss = 0\n",
    "    for data in train_loader:\n",
    "        data = data.to(device)\n",
    "        optimizer.zero_grad()\n",
    "        \n",
    "        # z = model.encode(data.x, data.edge_index)\n",
    "        z = model.encode(data.x, data.edge_index)\n",
    "        loss = model.recon_loss(z, data.pos_edge_label_index, \n",
    "                                data.neg_edge_label_index)\n",
    "        loss = loss + (1 / data.num_nodes) * model.kl_loss()\n",
    "        loss.backward()\n",
    "        optimizer.step()\n",
    "        \n",
    "        total_loss += loss\n",
    "    return total_loss/len(train_loader)\n",
    "\n",
    "@torch.no_grad()\n",
    "def test(test_loader):\n",
    "    model.eval()\n",
    "    auc, ap = 0, 0\n",
    "    \n",
    "    for data in test_loader:\n",
    "        \n",
    "        data = data.to(device)\n",
    "        # z = model.encode(data.x, data.edge_index)\n",
    "        z = model.encode(data.x, data.edge_index)\n",
    "        tauc, tap = model.test(z, data.pos_edge_label_index, \n",
    "                               data.neg_edge_label_index)\n",
    "        auc += tauc\n",
    "        ap += tap\n",
    "        \n",
    "    return auc/len(test_loader), ap/len(test_loader)"
   ]
  },
  {
   "cell_type": "code",
   "execution_count": 14,
   "id": "c7c1df12-ce9a-47ca-8fd8-198c4ec9c435",
   "metadata": {},
   "outputs": [
    {
     "name": "stdout",
     "output_type": "stream",
     "text": [
      "Tue Dec 14 10:12:51 2021\tEpoch: 050, loss: 1.0725, AUC: 0.8778, AP: 0.0246\n",
      "Tue Dec 14 10:16:00 2021\tEpoch: 100, loss: 1.0536, AUC: 0.8897, AP: 0.0268\n",
      "Tue Dec 14 10:19:09 2021\tEpoch: 150, loss: 1.0463, AUC: 0.9033, AP: 0.0293\n",
      "Tue Dec 14 10:22:18 2021\tEpoch: 200, loss: 1.0449, AUC: 0.9041, AP: 0.0296\n",
      "Tue Dec 14 10:25:27 2021\tEpoch: 250, loss: 1.0452, AUC: 0.9043, AP: 0.0297\n",
      "Tue Dec 14 10:28:38 2021\tEpoch: 300, loss: 1.0438, AUC: 0.9043, AP: 0.0297\n",
      "Tue Dec 14 10:31:49 2021\tEpoch: 350, loss: 1.0452, AUC: 0.9042, AP: 0.0297\n",
      "Tue Dec 14 10:34:59 2021\tEpoch: 400, loss: 1.0443, AUC: 0.9045, AP: 0.0298\n",
      "Tue Dec 14 10:38:11 2021\tEpoch: 450, loss: 1.0433, AUC: 0.9046, AP: 0.0298\n",
      "Tue Dec 14 10:41:49 2021\tEpoch: 500, loss: 1.0442, AUC: 0.9046, AP: 0.0298\n",
      "Tue Dec 14 10:45:27 2021\tEpoch: 550, loss: 1.0429, AUC: 0.9047, AP: 0.0299\n",
      "Tue Dec 14 10:49:05 2021\tEpoch: 600, loss: 1.0438, AUC: 0.9047, AP: 0.0299\n",
      "Tue Dec 14 10:52:43 2021\tEpoch: 650, loss: 1.0424, AUC: 0.9049, AP: 0.0300\n",
      "Tue Dec 14 10:56:20 2021\tEpoch: 700, loss: 1.0422, AUC: 0.9050, AP: 0.0300\n",
      "Tue Dec 14 10:59:57 2021\tEpoch: 750, loss: 1.0428, AUC: 0.9054, AP: 0.0301\n",
      "Tue Dec 14 11:03:33 2021\tEpoch: 800, loss: 1.0426, AUC: 0.9051, AP: 0.0302\n",
      "Tue Dec 14 11:07:09 2021\tEpoch: 850, loss: 1.0421, AUC: 0.9057, AP: 0.0303\n",
      "Tue Dec 14 11:10:44 2021\tEpoch: 900, loss: 1.0434, AUC: 0.9056, AP: 0.0304\n",
      "Tue Dec 14 11:14:20 2021\tEpoch: 950, loss: 1.0424, AUC: 0.9059, AP: 0.0305\n",
      "Tue Dec 14 11:17:57 2021\tEpoch: 1000, loss: 1.0409, AUC: 0.9059, AP: 0.0306\n",
      "Tue Dec 14 11:21:32 2021\tEpoch: 1050, loss: 1.0417, AUC: 0.9062, AP: 0.0307\n",
      "Tue Dec 14 11:25:08 2021\tEpoch: 1100, loss: 1.0413, AUC: 0.9064, AP: 0.0308\n",
      "Tue Dec 14 11:28:42 2021\tEpoch: 1150, loss: 1.0398, AUC: 0.9064, AP: 0.0309\n",
      "Tue Dec 14 11:32:18 2021\tEpoch: 1200, loss: 1.0415, AUC: 0.9064, AP: 0.0310\n",
      "Tue Dec 14 11:36:01 2021\tEpoch: 1250, loss: 1.0409, AUC: 0.9066, AP: 0.0311\n",
      "Tue Dec 14 11:39:46 2021\tEpoch: 1300, loss: 1.0395, AUC: 0.9070, AP: 0.0312\n",
      "Tue Dec 14 11:43:28 2021\tEpoch: 1350, loss: 1.0397, AUC: 0.9069, AP: 0.0312\n",
      "Tue Dec 14 11:47:07 2021\tEpoch: 1400, loss: 1.0398, AUC: 0.9075, AP: 0.0313\n",
      "Tue Dec 14 11:50:56 2021\tEpoch: 1450, loss: 1.0393, AUC: 0.9076, AP: 0.0314\n",
      "Tue Dec 14 11:54:38 2021\tEpoch: 1500, loss: 1.0391, AUC: 0.9073, AP: 0.0314\n",
      "Tue Dec 14 11:58:17 2021\tEpoch: 1550, loss: 1.0381, AUC: 0.9075, AP: 0.0315\n",
      "Tue Dec 14 12:02:03 2021\tEpoch: 1600, loss: 1.0386, AUC: 0.9077, AP: 0.0316\n",
      "Tue Dec 14 12:05:45 2021\tEpoch: 1650, loss: 1.0386, AUC: 0.9078, AP: 0.0317\n",
      "Tue Dec 14 12:09:26 2021\tEpoch: 1700, loss: 1.0401, AUC: 0.9080, AP: 0.0317\n",
      "Tue Dec 14 12:13:06 2021\tEpoch: 1750, loss: 1.0393, AUC: 0.9078, AP: 0.0318\n",
      "Tue Dec 14 12:16:45 2021\tEpoch: 1800, loss: 1.0375, AUC: 0.9081, AP: 0.0318\n",
      "Tue Dec 14 12:20:22 2021\tEpoch: 1850, loss: 1.0396, AUC: 0.9081, AP: 0.0319\n",
      "Tue Dec 14 12:24:00 2021\tEpoch: 1900, loss: 1.0393, AUC: 0.9082, AP: 0.0320\n",
      "Tue Dec 14 12:27:36 2021\tEpoch: 1950, loss: 1.0367, AUC: 0.9085, AP: 0.0320\n",
      "Tue Dec 14 12:31:15 2021\tEpoch: 2000, loss: 1.0365, AUC: 0.9081, AP: 0.0321\n"
     ]
    }
   ],
   "source": [
    "for epoch in range(1, 2000 + 1):\n",
    "    loss = train(train_loader)\n",
    "    auc, ap = test(test_loader)\n",
    "    \n",
    "    scheduler.step(1 - auc)\n",
    "    \n",
    "    writer.add_scalar('Loss/train', loss, epoch)\n",
    "    writer.add_scalar('AUC/test', auc, epoch)\n",
    "    writer.add_scalar('AP/test', ap, epoch)\n",
    "    if epoch % 50 == 0:\n",
    "        print(f'{time.ctime()}\\t'\n",
    "              f'Epoch: {epoch:03d}, loss: {loss:.4f}, AUC: {auc:.4f}, AP: {ap:.4f}')"
   ]
  },
  {
   "cell_type": "code",
   "execution_count": 15,
   "id": "d6367f3c-f5ba-45ed-8a3f-71751cf68356",
   "metadata": {},
   "outputs": [],
   "source": [
    "writer.close()"
   ]
  },
  {
   "cell_type": "code",
   "execution_count": null,
   "id": "1f0946fe-bd7f-4c34-abd9-4e32df454221",
   "metadata": {},
   "outputs": [],
   "source": []
  }
 ],
 "metadata": {
  "kernelspec": {
   "display_name": "Deep AI",
   "language": "python",
   "name": "dl"
  },
  "language_info": {
   "codemirror_mode": {
    "name": "ipython",
    "version": 3
   },
   "file_extension": ".py",
   "mimetype": "text/x-python",
   "name": "python",
   "nbconvert_exporter": "python",
   "pygments_lexer": "ipython3",
   "version": "3.7.11"
  }
 },
 "nbformat": 4,
 "nbformat_minor": 5
}
