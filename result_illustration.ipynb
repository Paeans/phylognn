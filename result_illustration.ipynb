{
 "cells": [
  {
   "cell_type": "code",
   "execution_count": 1,
   "id": "3818a5a3-4ec2-4708-8729-b54cadad450e",
   "metadata": {},
   "outputs": [],
   "source": [
    "import numpy as np\n",
    "import torch\n",
    "\n",
    "from dcj_comp import dcj_dist"
   ]
  },
  {
   "cell_type": "code",
   "execution_count": 152,
   "id": "293e4ebb-7648-43a6-ac8e-4c3ab61cfc14",
   "metadata": {},
   "outputs": [
    {
     "name": "stdout",
     "output_type": "stream",
     "text": [
      "seqlen: 10\n",
      "\t lower_bound \t dist_mean \t ratio \t\t std \t\t number\n",
      "0.1 & \t 3.0000 &\t 1.0200 &\t 0.3400 &\t 1.0998 &\t  87 &\t \\\\ \\hline\n",
      "0.2 & \t 4.1100 &\t 2.0350 &\t 0.4951 &\t 1.4470 &\t  33 &\t \\\\ \\hline\n",
      "0.3 & \t 5.8150 &\t 2.7950 &\t 0.4807 &\t 1.7038 &\t  19 &\t \\\\ \\hline\n",
      "0.4 & \t 6.9300 &\t 2.7600 &\t 0.3983 &\t 1.7270 &\t  22 &\t \\\\ \\hline\n",
      "0.5 & \t 7.0200 &\t 3.0500 &\t 0.4345 &\t 1.7051 &\t  17 &\t \\\\ \\hline\n",
      "0.6 & \t 7.6000 &\t 3.3750 &\t 0.4441 &\t 1.7648 &\t  15 &\t \\\\ \\hline\n",
      "0.7 & \t 7.9400 &\t 3.1250 &\t 0.3936 &\t 1.7057 &\t  14 &\t \\\\ \\hline\n",
      "0.8 & \t 8.7500 &\t 3.7050 &\t 0.4234 &\t 1.6637 &\t   4 &\t \\\\ \\hline\n",
      "0.9 & \t 8.6300 &\t 3.9050 &\t 0.4525 &\t 1.7709 &\t   7 &\t \\\\ \\hline\n",
      "1.0 & \t 8.2200 &\t 3.3600 &\t 0.4088 &\t 1.7721 &\t   8 &\t \\\\ \\hline\n",
      "1.5 & \t 9.1100 &\t 3.9650 &\t 0.4352 &\t 1.6321 &\t   5 &\t \\\\ \\hline\n",
      "2.0 & \t 9.1200 &\t 3.6100 &\t 0.3958 &\t 1.6876 &\t   6 &\t \\\\ \\hline\n",
      "*************\n",
      "seqlen: 50\n",
      "\t lower_bound \t dist_mean \t ratio \t\t std \t\t number\n",
      "0.1 & \t 9.1400 &\t 2.7400 &\t 0.2998 &\t 1.7614 &\t  17 &\t \\\\ \\hline\n",
      "0.2 & \t15.6100 &\t 4.6050 &\t 0.2950 &\t 2.8194 &\t  13 &\t \\\\ \\hline\n",
      "0.3 & \t22.8000 &\t 7.9950 &\t 0.3507 &\t 4.1467 &\t   3 &\t \\\\ \\hline\n",
      "0.4 & \t25.7550 &\t 7.9550 &\t 0.3089 &\t 4.5785 &\t   7 &\t \\\\ \\hline\n",
      "0.5 & \t28.0600 &\t 9.1250 &\t 0.3252 &\t 4.9909 &\t   3 &\t \\\\ \\hline\n",
      "0.6 & \t29.9000 &\t 9.7550 &\t 0.3263 &\t 5.1415 &\t   3 &\t \\\\ \\hline\n",
      "0.7 & \t28.3850 &\t 7.6700 &\t 0.2702 &\t 4.2428 &\t   8 &\t \\\\ \\hline\n",
      "0.8 & \t30.4450 &\t10.4850 &\t 0.3444 &\t 5.5884 &\t   6 &\t \\\\ \\hline\n",
      "0.9 & \t28.7350 &\t 9.1650 &\t 0.3189 &\t 4.8371 &\t   5 &\t \\\\ \\hline\n",
      "1.0 & \t30.3100 &\t 9.6300 &\t 0.3177 &\t 5.4665 &\t   2 &\t \\\\ \\hline\n",
      "1.5 & \t32.6100 &\t10.0100 &\t 0.3070 &\t 4.9416 &\t   2 &\t \\\\ \\hline\n",
      "2.0 & \t30.2750 &\t 8.6800 &\t 0.2867 &\t 4.7820 &\t   6 &\t \\\\ \\hline\n",
      "*************\n",
      "seqlen: 100\n",
      "\t lower_bound \t dist_mean \t ratio \t\t std \t\t number\n",
      "0.1 & \t16.9800 &\t 4.5200 &\t 0.2662 &\t 2.6513 &\t   9 &\t \\\\ \\hline\n",
      "0.2 & \t31.8550 &\t 9.1350 &\t 0.2868 &\t 4.8401 &\t   1 &\t \\\\ \\hline\n",
      "0.3 & \t45.5200 &\t15.1300 &\t 0.3324 &\t 8.1513 &\t   0 &\t \\\\ \\hline\n",
      "0.4 & \t45.6200 &\t14.2300 &\t 0.3119 &\t 7.4838 &\t   2 &\t \\\\ \\hline\n",
      "0.5 & \t55.2900 &\t17.9950 &\t 0.3255 &\t 8.8207 &\t   2 &\t \\\\ \\hline\n",
      "0.6 & \t50.4500 &\t13.9950 &\t 0.2774 &\t 7.3814 &\t   0 &\t \\\\ \\hline\n",
      "0.7 & \t56.6950 &\t17.7600 &\t 0.3133 &\t 8.1032 &\t   1 &\t \\\\ \\hline\n",
      "0.8 & \t54.5050 &\t16.2600 &\t 0.2983 &\t 8.3632 &\t   0 &\t \\\\ \\hline\n",
      "0.9 & \t59.5550 &\t18.7250 &\t 0.3144 &\t 9.2865 &\t   0 &\t \\\\ \\hline\n",
      "1.0 & \t56.3900 &\t21.2900 &\t 0.3775 &\t 8.2271 &\t   0 &\t \\\\ \\hline\n",
      "1.5 & \t56.1900 &\t16.6650 &\t 0.2966 &\t 7.9040 &\t   1 &\t \\\\ \\hline\n",
      "2.0 & \t53.9900 &\t15.6200 &\t 0.2893 &\t 8.5502 &\t   0 &\t \\\\ \\hline\n",
      "*************\n"
     ]
    }
   ],
   "source": [
    "# version 2.0\n",
    "# distance between result sequence and the median sequence\n",
    "for seqlen in [10, 50, 100]:\n",
    "    print(f'seqlen: {seqlen}')\n",
    "    print(f'\\t lower_bound \\t dist_mean \\t ratio \\t\\t std \\t\\t number')\n",
    "    for rate in list(range(1, 10)) + [10, 15, 20]:\n",
    "        rate = rate / 10\n",
    "        fname = (f'val_seq_g3m_3_' \n",
    "                 f'{seqlen}_{int(seqlen * rate)}' \n",
    "                 f'_200/raw/g3raw_' \n",
    "                 f'{seqlen}_{int(seqlen * rate)}.pt')\n",
    "        source, target = torch.load(fname)\n",
    "\n",
    "        lower_bound = np.array([np.ceil(np.sum([dcj_dist(g1, g2)[-1], \n",
    "                                       dcj_dist(g1, g3)[-1], \n",
    "                                       dcj_dist(g2, g3)[-1]])/2) \n",
    "                      for g1, g2, g3 in source])\n",
    "        \n",
    "        tmp = torch.load(f'dist_result_pt/{seqlen:0>4}_{rate}.pt')\n",
    "        # dist_list = np.array([d[-1] for d in tmp])\n",
    "        # dist_diff = np.abs(dist_list - lower_bound)\n",
    "        \n",
    "        dist_diff = np.abs([dcj_dist(a, b[0])[-1] for a, b in zip(target, tmp)])\n",
    "        \n",
    "        print(f'{rate} & \\t'\n",
    "              f'{np.mean(lower_bound):>7.4f} &\\t' \n",
    "              f'{dist_diff.mean():>7.4f} &\\t'\n",
    "              f'{dist_diff.mean()/np.mean(lower_bound) :>7.4f} &\\t'\n",
    "              f'{dist_diff.std():>7.4f} &\\t'\n",
    "             f'{np.sum(dist_diff == 0):>4} &\\t \\\\\\\\ \\hline')\n",
    "    print('*************')"
   ]
  },
  {
   "cell_type": "code",
   "execution_count": 26,
   "id": "02e3ae09-2f75-4c2d-8137-895158caac7b",
   "metadata": {},
   "outputs": [],
   "source": [
    "import matplotlib as mpl\n",
    "mpl.rcParams['pdf.fonttype'] = 42"
   ]
  },
  {
   "cell_type": "code",
   "execution_count": 27,
   "id": "7de6eba9-50e7-40a4-807d-6c6ff7721d8a",
   "metadata": {},
   "outputs": [],
   "source": [
    "import matplotlib.pyplot as plt"
   ]
  },
  {
   "cell_type": "code",
   "execution_count": 163,
   "id": "9bf52336-5205-474b-9712-86f6ad7c56b8",
   "metadata": {},
   "outputs": [],
   "source": [
    "# for seqlen in [10, 50, 100]:\n",
    "result = []\n",
    "seqlen = 10\n",
    "for rate in list(range(1, 10)) + [10, 15, 20]:\n",
    "    rate = rate / 10\n",
    "    fname = (f'val_seq_g3m_3_' \n",
    "             f'{seqlen}_{int(seqlen * rate)}' \n",
    "             f'_200/raw/g3raw_' \n",
    "             f'{seqlen}_{int(seqlen * rate)}.pt')\n",
    "    source, target = torch.load(fname)\n",
    "\n",
    "    # lower_bound = np.array([np.ceil(np.sum([dcj_dist(g1, g2)[-1], \n",
    "    #                                dcj_dist(g1, g3)[-1], \n",
    "    #                                dcj_dist(g2, g3)[-1]])/2) \n",
    "    #               for g1, g2, g3 in source])\n",
    "\n",
    "    tmp = torch.load(f'dist_result_pt/{seqlen:0>4}_{rate}.pt')\n",
    "    # dist_list = np.array([d[-1] for d in tmp])\n",
    "    # dist_diff = np.abs(dist_list - lower_bound)\n",
    "\n",
    "    dist_diff = np.abs([dcj_dist(a, b[0])[-1] for a, b in zip(target, tmp)])\n",
    "\n",
    "    # tmp = torch.load(f'dist_result_pt/{seqlen:0>4}_{rate}.pt')\n",
    "    # dist_list = np.array([d[-1] for d in tmp])\n",
    "    # dist_diff = np.abs(dist_list - lower_bound)\n",
    "    result.append(dist_diff)"
   ]
  },
  {
   "cell_type": "code",
   "execution_count": 164,
   "id": "74980c89-dcd2-4cf0-993b-d6f6f2d47b55",
   "metadata": {},
   "outputs": [
    {
     "data": {
      "image/png": "[encoded data removed]",
      "text/plain": [
       "<Figure size 432x288 with 1 Axes>"
      ]
     },
     "metadata": {
      "needs_background": "light"
     },
     "output_type": "display_data"
    }
   ],
   "source": [
    "bins = np.arange(np.max(result) + 1)\n",
    "# x = np.arange(np.max(result) + 1)\n",
    "plt.figure()\n",
    "H = plt.hist(result, bins = 11)\n",
    "plt.xticks(np.arange(np.ceil(np.max(H[1])) + 1))\n",
    "# plt.xticklabels(x)\n",
    "plt.savefig('g3val_dist_10.svg', bbox_inches = 'tight')\n",
    "plt.show()"
   ]
  },
  {
   "cell_type": "code",
   "execution_count": 165,
   "id": "76b9c034-d841-4707-9c5a-b6cfad23b5fa",
   "metadata": {},
   "outputs": [
    {
     "data": {
      "text/plain": [
       "array([200., 200., 200., 200., 200., 200., 200., 200., 200., 200., 200.,\n",
       "       200.])"
      ]
     },
     "execution_count": 165,
     "metadata": {},
     "output_type": "execute_result"
    }
   ],
   "source": [
    "np.sum(H[0], axis = 1)"
   ]
  },
  {
   "cell_type": "code",
   "execution_count": 166,
   "id": "55d221ca-7328-4fd0-8d18-5e59d552f598",
   "metadata": {},
   "outputs": [],
   "source": [
    "# for seqlen in [10, 50, 100]:\n",
    "result = []\n",
    "seqlen = 50\n",
    "for rate in list(range(1, 10)) + [10, 15, 20]:\n",
    "    rate = rate / 10\n",
    "    fname = (f'val_seq_g3m_3_' \n",
    "             f'{seqlen}_{int(seqlen * rate)}' \n",
    "             f'_200/raw/g3raw_' \n",
    "             f'{seqlen}_{int(seqlen * rate)}.pt')\n",
    "    source, target = torch.load(fname)\n",
    "\n",
    "    tmp = torch.load(f'dist_result_pt/{seqlen:0>4}_{rate}.pt')\n",
    "\n",
    "    dist_diff = np.abs([dcj_dist(a, b[0])[-1] for a, b in zip(target, tmp)])\n",
    "    result.append(dist_diff)"
   ]
  },
  {
   "cell_type": "code",
   "execution_count": 167,
   "id": "fc1e55b7-0726-4429-b0e2-90b7a03a7b1c",
   "metadata": {},
   "outputs": [
    {
     "data": {
      "image/png": "[encoded data removed]",
      "text/plain": [
       "<Figure size 432x288 with 1 Axes>"
      ]
     },
     "metadata": {
      "needs_background": "light"
     },
     "output_type": "display_data"
    }
   ],
   "source": [
    "# bins = np.arange(np.max(result) + 1)\n",
    "# x = np.arange(11)\n",
    "plt.figure()\n",
    "H = plt.hist(result, bins = 11)\n",
    "plt.xticks(np.arange(0, np.ceil(np.max(H[1])) + 1, 3))\n",
    "# plt.xticklabels(x)\n",
    "plt.savefig('g3val_dist_50.svg', bbox_inches = 'tight')\n",
    "plt.show()"
   ]
  },
  {
   "cell_type": "code",
   "execution_count": 168,
   "id": "0f26a19d-e575-4f9f-a635-a3c5054063d7",
   "metadata": {},
   "outputs": [
    {
     "data": {
      "text/plain": [
       "array([200., 200., 200., 200., 200., 200., 200., 200., 200., 200., 200.,\n",
       "       200.])"
      ]
     },
     "execution_count": 168,
     "metadata": {},
     "output_type": "execute_result"
    }
   ],
   "source": [
    "np.sum(H[0], axis = 1)"
   ]
  },
  {
   "cell_type": "code",
   "execution_count": 169,
   "id": "7a3dec9f-ed4a-416c-ae3c-120803afab49",
   "metadata": {},
   "outputs": [],
   "source": [
    "# for seqlen in [10, 50, 100]:\n",
    "result = []\n",
    "seqlen = 100\n",
    "for rate in list(range(1, 10)) + [10, 15, 20]:\n",
    "    rate = rate / 10\n",
    "    fname = (f'val_seq_g3m_3_' \n",
    "             f'{seqlen}_{int(seqlen * rate)}' \n",
    "             f'_200/raw/g3raw_' \n",
    "             f'{seqlen}_{int(seqlen * rate)}.pt')\n",
    "    source, target = torch.load(fname)\n",
    "\n",
    "    tmp = torch.load(f'dist_result_pt/{seqlen:0>4}_{rate}.pt')\n",
    "\n",
    "    dist_diff = np.abs([dcj_dist(a, b[0])[-1] for a, b in zip(target, tmp)])\n",
    "    result.append(dist_diff)"
   ]
  },
  {
   "cell_type": "code",
   "execution_count": 170,
   "id": "bbc40234-b681-4330-bbec-0b934af235ec",
   "metadata": {},
   "outputs": [
    {
     "data": {
      "image/png": "[encoded data removed]",
      "text/plain": [
       "<Figure size 432x288 with 1 Axes>"
      ]
     },
     "metadata": {
      "needs_background": "light"
     },
     "output_type": "display_data"
    }
   ],
   "source": [
    "x = np.arange(11)\n",
    "plt.figure()\n",
    "H = plt.hist(result, bins = 11)\n",
    "plt.xticks(np.arange(0, np.ceil(np.max(H[1])) + 1, 5))\n",
    "# plt.xticklabels(x)\n",
    "plt.savefig('g3val_dist_100.svg', bbox_inches = 'tight')\n",
    "plt.show()"
   ]
  },
  {
   "cell_type": "code",
   "execution_count": 171,
   "id": "18590c63-43fa-4575-ab3e-a3e62d0efa62",
   "metadata": {},
   "outputs": [
    {
     "data": {
      "text/plain": [
       "array([200., 200., 200., 200., 200., 200., 200., 200., 200., 200., 200.,\n",
       "       200.])"
      ]
     },
     "execution_count": 171,
     "metadata": {},
     "output_type": "execute_result"
    }
   ],
   "source": [
    "np.sum(H[0], axis = 1)"
   ]
  },
  {
   "cell_type": "code",
   "execution_count": 22,
   "id": "120528c2-cf7d-42b4-9245-f5f473d6a76c",
   "metadata": {},
   "outputs": [
    {
     "name": "stdout",
     "output_type": "stream",
     "text": [
      "seqlen: 10\n",
      "\t\t lower_bound \t dist_mean \t ratio \t\t std \t\t number\n",
      "0.1 & \t 3.0000 &\t 2.3950 &\t 0.7983 &\t 2.8388 &\t  87 &\t \\\\ \\hline\n",
      "0.2 & \t 4.1100 &\t 4.2150 &\t 1.0255 &\t 3.4726 &\t  33 &\t \\\\ \\hline\n",
      "0.3 & \t 5.8150 &\t 4.9750 &\t 0.8555 &\t 3.1471 &\t  21 &\t \\\\ \\hline\n",
      "0.4 & \t 6.9300 &\t 4.5150 &\t 0.6515 &\t 3.0149 &\t  23 &\t \\\\ \\hline\n",
      "0.5 & \t 7.0200 &\t 4.9800 &\t 0.7094 &\t 3.0033 &\t  19 &\t \\\\ \\hline\n",
      "0.6 & \t 7.6000 &\t 5.0700 &\t 0.6671 &\t 2.7614 &\t  17 &\t \\\\ \\hline\n",
      "0.7 & \t 7.9400 &\t 4.6100 &\t 0.5806 &\t 2.7455 &\t  14 &\t \\\\ \\hline\n",
      "0.8 & \t 8.7500 &\t 5.3400 &\t 0.6103 &\t 2.6447 &\t   4 &\t \\\\ \\hline\n",
      "0.9 & \t 8.6300 &\t 5.5650 &\t 0.6448 &\t 2.7378 &\t   7 &\t \\\\ \\hline\n",
      "1.0 & \t 8.2200 &\t 4.5700 &\t 0.5560 &\t 2.6335 &\t  11 &\t \\\\ \\hline\n",
      "1.5 & \t 9.1100 &\t 5.2900 &\t 0.5807 &\t 2.6088 &\t   6 &\t \\\\ \\hline\n",
      "2.0 & \t 9.1200 &\t 5.2750 &\t 0.5784 &\t 2.5059 &\t   7 &\t \\\\ \\hline\n",
      "*************\n",
      "seqlen: 50\n",
      "\t\t lower_bound \t dist_mean \t ratio \t\t std \t\t number\n",
      "0.1 & \t 9.1400 &\t 5.9900 &\t 0.6554 &\t 4.2685 &\t  17 &\t \\\\ \\hline\n",
      "0.2 & \t15.6100 &\t 9.2750 &\t 0.5942 &\t 6.0613 &\t  13 &\t \\\\ \\hline\n",
      "0.3 & \t22.8000 &\t15.9200 &\t 0.6982 &\t 7.8475 &\t   3 &\t \\\\ \\hline\n",
      "0.4 & \t25.7550 &\t14.6450 &\t 0.5686 &\t 8.0962 &\t   7 &\t \\\\ \\hline\n",
      "0.5 & \t28.0600 &\t16.3800 &\t 0.5837 &\t 8.4241 &\t   3 &\t \\\\ \\hline\n",
      "0.6 & \t29.9000 &\t17.3400 &\t 0.5799 &\t 8.3728 &\t   3 &\t \\\\ \\hline\n",
      "0.7 & \t28.3850 &\t14.1500 &\t 0.4985 &\t 7.4557 &\t   8 &\t \\\\ \\hline\n",
      "0.8 & \t30.4450 &\t18.7350 &\t 0.6154 &\t 9.4744 &\t   6 &\t \\\\ \\hline\n",
      "0.9 & \t28.7350 &\t16.8450 &\t 0.5862 &\t 8.4232 &\t   5 &\t \\\\ \\hline\n",
      "1.0 & \t30.3100 &\t17.3150 &\t 0.5713 &\t 9.2653 &\t   2 &\t \\\\ \\hline\n",
      "1.5 & \t32.6100 &\t17.7550 &\t 0.5445 &\t 8.1808 &\t   2 &\t \\\\ \\hline\n",
      "2.0 & \t30.2750 &\t15.5200 &\t 0.5126 &\t 8.3294 &\t   6 &\t \\\\ \\hline\n",
      "*************\n",
      "seqlen: 100\n",
      "\t\t lower_bound \t dist_mean \t ratio \t\t std \t\t number\n",
      "0.1 & \t16.9800 &\t10.8800 &\t 0.6408 &\t 6.5928 &\t   9 &\t \\\\ \\hline\n",
      "0.2 & \t31.8550 &\t20.4100 &\t 0.6407 &\t10.4490 &\t   1 &\t \\\\ \\hline\n",
      "0.3 & \t45.5200 &\t30.5300 &\t 0.6707 &\t14.6222 &\t   0 &\t \\\\ \\hline\n",
      "0.4 & \t45.6200 &\t28.1650 &\t 0.6174 &\t13.4100 &\t   2 &\t \\\\ \\hline\n",
      "0.5 & \t55.2900 &\t33.9300 &\t 0.6137 &\t14.5473 &\t   2 &\t \\\\ \\hline\n",
      "0.6 & \t50.4500 &\t26.7400 &\t 0.5300 &\t12.5289 &\t   0 &\t \\\\ \\hline\n",
      "0.7 & \t56.6950 &\t33.5100 &\t 0.5911 &\t14.1397 &\t   1 &\t \\\\ \\hline\n",
      "0.8 & \t54.5050 &\t31.0150 &\t 0.5690 &\t14.4940 &\t   0 &\t \\\\ \\hline\n",
      "0.9 & \t59.5550 &\t35.2500 &\t 0.5919 &\t15.4725 &\t   0 &\t \\\\ \\hline\n",
      "1.0 & \t56.3900 &\t42.0400 &\t 0.7455 &\t13.8589 &\t   0 &\t \\\\ \\hline\n",
      "1.5 & \t56.1900 &\t32.3950 &\t 0.5765 &\t14.3293 &\t   1 &\t \\\\ \\hline\n",
      "2.0 & \t53.9900 &\t30.0150 &\t 0.5559 &\t15.2710 &\t   0 &\t \\\\ \\hline\n",
      "*************\n"
     ]
    }
   ],
   "source": [
    "for seqlen in [10, 50, 100]:\n",
    "    print(f'seqlen: {seqlen}')\n",
    "    print(f'\\t\\t lower_bound \\t dist_mean \\t ratio \\t\\t std \\t\\t number')\n",
    "    for rate in list(range(1, 10)) + [10, 15, 20]:\n",
    "        rate = rate / 10\n",
    "        fname = (f'val_seq_g3m_3_' \n",
    "                 f'{seqlen}_{int(seqlen * rate)}' \n",
    "                 f'_200/raw/g3raw_' \n",
    "                 f'{seqlen}_{int(seqlen * rate)}.pt')\n",
    "        seq = torch.load(fname)[0]\n",
    "\n",
    "        lower_bound = np.array([np.ceil(np.sum([dcj_dist(g1, g2)[-1], \n",
    "                                       dcj_dist(g1, g3)[-1], \n",
    "                                       dcj_dist(g2, g3)[-1]])/2) \n",
    "                      for g1, g2, g3 in seq])\n",
    "\n",
    "        tmp = torch.load(f'dist_result_pt/{seqlen:0>4}_{rate}.pt')\n",
    "        dist_list = np.array([d[-1] for d in tmp])\n",
    "        dist_diff = np.abs(dist_list - lower_bound)\n",
    "        print(f'{rate} & \\t'\n",
    "              f'{np.mean(lower_bound):>7.4f} &\\t' \n",
    "              f'{dist_diff.mean():>7.4f} &\\t'\n",
    "              f'{dist_diff.mean()/np.mean(lower_bound) :>7.4f} &\\t'\n",
    "              f'{dist_diff.std():>7.4f} &\\t'\n",
    "             f'{np.sum(dist_list == lower_bound):>4} &\\t \\\\\\\\ \\hline')\n",
    "    print('*************')"
   ]
  },
  {
   "cell_type": "code",
   "execution_count": null,
   "id": "5700fe41-61e8-4d41-beda-e5da9382dabe",
   "metadata": {},
   "outputs": [],
   "source": []
  },
  {
   "cell_type": "code",
   "execution_count": 26,
   "id": "08b498de-2f16-419a-be33-d7bf630bcf6e",
   "metadata": {},
   "outputs": [],
   "source": [
    "import matplotlib as mpl\n",
    "mpl.rcParams['pdf.fonttype'] = 42"
   ]
  },
  {
   "cell_type": "code",
   "execution_count": 27,
   "id": "2de2e943-1064-49fd-ba22-e75789bc4b9b",
   "metadata": {},
   "outputs": [],
   "source": [
    "import matplotlib.pyplot as plt"
   ]
  },
  {
   "cell_type": "code",
   "execution_count": 115,
   "id": "c80e9473-25c3-4962-a62d-320d5e5d99de",
   "metadata": {},
   "outputs": [],
   "source": [
    "# for seqlen in [10, 50, 100]:\n",
    "result = []\n",
    "seqlen = 10\n",
    "for rate in list(range(2, 10)) + [10, 15, 20]:\n",
    "    rate = rate / 10\n",
    "    fname = (f'val_seq_g3m_3_' \n",
    "             f'{seqlen}_{int(seqlen * rate)}' \n",
    "             f'_200/raw/g3raw_' \n",
    "             f'{seqlen}_{int(seqlen * rate)}.pt')\n",
    "    seq = torch.load(fname)[0]\n",
    "\n",
    "    lower_bound = np.array([np.ceil(np.sum([dcj_dist(g1, g2)[-1], \n",
    "                                   dcj_dist(g1, g3)[-1], \n",
    "                                   dcj_dist(g2, g3)[-1]])/2) \n",
    "                  for g1, g2, g3 in seq])\n",
    "\n",
    "    tmp = torch.load(f'dist_result_pt/{seqlen:0>4}_{rate}.pt')\n",
    "    dist_list = np.array([d[-1] for d in tmp])\n",
    "    dist_diff = np.abs(dist_list - lower_bound)\n",
    "    result.append(dist_diff)"
   ]
  },
  {
   "cell_type": "code",
   "execution_count": 116,
   "id": "8e6ee977-54c6-4e0e-af08-e7492d18cf7e",
   "metadata": {},
   "outputs": [
    {
     "data": {
      "image/png": "[encoded data removed]",
      "text/plain": [
       "<Figure size 432x288 with 1 Axes>"
      ]
     },
     "metadata": {
      "needs_background": "light"
     },
     "output_type": "display_data"
    }
   ],
   "source": [
    "bins = np.arange(np.max(result) + 1)\n",
    "# x = np.arange(np.max(result) + 1)\n",
    "plt.figure()\n",
    "H = plt.hist(result, bins = 11)\n",
    "plt.xticks(np.arange(np.ceil(np.max(H[1])) + 1))\n",
    "# plt.xticklabels(x)\n",
    "plt.savefig('g3val_dist_10.svg', bbox_inches = 'tight')\n",
    "plt.show()"
   ]
  },
  {
   "cell_type": "code",
   "execution_count": 117,
   "id": "2c1ee636-34d3-482a-ac4d-cecb4b70c887",
   "metadata": {},
   "outputs": [
    {
     "data": {
      "text/plain": [
       "array([200., 200., 200., 200., 200., 200., 200., 200., 200., 200., 200.])"
      ]
     },
     "execution_count": 117,
     "metadata": {},
     "output_type": "execute_result"
    }
   ],
   "source": [
    "np.sum(H[0], axis = 1)"
   ]
  },
  {
   "cell_type": "code",
   "execution_count": 127,
   "id": "6a1623f7-3057-4c60-bd58-17049b8e97fc",
   "metadata": {},
   "outputs": [],
   "source": [
    "# for seqlen in [10, 50, 100]:\n",
    "result = []\n",
    "seqlen = 50\n",
    "for rate in list(range(2, 10)) + [10, 15, 20]:\n",
    "    rate = rate / 10\n",
    "    fname = (f'val_seq_g3m_3_' \n",
    "             f'{seqlen}_{int(seqlen * rate)}' \n",
    "             f'_200/raw/g3raw_' \n",
    "             f'{seqlen}_{int(seqlen * rate)}.pt')\n",
    "    seq = torch.load(fname)[0]\n",
    "\n",
    "    lower_bound = np.array([np.ceil(np.sum([dcj_dist(g1, g2)[-1], \n",
    "                                   dcj_dist(g1, g3)[-1], \n",
    "                                   dcj_dist(g2, g3)[-1]])/2) \n",
    "                  for g1, g2, g3 in seq])\n",
    "\n",
    "    tmp = torch.load(f'dist_result_pt/{seqlen:0>4}_{rate}.pt')\n",
    "    dist_list = np.array([d[-1] for d in tmp])\n",
    "    dist_diff = np.abs(dist_list - lower_bound)\n",
    "    result.append(dist_diff)"
   ]
  },
  {
   "cell_type": "code",
   "execution_count": 128,
   "id": "e7d21293-9034-48f5-8675-d8746641d208",
   "metadata": {},
   "outputs": [
    {
     "data": {
      "image/png": "[encoded data removed]",
      "text/plain": [
       "<Figure size 432x288 with 1 Axes>"
      ]
     },
     "metadata": {
      "needs_background": "light"
     },
     "output_type": "display_data"
    }
   ],
   "source": [
    "# bins = np.arange(np.max(result) + 1)\n",
    "# x = np.arange(11)\n",
    "plt.figure()\n",
    "H = plt.hist(result, bins = 11)\n",
    "plt.xticks(np.arange(0, np.ceil(np.max(H[1])) + 1, 5))\n",
    "# plt.xticklabels(x)\n",
    "plt.savefig('g3val_dist_50.svg', bbox_inches = 'tight')\n",
    "plt.show()"
   ]
  },
  {
   "cell_type": "code",
   "execution_count": 129,
   "id": "d3316d4e-2d79-4fa4-8e68-a15ad801d048",
   "metadata": {},
   "outputs": [
    {
     "data": {
      "text/plain": [
       "array([200., 200., 200., 200., 200., 200., 200., 200., 200., 200., 200.])"
      ]
     },
     "execution_count": 129,
     "metadata": {},
     "output_type": "execute_result"
    }
   ],
   "source": [
    "np.sum(H[0], axis = 1)"
   ]
  },
  {
   "cell_type": "code",
   "execution_count": 130,
   "id": "395b1201-805a-454c-b619-9737d3268cf7",
   "metadata": {},
   "outputs": [],
   "source": [
    "# for seqlen in [10, 50, 100]:\n",
    "result = []\n",
    "seqlen = 100\n",
    "for rate in list(range(2, 10)) + [10, 15, 20]:\n",
    "    rate = rate / 10\n",
    "    fname = (f'val_seq_g3m_3_' \n",
    "             f'{seqlen}_{int(seqlen * rate)}' \n",
    "             f'_200/raw/g3raw_' \n",
    "             f'{seqlen}_{int(seqlen * rate)}.pt')\n",
    "    seq = torch.load(fname)[0]\n",
    "\n",
    "    lower_bound = np.array([np.ceil(np.sum([dcj_dist(g1, g2)[-1], \n",
    "                                   dcj_dist(g1, g3)[-1], \n",
    "                                   dcj_dist(g2, g3)[-1]])/2) \n",
    "                  for g1, g2, g3 in seq])\n",
    "\n",
    "    tmp = torch.load(f'dist_result_pt/{seqlen:0>4}_{rate}.pt')\n",
    "    dist_list = np.array([d[-1] for d in tmp])\n",
    "    dist_diff = np.abs(dist_list - lower_bound)\n",
    "    result.append(dist_diff)"
   ]
  },
  {
   "cell_type": "code",
   "execution_count": 131,
   "id": "2b7cece4-7536-4ebd-a317-39d74e423de1",
   "metadata": {},
   "outputs": [
    {
     "data": {
      "image/png": "[encoded data removed]",
      "text/plain": [
       "<Figure size 432x288 with 1 Axes>"
      ]
     },
     "metadata": {
      "needs_background": "light"
     },
     "output_type": "display_data"
    }
   ],
   "source": [
    "x = np.arange(11)\n",
    "plt.figure()\n",
    "H = plt.hist(result, bins = 11)\n",
    "plt.xticks(np.arange(0, np.ceil(np.max(H[1])) + 1, 5))\n",
    "# plt.xticklabels(x)\n",
    "plt.savefig('g3val_dist_100.svg', bbox_inches = 'tight')\n",
    "plt.show()"
   ]
  },
  {
   "cell_type": "code",
   "execution_count": 132,
   "id": "da145e9f-6424-4417-ba24-d8a9dd99e78f",
   "metadata": {},
   "outputs": [
    {
     "data": {
      "text/plain": [
       "array([200., 200., 200., 200., 200., 200., 200., 200., 200., 200., 200.])"
      ]
     },
     "execution_count": 132,
     "metadata": {},
     "output_type": "execute_result"
    }
   ],
   "source": [
    "np.sum(H[0], axis = 1)"
   ]
  },
  {
   "cell_type": "code",
   "execution_count": null,
   "id": "50b52e7d-0e36-4273-9008-641b5c1f6dbd",
   "metadata": {},
   "outputs": [],
   "source": []
  }
 ],
 "metadata": {
  "kernelspec": {
   "display_name": "Deep AI",
   "language": "python",
   "name": "dl"
  },
  "language_info": {
   "codemirror_mode": {
    "name": "ipython",
    "version": 3
   },
   "file_extension": ".py",
   "mimetype": "text/x-python",
   "name": "python",
   "nbconvert_exporter": "python",
   "pygments_lexer": "ipython3",
   "version": "3.7.11"
  }
 },
 "nbformat": 4,
 "nbformat_minor": 5
}
