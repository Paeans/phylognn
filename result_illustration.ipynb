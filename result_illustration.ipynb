{
 "cells": [
  {
   "cell_type": "code",
   "execution_count": 1,
   "id": "3818a5a3-4ec2-4708-8729-b54cadad450e",
   "metadata": {},
   "outputs": [],
   "source": [
    "import numpy as np\n",
    "import torch\n",
    "\n",
    "from dcj_comp import dcj_dist"
   ]
  },
  {
   "cell_type": "code",
   "execution_count": 22,
   "id": "120528c2-cf7d-42b4-9245-f5f473d6a76c",
   "metadata": {},
   "outputs": [
    {
     "name": "stdout",
     "output_type": "stream",
     "text": [
      "seqlen: 10\n",
      "\t\t lower_bound \t dist_mean \t ratio \t\t std \t\t number\n",
      "0.1 & \t 3.0000 &\t 2.3950 &\t 0.7983 &\t 2.8388 &\t  87 &\t \\\\ \\hline\n",
      "0.2 & \t 4.1100 &\t 4.2150 &\t 1.0255 &\t 3.4726 &\t  33 &\t \\\\ \\hline\n",
      "0.3 & \t 5.8150 &\t 4.9750 &\t 0.8555 &\t 3.1471 &\t  21 &\t \\\\ \\hline\n",
      "0.4 & \t 6.9300 &\t 4.5150 &\t 0.6515 &\t 3.0149 &\t  23 &\t \\\\ \\hline\n",
      "0.5 & \t 7.0200 &\t 4.9800 &\t 0.7094 &\t 3.0033 &\t  19 &\t \\\\ \\hline\n",
      "0.6 & \t 7.6000 &\t 5.0700 &\t 0.6671 &\t 2.7614 &\t  17 &\t \\\\ \\hline\n",
      "0.7 & \t 7.9400 &\t 4.6100 &\t 0.5806 &\t 2.7455 &\t  14 &\t \\\\ \\hline\n",
      "0.8 & \t 8.7500 &\t 5.3400 &\t 0.6103 &\t 2.6447 &\t   4 &\t \\\\ \\hline\n",
      "0.9 & \t 8.6300 &\t 5.5650 &\t 0.6448 &\t 2.7378 &\t   7 &\t \\\\ \\hline\n",
      "1.0 & \t 8.2200 &\t 4.5700 &\t 0.5560 &\t 2.6335 &\t  11 &\t \\\\ \\hline\n",
      "1.5 & \t 9.1100 &\t 5.2900 &\t 0.5807 &\t 2.6088 &\t   6 &\t \\\\ \\hline\n",
      "2.0 & \t 9.1200 &\t 5.2750 &\t 0.5784 &\t 2.5059 &\t   7 &\t \\\\ \\hline\n",
      "*************\n",
      "seqlen: 50\n",
      "\t\t lower_bound \t dist_mean \t ratio \t\t std \t\t number\n",
      "0.1 & \t 9.1400 &\t 5.9900 &\t 0.6554 &\t 4.2685 &\t  17 &\t \\\\ \\hline\n",
      "0.2 & \t15.6100 &\t 9.2750 &\t 0.5942 &\t 6.0613 &\t  13 &\t \\\\ \\hline\n",
      "0.3 & \t22.8000 &\t15.9200 &\t 0.6982 &\t 7.8475 &\t   3 &\t \\\\ \\hline\n",
      "0.4 & \t25.7550 &\t14.6450 &\t 0.5686 &\t 8.0962 &\t   7 &\t \\\\ \\hline\n",
      "0.5 & \t28.0600 &\t16.3800 &\t 0.5837 &\t 8.4241 &\t   3 &\t \\\\ \\hline\n",
      "0.6 & \t29.9000 &\t17.3400 &\t 0.5799 &\t 8.3728 &\t   3 &\t \\\\ \\hline\n",
      "0.7 & \t28.3850 &\t14.1500 &\t 0.4985 &\t 7.4557 &\t   8 &\t \\\\ \\hline\n",
      "0.8 & \t30.4450 &\t18.7350 &\t 0.6154 &\t 9.4744 &\t   6 &\t \\\\ \\hline\n",
      "0.9 & \t28.7350 &\t16.8450 &\t 0.5862 &\t 8.4232 &\t   5 &\t \\\\ \\hline\n",
      "1.0 & \t30.3100 &\t17.3150 &\t 0.5713 &\t 9.2653 &\t   2 &\t \\\\ \\hline\n",
      "1.5 & \t32.6100 &\t17.7550 &\t 0.5445 &\t 8.1808 &\t   2 &\t \\\\ \\hline\n",
      "2.0 & \t30.2750 &\t15.5200 &\t 0.5126 &\t 8.3294 &\t   6 &\t \\\\ \\hline\n",
      "*************\n",
      "seqlen: 100\n",
      "\t\t lower_bound \t dist_mean \t ratio \t\t std \t\t number\n",
      "0.1 & \t16.9800 &\t10.8800 &\t 0.6408 &\t 6.5928 &\t   9 &\t \\\\ \\hline\n",
      "0.2 & \t31.8550 &\t20.4100 &\t 0.6407 &\t10.4490 &\t   1 &\t \\\\ \\hline\n",
      "0.3 & \t45.5200 &\t30.5300 &\t 0.6707 &\t14.6222 &\t   0 &\t \\\\ \\hline\n",
      "0.4 & \t45.6200 &\t28.1650 &\t 0.6174 &\t13.4100 &\t   2 &\t \\\\ \\hline\n",
      "0.5 & \t55.2900 &\t33.9300 &\t 0.6137 &\t14.5473 &\t   2 &\t \\\\ \\hline\n",
      "0.6 & \t50.4500 &\t26.7400 &\t 0.5300 &\t12.5289 &\t   0 &\t \\\\ \\hline\n",
      "0.7 & \t56.6950 &\t33.5100 &\t 0.5911 &\t14.1397 &\t   1 &\t \\\\ \\hline\n",
      "0.8 & \t54.5050 &\t31.0150 &\t 0.5690 &\t14.4940 &\t   0 &\t \\\\ \\hline\n",
      "0.9 & \t59.5550 &\t35.2500 &\t 0.5919 &\t15.4725 &\t   0 &\t \\\\ \\hline\n",
      "1.0 & \t56.3900 &\t42.0400 &\t 0.7455 &\t13.8589 &\t   0 &\t \\\\ \\hline\n",
      "1.5 & \t56.1900 &\t32.3950 &\t 0.5765 &\t14.3293 &\t   1 &\t \\\\ \\hline\n",
      "2.0 & \t53.9900 &\t30.0150 &\t 0.5559 &\t15.2710 &\t   0 &\t \\\\ \\hline\n",
      "*************\n"
     ]
    }
   ],
   "source": [
    "for seqlen in [10, 50, 100]:\n",
    "    print(f'seqlen: {seqlen}')\n",
    "    print(f'\\t\\t lower_bound \\t dist_mean \\t ratio \\t\\t std \\t\\t number')\n",
    "    for rate in list(range(1, 10)) + [10, 15, 20]:\n",
    "        rate = rate / 10\n",
    "        fname = (f'val_seq_g3m_3_' \n",
    "                 f'{seqlen}_{int(seqlen * rate)}' \n",
    "                 f'_200/raw/g3raw_' \n",
    "                 f'{seqlen}_{int(seqlen * rate)}.pt')\n",
    "        seq = torch.load(fname)[0]\n",
    "\n",
    "        lower_bound = np.array([np.ceil(np.sum([dcj_dist(g1, g2)[-1], \n",
    "                                       dcj_dist(g1, g3)[-1], \n",
    "                                       dcj_dist(g2, g3)[-1]])/2) \n",
    "                      for g1, g2, g3 in seq])\n",
    "\n",
    "        tmp = torch.load(f'dist_result_pt/{seqlen:0>4}_{rate}.pt')\n",
    "        dist_list = np.array([d[-1] for d in tmp])\n",
    "        dist_diff = np.abs(dist_list - lower_bound)\n",
    "        print(f'{rate} & \\t'\n",
    "              f'{np.mean(lower_bound):>7.4f} &\\t' \n",
    "              f'{dist_diff.mean():>7.4f} &\\t'\n",
    "              f'{dist_diff.mean()/np.mean(lower_bound) :>7.4f} &\\t'\n",
    "              f'{dist_diff.std():>7.4f} &\\t'\n",
    "             f'{np.sum(dist_list == lower_bound):>4} &\\t \\\\\\\\ \\hline')\n",
    "    print('*************')"
   ]
  },
  {
   "cell_type": "code",
   "execution_count": 5,
   "id": "0aa02829-262c-4c94-9536-818d8069dbc8",
   "metadata": {},
   "outputs": [
    {
     "name": "stdout",
     "output_type": "stream",
     "text": [
      "rate: 0.1 \t3.0 \t  87 \t 2.3950 \t 2.8388\n"
     ]
    }
   ],
   "source": []
  },
  {
   "cell_type": "code",
   "execution_count": null,
   "id": "6586bdaa-a082-4334-97b9-27f532a36703",
   "metadata": {},
   "outputs": [],
   "source": [
    "\n"
   ]
  },
  {
   "cell_type": "code",
   "execution_count": null,
   "id": "c8ccf93c-a4a3-41c9-b489-8e48c89d999b",
   "metadata": {},
   "outputs": [],
   "source": [
    "np.mean(lower_bound)"
   ]
  },
  {
   "cell_type": "code",
   "execution_count": null,
   "id": "b6f4a3c3-3e15-4951-9be1-d8d948ec3804",
   "metadata": {},
   "outputs": [],
   "source": []
  },
  {
   "cell_type": "code",
   "execution_count": null,
   "id": "784ef543-2b7e-4ebe-9b78-6c5a7f1d27c5",
   "metadata": {},
   "outputs": [],
   "source": [
    "np.mean(dist_list)"
   ]
  },
  {
   "cell_type": "code",
   "execution_count": null,
   "id": "cdae3116-dd07-4c11-a054-9ed1a4859ee1",
   "metadata": {},
   "outputs": [],
   "source": [
    "np.mean(dist_list) - np.mean(lower_bound)"
   ]
  },
  {
   "cell_type": "code",
   "execution_count": null,
   "id": "9681df6b-f202-4e9e-9628-dc1222422f20",
   "metadata": {},
   "outputs": [],
   "source": [
    "np.sum(dist_list == lower_bound)"
   ]
  },
  {
   "cell_type": "code",
   "execution_count": null,
   "id": "dbd804c2-af54-4430-a966-8460685c9bca",
   "metadata": {},
   "outputs": [],
   "source": [
    "np.abs(dist_list - lower_bound).mean()"
   ]
  },
  {
   "cell_type": "code",
   "execution_count": null,
   "id": "91acab10-3564-44a3-b51d-644967287274",
   "metadata": {},
   "outputs": [],
   "source": [
    "np.abs(dist_list - lower_bound).std()"
   ]
  },
  {
   "cell_type": "code",
   "execution_count": null,
   "id": "2cc13248-4b41-47e0-99a4-9f3142edc958",
   "metadata": {},
   "outputs": [],
   "source": [
    "np.abs(dist_list - lower_bound)"
   ]
  },
  {
   "cell_type": "code",
   "execution_count": null,
   "id": "c80e9473-25c3-4962-a62d-320d5e5d99de",
   "metadata": {},
   "outputs": [],
   "source": []
  }
 ],
 "metadata": {
  "kernelspec": {
   "display_name": "Deep AI",
   "language": "python",
   "name": "dl"
  },
  "language_info": {
   "codemirror_mode": {
    "name": "ipython",
    "version": 3
   },
   "file_extension": ".py",
   "mimetype": "text/x-python",
   "name": "python",
   "nbconvert_exporter": "python",
   "pygments_lexer": "ipython3",
   "version": "3.7.11"
  }
 },
 "nbformat": 4,
 "nbformat_minor": 5
}
