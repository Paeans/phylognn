{
 "cells": [
  {
   "cell_type": "code",
   "execution_count": 1,
   "id": "a1c6d555-0bc3-466e-9095-df8fa68c7cad",
   "metadata": {},
   "outputs": [],
   "source": [
    "import time\n",
    "\n",
    "import numpy as np\n",
    "\n",
    "import torch\n",
    "from torch.optim.lr_scheduler import ReduceLROnPlateau\n",
    "\n",
    "# from torch_geometric.nn import VGAE\n",
    "from torch_geometric.loader import DataLoader\n",
    "from torch_geometric.utils import (degree, negative_sampling, \n",
    "                                   batched_negative_sampling,\n",
    "                                  add_self_loops, to_undirected)\n",
    "\n",
    "from torch.utils.tensorboard import SummaryWriter\n",
    "\n",
    "from gene_graph_dataset import G3MedianDataset\n",
    "from phylognn_model import G3Median_GCNConv, G3Median_VGAE\n",
    "\n",
    "from sklearn.metrics import (roc_auc_score, roc_curve,\n",
    "                             average_precision_score, \n",
    "                             precision_recall_curve,\n",
    "                             f1_score, matthews_corrcoef)\n",
    "\n",
    "from sklearn.model_selection import KFold\n",
    "\n",
    "import matplotlib.pyplot as plt"
   ]
  },
  {
   "cell_type": "code",
   "execution_count": 2,
   "id": "5cc2a8f4-f3c4-444c-8c78-3acf3af974d6",
   "metadata": {},
   "outputs": [],
   "source": [
    "from gene_graph_dataset import G3MedianDataset"
   ]
  },
  {
   "cell_type": "code",
   "execution_count": 3,
   "id": "de54477a-309b-4c43-9297-b8bf0f4661cb",
   "metadata": {},
   "outputs": [],
   "source": [
    "from dcj_comp import dcj_dist\n",
    "# from genome_file import mat2adj"
   ]
  },
  {
   "cell_type": "code",
   "execution_count": 4,
   "id": "0185c3a2-70de-4339-afb6-934f02c674ca",
   "metadata": {},
   "outputs": [],
   "source": [
    "dataset = G3MedianDataset('dataset_g3m_exps', 10, 1, 1000)"
   ]
  },
  {
   "cell_type": "code",
   "execution_count": 5,
   "id": "cd5db1e3-7cc6-4a41-8390-9d6064c21adb",
   "metadata": {},
   "outputs": [],
   "source": [
    "val_dataset = G3MedianDataset('val_seq_g3m', 10, 1, 200)"
   ]
  },
  {
   "cell_type": "code",
   "execution_count": 6,
   "id": "fcaf1b6b-38bc-4dc7-a623-c4c8cf0cca6f",
   "metadata": {},
   "outputs": [],
   "source": [
    "val_seq = torch.load('val_seq_g3m_3_10_1_200/raw/g3raw_10_1.pt')"
   ]
  },
  {
   "cell_type": "code",
   "execution_count": 7,
   "id": "cd0e3179-1064-4313-ab6b-c7357c990569",
   "metadata": {},
   "outputs": [],
   "source": [
    "train_batch, test_batch, val_batch = 256, 64, 8\n",
    "\n",
    "device = torch.device('cuda:' + str(1) if torch.cuda.is_available() else 'cpu')\n",
    "\n",
    "in_channels, out_channels = None, 128"
   ]
  },
  {
   "cell_type": "code",
   "execution_count": 8,
   "id": "ebaa85b4-9053-4cf7-bb81-cc94f0136870",
   "metadata": {},
   "outputs": [],
   "source": [
    "dataset = dataset.shuffle()"
   ]
  },
  {
   "cell_type": "code",
   "execution_count": 9,
   "id": "8af94fdc-7c5a-490a-8d64-7bd9e8d1e3ec",
   "metadata": {},
   "outputs": [],
   "source": [
    "def test_cycle(adj_dict, x, y):\n",
    "    while True:\n",
    "        x = x + (1 if x % 2 == 0 else -1)\n",
    "        if x == y:\n",
    "            return True\n",
    "        if x not in adj_dict.keys():\n",
    "            return False\n",
    "        x = adj_dict[x]"
   ]
  },
  {
   "cell_type": "code",
   "execution_count": 10,
   "id": "cf44ee00-8896-4c7f-8f45-a836e978d480",
   "metadata": {},
   "outputs": [],
   "source": [
    "# def test_cycle(adj_dict, x, y):\n",
    "#     while True:\n",
    "#         x = x + (1 if x % 2 == 0 else -1)\n",
    "#         if x == y:\n",
    "#             return True\n",
    "#         if x not in adj_dict.keys():\n",
    "#             return False\n",
    "#         x = adj_dict[x]\n",
    "\n",
    "def dict2adj(adj_dict, start):\n",
    "    res = []\n",
    "    while True:\n",
    "        end = start + (1 if start % 2 == 0 else -1)\n",
    "        res += [start, end]\n",
    "        if end not in adj_dict.keys():\n",
    "            break\n",
    "        start = adj_dict[end]\n",
    "        \n",
    "    return [(res[i]//2 + 1) * (-1 if res[i] > res[i+1] else 1) for i in range(0, len(res), 2)]\n",
    "        \n",
    "\n",
    "def mat2adj(res_mat):\n",
    "    gen_len = res_mat.shape[0]\n",
    "    tmp = np.copy(res_mat)\n",
    "    for i in range(0, gen_len, 2):\n",
    "        tmp[i, i:i+2] = 0\n",
    "        tmp[i + 1, i:i+2] = 0\n",
    "    adj_dict = {}\n",
    "    p_list = []\n",
    "    while True:\n",
    "        r,c = np.unravel_index(np.argmax(tmp, axis = None), tmp.shape)\n",
    "        if r == c:\n",
    "            print(adj_dict)\n",
    "            break\n",
    "                \n",
    "        # test cycles\n",
    "        if test_cycle(adj_dict, r, c):\n",
    "            tmp[r, c] = 0\n",
    "            tmp[c, r] = 0\n",
    "            continue\n",
    "        p_list.append(tmp[r,c])    \n",
    "        tmp[(r,c), :] = 0\n",
    "        tmp[:, (r,c)] = 0\n",
    "        adj_dict[r] = c\n",
    "        adj_dict[c] = r\n",
    "        if len(adj_dict)//2 == (gen_len//2 - 1):\n",
    "            break\n",
    "    \n",
    "    start = list(set(range(gen_len)) - set(adj_dict.keys()))\n",
    "    \n",
    "    return [dict2adj(adj_dict, a) for a in start], -np.log(p_list).sum()"
   ]
  },
  {
   "cell_type": "code",
   "execution_count": 11,
   "id": "0e639479-2d3b-4a09-8484-765609ae84c6",
   "metadata": {},
   "outputs": [],
   "source": [
    "def train(model, train_loader):\n",
    "    model.train()\n",
    "    \n",
    "    total_loss = 0\n",
    "    for data in train_loader:    \n",
    "        optimizer.zero_grad()\n",
    "        data = data.to(device)\n",
    "        \n",
    "        z = model.encode(data.x, data.edge_index)\n",
    "        loss = model.recon_loss_wt(z, data.pos_edge_label_index, data.neg_edge_label_index, 2, 1) * 5\n",
    "        loss = loss + (1 / data.num_nodes) * model.kl_loss() * 0.5\n",
    "        loss.backward()\n",
    "        optimizer.step()\n",
    "        \n",
    "        total_loss += loss\n",
    "    return total_loss/len(train_loader)"
   ]
  },
  {
   "cell_type": "code",
   "execution_count": 12,
   "id": "ea6e7586-639d-43be-8dbc-275e2eccbe27",
   "metadata": {},
   "outputs": [],
   "source": [
    "@torch.no_grad()\n",
    "def predict(model, test_loader):\n",
    "    model.eval()\n",
    "    y_list, pred_list = [], []\n",
    "        \n",
    "    for data in test_loader:\n",
    "        \n",
    "        data = data.to(device)\n",
    "        \n",
    "        z = model.encode(data.x, data.edge_index)\n",
    "        # loss += model.recon_loss(z, data.pos_edge_label_index, data.neg_edge_label_index)\n",
    "        y, pred = model.pred(z, data.pos_edge_label_index, data.neg_edge_label_index)\n",
    "        \n",
    "        y_list.append(y)\n",
    "        pred_list.append(pred)\n",
    "        \n",
    "    return y_list, pred_list\n",
    "\n",
    "@torch.no_grad()\n",
    "def val(model, val_loader):\n",
    "    model.eval()\n",
    "    loss = 0\n",
    "    \n",
    "    for data in val_loader:        \n",
    "        data = data.to(device)        \n",
    "        z = model.encode(data.x, data.edge_index)        \n",
    "        loss += model.recon_loss_wt(z, data.pos_edge_label_index, data.neg_edge_label_index, 2, 1)\n",
    "        # tauc, tap = model.test(z, data.pos_edge_label_index, data.neg_edge_label_index)\n",
    "                \n",
    "    return loss/len(val_loader)\n",
    "\n",
    "def auc_ap(y_list, pred_list):\n",
    "    pred_accuracy = [[roc_auc_score(y, pred), average_precision_score(y, pred)]\n",
    "                     for y, pred in zip(y_list, pred_list)]\n",
    "    auc, ap = np.mean(pred_accuracy, axis = 0)\n",
    "    return auc, ap"
   ]
  },
  {
   "cell_type": "code",
   "execution_count": 13,
   "id": "b8d34f30-401a-4b7e-88d7-29b9b292b7bd",
   "metadata": {},
   "outputs": [],
   "source": [
    "y_pred_res = []\n",
    "counter = 1"
   ]
  },
  {
   "cell_type": "code",
   "execution_count": null,
   "id": "2c01162b-6e2d-4147-988d-e1fa7f3a60bb",
   "metadata": {},
   "outputs": [],
   "source": []
  },
  {
   "cell_type": "code",
   "execution_count": 14,
   "id": "f96de872-2520-442e-92c9-6f8a6ce20e49",
   "metadata": {},
   "outputs": [
    {
     "name": "stdout",
     "output_type": "stream",
     "text": [
      "Mon Jan 17 18:02:36 2022 -- seqlen:0010 rate:0.10 samples:05000 -- fold: 01\n"
     ]
    }
   ],
   "source": [
    "print(f'{time.ctime()} -- seqlen:{10:0>4} '\n",
    "      f'rate:{0.1:.2f} samples:{5000:0>5} -- fold: {counter:0>2}')\n",
    "\n",
    "model = G3Median_VGAE(G3Median_GCNConv(in_channels, out_channels)).to(device)\n",
    "optimizer = torch.optim.Adam(model.parameters(), lr=0.005)\n",
    "scheduler = ReduceLROnPlateau(optimizer, mode='min', factor=0.5, patience=10,\n",
    "                              min_lr=0.00001,verbose=True)\n",
    "\n",
    "train_dataset = dataset[:int(len(dataset) * 1.0)]\n",
    "# val_dataset = dataset[int(len(dataset) * 0.9):]\n",
    "\n",
    "train_loader = DataLoader(train_dataset, batch_size = train_batch, shuffle=True)\n",
    "# test_loader = DataLoader(test_dataset, batch_size = test_batch)\n",
    "# val_loader = DataLoader(val_dataset, batch_size = val_batch)\n",
    "\n",
    "start_time = time.time()\n",
    "\n",
    "y_pred = None\n",
    "p_auc, p_ap = 0, 0"
   ]
  },
  {
   "cell_type": "code",
   "execution_count": 15,
   "id": "f8158e93-ea93-4173-b561-82ba48eef710",
   "metadata": {},
   "outputs": [
    {
     "name": "stdout",
     "output_type": "stream",
     "text": [
      "10 82 150\n",
      "20 90 164\n",
      "30 96 155\n",
      "40 88 146\n",
      "50 87 143\n",
      "60 94 137\n",
      "70 92 134\n",
      "80 90 126\n",
      "90 84 121\n",
      "100 81 101\n",
      "110 86 106\n",
      "120 84 100\n",
      "130 82 100\n",
      "140 81 102\n",
      "150 82 97\n",
      "160 84 99\n",
      "170 85 89\n",
      "180 89 91\n",
      "190 87 90\n",
      "200 85 92\n",
      "Epoch   209: reducing learning rate of group 0 to 2.5000e-03.\n",
      "210 90 91\n",
      "220 85 83\n",
      "230 92 86\n",
      "Epoch   233: reducing learning rate of group 0 to 1.2500e-03.\n",
      "240 89 88\n",
      "250 88 83\n",
      "260 84 84\n",
      "Epoch   268: reducing learning rate of group 0 to 6.2500e-04.\n",
      "270 90 86\n",
      "280 91 88\n",
      "290 88 86\n",
      "300 87 87\n",
      "310 85 87\n",
      "320 91 86\n",
      "Epoch   323: reducing learning rate of group 0 to 3.1250e-04.\n",
      "330 85 89\n",
      "340 83 89\n",
      "350 85 89\n",
      "360 83 86\n",
      "370 85 89\n",
      "Epoch   375: reducing learning rate of group 0 to 1.5625e-04.\n",
      "380 82 89\n",
      "Epoch   388: reducing learning rate of group 0 to 7.8125e-05.\n",
      "390 85 91\n",
      "400 85 90\n",
      "Epoch   402: reducing learning rate of group 0 to 3.9063e-05.\n",
      "410 83 89\n",
      "420 83 89\n",
      "Epoch   421: reducing learning rate of group 0 to 1.9531e-05.\n",
      "430 84 90\n",
      "Epoch   432: reducing learning rate of group 0 to 1.0000e-05.\n",
      "440 83 89\n",
      "450 84 90\n",
      "460 84 87\n",
      "470 83 88\n",
      "480 84 90\n",
      "490 83 88\n",
      "500 83 88\n"
     ]
    }
   ],
   "source": [
    "for epoch in range(1, 500 + 1):\n",
    "\n",
    "    loss = train(model, train_loader)\n",
    "    # tloss = val(model, val_loader)\n",
    "    scheduler.step(loss)\n",
    "    \n",
    "    if epoch % 10 != 0:\n",
    "        continue\n",
    "    \n",
    "    model.eval()\n",
    "    count = 0\n",
    "    num = 0\n",
    "    for d, seqs in zip(val_dataset, val_seq[0]):\n",
    "        d = d.to(device)\n",
    "        z = model.encode(d.x, d.edge_index)\n",
    "        res = model.decoder.forward_all(z).detach().cpu().numpy()\n",
    "    #     pred_seqs = mat2adj(res)\n",
    "    #     pred_dist = min([sum([dcj_dist(pred, s)[-1] for s in seqs]) for pred in pred_seqs])\n",
    "    #     low_dist = np.ceil(sum([dcj_dist(seqs[0], seqs[1])[-1], \n",
    "    #                             dcj_dist(seqs[0], seqs[2])[-1], \n",
    "    #                             dcj_dist(seqs[1], seqs[2])[-1]])/2)\n",
    "\n",
    "    #     print(f'{pred_dist:>3} -- {low_dist:<3}')\n",
    "    #     count += pred_dist - low_dist\n",
    "        # print('---------')\n",
    "        tmp_mat = np.copy(res)\n",
    "\n",
    "        for i in range(0, 20, 2):\n",
    "            tmp_mat[i, i:i+2] = 0\n",
    "            tmp_mat[i + 1, i:i+2] = 0\n",
    "\n",
    "        pred, prob_ = mat2adj(tmp_mat)\n",
    "        mval = min([sum([dcj_dist(p, s)[-1] for s in seqs]) for p in pred])\n",
    "        # print(mval, prob_)\n",
    "        # print(pred)\n",
    "        tag = False\n",
    "        val_list = [mval]\n",
    "        prob_list = [prob_]\n",
    "        for _ in range(9):\n",
    "            r,c = np.unravel_index(np.argmax(tmp_mat, axis = None), tmp_mat.shape)\n",
    "            if r == c:\n",
    "                break\n",
    "            if tmp_mat[r,c] == 1.0:\n",
    "                redv = 0.95\n",
    "            else:\n",
    "                redv = tmp_mat[r,c] * tmp_mat[r,c]\n",
    "            tmp_mat[r,c] = redv\n",
    "            tmp_mat[c,r] = redv\n",
    "            pred, prob = mat2adj(tmp_mat)\n",
    "            # if prob < prob_:\n",
    "            #     print(f'** {prob}')\n",
    "            #     print(min([sum([dcj_dist(p, s)[-1] for s in seqs]) for p in pred]), prob)\n",
    "            val_list.append(min([sum([dcj_dist(p, s)[-1] for s in seqs]) for p in pred]))\n",
    "            prob_list.append(prob)\n",
    "            # if min([sum([dcj_dist(p, s)[-1] for s in seqs]) for p in pred]) < mval:\n",
    "            #     # print(pred)\n",
    "            #     # print(min([sum([dcj_dist(p, s)[-1] for s in seqs]) for p in pred]), prob)\n",
    "            #     tag = True\n",
    "            # print(pred)\n",
    "        if np.argmin(val_list) == np.argmin(prob_list):\n",
    "            count += 1\n",
    "        if np.argmin(val_list) == 0:\n",
    "            num += 1\n",
    "        # print(np.argmin(val_list), val_list)\n",
    "        # print(np.argmin(prob_list), prob_list)\n",
    "    print(epoch, count, num)"
   ]
  },
  {
   "cell_type": "code",
   "execution_count": 80,
   "id": "c09453b8-ad9d-428c-8692-500a1f3faf5c",
   "metadata": {},
   "outputs": [
    {
     "name": "stdout",
     "output_type": "stream",
     "text": [
      "91 89\n"
     ]
    }
   ],
   "source": [
    "model.eval()\n",
    "count = 0\n",
    "num = 0\n",
    "for d, seqs in zip(val_dataset, val_seq[0]):\n",
    "    d = d.to(device)\n",
    "    z = model.encode(d.x, d.edge_index)\n",
    "    res = model.decoder.forward_all(z).detach().cpu().numpy()\n",
    "#     pred_seqs = mat2adj(res)\n",
    "#     pred_dist = min([sum([dcj_dist(pred, s)[-1] for s in seqs]) for pred in pred_seqs])\n",
    "#     low_dist = np.ceil(sum([dcj_dist(seqs[0], seqs[1])[-1], \n",
    "#                             dcj_dist(seqs[0], seqs[2])[-1], \n",
    "#                             dcj_dist(seqs[1], seqs[2])[-1]])/2)\n",
    "\n",
    "#     print(f'{pred_dist:>3} -- {low_dist:<3}')\n",
    "#     count += pred_dist - low_dist\n",
    "    # print('---------')\n",
    "    tmp_mat = np.copy(res)\n",
    "\n",
    "    for i in range(0, 20, 2):\n",
    "        tmp_mat[i, i:i+2] = 0\n",
    "        tmp_mat[i + 1, i:i+2] = 0\n",
    "\n",
    "    pred, prob_ = mat2adj(tmp_mat)\n",
    "    mval = min([sum([dcj_dist(p, s)[-1] for s in seqs]) for p in pred])\n",
    "    # print(mval, prob_)\n",
    "    # print(pred)\n",
    "    tag = False\n",
    "    val_list = [mval]\n",
    "    prob_list = [prob_]\n",
    "    for _ in range(9):\n",
    "        r,c = np.unravel_index(np.argmax(tmp_mat, axis = None), tmp_mat.shape)\n",
    "        if r == c:\n",
    "            break\n",
    "        if tmp_mat[r,c] == 1.0:\n",
    "            redv = 0.95\n",
    "        else:\n",
    "            redv = tmp_mat[r,c] * tmp_mat[r,c]\n",
    "        tmp_mat[r,c] = redv\n",
    "        tmp_mat[c,r] = redv\n",
    "        pred, prob = mat2adj(tmp_mat)\n",
    "        # if prob < prob_:\n",
    "        #     print(f'** {prob}')\n",
    "        #     print(min([sum([dcj_dist(p, s)[-1] for s in seqs]) for p in pred]), prob)\n",
    "        val_list.append(min([sum([dcj_dist(p, s)[-1] for s in seqs]) for p in pred]))\n",
    "        prob_list.append(prob)\n",
    "        # if min([sum([dcj_dist(p, s)[-1] for s in seqs]) for p in pred]) < mval:\n",
    "        #     # print(pred)\n",
    "        #     # print(min([sum([dcj_dist(p, s)[-1] for s in seqs]) for p in pred]), prob)\n",
    "        #     tag = True\n",
    "        # print(pred)\n",
    "    if np.argmin(val_list) == np.argmin(prob_list):\n",
    "        count += 1\n",
    "    if np.argmin(val_list) == 0:\n",
    "        num += 1\n",
    "    # print(np.argmin(val_list), val_list)\n",
    "    # print(np.argmin(prob_list), prob_list)\n",
    "print(count, num)"
   ]
  },
  {
   "cell_type": "code",
   "execution_count": 55,
   "id": "a8d294d1-0d5b-4c4d-ab3d-b02e75503653",
   "metadata": {},
   "outputs": [],
   "source": [
    "tdict = {14: 18, 18: 14, 4: 15, 15: 4, 6: 16, 16: 6, 0: 11, 11: 0, 2: 12, 12: 2, 1: 17, 17: 1, 3: 7, 7: 3, 5: 13, 13: 5}"
   ]
  },
  {
   "cell_type": "code",
   "execution_count": 62,
   "id": "68240f2f-7514-41ee-b336-ee615c373f5b",
   "metadata": {},
   "outputs": [
    {
     "data": {
      "text/plain": [
       "False"
      ]
     },
     "execution_count": 62,
     "metadata": {},
     "output_type": "execute_result"
    }
   ],
   "source": [
    "test_cycle(tdict, 9, 19)"
   ]
  },
  {
   "cell_type": "code",
   "execution_count": 71,
   "id": "90254c97-8fac-4387-a3e0-40f5473ba702",
   "metadata": {},
   "outputs": [
    {
     "name": "stdout",
     "output_type": "stream",
     "text": [
      "8 18\n",
      "9 19\n",
      "1.0\n",
      "{8: 18, 18: 8} 9 19\n",
      "9 10\n",
      "14 19\n",
      "4 15\n",
      "6 16\n",
      "0 11\n",
      "2 12\n",
      "1 17\n",
      "3 7\n",
      "8 0.04107344\n",
      "-------\n",
      "8 19\n",
      "9 18\n",
      "1.0\n",
      "{8: 19, 19: 8} 9 18\n",
      "9 10\n",
      "14 18\n",
      "4 15\n",
      "6 16\n",
      "0 11\n",
      "2 12\n",
      "1 17\n",
      "3 7\n",
      "-------\n",
      "9 18\n",
      "10 19\n",
      "4 15\n",
      "6 16\n",
      "0 11\n",
      "2 12\n",
      "8 14\n",
      "1 17\n",
      "3 7\n",
      "-------\n",
      "9 19\n",
      "10 18\n",
      "4 15\n",
      "6 16\n",
      "0 11\n",
      "2 12\n",
      "8 14\n",
      "1 17\n",
      "3 7\n",
      "-------\n",
      "9 10\n",
      "14 18\n",
      "4 15\n",
      "6 16\n",
      "0 11\n",
      "2 12\n",
      "1 17\n",
      "3 7\n",
      "8 19\n",
      "-------\n",
      "10 18\n",
      "14 19\n",
      "4 15\n",
      "6 16\n",
      "0 11\n",
      "2 12\n",
      "1 17\n",
      "3 7\n",
      "5 13\n",
      "0.7259615\n",
      "{10: 18, 18: 10, 14: 19, 19: 14, 4: 15, 15: 4, 6: 16, 16: 6, 0: 11, 11: 0, 2: 12, 12: 2, 1: 17, 17: 1, 3: 7, 7: 3} 5 13\n",
      "9 13\n",
      "-------\n",
      "9 10\n",
      "14 18\n",
      "4 15\n",
      "6 16\n",
      "0 11\n",
      "2 12\n",
      "1 17\n",
      "3 7\n",
      "8 19\n",
      "-------\n",
      "10 19\n",
      "14 18\n",
      "4 15\n",
      "6 16\n",
      "0 11\n",
      "2 12\n",
      "1 17\n",
      "3 7\n",
      "5 13\n",
      "0.7259615\n",
      "{10: 19, 19: 10, 14: 18, 18: 14, 4: 15, 15: 4, 6: 16, 16: 6, 0: 11, 11: 0, 2: 12, 12: 2, 1: 17, 17: 1, 3: 7, 7: 3} 5 13\n",
      "9 13\n",
      "-------\n",
      "10 18\n",
      "14 19\n",
      "4 15\n",
      "6 16\n",
      "0 11\n",
      "2 12\n",
      "1 17\n",
      "3 7\n",
      "5 13\n",
      "0.7259615\n",
      "{10: 18, 18: 10, 14: 19, 19: 14, 4: 15, 15: 4, 6: 16, 16: 6, 0: 11, 11: 0, 2: 12, 12: 2, 1: 17, 17: 1, 3: 7, 7: 3} 5 13\n",
      "9 13\n",
      "-------\n",
      "9 10\n",
      "14 18\n",
      "4 15\n",
      "6 16\n",
      "0 11\n",
      "2 12\n",
      "1 17\n",
      "3 7\n",
      "8 19\n",
      "1 [8, 7, 8, 7, 7, 9, 7, 8, 9, 7]\n",
      "1 [0.04107344, 0.0408497, 0.051388755, 0.051361814, 0.092143, 1.5461649, 0.09217698, 1.545968, 1.5462188, 0.09224494]\n"
     ]
    }
   ],
   "source": [
    "tmp_mat = np.copy(res)\n",
    "\n",
    "for i in range(0, 20, 2):\n",
    "    tmp_mat[i, i:i+2] = 0\n",
    "    tmp_mat[i + 1, i:i+2] = 0\n",
    "\n",
    "pred, prob_ = mat2adj(tmp_mat)\n",
    "mval = min([sum([dcj_dist(p, s)[-1] for s in seqs]) for p in pred])\n",
    "print(mval, prob_)\n",
    "# print(pred)\n",
    "tag = False\n",
    "val_list = [mval]\n",
    "prob_list = [prob_]\n",
    "for _ in range(9):\n",
    "    print('-------')\n",
    "    r,c = np.unravel_index(np.argmax(tmp_mat, axis = None), tmp_mat.shape)\n",
    "    if tmp_mat[r,c] == 1.0:\n",
    "        redv = 0.95\n",
    "    else:\n",
    "        redv = tmp_mat[r,c] * tmp_mat[r,c]\n",
    "    tmp_mat[r,c] = redv\n",
    "    tmp_mat[c,r] = redv\n",
    "    pred, prob = mat2adj(tmp_mat)\n",
    "    # if prob < prob_:\n",
    "    #     print(f'** {prob}')\n",
    "    #     print(min([sum([dcj_dist(p, s)[-1] for s in seqs]) for p in pred]), prob)\n",
    "    val_list.append(min([sum([dcj_dist(p, s)[-1] for s in seqs]) for p in pred]))\n",
    "    prob_list.append(prob)\n",
    "    # if min([sum([dcj_dist(p, s)[-1] for s in seqs]) for p in pred]) < mval:\n",
    "    #     # print(pred)\n",
    "    #     # print(min([sum([dcj_dist(p, s)[-1] for s in seqs]) for p in pred]), prob)\n",
    "    #     tag = True\n",
    "    # print(pred)\n",
    "if np.argmin(val_list) == np.argmin(prob_list):\n",
    "    count += 1\n",
    "print(np.argmin(val_list), val_list)\n",
    "print(np.argmin(prob_list), prob_list)"
   ]
  },
  {
   "cell_type": "code",
   "execution_count": 57,
   "id": "36a2f2c1-ef87-4722-b5b4-5b8c624f9b1a",
   "metadata": {},
   "outputs": [
    {
     "data": {
      "text/plain": [
       "{8, 9, 10, 19}"
      ]
     },
     "execution_count": 57,
     "metadata": {},
     "output_type": "execute_result"
    }
   ],
   "source": [
    "set(range(20)) - set(tdict.keys())"
   ]
  },
  {
   "cell_type": "code",
   "execution_count": 61,
   "id": "0ecf1232-b81f-4fae-b1d0-67e19b99156c",
   "metadata": {},
   "outputs": [
    {
     "data": {
      "text/plain": [
       "array([-1,  0,  1, 12, 13, 16, 17,  5,  4, 19, 18,  3,  2,  7,  6, 11, 10,\n",
       "       15, 14,  9,  8, -2], dtype=int32)"
      ]
     },
     "execution_count": 61,
     "metadata": {},
     "output_type": "execute_result"
    }
   ],
   "source": [
    "from genome_file import encodeAdj\n",
    "encodeAdj([1, 7, 9, -3, -10, -2, -4, -6, -8, -5])"
   ]
  },
  {
   "cell_type": "code",
   "execution_count": 62,
   "id": "c5ad2326-71bc-4841-bb06-5f5d0b6d9611",
   "metadata": {},
   "outputs": [],
   "source": [
    "t = [0,  1, 12, 13, 16, 17,  5,  4, 19, 18,  3,  2,  7,  6, 11, 10,\n",
    "       15, 14,  9,  8]"
   ]
  },
  {
   "cell_type": "code",
   "execution_count": 63,
   "id": "d281b8a5-5585-43e5-ba0c-39c9d52dad64",
   "metadata": {},
   "outputs": [
    {
     "data": {
      "text/plain": [
       "[1, 7, 9, -3, -10, -2, -4, -6, -8, -5]"
      ]
     },
     "execution_count": 63,
     "metadata": {},
     "output_type": "execute_result"
    }
   ],
   "source": [
    "[(t[i]//2 + 1) * (-1 if t[i] > t[i+1] else 1) for i in range(0, len(t), 2)]"
   ]
  },
  {
   "cell_type": "code",
   "execution_count": 28,
   "id": "2f58a187-b6c1-4c72-a920-b154a391608a",
   "metadata": {},
   "outputs": [
    {
     "data": {
      "text/plain": [
       "[[1, 7, 9, -3, -10, -2, -4, -6, -8, -5], [5, 8, 6, 4, 2, 10, 3, -9, -7, -1]]"
      ]
     },
     "execution_count": 28,
     "metadata": {},
     "output_type": "execute_result"
    }
   ],
   "source": [
    "mat2adj(tmp_mat)"
   ]
  },
  {
   "cell_type": "code",
   "execution_count": 75,
   "id": "5dfad296-8a40-4ae0-a6de-7b583bd89a26",
   "metadata": {},
   "outputs": [
    {
     "name": "stdout",
     "output_type": "stream",
     "text": [
      "6\n",
      "[[10, -2, 4, 9, 8, 5, 6, -1, -3, -7], [7, 3, 1, -6, -5, -8, -9, -4, 2, -10]]\n"
     ]
    }
   ],
   "source": [
    "tmp_mat = np.copy(res)\n",
    "\n",
    "for i in range(0, 20, 2):\n",
    "    tmp_mat[i, i:i+2] = 0\n",
    "    tmp_mat[i + 1, i:i+2] = 0\n",
    "\n",
    "pred = mat2adj(tmp_mat)\n",
    "print(min([sum([dcj_dist(p, s)[-1] for s in seqs]) for p in pred]))\n",
    "print(pred)"
   ]
  },
  {
   "cell_type": "code",
   "execution_count": null,
   "id": "929334a5-4ffb-48ac-824a-5abdd8b2d76f",
   "metadata": {},
   "outputs": [],
   "source": [
    "tmp_mat"
   ]
  },
  {
   "cell_type": "code",
   "execution_count": 26,
   "id": "6175d1f2-6bfc-4553-aa96-5846272be9d7",
   "metadata": {},
   "outputs": [
    {
     "data": {
      "text/plain": [
       "6"
      ]
     },
     "execution_count": 26,
     "metadata": {},
     "output_type": "execute_result"
    }
   ],
   "source": [
    "[  7,  10,  -2,   4,   9,   8,   5,   6,  -1,  -3]"
   ]
  },
  {
   "cell_type": "code",
   "execution_count": 70,
   "id": "3762ecfa-7792-4f50-a898-c8c8b1b1ec15",
   "metadata": {},
   "outputs": [
    {
     "data": {
      "text/plain": [
       "array([[  7,  10,  -2,   4,   3,   1,  -6,  -5,  -8,  -9],\n",
       "       [  1,  -6,  -5,  -8,  -9,  -4,   2, -10,  -7,  -3],\n",
       "       [  7,  -4,   2, -10,   9,   8,   5,   6,  -1,  -3]], dtype=int32)"
      ]
     },
     "execution_count": 70,
     "metadata": {},
     "output_type": "execute_result"
    }
   ],
   "source": [
    "seqs"
   ]
  },
  {
   "cell_type": "code",
   "execution_count": 71,
   "id": "6b28e96c-1ab5-4a18-a3cf-b52ad00fb21d",
   "metadata": {},
   "outputs": [
    {
     "data": {
      "text/plain": [
       "[2, 2, 2]"
      ]
     },
     "execution_count": 71,
     "metadata": {},
     "output_type": "execute_result"
    }
   ],
   "source": [
    "[dcj_dist([7, 3, 1, -6, -5, -8, -9, -4, 2, -10], s)[-1] for s in seqs]"
   ]
  },
  {
   "cell_type": "code",
   "execution_count": 73,
   "id": "0f3a8cf9-6d6c-4c0d-a10d-20b193781fec",
   "metadata": {},
   "outputs": [
    {
     "data": {
      "text/plain": [
       "0.6990546"
      ]
     },
     "execution_count": 73,
     "metadata": {},
     "output_type": "execute_result"
    }
   ],
   "source": [
    "res[13, 18]"
   ]
  },
  {
   "cell_type": "code",
   "execution_count": 29,
   "id": "1e8331b1-9334-43cb-b144-9553551ab66c",
   "metadata": {},
   "outputs": [],
   "source": [
    "tmp_mat[6,11] = 0\n",
    "tmp_mat[11, 6] = 0"
   ]
  },
  {
   "cell_type": "code",
   "execution_count": 30,
   "id": "50c807b7-ef63-4e77-9016-8ce96fb78a90",
   "metadata": {},
   "outputs": [
    {
     "data": {
      "text/plain": [
       "[[1, 7, 9, -3, -10, -2, 4, -6, -8, -5], [5, 8, 6, -4, 2, 10, 3, -9, -7, -1]]"
      ]
     },
     "execution_count": 30,
     "metadata": {},
     "output_type": "execute_result"
    }
   ],
   "source": [
    "mat2adj(tmp_mat)"
   ]
  },
  {
   "cell_type": "code",
   "execution_count": 76,
   "id": "d38cb6ac-0b6e-4559-a31d-fec3deb3899d",
   "metadata": {},
   "outputs": [
    {
     "name": "stdout",
     "output_type": "stream",
     "text": [
      "9\n",
      "[[10, -2, 4, 9, 8, 5, 6, 1, -3, -7], [7, 3, -1, -6, -5, -8, -9, -4, 2, -10]]\n",
      "9\n",
      "[[10, -2, 4, 9, 8, 5, -6, -1, -3, -7], [7, 3, 1, 6, -5, -8, -9, -4, 2, -10]]\n",
      "15\n",
      "[[10, -2, 4, 9, 8, -5, 7, 3, 1, 6], [-6, -1, -3, -7, 5, -8, -9, -4, 2, -10]]\n",
      "12\n",
      "[[10, -2, 4, 9, -8, 5, -6, -1, -3, -7], [7, 3, 1, 6, -5, 8, -9, -4, 2, -10]]\n",
      "18\n",
      "[[2, -10, 7, 3, 1, 6, -5, 8, -9, -4], [4, 9, -8, 5, -6, -1, -3, -7, 10, -2]]\n",
      "19\n",
      "[[1, -3, -7, 10, -2, -6, -5, 8, -9, -4], [4, 9, -8, 5, 6, 2, -10, 7, 3, -1]]\n",
      "19\n",
      "[[1, -3, -7, 10, 2, 4, 9, -8, 5, 6], [-6, -5, 8, -9, -4, -2, -10, 7, 3, -1]]\n",
      "18\n",
      "[[10, 2, 4, 9, -8, 5, -6, 1, -3, -7], [7, 3, -1, 6, -5, 8, -9, -4, -2, -10]]\n",
      "24\n",
      "[[-9, -4, -2, -10, 7, 3, -1, 6, -5, 8], [-8, 5, -6, 1, -3, -7, 10, 2, 4, 9]]\n",
      "23\n",
      "[[10, 2, 4, -9, 8, -5, 7, 3, -1, 6], [-6, 1, -3, -7, 5, -8, 9, -4, -2, -10]]\n"
     ]
    }
   ],
   "source": [
    "for _ in range(10):\n",
    "    r,c = np.unravel_index(np.argmax(tmp_mat, axis = None), tmp_mat.shape)\n",
    "    tmp_mat[r,c] = 0\n",
    "    tmp_mat[c,r] = 0\n",
    "    pred = mat2adj(tmp_mat)\n",
    "    print(min([sum([dcj_dist(p, s)[-1] for s in seqs]) for p in pred]))\n",
    "    print(pred)"
   ]
  },
  {
   "cell_type": "code",
   "execution_count": 32,
   "id": "b445ded5-92bd-41ab-bd4e-32782a6d0c00",
   "metadata": {},
   "outputs": [
    {
     "data": {
      "text/plain": [
       "array([[-6,  4,  2, 10,  3,  5,  8, -1,  7,  9],\n",
       "       [ 6, -8, -5, -2, -4, -3, -7, -1, 10,  9],\n",
       "       [ 6, -4,  2, 10,  3,  5,  8,  1,  7,  9]], dtype=int32)"
      ]
     },
     "execution_count": 32,
     "metadata": {},
     "output_type": "execute_result"
    }
   ],
   "source": [
    "seqs"
   ]
  },
  {
   "cell_type": "code",
   "execution_count": 34,
   "id": "005a431f-fd5e-41a9-bcc4-2489883195ab",
   "metadata": {},
   "outputs": [
    {
     "data": {
      "text/plain": [
       "5"
      ]
     },
     "execution_count": 34,
     "metadata": {},
     "output_type": "execute_result"
    }
   ],
   "source": [
    "dcj_dist([5, 8, 6, 4, 2, 10, 3, -9, -7, -1], seqs[0])[-1]"
   ]
  },
  {
   "cell_type": "code",
   "execution_count": 55,
   "id": "169ce721-2943-4e9e-949c-595636c8f62c",
   "metadata": {},
   "outputs": [
    {
     "data": {
      "text/plain": [
       "[3, 5, 4]"
      ]
     },
     "execution_count": 55,
     "metadata": {},
     "output_type": "execute_result"
    }
   ],
   "source": [
    "[dcj_dist([1, 7, 9, -3, -10, -2, -4, 6, -8, -5], s)[-1] for s in seqs]"
   ]
  },
  {
   "cell_type": "code",
   "execution_count": 47,
   "id": "97256176-b8c3-40b4-91f7-8689ed726510",
   "metadata": {},
   "outputs": [
    {
     "data": {
      "text/plain": [
       "7"
      ]
     },
     "execution_count": 47,
     "metadata": {},
     "output_type": "execute_result"
    }
   ],
   "source": [
    "sum([dcj_dist([  6,   4,   2,  10,   3,   5,   8,   1,   7,   9], seqs[1])[-1], dcj_dist(seqs[0], [  6,   4,   2,  10,   3,   5,   8,   1,   7,   9])[-1], dcj_dist(seqs[2], [  6,   4,   2,  10,   3,   5,   8,   1,   7,   9])[-1]])"
   ]
  },
  {
   "cell_type": "code",
   "execution_count": 69,
   "id": "42ece012-f595-48d9-8dd0-6bae4e373822",
   "metadata": {},
   "outputs": [
    {
     "data": {
      "text/plain": [
       "array([[  7,  -8,   3,  -2,  -9,  -6,   1,  -4,  -5, -10],\n",
       "       [  5,  -3,   4,   7,  -2,   1,   6,  10,   9,   8],\n",
       "       [  5, -10,  -4,   8,  -2,  -9,   6,   1,  -7,   3],\n",
       "       [ -9,  -5,  -3,   8,  -4,  -2,  -6, -10,   7,  -1],\n",
       "       [ -9,  10,  -4,   7,  -3,  -2,   1,   6,   8,  -5],\n",
       "       [ -7,  10,  -4,   6,   8,   1,  -2,  -9,  -3,   5],\n",
       "       [  1, -10,   3,   5,   7,  -8,   4,   9,  -6,   2],\n",
       "       [ -3,  -2,  -7,   4,   8,   6,  10,   5,   1,   9],\n",
       "       [ -7,   1,   8,   3,   5,   2,   6,  10,   9,  -4],\n",
       "       [ -5,   7,  -4,  10,  -1,  -8,  -3,   6,   2,  -9],\n",
       "       [  5,  -2,   7,   9,  -4,   1,  10,   8,   6,  -3],\n",
       "       [ -8,  -6,   4,   7,  10,   2,  -1,  -9,   3,  -5],\n",
       "       [  1,   3,  -8,  10,   4,   6,  -9,  -5,   7,  -2],\n",
       "       [  2,   9,   3,  -1,   8,   4,   5,  10,   7,   6],\n",
       "       [  4,  -5,   9,  -1,  -8,   3,   2,   7,  10,   6],\n",
       "       [ -6,  -4,   3,   8,   7,   5,  -1, -10,  -9,  -2],\n",
       "       [ 10,   4,   2,   5,   8,   1,   3,  -9,   6,   7],\n",
       "       [ -2,   5,   6,   1,   8,  -3,  -4,  -7,   9, -10],\n",
       "       [ -4,   5,   9,   7,   3,   6,   1,   2,   8, -10],\n",
       "       [ -9,   6,  -4,   8,  -2,  -1,   7,  10,  -5,  -3],\n",
       "       [ -1,   5,   3,   9,  -8,   7,   2,  -4,   6, -10],\n",
       "       [ -8,  -9,   7,   1,   5,   6, -10,  -2,  -3,   4],\n",
       "       [ -1,   2,  -5,  -3,   6,  10,  -4,  -8,  -7,  -9],\n",
       "       [ -5,   9,   4,  -7,   6,  -1,  10,   2,   8,  -3],\n",
       "       [  8,   6,   3,   2,   5,   4,  -1,  -7,   9,  10],\n",
       "       [  2,   7,   5,   6,   3,   9,   8,   1,  10,   4],\n",
       "       [ -8, -10,  -3,  -6,  -7,   4,  -9,   2,   1,  -5],\n",
       "       [ -8,  -1,   7,   9,  -6,   4,  -2,   5,  -3, -10],\n",
       "       [  1,  -7,   6,   5,   2,  -4,  -3,  10,  -9,  -8],\n",
       "       [  4,  10,  -8,   7,  -1,  -6,   5,  -9,  -2,   3],\n",
       "       [ -1,  -8, -10,  -2,   3,  -4,  -9,  -6,   5,   7],\n",
       "       [  6,  10,   1,   4,   3,   2,   7,   9,   8,   5],\n",
       "       [ -8,   6,   4,  -9,  -1,  -2,  -7,  -3,   5, -10],\n",
       "       [ 10,  -8,   1,  -6,  -5,  -9,   7,   2,  -3,   4],\n",
       "       [  3,  -2,  -6,  -9,  -1,   5,   8,   7,  -4, -10],\n",
       "       [  8,   3,  -6,   9,  -5,  -7,   2, -10,   1,   4],\n",
       "       [ -3,   7,  -4,   6,  -5,   9,   8,  -2, -10,  -1],\n",
       "       [ -8,   1,  -7,  -9,  10,  -5,   3,   2,   6,  -4],\n",
       "       [ -6,   1,  -8,  -9,  -7,   3,  10,   4,  -5,   2],\n",
       "       [  4,  10,  -8,   5,  -2,  -9,  -1,  -7,   3,  -6],\n",
       "       [ -6,   9,  -8,  10,  -1,   5,   3,   7,  -4,   2],\n",
       "       [ -5,   3,   7,  -4,  -1,   8, -10,   2,  -6,  -9],\n",
       "       [ -5,  -4,   2,  10,  -6,  -1,   8,  -7,   9,   3],\n",
       "       [  6,  -5,   8,  -7,   3,  -1,   9,   4,  10,  -2],\n",
       "       [ -4,   3,   6,   8,  -1,  -2,   9,   7,  10,   5],\n",
       "       [  2,   1,   3,   4,   7,   6,  -9,   8,  10,   5],\n",
       "       [ -7,  -1,  -6,   5,  -9,   2,   8, -10,  -3,  -4],\n",
       "       [  3,  -6, -10,   1,   2,  -8,  -5,   4,  -7,   9],\n",
       "       [  8,  10,  -9,   3,  -2,   6,   5,   1,   7,   4],\n",
       "       [ -3,   5,  -8,  10,   7,   2,   1,   6,   9,   4],\n",
       "       [  1,   4,   8,   2,   9,   6,  10,   7,   5,   3],\n",
       "       [  5,  10,   8,   2,   7,  -4,   6,   1,  -9,   3],\n",
       "       [  5,  10,   8,   7,  -3,   2,   1,   4,  -9,   6],\n",
       "       [ 10,   8,   7,   6,   4,   3,   5,   1,   9,   2],\n",
       "       [  9,   1,   7,   8,   4,  -6,  10,  -2,   3,   5],\n",
       "       [  8,   9,  -1,  10,  -3,  -7,  -2,   6,  -4,   5],\n",
       "       [ -8,   1,   9,   4,   6,   2,   3,   5,  10,   7],\n",
       "       [  2,  -6,   9,  -4,  -1,   8,  -7,   5,   3,  10],\n",
       "       [  7,   3,  -9,   2,   8,  10,   1,   5,   6,   4],\n",
       "       [  7,   2,   4,   3,   8,   1,   9,   5,  10,   6],\n",
       "       [ 10,   5,  -9,   2,  -3,   8,   1,   4,   7,  -6],\n",
       "       [  5,   3,   7,   9,  -2,   6,  -4,  10,   8,   1],\n",
       "       [  6,  -8, -10,   4,  -3,   2,  -7,  -5,  -1,   9],\n",
       "       [  3,   6,   2,   9,   5,   4,   1,  10,   8,   7],\n",
       "       [ 10,   4,   8,   1,   2,   6,   3,   9,   7,   5],\n",
       "       [  3,   1,   4,   7,   6,  10,   2,   9,   5,   8],\n",
       "       [ 10,   3,   5,  -6,  -7,   9,  -8,   4,   2,   1],\n",
       "       [  8,   9,   7,   3,   1,   2,   6,   5,  10,   4],\n",
       "       [ 10,  -3,   5,  -8,   1,  -7,   9,   2,   6,  -4],\n",
       "       [  5,   6,   3,   4,   2,   9,  -1,  10,   8,   7],\n",
       "       [ -4,  -3,  -7,   2,   8,  -5, -10,   6,   9,   1],\n",
       "       [  9,   4,  -8,  10,  -1,   2,  -3,   6,   7,   5],\n",
       "       [ -9,   2,  -8,   6,   5,  -3,  -4,  10,   7,  -1],\n",
       "       [  8,  -5,  -3,   7,  -1,   4,  -9,  -2, -10,  -6],\n",
       "       [ -6,   7,   5,   8,   9,   1,  10,   2,   3,   4],\n",
       "       [  8,  -9,  -3, -10,  -1,   6,   4,  -7,  -2,   5],\n",
       "       [-10,  -6,   4,   7,  -9,   2,   3,   5,  -1,  -8],\n",
       "       [  7,  -3,   9,   4,   8,  10,   1,  -5,  -6,   2],\n",
       "       [ -6,   4,   9,  -2,   5,   3,  -1,   7,  10,   8],\n",
       "       [  9,   1,  -3,   2,  10,  -6,  -8,   5,   7,   4],\n",
       "       [ -1,  -2,  -7,   4, -10,  -8,  -6,  -9,  -5,  -3],\n",
       "       [ 10,  -9,   6,  -8,   1,  -7,  -5,   2,   4,  -3],\n",
       "       [  3,   9,   8, -10,   4,   7,   2,  -1,  -6,  -5],\n",
       "       [ -2,   8,  10,   4,   6,   3,   9,   5,  -7,   1],\n",
       "       [  9,   5,   6,   2,   3,   7,   1,   8,   4,  10],\n",
       "       [-10,   2,   8,   7,   4,   3,   9,   1,   6,   5],\n",
       "       [  7,   9,   4,   3,  10,   5,   6,   1,   8,   2],\n",
       "       [  2,  -8,   7,  -3,  -1,  -5,  -9,   6,   4, -10],\n",
       "       [ 10,  -4,   6,  -9,  -8,   2,  -3,  -1,  -5,   7],\n",
       "       [  9,   7,   8,  -6,   4,   3,   1,   5,   2,  10],\n",
       "       [ -5,   4,   2,   8,  10,   3,  -1,  -9,  -6,  -7],\n",
       "       [  9, -10,   5,   2,  -3,   7,  -8,   6,   4,   1],\n",
       "       [  1,   6,   9,  -5,  -3,   4,  -2,   7, -10,   8],\n",
       "       [  9,  -5,  -3,  10,  -6,   1,   7,   8,  -4,   2],\n",
       "       [ -5,   6,   4,  10,   2,  -3,  -1,  -8,   9,   7],\n",
       "       [ -6,   8,  -3,  -9,   7,   1,  10,  -2,   5,   4],\n",
       "       [ -9,   1,   4,   6,   2,  10,   7,   5,   8,  -3],\n",
       "       [  6,  -2,   5,   7,  10,   8,   3,   1,   9,   4],\n",
       "       [  4,  -9,   2,   6, -10,  -5,   8,   7,   1,  -3],\n",
       "       [  7,  10,  -2,   4,   9,   8,   5,   6,  -1,  -3]], dtype=int32)"
      ]
     },
     "execution_count": 69,
     "metadata": {},
     "output_type": "execute_result"
    }
   ],
   "source": [
    "val_seq[1]"
   ]
  },
  {
   "cell_type": "code",
   "execution_count": 56,
   "id": "fa57c483-e2fc-4d6c-a8b3-feb69371e179",
   "metadata": {},
   "outputs": [
    {
     "data": {
      "text/plain": [
       "[2, 4, 1]"
      ]
     },
     "execution_count": 56,
     "metadata": {},
     "output_type": "execute_result"
    }
   ],
   "source": [
    "[dcj_dist([  6,   4,   2,  10,   3,   5,   8,   1,   7,   9], s)[-1] for s in seqs]"
   ]
  },
  {
   "cell_type": "code",
   "execution_count": null,
   "id": "8a5407fe-2216-4f42-bf2d-34ac068d37b0",
   "metadata": {},
   "outputs": [],
   "source": []
  }
 ],
 "metadata": {
  "kernelspec": {
   "display_name": "Deep AI",
   "language": "python",
   "name": "dl"
  },
  "language_info": {
   "codemirror_mode": {
    "name": "ipython",
    "version": 3
   },
   "file_extension": ".py",
   "mimetype": "text/x-python",
   "name": "python",
   "nbconvert_exporter": "python",
   "pygments_lexer": "ipython3",
   "version": "3.7.11"
  }
 },
 "nbformat": 4,
 "nbformat_minor": 5
}
