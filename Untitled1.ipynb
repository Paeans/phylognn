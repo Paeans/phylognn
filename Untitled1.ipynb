{
 "cells": [
  {
   "cell_type": "code",
   "execution_count": 49,
   "id": "ef1abcd7-851e-4468-a60c-165da5cc2139",
   "metadata": {},
   "outputs": [],
   "source": [
    "import numpy as np"
   ]
  },
  {
   "cell_type": "code",
   "execution_count": 40,
   "id": "ec4eb6db-3627-4693-91c4-08b73ca9f917",
   "metadata": {},
   "outputs": [],
   "source": [
    "from gene_mat import gen_seqs"
   ]
  },
  {
   "cell_type": "code",
   "execution_count": 43,
   "id": "ff02d925-3ed1-47fc-8bd8-cb380e2577b5",
   "metadata": {},
   "outputs": [],
   "source": [
    "from gene_mat import gen_op_mat"
   ]
  },
  {
   "cell_type": "code",
   "execution_count": 72,
   "id": "f39ebe5b-e523-498c-970b-5e8aec8e08c0",
   "metadata": {},
   "outputs": [],
   "source": [
    "from dcj_comp import dcj_dist"
   ]
  },
  {
   "cell_type": "code",
   "execution_count": 163,
   "id": "47cca465-3c00-40fb-a529-14c67451e4a0",
   "metadata": {},
   "outputs": [],
   "source": [
    "l, n = 10, 3\n",
    "k = 100\n",
    "step = 7\n",
    "seq = gen_seqs(l, n)\n",
    "seq = np.expand_dims(seq, axis = 1) # n, 1, 1, l\n",
    "\n",
    "new_seq = np.zeros((n, k * step, 1, l))\n",
    "tmp_seq = seq[:]\n",
    "for i in range(step):\n",
    "    op, t = gen_op_mat(l, n*k, 2)\n",
    "    op = op.reshape(n, k, l, l) # n, k, l, l\n",
    "    tmp_seq = np.matmul(tmp_seq, op) # n, k, 1, l\n",
    "    new_seq[:, i * k:(i+1) * k] = tmp_seq"
   ]
  },
  {
   "cell_type": "code",
   "execution_count": 164,
   "id": "705425be-ff43-4cfc-ba54-c518a9952a68",
   "metadata": {},
   "outputs": [],
   "source": [
    "tmp = np.random.permutation(new_seq[0])"
   ]
  },
  {
   "cell_type": "code",
   "execution_count": 165,
   "id": "2c829277-41ba-4307-ad3d-19a19e13872b",
   "metadata": {},
   "outputs": [
    {
     "data": {
      "text/plain": [
       "(700, 1, 10)"
      ]
     },
     "execution_count": 165,
     "metadata": {},
     "output_type": "execute_result"
    }
   ],
   "source": [
    "tmp.shape"
   ]
  },
  {
   "cell_type": "code",
   "execution_count": 166,
   "id": "2bec2b4e-7a14-468b-8cf9-a30b9b0850d1",
   "metadata": {},
   "outputs": [],
   "source": [
    "s = seq[0,0,0]"
   ]
  },
  {
   "cell_type": "code",
   "execution_count": 177,
   "id": "19022a8b-7267-4a06-b502-8a61e4afbffe",
   "metadata": {},
   "outputs": [
    {
     "name": "stdout",
     "output_type": "stream",
     "text": [
      "Wed Dec 22 18:59:05 2021\n",
      "Wed Dec 22 18:59:25 2021\n"
     ]
    }
   ],
   "source": [
    "import time\n",
    "print(time.ctime())\n",
    "counter = 0\n",
    "for _ in range(20000):\n",
    "    cnum = np.random.choice(k * step, 3, replace=False)\n",
    "    if c_dcj(s, tmp[cnum].squeeze()):\n",
    "        counter += 1\n",
    "print(time.ctime())"
   ]
  },
  {
   "cell_type": "code",
   "execution_count": 178,
   "id": "e8a8b033-6a46-4570-b3fb-a761129c88f4",
   "metadata": {},
   "outputs": [
    {
     "data": {
      "text/plain": [
       "5938"
      ]
     },
     "execution_count": 178,
     "metadata": {},
     "output_type": "execute_result"
    }
   ],
   "source": [
    "counter"
   ]
  },
  {
   "cell_type": "code",
   "execution_count": 179,
   "id": "1beccf6c-aec7-4ec9-a903-7962a4466874",
   "metadata": {},
   "outputs": [],
   "source": [
    "from multiprocessing import Pool"
   ]
  },
  {
   "cell_type": "code",
   "execution_count": 181,
   "id": "2c32febd-592a-4378-9e09-41331308881a",
   "metadata": {},
   "outputs": [
    {
     "name": "stdout",
     "output_type": "stream",
     "text": [
      "Wed Dec 22 19:00:43 2021\n",
      "Wed Dec 22 19:00:46 2021\n"
     ]
    }
   ],
   "source": [
    "print(time.ctime())\n",
    "cnum_list = [np.random.choice(k * step, 3, replace=False) for _ in range(20000)]\n",
    "with Pool(22) as p:\n",
    "    res = p.starmap(c_dcj, [(s, tmp[cnum].squeeze()) for cnum in cnum_list])\n",
    "print(time.ctime())"
   ]
  },
  {
   "cell_type": "code",
   "execution_count": 184,
   "id": "52ee068f-e2ab-459e-be4e-c214bb48bac9",
   "metadata": {},
   "outputs": [
    {
     "ename": "TypeError",
     "evalue": "list indices must be integers or slices, not list",
     "output_type": "error",
     "traceback": [
      "\u001b[0;31m---------------------------------------------------------------------------\u001b[0m",
      "\u001b[0;31mTypeError\u001b[0m                                 Traceback (most recent call last)",
      "\u001b[0;32m/tmp/ipykernel_103523/1609639643.py\u001b[0m in \u001b[0;36m<module>\u001b[0;34m\u001b[0m\n\u001b[0;32m----> 1\u001b[0;31m \u001b[0mres_list\u001b[0m \u001b[0;34m=\u001b[0m \u001b[0mcnum_list\u001b[0m\u001b[0;34m[\u001b[0m\u001b[0mres\u001b[0m\u001b[0;34m]\u001b[0m\u001b[0;34m\u001b[0m\u001b[0;34m\u001b[0m\u001b[0m\n\u001b[0m",
      "\u001b[0;31mTypeError\u001b[0m: list indices must be integers or slices, not list"
     ]
    }
   ],
   "source": [
    "res_list = cnum_list[res]"
   ]
  },
  {
   "cell_type": "code",
   "execution_count": 145,
   "id": "7c1f0a36-41bc-4c37-ad82-a44909c5ba65",
   "metadata": {},
   "outputs": [],
   "source": [
    "def c_dcj(s, p):\n",
    "    dlist = [dcj_dist(s, x)[-1] for x in p]\n",
    "    a, b, c = p\n",
    "    return sum(dlist) == np.ceil(sum([dcj_dist(b,c)[-1], dcj_dist(a,c)[-1], dcj_dist(a,b)[-1]])/2)"
   ]
  },
  {
   "cell_type": "code",
   "execution_count": 135,
   "id": "30eba9e0-5b45-4753-ae06-c6c8e8353242",
   "metadata": {},
   "outputs": [
    {
     "data": {
      "text/plain": [
       "4"
      ]
     },
     "execution_count": 135,
     "metadata": {},
     "output_type": "execute_result"
    }
   ],
   "source": [
    "dcj_dist(new_seq[0,45,0], new_seq[0,0,0])[-1]"
   ]
  },
  {
   "cell_type": "code",
   "execution_count": 147,
   "id": "3de26f1d-2523-4f42-8a57-af94751e2550",
   "metadata": {},
   "outputs": [
    {
     "data": {
      "text/plain": [
       "10.0"
      ]
     },
     "execution_count": 147,
     "metadata": {},
     "output_type": "execute_result"
    }
   ],
   "source": [
    "np.ceil(10)"
   ]
  },
  {
   "cell_type": "code",
   "execution_count": 150,
   "id": "b20f2cd9-ec1a-4273-9f3c-e6797bfb5aa0",
   "metadata": {},
   "outputs": [],
   "source": []
  },
  {
   "cell_type": "code",
   "execution_count": null,
   "id": "33839e63-1844-4776-9db5-fe145ee2b755",
   "metadata": {},
   "outputs": [],
   "source": []
  }
 ],
 "metadata": {
  "kernelspec": {
   "display_name": "Deep AI",
   "language": "python",
   "name": "dl"
  },
  "language_info": {
   "codemirror_mode": {
    "name": "ipython",
    "version": 3
   },
   "file_extension": ".py",
   "mimetype": "text/x-python",
   "name": "python",
   "nbconvert_exporter": "python",
   "pygments_lexer": "ipython3",
   "version": "3.7.11"
  }
 },
 "nbformat": 4,
 "nbformat_minor": 5
}
