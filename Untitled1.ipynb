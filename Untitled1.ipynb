{
 "cells": [
  {
   "cell_type": "code",
   "execution_count": 1,
   "id": "ced383d9-4fe3-49a2-8ba0-539609759089",
   "metadata": {},
   "outputs": [],
   "source": [
    "from gene_mat import gen_m3g_data, mid_dcj"
   ]
  },
  {
   "cell_type": "code",
   "execution_count": 2,
   "id": "2e6f81ff-47a9-4608-8db0-6ad4a9da22f8",
   "metadata": {},
   "outputs": [],
   "source": [
    "m_seq, t_seq = gen_m3g_data(10, 1000, 7, op_type = 2)"
   ]
  },
  {
   "cell_type": "code",
   "execution_count": 3,
   "id": "0ccdd355-79ef-4fdd-845d-bc63b092d7b1",
   "metadata": {},
   "outputs": [
    {
     "data": {
      "text/plain": [
       "(1000, 3, 10)"
      ]
     },
     "execution_count": 3,
     "metadata": {},
     "output_type": "execute_result"
    }
   ],
   "source": [
    "m_seq.shape"
   ]
  },
  {
   "cell_type": "code",
   "execution_count": 4,
   "id": "65dc4255-9ddb-4163-881a-70cb9d8c1101",
   "metadata": {},
   "outputs": [
    {
     "data": {
      "text/plain": [
       "(1000, 1, 10)"
      ]
     },
     "execution_count": 4,
     "metadata": {},
     "output_type": "execute_result"
    }
   ],
   "source": [
    "t_seq.shape"
   ]
  },
  {
   "cell_type": "code",
   "execution_count": 5,
   "id": "bcdb793b-0482-427f-a151-379a280e8b58",
   "metadata": {},
   "outputs": [],
   "source": [
    "for s, t in zip(t_seq, m_seq):\n",
    "    assert mid_dcj(s[0], t)"
   ]
  },
  {
   "cell_type": "code",
   "execution_count": null,
   "id": "43f2e225-761b-4555-a8dc-16d3eaf48861",
   "metadata": {},
   "outputs": [],
   "source": []
  }
 ],
 "metadata": {
  "kernelspec": {
   "display_name": "Deep AI",
   "language": "python",
   "name": "dl"
  },
  "language_info": {
   "codemirror_mode": {
    "name": "ipython",
    "version": 3
   },
   "file_extension": ".py",
   "mimetype": "text/x-python",
   "name": "python",
   "nbconvert_exporter": "python",
   "pygments_lexer": "ipython3",
   "version": "3.7.11"
  }
 },
 "nbformat": 4,
 "nbformat_minor": 5
}
