{
 "cells": [
  {
   "cell_type": "code",
   "execution_count": 1,
   "id": "1b492d6e-364c-4c63-9ad7-e601e2a6c87b",
   "metadata": {},
   "outputs": [],
   "source": [
    "from gene_graph_dataset import G3MedianDataset"
   ]
  },
  {
   "cell_type": "code",
   "execution_count": 2,
   "id": "345dccb1-588f-44a5-bed7-d868c1892477",
   "metadata": {},
   "outputs": [
    {
     "name": "stderr",
     "output_type": "stream",
     "text": [
      "Generating...\n"
     ]
    },
    {
     "name": "stdout",
     "output_type": "stream",
     "text": [
      "gom 1000 Fri Dec 24 11:52:37 2021\n",
      "gom 1000 Fri Dec 24 11:52:48 2021\n",
      "1 Fri Dec 24 11:52:53 2021\n",
      "1 Fri Dec 24 11:52:54 2021\n",
      "gom 1000 Fri Dec 24 11:52:54 2021\n",
      "gom 1000 Fri Dec 24 11:53:05 2021\n",
      "gom 1000 Fri Dec 24 11:53:09 2021\n",
      "gom 1000 Fri Dec 24 11:53:23 2021\n",
      "2 Fri Dec 24 11:53:28 2021\n",
      "2 Fri Dec 24 11:53:29 2021\n",
      "gom 1000 Fri Dec 24 11:53:29 2021\n",
      "gom 1000 Fri Dec 24 11:53:39 2021\n",
      "gom 1000 Fri Dec 24 11:53:44 2021\n",
      "gom 1000 Fri Dec 24 11:54:03 2021\n",
      "gom 1000 Fri Dec 24 11:54:09 2021\n",
      "gom 1000 Fri Dec 24 11:54:22 2021\n",
      "3 Fri Dec 24 11:54:27 2021\n",
      "3 Fri Dec 24 11:54:28 2021\n"
     ]
    },
    {
     "name": "stderr",
     "output_type": "stream",
     "text": [
      "Processing...\n",
      "Done!\n"
     ]
    }
   ],
   "source": [
    "dataset = G3MedianDataset('dataset_g3m', 1000, 3)"
   ]
  },
  {
   "cell_type": "code",
   "execution_count": 3,
   "id": "26c0a932-0319-47df-aecc-4139ca1a9248",
   "metadata": {},
   "outputs": [
    {
     "data": {
      "text/plain": [
       "G3MedianDataset(300)"
      ]
     },
     "execution_count": 3,
     "metadata": {},
     "output_type": "execute_result"
    }
   ],
   "source": [
    "dataset"
   ]
  },
  {
   "cell_type": "code",
   "execution_count": null,
   "id": "406e8e7a-c5a9-442f-9081-01dbc95760ae",
   "metadata": {},
   "outputs": [],
   "source": []
  }
 ],
 "metadata": {
  "kernelspec": {
   "display_name": "Deep AI",
   "language": "python",
   "name": "dl"
  },
  "language_info": {
   "codemirror_mode": {
    "name": "ipython",
    "version": 3
   },
   "file_extension": ".py",
   "mimetype": "text/x-python",
   "name": "python",
   "nbconvert_exporter": "python",
   "pygments_lexer": "ipython3",
   "version": "3.7.11"
  }
 },
 "nbformat": 4,
 "nbformat_minor": 5
}
