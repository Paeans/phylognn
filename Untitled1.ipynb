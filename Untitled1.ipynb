{
 "cells": [
  {
   "cell_type": "code",
   "execution_count": 1,
   "id": "c9c1eb6c-0f94-4c42-91d2-2e25fe866c8f",
   "metadata": {},
   "outputs": [],
   "source": [
    "import numpy as np\n",
    "import torch as th"
   ]
  },
  {
   "cell_type": "code",
   "execution_count": 2,
   "id": "89f5a358-8781-40fd-8d2a-3a57746d04a1",
   "metadata": {},
   "outputs": [],
   "source": [
    "from scipy.io import savemat, loadmat"
   ]
  },
  {
   "cell_type": "code",
   "execution_count": 3,
   "id": "88f71ae5-693d-49ef-b081-a4e648876ac9",
   "metadata": {},
   "outputs": [],
   "source": [
    "from gene_mat import gen_dataset_wt"
   ]
  },
  {
   "cell_type": "code",
   "execution_count": 4,
   "id": "b0276692-1f71-4d09-b1c9-6d83ed46bbeb",
   "metadata": {},
   "outputs": [],
   "source": [
    "from genome_graph import gen_graph"
   ]
  },
  {
   "cell_type": "code",
   "execution_count": 5,
   "id": "853cef1b-21a0-4bd7-ba0c-efb8e6ed7055",
   "metadata": {},
   "outputs": [],
   "source": [
    "import torch\n",
    "from torch_geometric.data import InMemoryDataset"
   ]
  },
  {
   "cell_type": "code",
   "execution_count": 29,
   "id": "52819884-7224-4d4c-8844-910eefdbeaca",
   "metadata": {},
   "outputs": [],
   "source": [
    "def save_dataset(gene_len, step_range, graph_num = None, fname = None):\n",
    "    if graph_num == None:\n",
    "        graph_num = 100\n",
    "        \n",
    "    if fname == None:\n",
    "        fname = 'inv_' + str(gene_len) + '_' + str(step_range) + '.pt'\n",
    "        \n",
    "    g = []\n",
    "    for step in range(2, step_range):\n",
    "        s, o, t = gen_dataset_wt(gene_len, graph_num, step, op_type = 2)\n",
    "        s = s[:, (0,-1)].astype(np.int32)\n",
    "        inv_num = step - 1\n",
    "\n",
    "        g += [gen_graph(x, label = inv_num) for x in s]\n",
    "    th.save(g, fname)"
   ]
  },
  {
   "cell_type": "code",
   "execution_count": 46,
   "id": "1104609f-184e-4912-9cac-d01f50015d73",
   "metadata": {},
   "outputs": [],
   "source": [
    "class GeneGraphDataset(InMemoryDataset):\n",
    "    def __init__(self, root, gene_len, step_range, \n",
    "                 transform=None, pre_transform=None):\n",
    "        self.gene_len = gene_len\n",
    "        self.step_range = step_range\n",
    "        super().__init__(root, transform, pre_transform)\n",
    "        self.data, self.slices = torch.load(self.processed_paths[0])\n",
    "        \n",
    "    @property\n",
    "    def raw_file_names(self):\n",
    "        return ['inv_' + str(self.gene_len) +\n",
    "                '_' + str(self.step_range) + '.pt']\n",
    "\n",
    "    @property\n",
    "    def processed_file_names(self):\n",
    "        return ['data_' + str(self.gene_len) +\n",
    "                '_' + str(self.step_range) + '.pt']\n",
    "\n",
    "    def download(self):\n",
    "        # Download to `self.raw_dir`.\n",
    "        save_dataset(self.gene_len, self.step_range, \n",
    "                     graph_num = 100, \n",
    "                     fname = self.raw_dir + '/' + self.raw_file_names[0])\n",
    "        pass\n",
    "\n",
    "    def process(self):\n",
    "        # Read data into huge `Data` list.\n",
    "        filename = self.raw_dir + '/' + self.raw_file_names[0]\n",
    "        data_list = torch.load(filename)        \n",
    "\n",
    "        if self.pre_filter is not None:\n",
    "            data_list = [data for data in data_list if self.pre_filter(data)]\n",
    "\n",
    "        if self.pre_transform is not None:\n",
    "            data_list = [self.pre_transform(data) for data in data_list]\n",
    "\n",
    "        data, slices = self.collate(data_list)\n",
    "        torch.save((data, slices), self.processed_paths[0])"
   ]
  },
  {
   "cell_type": "code",
   "execution_count": null,
   "id": "ee90da64-be47-40e4-9d74-372167276bdd",
   "metadata": {},
   "outputs": [],
   "source": []
  }
 ],
 "metadata": {
  "kernelspec": {
   "display_name": "Deep AI",
   "language": "python",
   "name": "dl"
  },
  "language_info": {
   "codemirror_mode": {
    "name": "ipython",
    "version": 3
   },
   "file_extension": ".py",
   "mimetype": "text/x-python",
   "name": "python",
   "nbconvert_exporter": "python",
   "pygments_lexer": "ipython3",
   "version": "3.7.11"
  }
 },
 "nbformat": 4,
 "nbformat_minor": 5
}
