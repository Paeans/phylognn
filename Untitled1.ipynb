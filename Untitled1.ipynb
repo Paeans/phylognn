{
 "cells": [
  {
   "cell_type": "code",
   "execution_count": 1,
   "id": "a05e6d50-1f53-4c83-9ab8-ac4ef96d51e5",
   "metadata": {},
   "outputs": [],
   "source": [
    "from gene_graph_dataset import G3MedianDataset"
   ]
  },
  {
   "cell_type": "code",
   "execution_count": 5,
   "id": "0bbd5099-66e5-4470-a9d9-97cf93888ad8",
   "metadata": {},
   "outputs": [
    {
     "name": "stderr",
     "output_type": "stream",
     "text": [
      "Generating...\n",
      "Processing...\n",
      "Done!\n"
     ]
    }
   ],
   "source": [
    "dataset = G3MedianDataset('dataset_g3m', 12, 5)"
   ]
  },
  {
   "cell_type": "code",
   "execution_count": 6,
   "id": "592cb9fa-221e-4fc1-8b78-dfff5c85a656",
   "metadata": {},
   "outputs": [],
   "source": [
    "d = dataset[4]"
   ]
  },
  {
   "cell_type": "code",
   "execution_count": 7,
   "id": "84ac066b-76ad-4d4c-832a-400b067aad4b",
   "metadata": {},
   "outputs": [
    {
     "data": {
      "text/plain": [
       "Data(x=[24], edge_index=[2, 69], edge_attr=[69, 3], pos_edge_label_index=[2, 23], neg_edge_label_index=[2, 553], num_nodes=24)"
      ]
     },
     "execution_count": 7,
     "metadata": {},
     "output_type": "execute_result"
    }
   ],
   "source": [
    "d"
   ]
  },
  {
   "cell_type": "code",
   "execution_count": null,
   "id": "16c55bbc-09d1-456f-94c3-4326524779c9",
   "metadata": {},
   "outputs": [],
   "source": []
  }
 ],
 "metadata": {
  "kernelspec": {
   "display_name": "Deep AI",
   "language": "python",
   "name": "dl"
  },
  "language_info": {
   "codemirror_mode": {
    "name": "ipython",
    "version": 3
   },
   "file_extension": ".py",
   "mimetype": "text/x-python",
   "name": "python",
   "nbconvert_exporter": "python",
   "pygments_lexer": "ipython3",
   "version": "3.7.11"
  }
 },
 "nbformat": 4,
 "nbformat_minor": 5
}
