{
 "cells": [
  {
   "cell_type": "code",
   "execution_count": 49,
   "id": "ced383d9-4fe3-49a2-8ba0-539609759089",
   "metadata": {},
   "outputs": [],
   "source": [
    "import numpy as np\n",
    "import time\n",
    "\n",
    "from gene_mat import gen_seqs\n",
    "from gene_mat import gen_op_mat\n",
    "from dcj_comp import dcj_dist\n",
    "\n",
    "from multiprocessing import Pool"
   ]
  },
  {
   "cell_type": "code",
   "execution_count": 50,
   "id": "7c1f0a36-41bc-4c37-ad82-a44909c5ba65",
   "metadata": {},
   "outputs": [],
   "source": [
    "def c_dcj(s, p):\n",
    "    dlist = [dcj_dist(s, x)[-1] for x in p]\n",
    "    a, b, c = p\n",
    "    return sum(dlist) == np.ceil(sum([dcj_dist(b,c)[-1], dcj_dist(a,c)[-1], dcj_dist(a,b)[-1]])/2)"
   ]
  },
  {
   "cell_type": "code",
   "execution_count": 55,
   "id": "0a50badc-00fd-4ca4-9b15-d8d4a813d758",
   "metadata": {},
   "outputs": [],
   "source": [
    "def gene_mid(s, cand_seqs, mid_num = 3):\n",
    "    cnum = np.random.choice(k * step, mid_num, replace = False)\n",
    "    while not c_dcj(s, cand_seqs[cnum].squeeze()):\n",
    "        cnum = np.random.choice(k * step, 3, replace = False)\n",
    "    return cand_seqs[cnum]"
   ]
  },
  {
   "cell_type": "code",
   "execution_count": 56,
   "id": "47cca465-3c00-40fb-a529-14c67451e4a0",
   "metadata": {},
   "outputs": [],
   "source": [
    "l, n = 10, 3\n",
    "k, step = 10, 7\n",
    "mid_num = 3\n",
    "\n",
    "seq = gen_seqs(l, n)\n",
    "\n",
    "new_seq = np.zeros((n, k * step, 1, l))\n",
    "tmp_seq = np.expand_dims(seq, axis = 1) # n, 1, 1, l\n",
    "for i in range(step):\n",
    "    op, t = gen_op_mat(l, n*k, 2)\n",
    "    op = op.reshape(n, k, l, l) # n, k, l, l\n",
    "    tmp_seq = np.matmul(tmp_seq, op) # n, k, 1, l\n",
    "    new_seq[:, i * k:(i+1) * k] = tmp_seq"
   ]
  },
  {
   "cell_type": "code",
   "execution_count": 57,
   "id": "ec2de05e-9787-44e2-8206-8e72467f5247",
   "metadata": {
    "tags": []
   },
   "outputs": [],
   "source": [
    "with Pool(22) as p:\n",
    "    res = p.starmap(gene_mid, [(s[0], ns, mid_num) for s, ns in zip(seq, new_seq)])"
   ]
  },
  {
   "cell_type": "code",
   "execution_count": 58,
   "id": "47d18448-a693-4714-b983-1d57325d559f",
   "metadata": {},
   "outputs": [
    {
     "data": {
      "text/plain": [
       "(3, 3, 1, 10)"
      ]
     },
     "execution_count": 58,
     "metadata": {},
     "output_type": "execute_result"
    }
   ],
   "source": [
    "np.array(res).shape"
   ]
  },
  {
   "cell_type": "code",
   "execution_count": 59,
   "id": "6a8585e2-1e78-4422-b448-b2ed8bdea372",
   "metadata": {},
   "outputs": [],
   "source": [
    "tmp = np.zeros((n, mid_num, l))"
   ]
  },
  {
   "cell_type": "code",
   "execution_count": 60,
   "id": "09d15eaa-7ab8-4c3d-b735-4fc5ce2e7cf7",
   "metadata": {},
   "outputs": [],
   "source": [
    "tmp = np.array(res).squeeze()"
   ]
  },
  {
   "cell_type": "code",
   "execution_count": 61,
   "id": "73b19919-1f56-43c1-bde8-2ba12cf307e1",
   "metadata": {},
   "outputs": [
    {
     "data": {
      "text/plain": [
       "array([[[  3.,  10.,   2.,   6.,  -1.,  -4.,   8.,   5.,   9.,  -7.],\n",
       "        [  1.,  -9.,  -5.,  -8.,   6.,  10.,  -3.,   7.,  -4.,  -2.],\n",
       "        [ -5.,  -8.,   6.,  -3.,   7.,  10.,  -9.,  -1.,  -4.,  -2.]],\n",
       "\n",
       "       [[  2.,  -1.,   3.,  -8.,   9.,   6.,   7., -10.,  -4.,  -5.],\n",
       "        [  2.,  -3.,  -1.,  -8.,   9.,   5.,   7., -10.,  -4.,  -6.],\n",
       "        [  2.,  -3.,  -5.,   8.,   1.,   9.,   4.,   6.,   7., -10.]],\n",
       "\n",
       "       [[ -2.,   7., -10.,  -5.,  -8.,   1.,   9.,  -4.,   3.,  -6.],\n",
       "        [ -2.,   7.,   6.,  -3.,   4.,   5., -10.,   9.,  -8.,   1.],\n",
       "        [  3.,  -6.,  -1.,  -7.,  -8.,  -9., -10.,  -5.,  -4.,   2.]]])"
      ]
     },
     "execution_count": 61,
     "metadata": {},
     "output_type": "execute_result"
    }
   ],
   "source": [
    "tmp"
   ]
  },
  {
   "cell_type": "code",
   "execution_count": null,
   "id": "c5b794af-cdef-4034-bdc3-67858cb539a0",
   "metadata": {},
   "outputs": [],
   "source": []
  },
  {
   "cell_type": "code",
   "execution_count": 6,
   "id": "2c32febd-592a-4378-9e09-41331308881a",
   "metadata": {},
   "outputs": [
    {
     "name": "stdout",
     "output_type": "stream",
     "text": [
      "Thu Dec 23 10:11:35 2021\n",
      "Thu Dec 23 10:11:36 2021\n"
     ]
    }
   ],
   "source": [
    "print(time.ctime())\n",
    "cnum_list = np.array([np.random.choice(k * step, 3, replace=False) for _ in range(2000)])\n",
    "with Pool(22) as p:\n",
    "    res = p.starmap(c_dcj, [(s, tmp[cnum].squeeze()) for cnum in cnum_list])\n",
    "print(time.ctime())"
   ]
  },
  {
   "cell_type": "code",
   "execution_count": 7,
   "id": "52ee068f-e2ab-459e-be4e-c214bb48bac9",
   "metadata": {},
   "outputs": [],
   "source": [
    "res_list = cnum_list[res]"
   ]
  },
  {
   "cell_type": "code",
   "execution_count": 8,
   "id": "984fba74-2489-4d8c-8850-024684a6f458",
   "metadata": {},
   "outputs": [],
   "source": [
    "mid_list = tmp[res_list]"
   ]
  },
  {
   "cell_type": "code",
   "execution_count": 9,
   "id": "aee2b357-32c6-4712-94fc-9869704ca28c",
   "metadata": {},
   "outputs": [
    {
     "data": {
      "text/plain": [
       "(637, 3, 1, 10)"
      ]
     },
     "execution_count": 9,
     "metadata": {},
     "output_type": "execute_result"
    }
   ],
   "source": [
    "mid_list.shape"
   ]
  },
  {
   "cell_type": "code",
   "execution_count": 10,
   "id": "a07a496a-7d69-49cc-8b1b-384f3107c797",
   "metadata": {},
   "outputs": [],
   "source": [
    "for m in mid_list:\n",
    "    assert c_dcj(s, m.squeeze())"
   ]
  },
  {
   "cell_type": "code",
   "execution_count": null,
   "id": "b20f2cd9-ec1a-4273-9f3c-e6797bfb5aa0",
   "metadata": {},
   "outputs": [],
   "source": []
  },
  {
   "cell_type": "code",
   "execution_count": 19,
   "id": "d189b526-97f6-4286-b015-9e58436d07df",
   "metadata": {},
   "outputs": [],
   "source": [
    "cnum_list = np.array([np.random.choice(k * step, (20, 3)) for _ in range(n)])"
   ]
  },
  {
   "cell_type": "code",
   "execution_count": 31,
   "id": "79ede03c-d8b3-45e8-996f-963b49a37a5c",
   "metadata": {},
   "outputs": [
    {
     "data": {
      "text/plain": [
       "array([[[ 2., -4.,  1.,  7.,  8., -5., -3.,  9.,  6., 10.]],\n",
       "\n",
       "       [[ 2., -7., -9.,  3.,  5., -8., -1.,  4.,  6., 10.]],\n",
       "\n",
       "       [[ 6., 10., -7.,  5., -3., -9.,  2., -1.,  4., -8.]]])"
      ]
     },
     "execution_count": 31,
     "metadata": {},
     "output_type": "execute_result"
    }
   ],
   "source": [
    "gene_mid(s, tmp)"
   ]
  },
  {
   "cell_type": "code",
   "execution_count": 40,
   "id": "3f5b6bea-df97-4065-a5ed-6428a7c5eefc",
   "metadata": {},
   "outputs": [
    {
     "data": {
      "text/plain": [
       "(3, 1, 1, 10)"
      ]
     },
     "execution_count": 40,
     "metadata": {},
     "output_type": "execute_result"
    }
   ],
   "source": [
    "seq.shape"
   ]
  },
  {
   "cell_type": "code",
   "execution_count": 43,
   "id": "868f6725-7b7f-43d2-8070-13684e1be86e",
   "metadata": {},
   "outputs": [
    {
     "data": {
      "text/plain": [
       "array([[[ -8,  -6,   7,  -5,   9,   4,   1,   2,  10,   3]],\n",
       "\n",
       "       [[  6,   8,   7,  -3,   5,   9,  -1,  10,   4,  -2]],\n",
       "\n",
       "       [[ -6,   2, -10,  -5,   4,   3,   1,  -9,   8,  -7]]], dtype=int32)"
      ]
     },
     "execution_count": 43,
     "metadata": {},
     "output_type": "execute_result"
    }
   ],
   "source": [
    "seq.squeeze(axis = 1)"
   ]
  },
  {
   "cell_type": "code",
   "execution_count": 39,
   "id": "6cb1d29b-c76f-4a2e-974a-ea3f137c6cda",
   "metadata": {},
   "outputs": [
    {
     "data": {
      "text/plain": [
       "(3, 700, 1, 10)"
      ]
     },
     "execution_count": 39,
     "metadata": {},
     "output_type": "execute_result"
    }
   ],
   "source": [
    "new_seq.shape"
   ]
  },
  {
   "cell_type": "code",
   "execution_count": 45,
   "id": "458ed55e-6421-4f95-9ad2-4bd49a7ace12",
   "metadata": {},
   "outputs": [
    {
     "data": {
      "text/plain": [
       "[array([[[ -8.,   4.,   1.,   2.,  -9.,   5.,  -7.,   6.,  10.,   3.]],\n",
       " \n",
       "        [[ -8., -10.,  -2.,  -1.,  -4.,  -9.,   5.,  -7.,   6.,   3.]],\n",
       " \n",
       "        [[  9.,   4.,  -2.,  -1.,  -3., -10.,  -8.,   5.,  -7.,  -6.]]]),\n",
       " array([[[ -8.,  -6.,   7., -10.,   1.,  -9.,  -5.,   3.,   4.,  -2.]],\n",
       " \n",
       "        [[  6.,   8.,   7.,  -3.,   5.,   9.,   2.,  -4., -10.,   1.]],\n",
       " \n",
       "        [[ -5.,   7.,   9.,  -8.,  -6.,  -1.,  10.,   4.,   3.,  -2.]]]),\n",
       " array([[[ -6.,   5.,  10.,  -2.,   4.,   3.,  -1.,  -9.,   8.,  -7.]],\n",
       " \n",
       "        [[ -6.,   2.,   7.,  -8.,   9.,  -1.,  -3.,  -4.,   5.,  10.]],\n",
       " \n",
       "        [[ -6.,   8.,   4.,   3.,   1.,  -9.,   2., -10.,  -5.,   7.]]])]"
      ]
     },
     "execution_count": 45,
     "metadata": {},
     "output_type": "execute_result"
    }
   ],
   "source": [
    "res"
   ]
  },
  {
   "cell_type": "code",
   "execution_count": 46,
   "id": "dc9e139b-75a0-4fd3-b274-5cdb78613035",
   "metadata": {},
   "outputs": [],
   "source": [
    "test = np.zeros((100, 10,10))"
   ]
  },
  {
   "cell_type": "code",
   "execution_count": 47,
   "id": "33f25d43-58f1-433f-95e3-16dd3f659f15",
   "metadata": {},
   "outputs": [
    {
     "data": {
      "text/plain": [
       "(100, 10, 10)"
      ]
     },
     "execution_count": 47,
     "metadata": {},
     "output_type": "execute_result"
    }
   ],
   "source": [
    "test.shape"
   ]
  },
  {
   "cell_type": "code",
   "execution_count": null,
   "id": "2808a051-8ed9-4280-8dd5-5c6f3e3d3afc",
   "metadata": {},
   "outputs": [],
   "source": []
  }
 ],
 "metadata": {
  "kernelspec": {
   "display_name": "Deep AI",
   "language": "python",
   "name": "dl"
  },
  "language_info": {
   "codemirror_mode": {
    "name": "ipython",
    "version": 3
   },
   "file_extension": ".py",
   "mimetype": "text/x-python",
   "name": "python",
   "nbconvert_exporter": "python",
   "pygments_lexer": "ipython3",
   "version": "3.7.11"
  }
 },
 "nbformat": 4,
 "nbformat_minor": 5
}
