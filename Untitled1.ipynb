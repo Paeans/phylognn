{
 "cells": [
  {
   "cell_type": "code",
   "execution_count": 1,
   "id": "8e777d9e-51fa-4f9a-9323-bbffb82ae3f3",
   "metadata": {},
   "outputs": [],
   "source": [
    "from gene_graph_dataset import G3MedianDataset"
   ]
  },
  {
   "cell_type": "code",
   "execution_count": 2,
   "id": "ab43cea4-7317-4158-822f-120913f146fd",
   "metadata": {},
   "outputs": [
    {
     "name": "stderr",
     "output_type": "stream",
     "text": [
      "Generating...\n",
      "Processing...\n",
      "Done!\n"
     ]
    }
   ],
   "source": [
    "dataset = G3MedianDataset('dataset_g3m_tmp', 10, 1, 1000)"
   ]
  },
  {
   "cell_type": "code",
   "execution_count": 3,
   "id": "3be16fb5-7707-4fb5-8573-e583a390cd5e",
   "metadata": {},
   "outputs": [],
   "source": [
    "import numpy as np"
   ]
  },
  {
   "cell_type": "code",
   "execution_count": 4,
   "id": "880707a6-4050-4b80-9a7d-a5c16f0b5de1",
   "metadata": {},
   "outputs": [],
   "source": [
    "from genome_file import encodeAdj"
   ]
  },
  {
   "cell_type": "code",
   "execution_count": 5,
   "id": "f5d3238d-3138-4779-9250-9ba40c73ef70",
   "metadata": {},
   "outputs": [
    {
     "data": {
      "text/plain": [
       "array([-1,  0,  1,  2,  3,  4,  5,  6,  7,  8,  9, -2], dtype=int32)"
      ]
     },
     "execution_count": 5,
     "metadata": {},
     "output_type": "execute_result"
    }
   ],
   "source": [
    "encodeAdj([1,2,3,4,5])"
   ]
  },
  {
   "cell_type": "code",
   "execution_count": 6,
   "id": "86ffd717-d2c7-4ede-9387-aa7d1101a073",
   "metadata": {},
   "outputs": [
    {
     "data": {
      "text/plain": [
       "9"
      ]
     },
     "execution_count": 6,
     "metadata": {},
     "output_type": "execute_result"
    }
   ],
   "source": [
    "np.max(encodeAdj([1,2,3,4,5]))"
   ]
  },
  {
   "cell_type": "code",
   "execution_count": 7,
   "id": "7662557d-239f-4b21-99c9-dd338e5168a0",
   "metadata": {},
   "outputs": [
    {
     "data": {
      "text/plain": [
       "G3MedianDataset(1000)"
      ]
     },
     "execution_count": 7,
     "metadata": {},
     "output_type": "execute_result"
    }
   ],
   "source": [
    "dataset"
   ]
  },
  {
   "cell_type": "code",
   "execution_count": 8,
   "id": "6713d7d4-2a8e-4610-8183-3214dcb0bd77",
   "metadata": {},
   "outputs": [],
   "source": [
    "d = dataset[100]"
   ]
  },
  {
   "cell_type": "code",
   "execution_count": 9,
   "id": "2b7cdf44-5d6f-4a4f-94c2-96f6d98a8049",
   "metadata": {},
   "outputs": [
    {
     "data": {
      "text/plain": [
       "Data(x=[20], edge_index=[2, 57], edge_attr=[57, 3], pos_edge_label_index=[2, 9], neg_edge_label_index=[2, 171], num_nodes=20)"
      ]
     },
     "execution_count": 9,
     "metadata": {},
     "output_type": "execute_result"
    }
   ],
   "source": [
    "d"
   ]
  },
  {
   "cell_type": "code",
   "execution_count": 10,
   "id": "e59b3870-89d6-45ed-a37e-e2c1bd488225",
   "metadata": {},
   "outputs": [
    {
     "data": {
      "text/plain": [
       "tensor([[ 1,  0,  2,  3,  4,  6,  7,  9, 17],\n",
       "        [13, 18,  8, 11, 15, 10, 14, 16, 19]])"
      ]
     },
     "execution_count": 10,
     "metadata": {},
     "output_type": "execute_result"
    }
   ],
   "source": [
    "d.pos_edge_label_index"
   ]
  },
  {
   "cell_type": "code",
   "execution_count": 11,
   "id": "59720163-df69-41e5-bb38-51de6dd3e236",
   "metadata": {},
   "outputs": [],
   "source": [
    "import torch"
   ]
  },
  {
   "cell_type": "code",
   "execution_count": 12,
   "id": "a79bf1b1-184d-4bc2-bdfd-66680de6b1a4",
   "metadata": {},
   "outputs": [],
   "source": [
    "s,t = torch.load('dataset_g3m_tmp_3_10_1_1000/raw/g3raw_10_1.pt')"
   ]
  },
  {
   "cell_type": "code",
   "execution_count": 13,
   "id": "51330f3f-012f-4177-a45a-217d8b1b5545",
   "metadata": {},
   "outputs": [
    {
     "data": {
      "text/plain": [
       "array([ -3,  -8,  -4,   6,  -2,   5,   9, -10,   1,  -7], dtype=int32)"
      ]
     },
     "execution_count": 13,
     "metadata": {},
     "output_type": "execute_result"
    }
   ],
   "source": [
    "t[100]"
   ]
  },
  {
   "cell_type": "code",
   "execution_count": 14,
   "id": "f7d40acc-d4ac-462f-bd6a-1655ee8d36cf",
   "metadata": {},
   "outputs": [
    {
     "data": {
      "text/plain": [
       "array([-1, 13, 12,  2,  3, 14, 15,  4,  5, 16, 17,  9,  8,  1,  0,  6,  7,\n",
       "       18, 19, 10, 11, -2], dtype=int32)"
      ]
     },
     "execution_count": 14,
     "metadata": {},
     "output_type": "execute_result"
    }
   ],
   "source": [
    "encodeAdj([-7,  2,  8,  3,  9, -5, -1,  4, 10,  6])"
   ]
  },
  {
   "cell_type": "code",
   "execution_count": 15,
   "id": "b4ea009a-902f-4322-a67f-64a943dfca8e",
   "metadata": {},
   "outputs": [
    {
     "data": {
      "text/plain": [
       "tensor([[ 5,  4, 15, 14,  7,  6, 10, 11,  3,  2,  1,  0, 18, 19, 17, 16,  9,  8,\n",
       "         13,  5,  4, 15, 14, 12, 13,  1,  0, 18, 19, 17, 16,  9,  8,  2,  3, 11,\n",
       "         10,  6,  5,  4, 15, 14,  7,  6,  1,  0, 18, 19, 17, 16,  9,  8,  2,  3,\n",
       "         11, 10, 13],\n",
       "        [ 4, 15, 14,  7,  6, 10, 11,  3,  2,  1,  0, 18, 19, 17, 16,  9,  8, 13,\n",
       "         12,  4, 15, 14, 12, 13,  1,  0, 18, 19, 17, 16,  9,  8,  2,  3, 11, 10,\n",
       "          6,  7,  4, 15, 14,  7,  6,  1,  0, 18, 19, 17, 16,  9,  8,  2,  3, 11,\n",
       "         10, 13, 12]])"
      ]
     },
     "execution_count": 15,
     "metadata": {},
     "output_type": "execute_result"
    }
   ],
   "source": [
    "d.edge_index"
   ]
  },
  {
   "cell_type": "code",
   "execution_count": 20,
   "id": "02e58039-6285-4e08-a0b6-e28b0eea13bc",
   "metadata": {},
   "outputs": [
    {
     "data": {
      "text/plain": [
       "100"
      ]
     },
     "execution_count": 20,
     "metadata": {},
     "output_type": "execute_result"
    }
   ],
   "source": [
    "torch.randperm(100).size(-1)"
   ]
  },
  {
   "cell_type": "code",
   "execution_count": null,
   "id": "90f1fad7-e7f4-4dbb-b91a-c2ab4b1a0816",
   "metadata": {},
   "outputs": [],
   "source": []
  }
 ],
 "metadata": {
  "kernelspec": {
   "display_name": "Deep AI",
   "language": "python",
   "name": "dl"
  },
  "language_info": {
   "codemirror_mode": {
    "name": "ipython",
    "version": 3
   },
   "file_extension": ".py",
   "mimetype": "text/x-python",
   "name": "python",
   "nbconvert_exporter": "python",
   "pygments_lexer": "ipython3",
   "version": "3.7.11"
  }
 },
 "nbformat": 4,
 "nbformat_minor": 5
}
