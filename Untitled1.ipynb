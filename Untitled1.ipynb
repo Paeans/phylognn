{
 "cells": [
  {
   "cell_type": "code",
   "execution_count": 1,
   "id": "ced383d9-4fe3-49a2-8ba0-539609759089",
   "metadata": {},
   "outputs": [],
   "source": [
    "import numpy as np\n",
    "import time\n",
    "\n",
    "from gene_mat import gen_seqs\n",
    "from gene_mat import gen_op_mat\n",
    "from dcj_comp import dcj_dist\n",
    "\n",
    "from multiprocessing import Pool"
   ]
  },
  {
   "cell_type": "code",
   "execution_count": 18,
   "id": "7c1f0a36-41bc-4c37-ad82-a44909c5ba65",
   "metadata": {},
   "outputs": [],
   "source": [
    "def mid_dcj(s, p):\n",
    "    dlist = [dcj_dist(s, x)[-1] for x in p]\n",
    "    cand_len = len(p)\n",
    "    dists = [dcj_dist(p[i], p[j])[-1] for i in range(cand_len) for j in range(i + 1, cand_len)]\n",
    "    # a, b, c = p\n",
    "    return sum(dlist) == np.ceil(sum(dists)/2)"
   ]
  },
  {
   "cell_type": "code",
   "execution_count": 19,
   "id": "0a50badc-00fd-4ca4-9b15-d8d4a813d758",
   "metadata": {},
   "outputs": [],
   "source": [
    "def gene_mid(s, cand_seqs, mid_num = 3):\n",
    "    cand_len = len(cand_seqs)\n",
    "    cnum = np.random.choice(cand_len, mid_num, replace = False)\n",
    "    while not mid_dcj(s, cand_seqs[cnum].squeeze()):\n",
    "        cnum = np.random.choice(cand_len, mid_num, replace = False)\n",
    "    return cand_seqs[cnum]"
   ]
  },
  {
   "cell_type": "code",
   "execution_count": 20,
   "id": "89b4a22f-5910-456d-b6b4-a956ffd5f15c",
   "metadata": {},
   "outputs": [],
   "source": [
    "def gen_m3g_data(gene_len, graph_num, step, op_type, mid_num = 3, k = 10):\n",
    "    seq = gen_seqs(gene_len, graph_num)\n",
    "    \n",
    "    new_seq = np.zeros((graph_num, k * step, 1, gene_len)) # graph_num, k * step, 1, gene_len\n",
    "    tmp_seq = np.expand_dims(seq, axis = 1) # graph_num, 1, 1, gene_len\n",
    "    for i in range(step):\n",
    "        op = gen_op_mat(gene_len, graph_num * k, \n",
    "                        op_type)[0].reshape(graph_num, k, \n",
    "                                            gene_len, gene_len) # graph_num, k, gene_len, gene_len\n",
    "        tmp_seq = np.matmul(tmp_seq, op) # graph_num, k, 1, gene_len\n",
    "        new_seq[:, i * k:(i+1) * k] = tmp_seq\n",
    "        \n",
    "    with Pool(22) as p:\n",
    "        mid_seq = p.starmap(gene_mid, [(s[0], ns, mid_num) for s, ns in zip(seq, new_seq)])\n",
    "        # graph_num, mid_num, 1, gene_len\n",
    "        \n",
    "    return np.array(mid_seq).squeeze(axis = -2), seq"
   ]
  },
  {
   "cell_type": "code",
   "execution_count": 30,
   "id": "2e6f81ff-47a9-4608-8db0-6ad4a9da22f8",
   "metadata": {},
   "outputs": [],
   "source": [
    "m_seq, t_seq = gen_m3g_data(10, 1000, 7, op_type = 2)"
   ]
  },
  {
   "cell_type": "code",
   "execution_count": 31,
   "id": "0ccdd355-79ef-4fdd-845d-bc63b092d7b1",
   "metadata": {},
   "outputs": [
    {
     "data": {
      "text/plain": [
       "(1000, 3, 10)"
      ]
     },
     "execution_count": 31,
     "metadata": {},
     "output_type": "execute_result"
    }
   ],
   "source": [
    "m_seq.shape"
   ]
  },
  {
   "cell_type": "code",
   "execution_count": 32,
   "id": "65dc4255-9ddb-4163-881a-70cb9d8c1101",
   "metadata": {},
   "outputs": [
    {
     "data": {
      "text/plain": [
       "(1000, 1, 10)"
      ]
     },
     "execution_count": 32,
     "metadata": {},
     "output_type": "execute_result"
    }
   ],
   "source": [
    "t_seq.shape"
   ]
  },
  {
   "cell_type": "code",
   "execution_count": 33,
   "id": "bcdb793b-0482-427f-a151-379a280e8b58",
   "metadata": {},
   "outputs": [],
   "source": [
    "for s, t in zip(t_seq, m_seq):\n",
    "    assert mid_dcj(s[0], t)"
   ]
  },
  {
   "cell_type": "code",
   "execution_count": null,
   "id": "43f2e225-761b-4555-a8dc-16d3eaf48861",
   "metadata": {},
   "outputs": [],
   "source": []
  }
 ],
 "metadata": {
  "kernelspec": {
   "display_name": "Deep AI",
   "language": "python",
   "name": "dl"
  },
  "language_info": {
   "codemirror_mode": {
    "name": "ipython",
    "version": 3
   },
   "file_extension": ".py",
   "mimetype": "text/x-python",
   "name": "python",
   "nbconvert_exporter": "python",
   "pygments_lexer": "ipython3",
   "version": "3.7.11"
  }
 },
 "nbformat": 4,
 "nbformat_minor": 5
}
