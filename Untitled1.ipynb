{
 "cells": [
  {
   "cell_type": "code",
   "execution_count": 1,
   "id": "ced383d9-4fe3-49a2-8ba0-539609759089",
   "metadata": {},
   "outputs": [],
   "source": [
    "import numpy as np\n",
    "import time\n",
    "\n",
    "from gene_mat import gen_seqs\n",
    "from gene_mat import gen_op_mat\n",
    "from dcj_comp import dcj_dist\n",
    "\n",
    "from multiprocessing import Pool"
   ]
  },
  {
   "cell_type": "code",
   "execution_count": 2,
   "id": "47cca465-3c00-40fb-a529-14c67451e4a0",
   "metadata": {},
   "outputs": [],
   "source": [
    "l, n = 10, 3\n",
    "k = 100\n",
    "step = 7\n",
    "seq = gen_seqs(l, n)\n",
    "seq = np.expand_dims(seq, axis = 1) # n, 1, 1, l\n",
    "\n",
    "new_seq = np.zeros((n, k * step, 1, l))\n",
    "tmp_seq = seq[:]\n",
    "for i in range(step):\n",
    "    op, t = gen_op_mat(l, n*k, 2)\n",
    "    op = op.reshape(n, k, l, l) # n, k, l, l\n",
    "    tmp_seq = np.matmul(tmp_seq, op) # n, k, 1, l\n",
    "    new_seq[:, i * k:(i+1) * k] = tmp_seq"
   ]
  },
  {
   "cell_type": "code",
   "execution_count": 3,
   "id": "705425be-ff43-4cfc-ba54-c518a9952a68",
   "metadata": {},
   "outputs": [],
   "source": [
    "tmp = new_seq[0]"
   ]
  },
  {
   "cell_type": "code",
   "execution_count": 4,
   "id": "2bec2b4e-7a14-468b-8cf9-a30b9b0850d1",
   "metadata": {},
   "outputs": [],
   "source": [
    "s = seq[0,0,0]"
   ]
  },
  {
   "cell_type": "code",
   "execution_count": 5,
   "id": "7c1f0a36-41bc-4c37-ad82-a44909c5ba65",
   "metadata": {},
   "outputs": [],
   "source": [
    "def c_dcj(s, p):\n",
    "    dlist = [dcj_dist(s, x)[-1] for x in p]\n",
    "    a, b, c = p\n",
    "    return sum(dlist) == np.ceil(sum([dcj_dist(b,c)[-1], dcj_dist(a,c)[-1], dcj_dist(a,b)[-1]])/2)"
   ]
  },
  {
   "cell_type": "code",
   "execution_count": 6,
   "id": "2c32febd-592a-4378-9e09-41331308881a",
   "metadata": {},
   "outputs": [
    {
     "name": "stdout",
     "output_type": "stream",
     "text": [
      "Thu Dec 23 10:11:35 2021\n",
      "Thu Dec 23 10:11:36 2021\n"
     ]
    }
   ],
   "source": [
    "print(time.ctime())\n",
    "cnum_list = np.array([np.random.choice(k * step, 3, replace=False) for _ in range(2000)])\n",
    "with Pool(22) as p:\n",
    "    res = p.starmap(c_dcj, [(s, tmp[cnum].squeeze()) for cnum in cnum_list])\n",
    "print(time.ctime())"
   ]
  },
  {
   "cell_type": "code",
   "execution_count": 7,
   "id": "52ee068f-e2ab-459e-be4e-c214bb48bac9",
   "metadata": {},
   "outputs": [],
   "source": [
    "res_list = cnum_list[res]"
   ]
  },
  {
   "cell_type": "code",
   "execution_count": 8,
   "id": "984fba74-2489-4d8c-8850-024684a6f458",
   "metadata": {},
   "outputs": [],
   "source": [
    "mid_list = tmp[res_list]"
   ]
  },
  {
   "cell_type": "code",
   "execution_count": 9,
   "id": "aee2b357-32c6-4712-94fc-9869704ca28c",
   "metadata": {},
   "outputs": [
    {
     "data": {
      "text/plain": [
       "(637, 3, 1, 10)"
      ]
     },
     "execution_count": 9,
     "metadata": {},
     "output_type": "execute_result"
    }
   ],
   "source": [
    "mid_list.shape"
   ]
  },
  {
   "cell_type": "code",
   "execution_count": 10,
   "id": "a07a496a-7d69-49cc-8b1b-384f3107c797",
   "metadata": {},
   "outputs": [],
   "source": [
    "for m in mid_list:\n",
    "    assert c_dcj(s, m.squeeze())"
   ]
  },
  {
   "cell_type": "code",
   "execution_count": null,
   "id": "b20f2cd9-ec1a-4273-9f3c-e6797bfb5aa0",
   "metadata": {},
   "outputs": [],
   "source": []
  },
  {
   "cell_type": "code",
   "execution_count": null,
   "id": "33839e63-1844-4776-9db5-fe145ee2b755",
   "metadata": {},
   "outputs": [],
   "source": []
  }
 ],
 "metadata": {
  "kernelspec": {
   "display_name": "Deep AI",
   "language": "python",
   "name": "dl"
  },
  "language_info": {
   "codemirror_mode": {
    "name": "ipython",
    "version": 3
   },
   "file_extension": ".py",
   "mimetype": "text/x-python",
   "name": "python",
   "nbconvert_exporter": "python",
   "pygments_lexer": "ipython3",
   "version": "3.7.11"
  }
 },
 "nbformat": 4,
 "nbformat_minor": 5
}
