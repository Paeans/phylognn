{
 "cells": [
  {
   "cell_type": "code",
   "execution_count": 1,
   "id": "14417829-5aa6-4807-8749-79a80f089ade",
   "metadata": {},
   "outputs": [],
   "source": [
    "import numpy as np"
   ]
  },
  {
   "cell_type": "code",
   "execution_count": 53,
   "id": "398a2942-1143-4919-bfd7-ca4073a2692d",
   "metadata": {},
   "outputs": [],
   "source": [
    "tmp = np.array([range(1,11)])"
   ]
  },
  {
   "cell_type": "code",
   "execution_count": 54,
   "id": "522672eb-7198-4c8b-b7cd-0a9bf30ebce9",
   "metadata": {},
   "outputs": [
    {
     "data": {
      "text/plain": [
       "array([[ 1,  2,  3,  4,  5,  6,  7,  8,  9, 10]])"
      ]
     },
     "execution_count": 54,
     "metadata": {},
     "output_type": "execute_result"
    }
   ],
   "source": [
    "tmp"
   ]
  },
  {
   "cell_type": "code",
   "execution_count": 55,
   "id": "586dba6f-4a6e-4d68-96bf-4ae104adb121",
   "metadata": {},
   "outputs": [],
   "source": [
    "fac = np.zeros((10,10), dtype = np.int32)"
   ]
  },
  {
   "cell_type": "code",
   "execution_count": 56,
   "id": "a731c751-5b43-4285-83c3-381331ef1298",
   "metadata": {},
   "outputs": [],
   "source": [
    "np.fill_diagonal(fac, 1)"
   ]
  },
  {
   "cell_type": "code",
   "execution_count": 57,
   "id": "c93ca97a-f061-4c28-869a-7eeb79108736",
   "metadata": {},
   "outputs": [
    {
     "data": {
      "text/plain": [
       "(1, 10)"
      ]
     },
     "execution_count": 57,
     "metadata": {},
     "output_type": "execute_result"
    }
   ],
   "source": [
    "tmp.shape"
   ]
  },
  {
   "cell_type": "code",
   "execution_count": 58,
   "id": "d22a6164-b259-44dc-ba13-8adda13abe2b",
   "metadata": {},
   "outputs": [
    {
     "data": {
      "text/plain": [
       "(10, 1)"
      ]
     },
     "execution_count": 58,
     "metadata": {},
     "output_type": "execute_result"
    }
   ],
   "source": [
    "tmp.T.shape"
   ]
  },
  {
   "cell_type": "code",
   "execution_count": 59,
   "id": "137d31df-97bb-498e-8ffa-2c86af84087c",
   "metadata": {},
   "outputs": [
    {
     "data": {
      "text/plain": [
       "array([[ 1,  2,  3,  4,  5,  6,  7,  8,  9, 10]])"
      ]
     },
     "execution_count": 59,
     "metadata": {},
     "output_type": "execute_result"
    }
   ],
   "source": [
    "np.matmul(tmp, fac)"
   ]
  },
  {
   "cell_type": "code",
   "execution_count": 60,
   "id": "439e64a8-d867-427e-8e94-440eeb377936",
   "metadata": {},
   "outputs": [
    {
     "data": {
      "text/plain": [
       "array([[1, 0, 0, 0, 0, 0, 0, 0, 0, 0],\n",
       "       [0, 1, 0, 0, 0, 0, 0, 0, 0, 0],\n",
       "       [0, 0, 1, 0, 0, 0, 0, 0, 0, 0],\n",
       "       [0, 0, 0, 1, 0, 0, 0, 0, 0, 0],\n",
       "       [0, 0, 0, 0, 1, 0, 0, 0, 0, 0],\n",
       "       [0, 0, 0, 0, 0, 1, 0, 0, 0, 0],\n",
       "       [0, 0, 0, 0, 0, 0, 1, 0, 0, 0],\n",
       "       [0, 0, 0, 0, 0, 0, 0, 1, 0, 0],\n",
       "       [0, 0, 0, 0, 0, 0, 0, 0, 1, 0],\n",
       "       [0, 0, 0, 0, 0, 0, 0, 0, 0, 1]], dtype=int32)"
      ]
     },
     "execution_count": 60,
     "metadata": {},
     "output_type": "execute_result"
    }
   ],
   "source": [
    "fac"
   ]
  },
  {
   "cell_type": "code",
   "execution_count": 26,
   "id": "0fe5a82f-c167-42d3-a39b-7ae3e692c402",
   "metadata": {},
   "outputs": [
    {
     "data": {
      "text/plain": [
       "array([[0, 1],\n",
       "       [1, 0]], dtype=int32)"
      ]
     },
     "execution_count": 26,
     "metadata": {},
     "output_type": "execute_result"
    }
   ],
   "source": [
    "fac[3:5, 4:2:-1]"
   ]
  },
  {
   "cell_type": "code",
   "execution_count": 68,
   "id": "ec3f55b7-e90b-40aa-8ade-e22352b4066e",
   "metadata": {},
   "outputs": [],
   "source": [
    "fac[3,4] = 0"
   ]
  },
  {
   "cell_type": "code",
   "execution_count": 69,
   "id": "729f83cb-9ee3-466f-ab59-39095735b7aa",
   "metadata": {},
   "outputs": [],
   "source": [
    "fac[4,3] = 0"
   ]
  },
  {
   "cell_type": "code",
   "execution_count": 61,
   "id": "0bb38593-401f-4646-b742-d00d316b65de",
   "metadata": {},
   "outputs": [
    {
     "data": {
      "text/plain": [
       "array([[ 1,  2,  3,  4,  5,  6,  7,  8,  9, 10]])"
      ]
     },
     "execution_count": 61,
     "metadata": {},
     "output_type": "execute_result"
    }
   ],
   "source": [
    "np.matmul(tmp, fac)"
   ]
  },
  {
   "cell_type": "code",
   "execution_count": 70,
   "id": "62dec21e-a32b-411a-ace7-b0c4637add41",
   "metadata": {},
   "outputs": [],
   "source": [
    "fac[3,3] = 1"
   ]
  },
  {
   "cell_type": "code",
   "execution_count": 71,
   "id": "08620e29-d19c-460f-981c-e3e7571465db",
   "metadata": {},
   "outputs": [],
   "source": [
    "fac[4,4] = 1"
   ]
  },
  {
   "cell_type": "code",
   "execution_count": 72,
   "id": "5165f2b6-7bdc-4ee3-bd2e-563872bb7919",
   "metadata": {},
   "outputs": [
    {
     "data": {
      "text/plain": [
       "array([[1, 0, 0, 0, 0, 0, 0, 0, 0, 0],\n",
       "       [0, 1, 0, 0, 0, 0, 0, 0, 0, 0],\n",
       "       [0, 0, 1, 0, 0, 0, 0, 0, 0, 0],\n",
       "       [0, 0, 0, 1, 0, 0, 0, 0, 0, 0],\n",
       "       [0, 0, 0, 0, 1, 0, 0, 0, 0, 0],\n",
       "       [0, 0, 0, 0, 0, 1, 0, 0, 0, 0],\n",
       "       [0, 0, 0, 0, 0, 0, 1, 0, 0, 0],\n",
       "       [0, 0, 0, 0, 0, 0, 0, 1, 0, 0],\n",
       "       [0, 0, 0, 0, 0, 0, 0, 0, 1, 0],\n",
       "       [0, 0, 0, 0, 0, 0, 0, 0, 0, 1]], dtype=int32)"
      ]
     },
     "execution_count": 72,
     "metadata": {},
     "output_type": "execute_result"
    }
   ],
   "source": [
    "fac"
   ]
  },
  {
   "cell_type": "code",
   "execution_count": 73,
   "id": "95ce2ab2-97a3-45de-90dd-d0702ea48773",
   "metadata": {},
   "outputs": [],
   "source": [
    "fac[3,7] = 1\n",
    "fac[7,3] = 1"
   ]
  },
  {
   "cell_type": "code",
   "execution_count": 75,
   "id": "9222e6a9-8868-4d1b-b7af-c8512a6652dc",
   "metadata": {},
   "outputs": [],
   "source": [
    "fac[3,3] = 0\n",
    "fac[7,7] = 0"
   ]
  },
  {
   "cell_type": "code",
   "execution_count": 82,
   "id": "d21021cc-1353-4706-90bb-ccba3eb539e8",
   "metadata": {},
   "outputs": [],
   "source": [
    "fac[4,8]=1\n",
    "fac[8,3] = 1\n",
    "fac[4,4] = 0\n",
    "fac[8,8]=0\n",
    "fac[5,4] = fac[6,5] = fac[7,6] = 1\n",
    "fac[5,5] = fac[6,6] = fac[7,7] = 0"
   ]
  },
  {
   "cell_type": "code",
   "execution_count": 84,
   "id": "c2a1f0b8-b534-4575-8564-74132a6033bc",
   "metadata": {},
   "outputs": [],
   "source": [
    "fac[7,3] = 0"
   ]
  },
  {
   "cell_type": "code",
   "execution_count": 85,
   "id": "1e459d1c-37a0-4e10-8303-9957b1bf9950",
   "metadata": {},
   "outputs": [
    {
     "data": {
      "text/plain": [
       "array([[1, 0, 0, 0, 0, 0, 0, 0, 0, 0],\n",
       "       [0, 1, 0, 0, 0, 0, 0, 0, 0, 0],\n",
       "       [0, 0, 1, 0, 0, 0, 0, 0, 0, 0],\n",
       "       [0, 0, 0, 0, 0, 0, 0, 1, 0, 0],\n",
       "       [0, 0, 0, 0, 0, 0, 0, 0, 1, 0],\n",
       "       [0, 0, 0, 0, 1, 0, 0, 0, 0, 0],\n",
       "       [0, 0, 0, 0, 0, 1, 0, 0, 0, 0],\n",
       "       [0, 0, 0, 0, 0, 0, 1, 0, 0, 0],\n",
       "       [0, 0, 0, 1, 0, 0, 0, 0, 0, 0],\n",
       "       [0, 0, 0, 0, 0, 0, 0, 0, 0, 1]], dtype=int32)"
      ]
     },
     "execution_count": 85,
     "metadata": {},
     "output_type": "execute_result"
    }
   ],
   "source": [
    "fac"
   ]
  },
  {
   "cell_type": "code",
   "execution_count": 86,
   "id": "125edb92-de18-4a3f-b57b-2400a90ff1e9",
   "metadata": {},
   "outputs": [
    {
     "data": {
      "text/plain": [
       "array([[ 1,  2,  3,  9,  6,  7,  8,  4,  5, 10]])"
      ]
     },
     "execution_count": 86,
     "metadata": {},
     "output_type": "execute_result"
    }
   ],
   "source": [
    "np.matmul(tmp, fac)"
   ]
  },
  {
   "cell_type": "code",
   "execution_count": 77,
   "id": "af0d2f9d-2ce2-42a6-acb4-7e5d7ee489ce",
   "metadata": {},
   "outputs": [
    {
     "data": {
      "text/plain": [
       "array([[ 1,  2,  3,  8,  5,  6,  7,  4,  9, 10]])"
      ]
     },
     "execution_count": 77,
     "metadata": {},
     "output_type": "execute_result"
    }
   ],
   "source": [
    "np.matmul(tmp, fac)"
   ]
  },
  {
   "cell_type": "code",
   "execution_count": 36,
   "id": "df446aeb-f43b-4840-a5e4-44839dd82948",
   "metadata": {},
   "outputs": [],
   "source": [
    "test = np.zeros((3,3), dtype = np.int32)"
   ]
  },
  {
   "cell_type": "code",
   "execution_count": 37,
   "id": "debbc8c3-5f3e-4748-8751-7ae7a871f486",
   "metadata": {},
   "outputs": [
    {
     "data": {
      "text/plain": [
       "array([[0, 0, 0],\n",
       "       [0, 0, 0],\n",
       "       [0, 0, 0]], dtype=int32)"
      ]
     },
     "execution_count": 37,
     "metadata": {},
     "output_type": "execute_result"
    }
   ],
   "source": [
    "test"
   ]
  },
  {
   "cell_type": "code",
   "execution_count": 39,
   "id": "7d7de8ed-cf9e-4a6d-b487-0092ba30a384",
   "metadata": {},
   "outputs": [],
   "source": [
    "np.fill_diagonal(test, 1)"
   ]
  },
  {
   "cell_type": "code",
   "execution_count": 40,
   "id": "0d2ebda7-f5d2-47ae-b249-0370e282eaf3",
   "metadata": {},
   "outputs": [
    {
     "data": {
      "text/plain": [
       "array([[1, 0, 0],\n",
       "       [0, 1, 0],\n",
       "       [0, 0, 1]], dtype=int32)"
      ]
     },
     "execution_count": 40,
     "metadata": {},
     "output_type": "execute_result"
    }
   ],
   "source": [
    "test"
   ]
  },
  {
   "cell_type": "code",
   "execution_count": 49,
   "id": "60b9204b-56d9-4e2d-81b6-109a00132a20",
   "metadata": {},
   "outputs": [],
   "source": [
    "tmp = np.array([[1,-1,-1]] * 3)"
   ]
  },
  {
   "cell_type": "code",
   "execution_count": 50,
   "id": "cea60433-2413-4b7c-be72-99c5ba63adf8",
   "metadata": {},
   "outputs": [
    {
     "data": {
      "text/plain": [
       "array([[ 1, -1, -1],\n",
       "       [ 1, -1, -1],\n",
       "       [ 1, -1, -1]])"
      ]
     },
     "execution_count": 50,
     "metadata": {},
     "output_type": "execute_result"
    }
   ],
   "source": [
    "tmp"
   ]
  },
  {
   "cell_type": "code",
   "execution_count": 51,
   "id": "047a9351-e408-4a34-aa16-d90023a3343a",
   "metadata": {},
   "outputs": [
    {
     "data": {
      "text/plain": [
       "array([[ 1, -1, -1],\n",
       "       [ 1, -1, -1],\n",
       "       [ 1, -1, -1]])"
      ]
     },
     "execution_count": 51,
     "metadata": {},
     "output_type": "execute_result"
    }
   ],
   "source": [
    "np.matmul(test, tmp)"
   ]
  },
  {
   "cell_type": "code",
   "execution_count": 87,
   "id": "8531042f-729a-4dfa-a4e8-02335de122d5",
   "metadata": {},
   "outputs": [],
   "source": [
    "test = np.array([[1,2,3]])\n",
    "mat = np.zeros((3,4), dtype = np.int32)"
   ]
  },
  {
   "cell_type": "code",
   "execution_count": 89,
   "id": "ef3b99d7-2971-4b55-bd3f-c5c56b423aa8",
   "metadata": {},
   "outputs": [],
   "source": [
    "np.fill_diagonal(mat, 1)\n",
    "mat[0,3] = 1"
   ]
  },
  {
   "cell_type": "code",
   "execution_count": 90,
   "id": "8379a9e1-8a6d-4ecb-99d2-7590d8b7b76b",
   "metadata": {},
   "outputs": [
    {
     "data": {
      "text/plain": [
       "array([[1, 2, 3, 1]])"
      ]
     },
     "execution_count": 90,
     "metadata": {},
     "output_type": "execute_result"
    }
   ],
   "source": [
    "np.matmul(test,mat)"
   ]
  },
  {
   "cell_type": "code",
   "execution_count": 91,
   "id": "3ec75412-8499-4ab4-9103-54241a3870d7",
   "metadata": {},
   "outputs": [
    {
     "data": {
      "text/plain": [
       "array([[1, 0, 0, 1],\n",
       "       [0, 1, 0, 0],\n",
       "       [0, 0, 1, 0]], dtype=int32)"
      ]
     },
     "execution_count": 91,
     "metadata": {},
     "output_type": "execute_result"
    }
   ],
   "source": [
    "mat"
   ]
  },
  {
   "cell_type": "code",
   "execution_count": 96,
   "id": "0b3cc702-c06b-465d-823d-0cb5da169a8e",
   "metadata": {},
   "outputs": [
    {
     "data": {
      "text/plain": [
       "array([[1, 3]])"
      ]
     },
     "execution_count": 96,
     "metadata": {},
     "output_type": "execute_result"
    }
   ],
   "source": [
    "np.matmul(test, mat[:, [0,2]])"
   ]
  },
  {
   "cell_type": "code",
   "execution_count": 99,
   "id": "d5c4403c-aefe-4b0e-8810-a36f49e46d0c",
   "metadata": {},
   "outputs": [
    {
     "data": {
      "text/plain": [
       "array([[1, 0, 0, 0, 0, 0, 0, 0, 0, 0],\n",
       "       [0, 1, 0, 0, 0, 0, 0, 0, 0, 0],\n",
       "       [0, 0, 1, 0, 0, 0, 0, 0, 0, 0],\n",
       "       [0, 0, 0, 1, 0, 0, 0, 0, 0, 0],\n",
       "       [0, 0, 0, 0, 1, 0, 0, 0, 0, 0],\n",
       "       [0, 0, 0, 0, 0, 1, 0, 0, 0, 0],\n",
       "       [0, 0, 0, 0, 0, 0, 1, 0, 0, 0],\n",
       "       [0, 0, 0, 0, 0, 0, 0, 1, 0, 0],\n",
       "       [0, 0, 0, 0, 0, 0, 0, 0, 1, 0],\n",
       "       [0, 0, 0, 0, 0, 0, 0, 0, 0, 1]])"
      ]
     },
     "execution_count": 99,
     "metadata": {},
     "output_type": "execute_result"
    }
   ],
   "source": [
    "np.diag([1] * 10)"
   ]
  },
  {
   "cell_type": "code",
   "execution_count": 100,
   "id": "6e1f564f-c090-43c3-bc9a-abdd55da04a3",
   "metadata": {},
   "outputs": [
    {
     "data": {
      "text/plain": [
       "array([3, 6, 9])"
      ]
     },
     "execution_count": 100,
     "metadata": {},
     "output_type": "execute_result"
    }
   ],
   "source": [
    "np.array([1,2,3]) * 3"
   ]
  },
  {
   "cell_type": "code",
   "execution_count": 109,
   "id": "ea1c3e33-d5b7-47d4-a8bb-0c173e9cf42d",
   "metadata": {},
   "outputs": [],
   "source": [
    "t = np.diag(np.repeat(1,10))"
   ]
  },
  {
   "cell_type": "code",
   "execution_count": 110,
   "id": "a802c4a1-0c34-485b-a8b9-8082524dd36d",
   "metadata": {},
   "outputs": [
    {
     "data": {
      "text/plain": [
       "array([[1, 0, 0, 0, 0, 0, 0, 0, 0, 0],\n",
       "       [0, 1, 0, 0, 0, 0, 0, 0, 0, 0],\n",
       "       [0, 0, 1, 0, 0, 0, 0, 0, 0, 0],\n",
       "       [0, 0, 0, 1, 0, 0, 0, 0, 0, 0],\n",
       "       [0, 0, 0, 0, 1, 0, 0, 0, 0, 0],\n",
       "       [0, 0, 0, 0, 0, 1, 0, 0, 0, 0],\n",
       "       [0, 0, 0, 0, 0, 0, 1, 0, 0, 0],\n",
       "       [0, 0, 0, 0, 0, 0, 0, 1, 0, 0],\n",
       "       [0, 0, 0, 0, 0, 0, 0, 0, 1, 0],\n",
       "       [0, 0, 0, 0, 0, 0, 0, 0, 0, 1]])"
      ]
     },
     "execution_count": 110,
     "metadata": {},
     "output_type": "execute_result"
    }
   ],
   "source": [
    "t"
   ]
  },
  {
   "cell_type": "code",
   "execution_count": 111,
   "id": "bc01af05-2a4e-4cea-9f9d-a81755ab3921",
   "metadata": {},
   "outputs": [],
   "source": [
    "t[:, 2:5] = t[:, 4:1:-1]"
   ]
  },
  {
   "cell_type": "code",
   "execution_count": 112,
   "id": "fe89c646-6a21-44a7-b714-7caea5eba594",
   "metadata": {},
   "outputs": [
    {
     "data": {
      "text/plain": [
       "array([[1, 0, 0, 0, 0, 0, 0, 0, 0, 0],\n",
       "       [0, 1, 0, 0, 0, 0, 0, 0, 0, 0],\n",
       "       [0, 0, 0, 0, 1, 0, 0, 0, 0, 0],\n",
       "       [0, 0, 0, 1, 0, 0, 0, 0, 0, 0],\n",
       "       [0, 0, 1, 0, 0, 0, 0, 0, 0, 0],\n",
       "       [0, 0, 0, 0, 0, 1, 0, 0, 0, 0],\n",
       "       [0, 0, 0, 0, 0, 0, 1, 0, 0, 0],\n",
       "       [0, 0, 0, 0, 0, 0, 0, 1, 0, 0],\n",
       "       [0, 0, 0, 0, 0, 0, 0, 0, 1, 0],\n",
       "       [0, 0, 0, 0, 0, 0, 0, 0, 0, 1]])"
      ]
     },
     "execution_count": 112,
     "metadata": {},
     "output_type": "execute_result"
    }
   ],
   "source": [
    "t"
   ]
  },
  {
   "cell_type": "code",
   "execution_count": 121,
   "id": "f36f9815-8d8d-46c4-ba43-30d45f99eea1",
   "metadata": {},
   "outputs": [],
   "source": [
    "def revs(size, p1, p2):\n",
    "    if p1 > p2:\n",
    "        p1, p2 = p2, p1\n",
    "    res = np.diag(np.repeat(1,size))\n",
    "    res[:, p1:p2] = np.fliplr(res[:, p1:p2]) * -1\n",
    "    return res"
   ]
  },
  {
   "cell_type": "code",
   "execution_count": 122,
   "id": "d0154ce2-bdf9-4182-aad0-7319dd807b90",
   "metadata": {},
   "outputs": [],
   "source": [
    "fac = revs(10, 0,10)"
   ]
  },
  {
   "cell_type": "code",
   "execution_count": 123,
   "id": "fdb049aa-203e-47ca-8768-d68da765cd45",
   "metadata": {},
   "outputs": [
    {
     "data": {
      "text/plain": [
       "array([[ 1,  2,  3,  4,  5,  6,  7,  8,  9, 10]])"
      ]
     },
     "execution_count": 123,
     "metadata": {},
     "output_type": "execute_result"
    }
   ],
   "source": [
    "tmp"
   ]
  },
  {
   "cell_type": "code",
   "execution_count": 124,
   "id": "07acb4f0-3948-46af-9f78-45dcb4dd45cf",
   "metadata": {},
   "outputs": [
    {
     "data": {
      "text/plain": [
       "array([[-10,  -9,  -8,  -7,  -6,  -5,  -4,  -3,  -2,  -1]])"
      ]
     },
     "execution_count": 124,
     "metadata": {},
     "output_type": "execute_result"
    }
   ],
   "source": [
    "np.matmul(tmp, fac)"
   ]
  },
  {
   "cell_type": "code",
   "execution_count": 128,
   "id": "652a56cc-6882-4757-a36f-35af0d954844",
   "metadata": {},
   "outputs": [
    {
     "name": "stdout",
     "output_type": "stream",
     "text": [
      "[[ 1  2 -6 -5 -4 -3  7  8  9 10]]\n",
      "[[ 1  2 -6 -5 -7  3  4  8  9 10]]\n",
      "[[ 1 -3  7  5  6 -2  4  8  9 10]]\n",
      "[[ 1 -3 -8 -4  2 -6 -5 -7  9 10]]\n",
      "[[  1  -3 -10  -9   7   5   6  -2   4   8]]\n",
      "[[  1  -3 -10   2  -6  -5  -7   9   4   8]]\n",
      "[[  1  -3 -10   2  -6  -5  -7   9  -4   8]]\n",
      "[[  3  -1 -10   2  -6  -5  -7   9  -4   8]]\n",
      "[[  3  -1 -10   5   6  -2  -7   9  -4   8]]\n",
      "[[ 3 -1  2 -6 -5 10 -7  9 -4  8]]\n",
      "[[  7 -10   5   6  -2   1  -3   9  -4   8]]\n",
      "[[  7 -10   5   2  -6   1  -3   9  -4   8]]\n",
      "[[ 7 -9  3 -1  6 -2 -5 10 -4  8]]\n",
      "[[  7  -9   3  -1   6  -2   4 -10   5   8]]\n",
      "[[  7  -9   3   1   6  -2   4 -10   5   8]]\n",
      "[[  2  -6  -1  -3   9  -7   4 -10   5   8]]\n",
      "[[  3   1   6  -2   9  -7   4 -10   5   8]]\n",
      "[[-8 -5 10 -4  7 -9  2 -6 -1 -3]]\n",
      "[[ -8   1   6  -2   9  -7   4 -10   5  -3]]\n",
      "[[ -8   1   2  -6   9  -7   4 -10   5  -3]]\n",
      "[[-8 -5 10 -4  7 -9  6 -2 -1 -3]]\n",
      "[[ -7   4 -10   5   8  -9   6  -2  -1  -3]]\n",
      "[[-7  4  9 -8 -5 10  6 -2 -1 -3]]\n",
      "[[-7  4  9 -8 -5 10  6 -2  1 -3]]\n",
      "[[-7  5  8 -9 -4 10  6 -2  1 -3]]\n",
      "[[-5  7  8 -9 -4 10  6 -2  1 -3]]\n",
      "[[ -5   3  -1   2  -6 -10   4   9  -8  -7]]\n",
      "[[-5  3 -9 -4 10  6 -2  1 -8 -7]]\n",
      "[[-5  3 -9 -4 10  6 -2  1  7  8]]\n",
      "[[-5  3 -9 -4 10  6 -2  1  7  8]]\n",
      "[[-5  3 -9 -4 10  6 -1  2  7  8]]\n",
      "[[-5  3 -9 -4 10  6  1  2  7  8]]\n",
      "[[-5  3 -9 -4 10  6  1 -7 -2  8]]\n",
      "[[-5  4  9 -3 10  6  1 -7 -2  8]]\n",
      "[[-5 -9 -4 -3 10  6  1 -7 -2  8]]\n",
      "[[ -5  -6 -10   3   4   9   1  -7  -2   8]]\n",
      "[[ -5  -6 -10   3   4   9  -1  -7  -2   8]]\n",
      "[[ -5  -6 -10  -9  -4  -3  -1  -7  -2   8]]\n",
      "[[ -5  -6 -10   7   1   3   4   9  -2   8]]\n",
      "[[-5 -6 10  7  1  3  4  9 -2  8]]\n",
      "[[ -5  -6 -10   7   1   3   4   9  -2   8]]\n",
      "[[-8  2 -9 -4 -3 -1 -7 10  6  5]]\n",
      "[[-8  7  1  3  4  9 -2 10  6  5]]\n",
      "[[-8  7 -3 -1  4  9 -2 10  6  5]]\n",
      "[[ -6 -10   2  -9  -4   1   3  -7   8   5]]\n",
      "[[-3 -1  4  9 -2 10  6 -7  8  5]]\n",
      "[[ -3  -1  -6 -10   2  -9  -4  -7   8   5]]\n",
      "[[ -3  -1  -6 -10   2  -9   4  -7   8   5]]\n",
      "[[ -3  -1  -6 -10   2  -9   4  -7   8   5]]\n",
      "[[-3 -1 -6  7 -4  9 -2 10  8  5]]\n",
      "[[-3  1 -6  7 -4  9 -2 10  8  5]]\n",
      "[[-3  1 -6  7 -4  9 -2 10  8  5]]\n",
      "[[-3  1  4 -7  6  9 -2 10  8  5]]\n",
      "[[-10   2  -9  -6   7  -4  -1   3   8   5]]\n",
      "[[-10   2  -9  -6   7  -4  -5  -8  -3   1]]\n",
      "[[-10   2  -9  -6   7  -4  -5  -8   3   1]]\n",
      "[[-10   2   9  -6   7  -4  -5  -8   3   1]]\n",
      "[[-10   2   9  -6   8   5   4  -7   3   1]]\n",
      "[[-10   2   9   7  -4  -5  -8   6   3   1]]\n",
      "[[-10   2   9   7  -4  -5  -8   6   3   1]]\n",
      "[[-10   2   9   7  -4  -5  -8   6   3   1]]\n",
      "[[-10   2   9   7  -4  -5  -8  -3  -6   1]]\n",
      "[[-10   2   9   7  -1   6   3   8   5   4]]\n",
      "[[-3 -6  1 -7 -9 -2 10  8  5  4]]\n",
      "[[ -3  -8 -10   2   9   7  -1   6   5   4]]\n",
      "[[10  8  3  2  9  7 -1  6  5  4]]\n",
      "[[10  8  3  2 -9  7 -1  6  5  4]]\n",
      "[[10  8  3  2 -9  7 -1  6 -5  4]]\n",
      "[[  9  -2  -3  -8 -10   7  -1   6  -5   4]]\n",
      "[[ 9 -2 -3 -4  5 -6  1 -7 10  8]]\n",
      "[[ 9  6 -5  4  3  2  1 -7 10  8]]\n",
      "[[ 9 -1 -2 -3 -4  5 -6 -7 10  8]]\n",
      "[[ 9 -1 -2  6 -5  4  3 -7 10  8]]\n",
      "[[ 9  5 -6  2  1  4  3 -7 10  8]]\n",
      "[[ 9  5  6  2  1  4  3 -7 10  8]]\n",
      "[[ 9 -3 -4 -1 -2 -6 -5 -7 10  8]]\n",
      "[[ 9 -3 -4  2  1 -6 -5 -7 10  8]]\n",
      "[[ 9  6 -1 -2  4  3 -5 -7 10  8]]\n",
      "[[ 9  6 -1  7  5 -3 -4  2 10  8]]\n",
      "[[ 9  6 -1  7  5 -3 -2  4 10  8]]\n",
      "[[  9   6 -10  -4   2   3  -5  -7   1   8]]\n",
      "[[  9   6 -10  -4   2   3  -5  -7   1   8]]\n",
      "[[  9   6 -10  -4  -1   7   5  -3  -2   8]]\n",
      "[[  9   6 -10  -4  -1  -8   2   3  -5  -7]]\n",
      "[[ 9  7  5 -3 -2  8  1  4 10 -6]]\n",
      "[[ 9 -1 -8  2  3 -5 -7  4 10 -6]]\n",
      "[[ 9  8  1  2  3 -5 -7  4 10 -6]]\n",
      "[[ 9  8  1 -4  7  5 -3 -2 10 -6]]\n",
      "[[ 9 -7  4 -1 -8  5 -3 -2 10 -6]]\n",
      "[[ 9 -7  4 -1 -8  3 -5 -2 10 -6]]\n",
      "[[  9  -7   4  -1  -8   6 -10   2   5  -3]]\n",
      "[[ 9 -7  3 -5 -2 10 -6  8  1 -4]]\n",
      "[[  9 -10   2   5  -3   7  -6   8   1  -4]]\n",
      "[[ 3 -5 -2 10 -9  7 -6  8  1 -4]]\n",
      "[[  3  -1  -8   6  -7   9 -10   2   5  -4]]\n",
      "[[ 3 -5 -2 10 -9  7 -6  8  1 -4]]\n",
      "[[  4  -1  -8   6  -7   9 -10   2   5  -3]]\n",
      "[[ 4 -1 -8  6 -7  9 -5 -2 10 -3]]\n",
      "[[ 4  7 -6  8  1  9 -5 -2 10 -3]]\n",
      "[[  4   7  -6   8 -10   2   5  -9  -1  -3]]\n"
     ]
    }
   ],
   "source": [
    "import random\n",
    "for _ in range(100):\n",
    "    p1 = random.randint(0,10)\n",
    "    p2 = random.randint(0,10)\n",
    "    tmp = np.matmul(tmp, revs(10, p1, p2))\n",
    "    print(tmp)"
   ]
  },
  {
   "cell_type": "code",
   "execution_count": 135,
   "id": "04ec660d-b0fb-4b57-b179-dd0761e5ab74",
   "metadata": {},
   "outputs": [],
   "source": [
    "def circle(size, p1, p2):\n",
    "    if p1 > p2:\n",
    "        p1, p2 = p2, p1\n",
    "    res = np.diag(np.repeat(1,size))\n",
    "    return res[:, np.r_[0:p1, p2:size]], res[:,np.r_[p1:p2, p1]]"
   ]
  },
  {
   "cell_type": "code",
   "execution_count": 136,
   "id": "2ffe7d14-e8a0-4654-bae6-49c0e610a020",
   "metadata": {},
   "outputs": [
    {
     "data": {
      "text/plain": [
       "array([3, 4, 5, 6, 0, 1, 2])"
      ]
     },
     "execution_count": 136,
     "metadata": {},
     "output_type": "execute_result"
    }
   ],
   "source": [
    "np.r_[3:7, 3:]"
   ]
  },
  {
   "cell_type": "code",
   "execution_count": 137,
   "id": "7e57f9af-12c1-45b8-a14b-e2fec51e4ef6",
   "metadata": {},
   "outputs": [
    {
     "data": {
      "text/plain": [
       "array([[ 1,  2,  3,  7,  8,  9, 10]])"
      ]
     },
     "execution_count": 137,
     "metadata": {},
     "output_type": "execute_result"
    }
   ],
   "source": [
    "tmp = np.array([range(1,11)])\n",
    "l,c = circle(10, 3,6)\n",
    "np.matmul(tmp, l)"
   ]
  },
  {
   "cell_type": "code",
   "execution_count": 138,
   "id": "0a1f4081-21a1-4506-b2eb-174696cfe24c",
   "metadata": {},
   "outputs": [
    {
     "data": {
      "text/plain": [
       "array([[4, 5, 6, 4]])"
      ]
     },
     "execution_count": 138,
     "metadata": {},
     "output_type": "execute_result"
    }
   ],
   "source": [
    "np.matmul(tmp, c)"
   ]
  },
  {
   "cell_type": "code",
   "execution_count": 141,
   "id": "d119d3b4-93c2-4fa8-a725-087bd11593fe",
   "metadata": {},
   "outputs": [
    {
     "data": {
      "text/plain": [
       "(10, 10)"
      ]
     },
     "execution_count": 141,
     "metadata": {},
     "output_type": "execute_result"
    }
   ],
   "source": [
    "fac.shape"
   ]
  },
  {
   "cell_type": "code",
   "execution_count": 142,
   "id": "a5ff9a94-c632-4cc0-bbaa-b7ccff5c1e1d",
   "metadata": {},
   "outputs": [
    {
     "data": {
      "text/plain": [
       "(10, 7)"
      ]
     },
     "execution_count": 142,
     "metadata": {},
     "output_type": "execute_result"
    }
   ],
   "source": [
    "l.shape"
   ]
  },
  {
   "cell_type": "code",
   "execution_count": 143,
   "id": "cc936b5f-ab1d-4b23-ad7c-454e75f7148f",
   "metadata": {},
   "outputs": [
    {
     "data": {
      "text/plain": [
       "(10, 4)"
      ]
     },
     "execution_count": 143,
     "metadata": {},
     "output_type": "execute_result"
    }
   ],
   "source": [
    "c.shape"
   ]
  },
  {
   "cell_type": "code",
   "execution_count": 146,
   "id": "ea672533-13c2-4e7c-aa19-1a8579311505",
   "metadata": {},
   "outputs": [],
   "source": [
    "def trans(size, p1, p2, p3, p4):\n",
    "    p1,p2,p3,p4 = sorted([p1,p2,p3,p4])\n",
    "    res = np.diag(np.repeat(1,size))\n",
    "    return res[:, np.r_[0:p1, p3:p4, p2:p3, p1:p2, p4:size]]"
   ]
  },
  {
   "cell_type": "code",
   "execution_count": 145,
   "id": "a3a0979c-3a5e-41b6-be06-2b4b2dc1c9f2",
   "metadata": {},
   "outputs": [
    {
     "data": {
      "text/plain": [
       "[1, 2, 3, 4]"
      ]
     },
     "execution_count": 145,
     "metadata": {},
     "output_type": "execute_result"
    }
   ],
   "source": [
    "sorted([1,3,2,4])"
   ]
  },
  {
   "cell_type": "code",
   "execution_count": 149,
   "id": "c7424263-1a3d-4746-9a75-3856b365c525",
   "metadata": {},
   "outputs": [
    {
     "data": {
      "text/plain": [
       "array([[ 1,  2,  3,  6,  7,  8,  9,  4,  5, 10]])"
      ]
     },
     "execution_count": 149,
     "metadata": {},
     "output_type": "execute_result"
    }
   ],
   "source": [
    "np.matmul(tmp, trans(10, 3, 5, 5, 9))"
   ]
  },
  {
   "cell_type": "code",
   "execution_count": 161,
   "id": "ad749b2f-3810-448d-912f-fd16371c6164",
   "metadata": {},
   "outputs": [],
   "source": [
    "import torch as th"
   ]
  },
  {
   "cell_type": "code",
   "execution_count": 162,
   "id": "7c38e9d7-e270-4aa6-977d-42be81dacc27",
   "metadata": {},
   "outputs": [],
   "source": [
    "device = th.device('cuda')"
   ]
  },
  {
   "cell_type": "code",
   "execution_count": 151,
   "id": "f3dcee9c-a8e6-463d-b8c5-252b4e687d31",
   "metadata": {},
   "outputs": [],
   "source": [
    "def trans_rev(size, p1, p2, p3, p4):\n",
    "    p1, p2, p3, p4 = sorted([p1, p2, p3, p4])\n",
    "    res = np.diag(np.repeat(1,size))\n",
    "    res = res[:, np.r_[0:p1, p3:p4, p2:p3, p1:p2, p4:size]]\n",
    "    end = p1 + p4 - p3 + p3 - p2\n",
    "    res[:, p1:end] = np.fliplr(res[:, p1:end]) * -1\n",
    "    return res"
   ]
  },
  {
   "cell_type": "code",
   "execution_count": 182,
   "id": "d677fe56-e360-44a9-9d12-085d92d944a7",
   "metadata": {},
   "outputs": [],
   "source": [
    "n = 200\n",
    "tmp = np.array([range(1,n + 1)])\n",
    "mat_list = []\n",
    "for _ in range(20):\n",
    "    p1,p2,p3,p4 = [random.randint(0,n) for _ in range(4)]\n",
    "    mat_list.append(trans_rev(n, p1, p2, p3, p4))\n",
    "tmp_tensor = th.tensor(tmp, dtype = th.float, device = device)\n",
    "mat_tensor = th.tensor(mat_list, dtype = th.float, device = device)\n",
    "test = th.matmul(tmp_tensor, mat_tensor)"
   ]
  },
  {
   "cell_type": "code",
   "execution_count": 183,
   "id": "ae76db2f-a8cd-45b3-b9d6-e053d641a9d4",
   "metadata": {},
   "outputs": [
    {
     "data": {
      "text/plain": [
       "tensor([[  1.,   2.,   3.,   4.,   5.,   6.,   7.,   8.,   9.,  10.,  11.,  12.,\n",
       "          13.,  14.,  15.,  16.,  17.,  18.,  19.,  20.,  21.,  22.,  23.,  24.,\n",
       "          25.,  26.,  27.,  28.,  29.,  30.,  31.,  32.,  33.,  34.,  35.,  36.,\n",
       "          37.,  38.,  39.,  40.,  41.,  42.,  43.,  44.,  45.,  46.,  47.,  48.,\n",
       "          49.,  50.,  51.,  52.,  53.,  54.,  55.,  56.,  57.,  58.,  59.,  60.,\n",
       "          61.,  62.,  63.,  64.,  65.,  66.,  67.,  68.,  69.,  70.,  71.,  72.,\n",
       "          73.,  74.,  75.,  76.,  77.,  78.,  79.,  80.,  81.,  82.,  83.,  84.,\n",
       "          85.,  86.,  87.,  88.,  89.,  90.,  91.,  92.,  93.,  94.,  95.,  96.,\n",
       "          97.,  98.,  99., 100., 101., 102., 103., 104., 105., 106., 107., 108.,\n",
       "         109., 110., 111., 112., 113., 114., 115., 116., 117., 118., 119., 120.,\n",
       "         121., 122., 123., 124., 125., 126., 127., 128., 129., 130., 131., 132.,\n",
       "         133., 134., 135., 136., 137., 138., 139., 140., 141., 142., 143., 144.,\n",
       "         145., 146., 147., 148., 149., 150., 151., 152., 153., 154., 155., 156.,\n",
       "         157., 158., 159., 160., 161., 162., 163., 164., 165., 166., 167., 168.,\n",
       "         169., 170., 171., 172., 173., 174., 175., 176., 177., 178., 179., 180.,\n",
       "         181., 182., 183., 184., 185., 186., 187., 188., 189., 190., 191., 192.,\n",
       "         193., 194., 195., 196., 197., 198., 199., 200.]], device='cuda:0')"
      ]
     },
     "execution_count": 183,
     "metadata": {},
     "output_type": "execute_result"
    }
   ],
   "source": [
    "tmp_tensor"
   ]
  },
  {
   "cell_type": "code",
   "execution_count": 194,
   "id": "83e4fc71-b3ef-4f13-a7a3-351e7cdb4c61",
   "metadata": {
    "tags": []
   },
   "outputs": [
    {
     "name": "stdout",
     "output_type": "stream",
     "text": [
      "tensor([[   1.,    2.,    3.,    4.,    5.,    6.,    7.,    8.,    9.,   10.,\n",
      "           11.,   12.,   13.,   14.,   15.,   16.,   17.,   18.,   19.,   20.,\n",
      "           21.,   22.,   23.,   24.,   25.,   26.,   27.,   28.,   29.,   30.,\n",
      "           31.,   32.,   33.,   34.,   35.,   36.,   37.,   38.,   39.,   40.,\n",
      "           41.,   42.,   43.,   44.,   45.,   46.,   47.,   48.,   49.,   50.,\n",
      "           51.,   52.,   53.,   54.,   55.,   56.,   57.,   58.,   59.,   60.,\n",
      "           61.,   62.,   63.,   64.,   65.,   66.,   67.,   68.,   69.,   70.,\n",
      "           71.,   72.,   73.,   74.,   75.,   76.,   77.,   78.,   79.,   80.,\n",
      "           81.,   82.,   83.,   84.,   85.,   86.,   87.,   88.,   89.,   90.,\n",
      "           91.,   92.,   93.,   94.,   95.,   96.,   97.,   98.,   99., -106.,\n",
      "         -105., -104., -103., -122., -121., -120., -119., -118., -117., -116.,\n",
      "         -115., -114., -113., -112., -111., -110., -109., -108., -107.,  100.,\n",
      "          101.,  102.,  123.,  124.,  125.,  126.,  127.,  128.,  129.,  130.,\n",
      "          131.,  132.,  133.,  134.,  135.,  136.,  137.,  138.,  139.,  140.,\n",
      "          141.,  142.,  143.,  144.,  145.,  146.,  147.,  148.,  149.,  150.,\n",
      "          151.,  152.,  153.,  154.,  155.,  156.,  157.,  158.,  159.,  160.,\n",
      "          161.,  162.,  163.,  164.,  165.,  166.,  167.,  168.,  169.,  170.,\n",
      "          171.,  172.,  173.,  174.,  175.,  176.,  177.,  178.,  179.,  180.,\n",
      "          181.,  182.,  183.,  184.,  185.,  186.,  187.,  188.,  189.,  190.,\n",
      "          191.,  192.,  193.,  194.,  195.,  196.,  197.,  198.,  199.,  200.]],\n",
      "       device='cuda:0')\n",
      "tensor([[   1.,    2.,    3.,    4.,    5.,    6.,    7.,    8.,    9.,   10.,\n",
      "           11.,   12.,   13.,   14.,   15.,   16.,   17.,   18.,   19.,   20.,\n",
      "           21.,   22.,   23.,   24.,   25.,   26.,   27.,   28.,   29.,   30.,\n",
      "           31.,   32.,   33.,   34.,   35.,   36.,   37.,   38.,   39.,   40.,\n",
      "           41.,   42.,   43.,   44.,   45.,   46.,   47.,   48.,   49., -164.,\n",
      "         -163., -162., -161., -160., -159., -158., -157., -156., -155., -154.,\n",
      "         -153., -152., -151., -150., -149., -148., -147., -146., -145., -144.,\n",
      "         -143., -142., -141., -140., -139., -138., -137., -136., -135., -134.,\n",
      "         -133., -132., -131., -130., -129., -128., -127., -126., -125., -124.,\n",
      "         -123., -122., -121., -120., -119., -118., -117., -116., -115., -114.,\n",
      "         -113., -112., -111., -110., -109., -108., -172., -171., -170., -169.,\n",
      "         -168., -167., -166., -165.,   50.,   51.,   52.,   53.,   54.,   55.,\n",
      "           56.,   57.,   58.,   59.,   60.,   61.,   62.,   63.,   64.,   65.,\n",
      "           66.,   67.,   68.,   69.,   70.,   71.,   72.,   73.,   74.,   75.,\n",
      "           76.,   77.,   78.,   79.,   80.,   81.,   82.,   83.,   84.,   85.,\n",
      "           86.,   87.,   88.,   89.,   90.,   91.,   92.,   93.,   94.,   95.,\n",
      "           96.,   97.,   98.,   99.,  100.,  101.,  102.,  103.,  104.,  105.,\n",
      "          106.,  107.,  173.,  174.,  175.,  176.,  177.,  178.,  179.,  180.,\n",
      "          181.,  182.,  183.,  184.,  185.,  186.,  187.,  188.,  189.,  190.,\n",
      "          191.,  192.,  193.,  194.,  195.,  196.,  197.,  198.,  199.,  200.]],\n",
      "       device='cuda:0')\n",
      "tensor([[   1.,    2.,    3.,    4.,    5.,    6.,    7.,    8.,    9.,   10.,\n",
      "           11.,   12.,   13.,   14.,   15.,   16.,   17.,   18.,   19.,   20.,\n",
      "           21.,   22.,   23.,   24.,   25.,   26.,  -97.,  -96.,  -95.,  -94.,\n",
      "          -93.,  -92.,  -91.,  -90.,  -89.,  -88.,  -87.,  -86.,  -85.,  -84.,\n",
      "          -83.,  -82.,  -81.,  -80.,  -79.,  -78.,  -77.,  -76.,  -75.,  -74.,\n",
      "          -73.,  -72.,  -71.,  -70.,  -69.,  -68.,  -67.,  -66.,  -65.,  -64.,\n",
      "          -63.,  -62.,  -61.,  -60.,  -59.,  -58.,  -57.,  -56.,  -55.,  -54.,\n",
      "          -53.,  -52.,  -51.,  -50.,  -49.,  -48.,  -47.,  -46.,  -45.,  -44.,\n",
      "          -43.,  -42., -126., -125., -124., -123., -122., -121., -120., -119.,\n",
      "         -118., -117., -116., -115., -114., -113., -112., -111., -110., -109.,\n",
      "         -108., -107., -106., -105., -104., -103., -102., -101., -100.,  -99.,\n",
      "          -98.,   27.,   28.,   29.,   30.,   31.,   32.,   33.,   34.,   35.,\n",
      "           36.,   37.,   38.,   39.,   40.,   41.,  127.,  128.,  129.,  130.,\n",
      "          131.,  132.,  133.,  134.,  135.,  136.,  137.,  138.,  139.,  140.,\n",
      "          141.,  142.,  143.,  144.,  145.,  146.,  147.,  148.,  149.,  150.,\n",
      "          151.,  152.,  153.,  154.,  155.,  156.,  157.,  158.,  159.,  160.,\n",
      "          161.,  162.,  163.,  164.,  165.,  166.,  167.,  168.,  169.,  170.,\n",
      "          171.,  172.,  173.,  174.,  175.,  176.,  177.,  178.,  179.,  180.,\n",
      "          181.,  182.,  183.,  184.,  185.,  186.,  187.,  188.,  189.,  190.,\n",
      "          191.,  192.,  193.,  194.,  195.,  196.,  197.,  198.,  199.,  200.]],\n",
      "       device='cuda:0')\n"
     ]
    }
   ],
   "source": [
    "for x in test[:3]:\n",
    "    print(x)"
   ]
  },
  {
   "cell_type": "code",
   "execution_count": 192,
   "id": "87fbee0b-8234-47c3-9531-93236f762c1e",
   "metadata": {},
   "outputs": [],
   "source": [
    "res = th.matmul(test, mat_tensor)"
   ]
  },
  {
   "cell_type": "code",
   "execution_count": 195,
   "id": "162d20d4-b5d2-47e2-bcf4-69b04ed03d8c",
   "metadata": {},
   "outputs": [
    {
     "data": {
      "text/plain": [
       "tensor([[   1.,    2.,    3.,    4.,    5.,    6.,    7.,    8.,    9.,   10.,\n",
       "           11.,   12.,   13.,   14.,   15.,   16.,   17.,   18.,   19.,   20.,\n",
       "           21.,   22.,   23.,   24.,   25.,   26.,   27.,   28.,   29.,   30.,\n",
       "           31.,   32.,   33.,   34.,   35.,   36.,   37.,   38.,   39.,   40.,\n",
       "           41.,   42.,   43.,   44.,   45.,   46.,   47.,   48.,   49.,   50.,\n",
       "           51.,   52.,   53.,   54.,   55.,   56.,   57.,   58.,   59.,   60.,\n",
       "           61.,   62.,   63.,   64.,   65.,   66.,   67.,   68.,   69.,   70.,\n",
       "           71.,   72.,   73.,   74.,   75.,   76.,   77.,   78.,   79.,   80.,\n",
       "           81.,   82.,   83.,   84.,   85.,   86.,   87.,   88.,   89.,   90.,\n",
       "           91.,   92.,   93.,   94.,   95.,   96.,   97.,   98.,   99., -106.,\n",
       "         -105., -104., -103., -122., -121., -120., -119., -118., -117., -116.,\n",
       "         -115., -114., -113., -112., -111., -110., -109., -108., -107.,  100.,\n",
       "          101.,  102.,  123.,  124.,  125.,  126.,  127.,  128.,  129.,  130.,\n",
       "          131.,  132.,  133.,  134.,  135.,  136.,  137.,  138.,  139.,  140.,\n",
       "          141.,  142.,  143.,  144.,  145.,  146.,  147.,  148.,  149.,  150.,\n",
       "          151.,  152.,  153.,  154.,  155.,  156.,  157.,  158.,  159.,  160.,\n",
       "          161.,  162.,  163.,  164.,  165.,  166.,  167.,  168.,  169.,  170.,\n",
       "          171.,  172.,  173.,  174.,  175.,  176.,  177.,  178.,  179.,  180.,\n",
       "          181.,  182.,  183.,  184.,  185.,  186.,  187.,  188.,  189.,  190.,\n",
       "          191.,  192.,  193.,  194.,  195.,  196.,  197.,  198.,  199.,  200.]],\n",
       "       device='cuda:0')"
      ]
     },
     "execution_count": 195,
     "metadata": {},
     "output_type": "execute_result"
    }
   ],
   "source": [
    "test[0]"
   ]
  },
  {
   "cell_type": "code",
   "execution_count": 193,
   "id": "8d606a1c-7317-4198-a5a7-43e885b88008",
   "metadata": {},
   "outputs": [
    {
     "name": "stdout",
     "output_type": "stream",
     "text": [
      "tensor([[   1.,    2.,    3.,    4.,    5.,    6.,    7.,    8.,    9.,   10.,\n",
      "           11.,   12.,   13.,   14.,   15.,   16.,   17.,   18.,   19.,   20.,\n",
      "           21.,   22.,   23.,   24.,   25.,   26.,   27.,   28.,   29.,   30.,\n",
      "           31.,   32.,   33.,   34.,   35.,   36.,   37.,   38.,   39.,   40.,\n",
      "           41.,   42.,   43.,   44.,   45.,   46.,   47.,   48.,   49.,   50.,\n",
      "           51.,   52.,   53.,   54.,   55.,   56.,   57.,   58.,   59.,   60.,\n",
      "           61.,   62.,   63.,   64.,   65.,   66.,   67.,   68.,   69.,   70.,\n",
      "           71.,   72.,   73.,   74.,   75.,   76.,   77.,   78.,   79.,   80.,\n",
      "           81.,   82.,   83.,   84.,   85.,   86.,   87.,   88.,   89.,   90.,\n",
      "           91.,   92.,   93.,   94.,   95.,   96.,   97.,   98.,   99.,  120.,\n",
      "          121.,  122.,  103., -102., -101., -100.,  107.,  108.,  109.,  110.,\n",
      "          111.,  112.,  113.,  114.,  115.,  116.,  117.,  118.,  119., -106.,\n",
      "         -105., -104.,  123.,  124.,  125.,  126.,  127.,  128.,  129.,  130.,\n",
      "          131.,  132.,  133.,  134.,  135.,  136.,  137.,  138.,  139.,  140.,\n",
      "          141.,  142.,  143.,  144.,  145.,  146.,  147.,  148.,  149.,  150.,\n",
      "          151.,  152.,  153.,  154.,  155.,  156.,  157.,  158.,  159.,  160.,\n",
      "          161.,  162.,  163.,  164.,  165.,  166.,  167.,  168.,  169.,  170.,\n",
      "          171.,  172.,  173.,  174.,  175.,  176.,  177.,  178.,  179.,  180.,\n",
      "          181.,  182.,  183.,  184.,  185.,  186.,  187.,  188.,  189.,  190.,\n",
      "          191.,  192.,  193.,  194.,  195.,  196.,  197.,  198.,  199.,  200.]],\n",
      "       device='cuda:0')\n",
      "tensor([[   1.,    2.,    3.,    4.,    5.,    6.,    7.,    8.,    9.,   10.,\n",
      "           11.,   12.,   13.,   14.,   15.,   16.,   17.,   18.,   19.,   20.,\n",
      "           21.,   22.,   23.,   24.,   25.,   26.,   27.,   28.,   29.,   30.,\n",
      "           31.,   32.,   33.,   34.,   35.,   36.,   37.,   38.,   39.,   40.,\n",
      "           41.,   42.,   43.,   44.,   45.,   46.,   47.,   48.,   49.,  -99.,\n",
      "          -98.,  -97.,  -96.,  -95.,  -94.,  -93.,  -92.,  -91.,  -90.,  -89.,\n",
      "          -88.,  -87.,  -86.,  -85.,  -84.,  -83.,  -82.,  -81.,  -80.,  -79.,\n",
      "          -78.,  -77.,  -76.,  -75.,  -74.,  -73.,  -72.,  -71.,  -70.,  -69.,\n",
      "          -68.,  -67.,  -66.,  -65.,  -64.,  -63.,  -62.,  -61.,  -60.,  -59.,\n",
      "          -58.,  -57.,  -56.,  -55.,  -54.,  -53.,  -52.,  -51.,  -50.,  165.,\n",
      "          166.,  167.,  168.,  169.,  170.,  171., -107., -106., -105., -104.,\n",
      "         -103., -102., -101., -100., -164., -163., -162., -161., -160., -159.,\n",
      "         -158., -157., -156., -155., -154., -153., -152., -151., -150., -149.,\n",
      "         -148., -147., -146., -145., -144., -143., -142., -141., -140., -139.,\n",
      "         -138., -137., -136., -135., -134., -133., -132., -131., -130., -129.,\n",
      "         -128., -127., -126., -125., -124., -123., -122., -121., -120., -119.,\n",
      "         -118., -117., -116., -115., -114., -113., -112., -111., -110., -109.,\n",
      "         -108., -172.,  173.,  174.,  175.,  176.,  177.,  178.,  179.,  180.,\n",
      "          181.,  182.,  183.,  184.,  185.,  186.,  187.,  188.,  189.,  190.,\n",
      "          191.,  192.,  193.,  194.,  195.,  196.,  197.,  198.,  199.,  200.]],\n",
      "       device='cuda:0')\n",
      "tensor([[  1.,   2.,   3.,   4.,   5.,   6.,   7.,   8.,   9.,  10.,  11.,  12.,\n",
      "          13.,  14.,  15.,  16.,  17.,  18.,  19.,  20.,  21.,  22.,  23.,  24.,\n",
      "          25.,  26., 112., 113., 114., 115., 116., 117., 118., 119., 120., 121.,\n",
      "         122., 123., 124., 125., 126.,  42.,  43.,  44.,  45.,  46.,  47.,  48.,\n",
      "          49.,  50.,  51.,  52.,  53.,  54.,  55.,  56.,  57.,  58.,  59.,  60.,\n",
      "          61.,  62.,  63.,  64.,  65.,  66.,  67.,  68.,  69.,  70.,  71.,  72.,\n",
      "          73.,  74.,  75.,  76.,  77.,  78.,  79.,  80.,  81.,  82., -41., -40.,\n",
      "         -39., -38., -37., -36., -35., -34., -33., -32., -31., -30., -29., -28.,\n",
      "         -27.,  98.,  99., 100., 101., 102., 103., 104., 105., 106., 107., 108.,\n",
      "         109., 110., 111., -97., -96., -95., -94., -93., -92., -91., -90., -89.,\n",
      "         -88., -87., -86., -85., -84., -83., 127., 128., 129., 130., 131., 132.,\n",
      "         133., 134., 135., 136., 137., 138., 139., 140., 141., 142., 143., 144.,\n",
      "         145., 146., 147., 148., 149., 150., 151., 152., 153., 154., 155., 156.,\n",
      "         157., 158., 159., 160., 161., 162., 163., 164., 165., 166., 167., 168.,\n",
      "         169., 170., 171., 172., 173., 174., 175., 176., 177., 178., 179., 180.,\n",
      "         181., 182., 183., 184., 185., 186., 187., 188., 189., 190., 191., 192.,\n",
      "         193., 194., 195., 196., 197., 198., 199., 200.]], device='cuda:0')\n"
     ]
    }
   ],
   "source": [
    "for x in res[:3]:\n",
    "    print(x)"
   ]
  },
  {
   "cell_type": "code",
   "execution_count": 212,
   "id": "aed2c024-3f42-45bd-b3e1-3c7058f4db05",
   "metadata": {},
   "outputs": [],
   "source": [
    "n = 200\n",
    "tmp = np.array([range(1,n + 1)])\n",
    "mat_list = []\n",
    "for _ in range(20):\n",
    "    p1,p2,p3,p4 = [random.randint(0,n) for _ in range(4)]\n",
    "    mat_list.append(revs(n, p1, p2))\n",
    "tmp_tensor = th.tensor(tmp, dtype = th.float, device = device)\n",
    "mat_tensor = th.tensor(mat_list, dtype = th.float, device = device)\n",
    "test = th.matmul(tmp_tensor, mat_tensor)"
   ]
  },
  {
   "cell_type": "code",
   "execution_count": 213,
   "id": "3729aff1-08ba-4d86-b58b-c870afc08848",
   "metadata": {},
   "outputs": [
    {
     "data": {
      "text/plain": [
       "tensor([[   1., -139., -138., -137., -136., -135., -134., -133., -132., -131.,\n",
       "         -130., -129., -128., -127., -126., -125., -124., -123., -122., -121.,\n",
       "         -120., -119., -118., -117., -116., -115., -114., -113., -112., -111.,\n",
       "         -110., -109., -108., -107., -106., -105., -104., -103., -102., -101.,\n",
       "         -100.,  -99.,  -98.,  -97.,  -96.,  -95.,  -94.,  -93.,  -92.,  -91.,\n",
       "          -90.,  -89.,  -88.,  -87.,  -86.,  -85.,  -84.,  -83.,  -82.,  -81.,\n",
       "          -80.,  -79.,  -78.,  -77.,  -76.,  -75.,  -74.,  -73.,  -72.,  -71.,\n",
       "          -70.,  -69.,  -68.,  -67.,  -66.,  -65.,  -64.,  -63.,  -62.,  -61.,\n",
       "          -60.,  -59.,  -58.,  -57.,  -56.,  -55.,  -54.,  -53.,  -52.,  -51.,\n",
       "          -50.,  -49.,  -48.,  -47.,  -46.,  -45.,  -44.,  -43.,  -42.,  -41.,\n",
       "          -40.,  -39.,  -38.,  -37.,  -36.,  -35.,  -34.,  -33.,  -32.,  -31.,\n",
       "          -30.,  -29.,  -28.,  -27.,  -26.,  -25.,  -24.,  -23.,  -22.,  -21.,\n",
       "          -20.,  -19.,  -18.,  -17.,  -16.,  -15.,  -14.,  -13.,  -12.,  -11.,\n",
       "          -10.,   -9.,   -8.,   -7.,   -6.,   -5.,   -4.,   -3.,   -2.,  140.,\n",
       "          141.,  142.,  143.,  144.,  145.,  146.,  147.,  148.,  149.,  150.,\n",
       "          151.,  152.,  153.,  154.,  155.,  156.,  157.,  158.,  159.,  160.,\n",
       "          161.,  162.,  163.,  164.,  165.,  166.,  167.,  168.,  169.,  170.,\n",
       "          171.,  172.,  173.,  174.,  175.,  176.,  177.,  178.,  179.,  180.,\n",
       "          181.,  182.,  183.,  184.,  185.,  186.,  187.,  188.,  189.,  190.,\n",
       "          191.,  192.,  193.,  194.,  195.,  196.,  197.,  198.,  199.,  200.]],\n",
       "       device='cuda:0')"
      ]
     },
     "execution_count": 213,
     "metadata": {},
     "output_type": "execute_result"
    }
   ],
   "source": [
    "test[0]"
   ]
  },
  {
   "cell_type": "code",
   "execution_count": 214,
   "id": "dd4f3da2-4ace-4aeb-b43d-ba272347cb5f",
   "metadata": {},
   "outputs": [],
   "source": [
    "res = th.matmul(test, mat_tensor)"
   ]
  },
  {
   "cell_type": "code",
   "execution_count": 215,
   "id": "ff2abb4e-ddd3-4c8d-9a0f-7bee749b6341",
   "metadata": {},
   "outputs": [
    {
     "data": {
      "text/plain": [
       "tensor([[  1.,   2.,   3.,   4.,   5.,   6.,   7.,   8.,   9.,  10.,  11.,  12.,\n",
       "          13.,  14.,  15.,  16.,  17.,  18.,  19.,  20.,  21.,  22.,  23.,  24.,\n",
       "          25.,  26.,  27.,  28.,  29.,  30.,  31.,  32.,  33.,  34.,  35.,  36.,\n",
       "          37.,  38.,  39.,  40.,  41.,  42.,  43.,  44.,  45.,  46.,  47.,  48.,\n",
       "          49.,  50.,  51.,  52.,  53.,  54.,  55.,  56.,  57.,  58.,  59.,  60.,\n",
       "          61.,  62.,  63.,  64.,  65.,  66.,  67.,  68.,  69.,  70.,  71.,  72.,\n",
       "          73.,  74.,  75.,  76.,  77.,  78.,  79.,  80.,  81.,  82.,  83.,  84.,\n",
       "          85.,  86.,  87.,  88.,  89.,  90.,  91.,  92.,  93.,  94.,  95.,  96.,\n",
       "          97.,  98.,  99., 100., 101., 102., 103., 104., 105., 106., 107., 108.,\n",
       "         109., 110., 111., 112., 113., 114., 115., 116., 117., 118., 119., 120.,\n",
       "         121., 122., 123., 124., 125., 126., 127., 128., 129., 130., 131., 132.,\n",
       "         133., 134., 135., 136., 137., 138., 139., 140., 141., 142., 143., 144.,\n",
       "         145., 146., 147., 148., 149., 150., 151., 152., 153., 154., 155., 156.,\n",
       "         157., 158., 159., 160., 161., 162., 163., 164., 165., 166., 167., 168.,\n",
       "         169., 170., 171., 172., 173., 174., 175., 176., 177., 178., 179., 180.,\n",
       "         181., 182., 183., 184., 185., 186., 187., 188., 189., 190., 191., 192.,\n",
       "         193., 194., 195., 196., 197., 198., 199., 200.]], device='cuda:0')"
      ]
     },
     "execution_count": 215,
     "metadata": {},
     "output_type": "execute_result"
    }
   ],
   "source": [
    "res[16]"
   ]
  },
  {
   "cell_type": "code",
   "execution_count": 216,
   "id": "0ce86879-d880-4779-a9eb-333e669fea3a",
   "metadata": {},
   "outputs": [
    {
     "data": {
      "text/plain": [
       "torch.Size([20, 1, 200])"
      ]
     },
     "execution_count": 216,
     "metadata": {},
     "output_type": "execute_result"
    }
   ],
   "source": [
    "test.shape"
   ]
  },
  {
   "cell_type": "code",
   "execution_count": 217,
   "id": "f5f81c99-3609-4e23-9dc7-909088eb8cf7",
   "metadata": {},
   "outputs": [],
   "source": [
    "reshape_test = th.reshape(test, (-1, 1, 1, 200))"
   ]
  },
  {
   "cell_type": "code",
   "execution_count": 218,
   "id": "04a658d4-a5be-4fe4-9f71-61f3dea19d85",
   "metadata": {},
   "outputs": [
    {
     "data": {
      "text/plain": [
       "torch.Size([20, 1, 1, 200])"
      ]
     },
     "execution_count": 218,
     "metadata": {},
     "output_type": "execute_result"
    }
   ],
   "source": [
    "reshape_test.shape"
   ]
  },
  {
   "cell_type": "code",
   "execution_count": 219,
   "id": "70e16909-ce5b-42a3-8f12-c2ca8b8d7f93",
   "metadata": {},
   "outputs": [],
   "source": [
    "res = th.matmul(reshape_test, mat_tensor)"
   ]
  },
  {
   "cell_type": "code",
   "execution_count": 220,
   "id": "489bf25c-7737-45b0-84e1-7690b97b91d8",
   "metadata": {},
   "outputs": [
    {
     "data": {
      "text/plain": [
       "torch.Size([20, 20, 1, 200])"
      ]
     },
     "execution_count": 220,
     "metadata": {},
     "output_type": "execute_result"
    }
   ],
   "source": [
    "res.shape"
   ]
  },
  {
   "cell_type": "code",
   "execution_count": 229,
   "id": "7864d5d7-68d2-4228-8cd3-5160ddbde23e",
   "metadata": {},
   "outputs": [
    {
     "data": {
      "text/plain": [
       "tensor([[  1.,   2.,   3.,   4.,   5.,   6.,   7.,   8.,   9.,  10.,  11.,  12.,\n",
       "          13.,  14.,  15.,  16.,  17.,  18.,  19.,  20.,  21.,  22.,  23.,  24.,\n",
       "          25.,  26.,  27.,  28.,  29.,  30.,  31.,  32.,  33.,  34.,  35.,  36.,\n",
       "          37.,  38.,  39.,  40.,  41.,  42.,  43.,  44.,  45.,  46.,  47.,  48.,\n",
       "          49.,  50.,  51.,  52.,  53.,  54.,  55.,  56.,  57.,  58.,  59.,  60.,\n",
       "          61.,  62.,  63.,  64.,  65.,  66.,  67.,  68.,  69.,  70.,  71.,  72.,\n",
       "          73.,  74.,  75.,  76.,  77.,  78.,  79.,  80.,  81.,  82.,  83.,  84.,\n",
       "          85.,  86.,  87.,  88.,  89.,  90.,  91.,  92.,  93.,  94.,  95.,  96.,\n",
       "          97.,  98.,  99., 100., 101., 102., 103., 104., 105., 106., 107., 108.,\n",
       "         109., 110., 111., 112., 113., 114., 115., 116., 117., 118., 119., 120.,\n",
       "         121., 122., 123., 124., 125., 126., 127., 128., 129., 130., 131., 132.,\n",
       "         133., 134., 135., 136., 137., 138., 139., 140., 141., 142., 143., 144.,\n",
       "         145., 146., 147., 148., 149., 150., 151., 152., 153., 154., 155., 156.,\n",
       "         157., 158., 159., 160., 161., 162., 163., 164., 165., 166., 167., 168.,\n",
       "         169., 170., 171., 172., 173., 174., 175., 176., 177., 178., 179., 180.,\n",
       "         181., 182., 183., 184., 185., 186., 187., 188., 189., 190., 191., 192.,\n",
       "         193., 194., 195., 196., 197., 198., 199., 200.]], device='cuda:0')"
      ]
     },
     "execution_count": 229,
     "metadata": {},
     "output_type": "execute_result"
    }
   ],
   "source": [
    "res[1,1]"
   ]
  },
  {
   "cell_type": "code",
   "execution_count": 236,
   "id": "108a4bba-ce72-4146-9f87-e4b0cfb36384",
   "metadata": {},
   "outputs": [
    {
     "name": "stdout",
     "output_type": "stream",
     "text": [
      "torch.Size([400, 20, 1, 200])\n"
     ]
    },
    {
     "ename": "RuntimeError",
     "evalue": "CUDA out of memory. Tried to allocate 23.84 GiB (GPU 0; 11.92 GiB total capacity; 138.05 MiB already allocated; 8.70 GiB free; 328.00 MiB reserved in total by PyTorch)",
     "output_type": "error",
     "traceback": [
      "\u001b[0;31m---------------------------------------------------------------------------\u001b[0m",
      "\u001b[0;31mRuntimeError\u001b[0m                              Traceback (most recent call last)",
      "\u001b[0;32m/tmp/ipykernel_106113/2365024575.py\u001b[0m in \u001b[0;36m<module>\u001b[0;34m\u001b[0m\n\u001b[1;32m      1\u001b[0m \u001b[0;32mfor\u001b[0m \u001b[0m_\u001b[0m \u001b[0;32min\u001b[0m \u001b[0mrange\u001b[0m\u001b[0;34m(\u001b[0m\u001b[0;36m10\u001b[0m\u001b[0;34m)\u001b[0m\u001b[0;34m:\u001b[0m\u001b[0;34m\u001b[0m\u001b[0;34m\u001b[0m\u001b[0m\n\u001b[1;32m      2\u001b[0m     \u001b[0mx\u001b[0m \u001b[0;34m=\u001b[0m \u001b[0mth\u001b[0m\u001b[0;34m.\u001b[0m\u001b[0mreshape\u001b[0m\u001b[0;34m(\u001b[0m\u001b[0mres\u001b[0m\u001b[0;34m,\u001b[0m \u001b[0;34m(\u001b[0m\u001b[0;34m-\u001b[0m\u001b[0;36m1\u001b[0m\u001b[0;34m,\u001b[0m \u001b[0;36m1\u001b[0m\u001b[0;34m,\u001b[0m\u001b[0;36m1\u001b[0m\u001b[0;34m,\u001b[0m\u001b[0;36m200\u001b[0m\u001b[0;34m)\u001b[0m\u001b[0;34m)\u001b[0m\u001b[0;34m\u001b[0m\u001b[0;34m\u001b[0m\u001b[0m\n\u001b[0;32m----> 3\u001b[0;31m     \u001b[0mres\u001b[0m \u001b[0;34m=\u001b[0m \u001b[0mth\u001b[0m\u001b[0;34m.\u001b[0m\u001b[0mmatmul\u001b[0m\u001b[0;34m(\u001b[0m\u001b[0mx\u001b[0m\u001b[0;34m,\u001b[0m \u001b[0mmat_tensor\u001b[0m\u001b[0;34m)\u001b[0m\u001b[0;34m\u001b[0m\u001b[0;34m\u001b[0m\u001b[0m\n\u001b[0m\u001b[1;32m      4\u001b[0m     \u001b[0mprint\u001b[0m\u001b[0;34m(\u001b[0m\u001b[0mres\u001b[0m\u001b[0;34m.\u001b[0m\u001b[0mshape\u001b[0m\u001b[0;34m)\u001b[0m\u001b[0;34m\u001b[0m\u001b[0;34m\u001b[0m\u001b[0m\n",
      "\u001b[0;31mRuntimeError\u001b[0m: CUDA out of memory. Tried to allocate 23.84 GiB (GPU 0; 11.92 GiB total capacity; 138.05 MiB already allocated; 8.70 GiB free; 328.00 MiB reserved in total by PyTorch)"
     ]
    }
   ],
   "source": [
    "for i in range(10):\n",
    "    x = th.reshape(res, (-1, 1,1,200))\n",
    "    res = th.matmul(x, mat_tensor)\n",
    "    print(res.shape)"
   ]
  },
  {
   "cell_type": "code",
   "execution_count": 234,
   "id": "8778d250-3549-419a-b787-b85ae01bf5f3",
   "metadata": {},
   "outputs": [
    {
     "data": {
      "text/plain": [
       "tensor([[[  1.,   2.,   3.,   4.,   5.,   6.,   7.,   8.,   9.,  10.,  11.,\n",
       "           12.,  13.,  14.,  15.,  16.,  17.,  18.,  19.,  20.,  21.,  22.,\n",
       "           23.,  24.,  25.,  26.,  27.,  28.,  29.,  30.,  31.,  32.,  33.,\n",
       "           34.,  35.,  36.,  37.,  38.,  39.,  40.,  41.,  42.,  43.,  44.,\n",
       "           45.,  46.,  47.,  48.,  49.,  50.,  51.,  52.,  53.,  54.,  55.,\n",
       "           56.,  57.,  58.,  59.,  60.,  61.,  62.,  63.,  64.,  65.,  66.,\n",
       "           67.,  68.,  69.,  70.,  71.,  72.,  73.,  74.,  75.,  76.,  77.,\n",
       "           78.,  79.,  80.,  81.,  82.,  83.,  84.,  85.,  86.,  87.,  88.,\n",
       "           89.,  90.,  91.,  92.,  93.,  94.,  95.,  96.,  97.,  98.,  99.,\n",
       "          100., 101., 102., 103., 104., 105., 106., 107., 108., 109., 110.,\n",
       "          111., 112., 113., 114., 115., 116., 117., 118., 119., 120., 121.,\n",
       "          122., 123., 124., 125., 126., 127., 128., 129., 130., 131., 132.,\n",
       "          133., 134., 135., 136., 137., 138., 139., 140., 141., 142., 143.,\n",
       "          144., 145., 146., 147., 148., 149., 150., 151., 152., 153., 154.,\n",
       "          155., 156., 157., 158., 159., 160., 161., 162., 163., 164., 165.,\n",
       "          166., 167., 168., 169., 170., 171., 172., 173., 174., 175., 176.,\n",
       "          177., 178., 179., 180., 181., 182., 183., 184., 185., 186., 187.,\n",
       "          188., 189., 190., 191., 192., 193., 194., 195., 196., 197., 198.,\n",
       "          199., 200.]]], device='cuda:0')"
      ]
     },
     "execution_count": 234,
     "metadata": {},
     "output_type": "execute_result"
    }
   ],
   "source": [
    "x[42]"
   ]
  },
  {
   "cell_type": "code",
   "execution_count": 245,
   "id": "dd6c2935-0066-4f86-afd6-fb9f0252a503",
   "metadata": {},
   "outputs": [],
   "source": [
    "import math\n",
    "import time"
   ]
  },
  {
   "cell_type": "code",
   "execution_count": null,
   "id": "8e04305a-08ca-4fcb-807d-4411edf4f6a6",
   "metadata": {},
   "outputs": [
    {
     "name": "stdout",
     "output_type": "stream",
     "text": [
      "Mon Nov  1 23:42:39 2021 (4, 0)\n",
      "Mon Nov  1 23:47:58 2021 (44740, 100)\n",
      "Mon Nov  1 23:52:54 2021 (46000, 174)\n"
     ]
    }
   ],
   "source": [
    "n = 6\n",
    "count = 2**n*math.factorial(n)\n",
    "for _ in range(1):\n",
    "    num = []\n",
    "    genes_5 = []\n",
    "    g_5 = [list(range(1, n + 1))]\n",
    "    test = th.tensor(g_5, dtype = th.float, device = device)\n",
    "    num.append((1,-1))\n",
    "    genes_5.append(g_5)\n",
    "    for i in range(10000000):\n",
    "        p1,p2,p3,p4 = [random.randint(0,n) for _ in range(4)]\n",
    "        op_list = []\n",
    "        for _ in range(2000):\n",
    "            op_type = random.randint(0,2)\n",
    "            if op_type == 0:\n",
    "                trans_mat = trans_rev(n, p1, p2, p3, p4)\n",
    "            elif op_type == 1:\n",
    "                trans_mat = trans(n, p1, p2, p3, p4)\n",
    "            else:\n",
    "                trans_mat = revs(n, p1, p2)\n",
    "            op_list.append(trans_mat)\n",
    "            \n",
    "        \n",
    "        mat_tensor = th.tensor(op_list, dtype = th.float, device = device)\n",
    "        test = th.matmul(test, mat_tensor)\n",
    "        \n",
    "        g_res = test.cpu().numpy().astype(dtype=np.int32).tolist()\n",
    "        for g_5 in g_res:\n",
    "            if g_5 not in genes_5:\n",
    "                genes_5.append(g_5)\n",
    "        l = len(genes_5)\n",
    "        if l > num[-1][0]:\n",
    "            num.append((l, i))\n",
    "            if l%100 == 0 or i % 100 == 0: \n",
    "                print(time.ctime(), num[-1])\n",
    "        if l >= count:\n",
    "            break\n",
    "    print(num[-1])"
   ]
  },
  {
   "cell_type": "code",
   "execution_count": null,
   "id": "ddd8a040-6483-4d7d-a11a-0337e4722ec6",
   "metadata": {},
   "outputs": [],
   "source": []
  }
 ],
 "metadata": {
  "kernelspec": {
   "display_name": "Deep AI",
   "language": "python",
   "name": "dl"
  },
  "language_info": {
   "codemirror_mode": {
    "name": "ipython",
    "version": 3
   },
   "file_extension": ".py",
   "mimetype": "text/x-python",
   "name": "python",
   "nbconvert_exporter": "python",
   "pygments_lexer": "ipython3",
   "version": "3.7.11"
  }
 },
 "nbformat": 4,
 "nbformat_minor": 5
}
