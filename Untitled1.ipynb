{
 "cells": [
  {
   "cell_type": "code",
   "execution_count": 1,
   "id": "f4b94564-11cf-4396-9a53-c00ea2105e7d",
   "metadata": {},
   "outputs": [],
   "source": [
    "from gene_graph_dataset import G2BraphDataset"
   ]
  },
  {
   "cell_type": "code",
   "execution_count": 2,
   "id": "ef0ffd57-800d-449e-a735-5f98a2fbef47",
   "metadata": {},
   "outputs": [],
   "source": [
    "import time"
   ]
  },
  {
   "cell_type": "code",
   "execution_count": 3,
   "id": "09532731-639b-4c2a-916d-dc8b3df37ea8",
   "metadata": {},
   "outputs": [
    {
     "name": "stdout",
     "output_type": "stream",
     "text": [
      "Tue Dec 21 12:53:51 2021\n"
     ]
    },
    {
     "name": "stderr",
     "output_type": "stream",
     "text": [
      "Generating...\n",
      "Processing...\n"
     ]
    },
    {
     "name": "stdout",
     "output_type": "stream",
     "text": [
      "Tue Dec 21 12:56:02 2021\n"
     ]
    },
    {
     "name": "stderr",
     "output_type": "stream",
     "text": [
      "Done!\n"
     ]
    }
   ],
   "source": [
    "print(time.ctime())\n",
    "dataset = G2BraphDataset('dataset_g2b', 100, 10)\n",
    "print(time.ctime())"
   ]
  },
  {
   "cell_type": "code",
   "execution_count": 4,
   "id": "47ce5990-d5c6-4736-ab72-7e409fcd6c81",
   "metadata": {},
   "outputs": [
    {
     "data": {
      "text/plain": [
       "G2BraphDataset(1000)"
      ]
     },
     "execution_count": 4,
     "metadata": {},
     "output_type": "execute_result"
    }
   ],
   "source": [
    "dataset"
   ]
  },
  {
   "cell_type": "code",
   "execution_count": 5,
   "id": "6b55e4de-4253-4f57-8cc3-61a10a5c3700",
   "metadata": {},
   "outputs": [],
   "source": [
    "dt = dataset[0]"
   ]
  },
  {
   "cell_type": "code",
   "execution_count": 6,
   "id": "3eb252fe-4ca2-4efa-81f7-2f3551263519",
   "metadata": {},
   "outputs": [
    {
     "data": {
      "text/plain": [
       "tensor([1])"
      ]
     },
     "execution_count": 6,
     "metadata": {},
     "output_type": "execute_result"
    }
   ],
   "source": [
    "dt.y"
   ]
  },
  {
   "cell_type": "code",
   "execution_count": 7,
   "id": "4ed7f639-0f1c-48c7-afb9-dffa1fd9f637",
   "metadata": {},
   "outputs": [
    {
     "data": {
      "text/plain": [
       "tensor([10])"
      ]
     },
     "execution_count": 7,
     "metadata": {},
     "output_type": "execute_result"
    }
   ],
   "source": [
    "dataset[900].y"
   ]
  },
  {
   "cell_type": "code",
   "execution_count": 8,
   "id": "504aa816-7903-450f-8136-f2ea6d8deb2b",
   "metadata": {},
   "outputs": [
    {
     "data": {
      "text/plain": [
       "tensor(39)"
      ]
     },
     "execution_count": 8,
     "metadata": {},
     "output_type": "execute_result"
    }
   ],
   "source": [
    "dataset[900].node_label.sum()"
   ]
  },
  {
   "cell_type": "code",
   "execution_count": null,
   "id": "322c2705-7537-47c1-832d-72bf15fb9c4e",
   "metadata": {},
   "outputs": [
    {
     "name": "stdout",
     "output_type": "stream",
     "text": [
      "Tue Dec 21 12:58:37 2021\n"
     ]
    },
    {
     "name": "stderr",
     "output_type": "stream",
     "text": [
      "Generating...\n"
     ]
    }
   ],
   "source": [
    "print(time.ctime())\n",
    "dataset = G2BraphDataset('dataset_g2b', 100, 10, 10000)\n",
    "print(time.ctime())"
   ]
  },
  {
   "cell_type": "code",
   "execution_count": null,
   "id": "0a30619b-1bc6-471d-8227-d22daaf57795",
   "metadata": {},
   "outputs": [],
   "source": [
    "\n"
   ]
  }
 ],
 "metadata": {
  "kernelspec": {
   "display_name": "Deep AI",
   "language": "python",
   "name": "dl"
  },
  "language_info": {
   "codemirror_mode": {
    "name": "ipython",
    "version": 3
   },
   "file_extension": ".py",
   "mimetype": "text/x-python",
   "name": "python",
   "nbconvert_exporter": "python",
   "pygments_lexer": "ipython3",
   "version": "3.7.11"
  }
 },
 "nbformat": 4,
 "nbformat_minor": 5
}
