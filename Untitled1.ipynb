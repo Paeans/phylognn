{
 "cells": [
  {
   "cell_type": "code",
   "execution_count": 1,
   "id": "c28e0f17-4949-4371-8bf8-daff0af5a5b6",
   "metadata": {},
   "outputs": [],
   "source": [
    "from gene_graph_dataset import G3MedianDataset"
   ]
  },
  {
   "cell_type": "code",
   "execution_count": null,
   "id": "41cfff6a-9980-42a0-92a9-e30389aeb3fc",
   "metadata": {},
   "outputs": [
    {
     "name": "stderr",
     "output_type": "stream",
     "text": [
      "Generating...\n",
      "Fri Dec 24 14:22:53 2021 >> step: 0000, number: 000002, length: 005000\n",
      "Fri Dec 24 14:23:02 2021 >> step: 0001, number: 000002, length: 005000\n",
      "Fri Dec 24 14:23:19 2021 >> step: 0002, number: 000002, length: 005000\n",
      "Fri Dec 24 14:23:44 2021 >> step: 0003, number: 000002, length: 005000\n",
      "Fri Dec 24 14:24:16 2021 >> step: 0004, number: 000002, length: 005000\n",
      "Fri Dec 24 14:24:55 2021 >> step: 0005, number: 000002, length: 005000\n",
      "Fri Dec 24 14:25:44 2021 >> step: 0006, number: 000002, length: 005000\n",
      "Fri Dec 24 14:26:42 2021 >> step: 0007, number: 000002, length: 005000\n",
      "Fri Dec 24 14:27:53 2021 >> step: 0008, number: 000002, length: 005000\n",
      "Fri Dec 24 14:29:07 2021 >> step: 0009, number: 000002, length: 005000\n",
      "Fri Dec 24 14:30:28 2021 >> step: 0010, number: 000002, length: 005000\n",
      "Fri Dec 24 14:31:55 2021 >> step: 0011, number: 000002, length: 005000\n",
      "Fri Dec 24 14:33:29 2021 >> step: 0012, number: 000002, length: 005000\n",
      "Fri Dec 24 14:35:15 2021 >> step: 0013, number: 000002, length: 005000\n",
      "Fri Dec 24 14:37:07 2021 >> step: 0014, number: 000002, length: 005000\n",
      "Fri Dec 24 14:39:12 2021 >> step: 0015, number: 000002, length: 005000\n",
      "Fri Dec 24 14:41:25 2021 >> step: 0016, number: 000002, length: 005000\n",
      "Fri Dec 24 14:43:49 2021 >> step: 0017, number: 000002, length: 005000\n",
      "Fri Dec 24 14:46:14 2021 >> step: 0018, number: 000002, length: 005000\n",
      "Fri Dec 24 14:48:49 2021 >> step: 0019, number: 000002, length: 005000\n",
      "Fri Dec 24 14:51:30 2021 >> step: 0020, number: 000002, length: 005000\n",
      "Fri Dec 24 14:54:24 2021 >> step: 0021, number: 000002, length: 005000\n",
      "Fri Dec 24 14:57:23 2021 >> step: 0022, number: 000002, length: 005000\n",
      "Fri Dec 24 15:00:33 2021 >> step: 0023, number: 000002, length: 005000\n",
      "Fri Dec 24 15:03:52 2021 >> step: 0024, number: 000002, length: 005000\n",
      "Fri Dec 24 15:07:23 2021 >> step: 0025, number: 000002, length: 005000\n",
      "Fri Dec 24 15:10:58 2021 >> step: 0026, number: 000002, length: 005000\n",
      "Fri Dec 24 15:14:45 2021 >> step: 0027, number: 000002, length: 005000\n",
      "Fri Dec 24 15:18:42 2021 >> step: 0028, number: 000002, length: 005000\n",
      "Fri Dec 24 15:22:46 2021 >> step: 0029, number: 000002, length: 005000\n",
      "Fri Dec 24 15:26:56 2021 >> step: 0030, number: 000002, length: 005000\n",
      "Fri Dec 24 15:31:12 2021 >> step: 0031, number: 000002, length: 005000\n",
      "Fri Dec 24 15:35:35 2021 >> step: 0032, number: 000002, length: 005000\n",
      "Fri Dec 24 15:40:09 2021 >> step: 0033, number: 000002, length: 005000\n",
      "Fri Dec 24 15:44:58 2021 >> step: 0034, number: 000002, length: 005000\n",
      "Fri Dec 24 15:49:49 2021 >> step: 0035, number: 000002, length: 005000\n",
      "Fri Dec 24 15:54:44 2021 >> step: 0036, number: 000002, length: 005000\n",
      "Fri Dec 24 15:59:53 2021 >> step: 0037, number: 000002, length: 005000\n",
      "Fri Dec 24 16:05:19 2021 >> step: 0038, number: 000002, length: 005000\n",
      "Fri Dec 24 16:10:52 2021 >> step: 0039, number: 000002, length: 005000\n",
      "Fri Dec 24 16:16:31 2021 >> step: 0040, number: 000002, length: 005000\n",
      "Fri Dec 24 16:22:05 2021 >> step: 0041, number: 000002, length: 005000\n",
      "Fri Dec 24 16:27:46 2021 >> step: 0042, number: 000002, length: 005000\n",
      "Fri Dec 24 16:33:16 2021 >> step: 0043, number: 000002, length: 005000\n",
      "Fri Dec 24 16:38:58 2021 >> step: 0044, number: 000002, length: 005000\n",
      "Fri Dec 24 16:44:44 2021 >> step: 0045, number: 000002, length: 005000\n",
      "Fri Dec 24 16:50:43 2021 >> step: 0046, number: 000002, length: 005000\n",
      "Fri Dec 24 16:56:46 2021 >> step: 0047, number: 000002, length: 005000\n",
      "Fri Dec 24 17:02:59 2021 >> step: 0048, number: 000002, length: 005000\n",
      "Fri Dec 24 17:09:17 2021 >> step: 0049, number: 000002, length: 005000\n",
      "Fri Dec 24 17:15:43 2021 >> step: 0050, number: 000002, length: 005000\n",
      "Fri Dec 24 17:22:18 2021 >> step: 0051, number: 000002, length: 005000\n",
      "Fri Dec 24 17:28:51 2021 >> step: 0052, number: 000002, length: 005000\n",
      "Fri Dec 24 17:35:31 2021 >> step: 0053, number: 000002, length: 005000\n",
      "Fri Dec 24 17:42:29 2021 >> step: 0054, number: 000002, length: 005000\n",
      "Fri Dec 24 17:49:33 2021 >> step: 0055, number: 000002, length: 005000\n",
      "Fri Dec 24 17:56:46 2021 >> step: 0056, number: 000002, length: 005000\n",
      "Fri Dec 24 18:04:09 2021 >> step: 0057, number: 000002, length: 005000\n",
      "Fri Dec 24 18:11:44 2021 >> step: 0058, number: 000002, length: 005000\n"
     ]
    }
   ],
   "source": [
    "dataset = G3MedianDataset('dataset_g3m', 5000, 5000, graph_num = 2)"
   ]
  },
  {
   "cell_type": "code",
   "execution_count": 3,
   "id": "6d9546c9-82c1-48cc-a9f2-efb556ea457a",
   "metadata": {},
   "outputs": [
    {
     "data": {
      "text/plain": [
       "G3MedianDataset(10000)"
      ]
     },
     "execution_count": 3,
     "metadata": {},
     "output_type": "execute_result"
    }
   ],
   "source": [
    "dataset"
   ]
  },
  {
   "cell_type": "code",
   "execution_count": 4,
   "id": "44d3f600-16ec-4179-ad6d-29a7f821b123",
   "metadata": {},
   "outputs": [
    {
     "data": {
      "text/plain": [
       "Data(x=[200], edge_index=[2, 597], edge_attr=[597, 3], pos_edge_label_index=[2, 199], num_nodes=200)"
      ]
     },
     "execution_count": 4,
     "metadata": {},
     "output_type": "execute_result"
    }
   ],
   "source": [
    "dataset[0]"
   ]
  },
  {
   "cell_type": "code",
   "execution_count": null,
   "id": "2032141b-b100-4e83-a98c-ebf71f140023",
   "metadata": {},
   "outputs": [],
   "source": []
  }
 ],
 "metadata": {
  "kernelspec": {
   "display_name": "Deep AI",
   "language": "python",
   "name": "dl"
  },
  "language_info": {
   "codemirror_mode": {
    "name": "ipython",
    "version": 3
   },
   "file_extension": ".py",
   "mimetype": "text/x-python",
   "name": "python",
   "nbconvert_exporter": "python",
   "pygments_lexer": "ipython3",
   "version": "3.7.11"
  }
 },
 "nbformat": 4,
 "nbformat_minor": 5
}
