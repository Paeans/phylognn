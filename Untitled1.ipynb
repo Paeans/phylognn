{
 "cells": [
  {
   "cell_type": "code",
   "execution_count": 1,
   "id": "ced383d9-4fe3-49a2-8ba0-539609759089",
   "metadata": {},
   "outputs": [],
   "source": [
    "from gene_mat import gen_m3g_data, mid_dcj"
   ]
  },
  {
   "cell_type": "code",
   "execution_count": 2,
   "id": "2e6f81ff-47a9-4608-8db0-6ad4a9da22f8",
   "metadata": {},
   "outputs": [],
   "source": [
    "m_seq, t_seq = gen_m3g_data(10, 1000, 7, op_type = 2)"
   ]
  },
  {
   "cell_type": "code",
   "execution_count": 3,
   "id": "0ccdd355-79ef-4fdd-845d-bc63b092d7b1",
   "metadata": {},
   "outputs": [
    {
     "data": {
      "text/plain": [
       "(1000, 3, 10)"
      ]
     },
     "execution_count": 3,
     "metadata": {},
     "output_type": "execute_result"
    }
   ],
   "source": [
    "m_seq.shape"
   ]
  },
  {
   "cell_type": "code",
   "execution_count": 4,
   "id": "65dc4255-9ddb-4163-881a-70cb9d8c1101",
   "metadata": {},
   "outputs": [
    {
     "data": {
      "text/plain": [
       "(1000, 1, 10)"
      ]
     },
     "execution_count": 4,
     "metadata": {},
     "output_type": "execute_result"
    }
   ],
   "source": [
    "t_seq.shape"
   ]
  },
  {
   "cell_type": "code",
   "execution_count": 5,
   "id": "bcdb793b-0482-427f-a151-379a280e8b58",
   "metadata": {},
   "outputs": [],
   "source": [
    "for s, t in zip(t_seq, m_seq):\n",
    "    assert mid_dcj(s[0], t)"
   ]
  },
  {
   "cell_type": "code",
   "execution_count": 6,
   "id": "43f2e225-761b-4555-a8dc-16d3eaf48861",
   "metadata": {},
   "outputs": [],
   "source": [
    "import sys\n",
    "\n",
    "import numpy as np\n",
    "import torch\n",
    "\n",
    "from gene_mat import gen_dataset_wt, gen_dataset_wb, gen_g2g_data\n",
    "from genome_graph import gen_graph, gen_g2g_graph, gen_g2b_graph\n",
    "\n",
    "from torch_geometric.data import InMemoryDataset"
   ]
  },
  {
   "cell_type": "code",
   "execution_count": 15,
   "id": "47f5f726-cf50-4425-9a2c-0e4c69bc0eb5",
   "metadata": {},
   "outputs": [],
   "source": [
    "def save_g3m_dataset(gene_len, step, graph_num = None, fname = None):\n",
    "    if graph_num == None:\n",
    "        graph_num = 100\n",
    "        \n",
    "    if fname == None:\n",
    "        fname = 'g3m_' + str(gene_len) + '_' + str(step) + '.pt'\n",
    "    \n",
    "    source = np.zeros((graph_num * step, 3, gene_len), dtype = np.int32) \n",
    "    target = np.zeros((graph_num * step, gene_len), dtype = np.int32)\n",
    "    \n",
    "    for dist in range(0, step):\n",
    "        m_seq, t_seq = gen_m3g_data(gene_len, graph_num, step, op_type = 2)\n",
    "        source[dist * graph_num : (dist + 1) * graph_num] = m_seq\n",
    "        target[dist * graph_num : (dist + 1) * graph_num] = t_seq.squeeze()\n",
    "        \n",
    "    torch.save((source, target), fname)    "
   ]
  },
  {
   "cell_type": "code",
   "execution_count": 1,
   "id": "e1f822c2-016d-4d56-a2b2-963d10aea8e4",
   "metadata": {},
   "outputs": [],
   "source": [
    "from genome_graph import gen_graph"
   ]
  },
  {
   "cell_type": "code",
   "execution_count": 9,
   "id": "9d46f3da-10b7-4e05-b74f-c4f47efa8ed7",
   "metadata": {},
   "outputs": [],
   "source": [
    "data = gen_graph([[1,-2,3], [1,2,3], [-1,2,3]])"
   ]
  },
  {
   "cell_type": "code",
   "execution_count": 10,
   "id": "384e308e-bfc2-400f-afda-5bd0afbdd2a0",
   "metadata": {},
   "outputs": [
    {
     "data": {
      "text/plain": [
       "tensor([[0, 1, 3, 2, 4, 0, 1, 2, 3, 4, 1, 0, 2, 3, 4],\n",
       "        [1, 3, 2, 4, 5, 1, 2, 3, 4, 5, 0, 2, 3, 4, 5]])"
      ]
     },
     "execution_count": 10,
     "metadata": {},
     "output_type": "execute_result"
    }
   ],
   "source": [
    "data.edge_index"
   ]
  },
  {
   "cell_type": "code",
   "execution_count": null,
   "id": "36a43560-112b-401d-93ff-2dea09bab00e",
   "metadata": {},
   "outputs": [],
   "source": [
    "class G3MedianDataset(InMemoryDataset):\n",
    "    def __init__(self, root, gene_len, step_range, graph_num = 100):\n",
    "#                  transform=None, pre_transform=None, pre_filter = None):\n",
    "        self.gene_len = gene_len\n",
    "        self.step_range = step_range\n",
    "        self.graph_num = graph_num\n",
    "        super(G3MedianDataset, self).__init__(root + '_' + str(self.gene_len) + '_' \n",
    "                         + str(self.step_range) + '_' + str(self.graph_num), \n",
    "                         transform = None, \n",
    "                         pre_transform = None, \n",
    "                         pre_filter = None)\n",
    "        self.data, self.slices = torch.load(self.processed_paths[0])\n",
    "        \n",
    "    @property\n",
    "    def raw_file_names(self):\n",
    "        return ['g3raw_' + str(self.gene_len) +\n",
    "                '_' + str(self.step_range) + '.pt']\n",
    "\n",
    "    @property\n",
    "    def processed_file_names(self):\n",
    "        return ['g3dat_' + str(self.gene_len) +\n",
    "                '_' + str(self.step_range) + '.pt']\n",
    "\n",
    "    def download(self):\n",
    "        # Download to `self.raw_dir`.\n",
    "        print('Generating...', file=sys.stderr)\n",
    "        save_g3m_dataset(self.gene_len, self.step_range, \n",
    "                     graph_num = self.graph_num, \n",
    "                     fname = self.raw_dir + '/' + self.raw_file_names[0])\n",
    "        pass\n",
    "\n",
    "    def process(self):\n",
    "        # Read data into huge `Data` list.\n",
    "        filename = self.raw_dir + '/' + self.raw_file_names[0]\n",
    "        source, target = torch.load(filename) #, map_location=torch.device('cuda'))        \n",
    "                \n",
    "        data_list = [gen_g2g_graph(s, t) for s,t in zip(source, target)]\n",
    "\n",
    "        if self.pre_filter is not None:\n",
    "            data_list = [data for data in data_list if self.pre_filter(data)]\n",
    "\n",
    "        if self.pre_transform is not None:\n",
    "            data_list = [self.pre_transform(data) for data in data_list]\n",
    "\n",
    "        data, slices = self.collate(data_list)\n",
    "        torch.save((data, slices), self.processed_paths[0])"
   ]
  }
 ],
 "metadata": {
  "kernelspec": {
   "display_name": "Deep AI",
   "language": "python",
   "name": "dl"
  },
  "language_info": {
   "codemirror_mode": {
    "name": "ipython",
    "version": 3
   },
   "file_extension": ".py",
   "mimetype": "text/x-python",
   "name": "python",
   "nbconvert_exporter": "python",
   "pygments_lexer": "ipython3",
   "version": "3.7.11"
  }
 },
 "nbformat": 4,
 "nbformat_minor": 5
}
