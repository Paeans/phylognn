{
 "cells": [
  {
   "cell_type": "code",
   "execution_count": 1,
   "id": "ec436995-a8cf-46d9-bf78-45fd3b96d42e",
   "metadata": {},
   "outputs": [],
   "source": [
    "import time\n",
    "\n",
    "import torch\n",
    "from torch.optim.lr_scheduler import ReduceLROnPlateau\n",
    "\n",
    "from torch_geometric.nn import VGAE\n",
    "from torch_geometric.loader import DataLoader\n",
    "from torch_geometric.utils import (degree, negative_sampling, \n",
    "                                   batched_negative_sampling)\n",
    "\n",
    "from torch.utils.tensorboard import SummaryWriter\n",
    "\n",
    "from gene_graph_dataset import G3MedianDataset\n",
    "from phylognn_model import G3Median_GCNConv"
   ]
  },
  {
   "cell_type": "code",
   "execution_count": 2,
   "id": "3253a61c-5647-495c-9227-a2fdf9c3812f",
   "metadata": {},
   "outputs": [],
   "source": [
    "gpuid = 0\n",
    "\n",
    "train_p, test_p, val_p = 0.7, 0.2, 0.1\n",
    "train_batch, test_batch, val_batch = 256, 64, 32"
   ]
  },
  {
   "cell_type": "code",
   "execution_count": 3,
   "id": "51a7e143-b111-4051-a7ff-b29560aa8fad",
   "metadata": {},
   "outputs": [],
   "source": [
    "device = torch.device('cuda:' + str(gpuid) if torch.cuda.is_available() else 'cpu')"
   ]
  },
  {
   "cell_type": "code",
   "execution_count": 4,
   "id": "ece92178-89e5-4d5f-a806-04b15ba5ac6e",
   "metadata": {},
   "outputs": [],
   "source": [
    "dataset = G3MedianDataset('dataset_g3m', 100, 100)"
   ]
  },
  {
   "cell_type": "code",
   "execution_count": 5,
   "id": "62007446-f148-4baa-af21-2011093c7e70",
   "metadata": {},
   "outputs": [],
   "source": [
    "data_size = 1000 # len(dataset)\n",
    "train_size, test_size, val_size = ((int)(data_size * train_p), \n",
    "                                   (int)(data_size * test_p), \n",
    "                                   (int)(data_size * val_p))"
   ]
  },
  {
   "cell_type": "code",
   "execution_count": 6,
   "id": "3c4070bb-3305-4710-9ce9-93537ba72c5f",
   "metadata": {},
   "outputs": [],
   "source": [
    "dataset = dataset.shuffle()\n",
    "train_dataset = dataset[:train_size]\n",
    "test_dataset = dataset[train_size:(train_size + test_size)]\n",
    "val_dataset = dataset[(train_size + test_size):(train_size + test_size + val_size)]"
   ]
  },
  {
   "cell_type": "code",
   "execution_count": 7,
   "id": "b2b645f2-0987-459a-8dac-fd86e544fbf4",
   "metadata": {},
   "outputs": [],
   "source": [
    "test_dataset = list(test_dataset)\n",
    "for t in test_dataset:\n",
    "    t.neg_edge_label_index = negative_sampling(t.pos_edge_label_index, \n",
    "                                        t.num_nodes,\n",
    "                                        t.num_nodes**2)\n",
    "train_dataset = list(train_dataset)\n",
    "for t in train_dataset:\n",
    "    t.neg_edge_label_index = negative_sampling(t.pos_edge_label_index, \n",
    "                                        t.num_nodes,\n",
    "                                        t.num_nodes**2)\n",
    "val_dataset = list(val_dataset)\n",
    "for t in val_dataset:\n",
    "    t.neg_edge_label_index = negative_sampling(t.pos_edge_label_index, \n",
    "                                        t.num_nodes,\n",
    "                                        t.num_nodes**2)"
   ]
  },
  {
   "cell_type": "code",
   "execution_count": 8,
   "id": "a2c6a0cb-b675-47a6-8eac-a4e5b82a0ca1",
   "metadata": {},
   "outputs": [],
   "source": [
    "train_loader = DataLoader(train_dataset, batch_size = train_batch, shuffle=True)\n",
    "test_loader = DataLoader(test_dataset, batch_size = test_batch)\n",
    "val_loader = DataLoader(val_dataset, batch_size= val_batch)"
   ]
  },
  {
   "cell_type": "code",
   "execution_count": 9,
   "id": "dbb8f654-2582-482f-886d-07f10fa83841",
   "metadata": {},
   "outputs": [],
   "source": [
    "# deg = torch.zeros(5, dtype=torch.long)\n",
    "# for data in train_dataset:\n",
    "#     d = degree(data.edge_index[1].type(torch.int64), \n",
    "#                num_nodes=data.num_nodes, dtype=torch.long)\n",
    "#     deg += torch.bincount(d, minlength=deg.numel())"
   ]
  },
  {
   "cell_type": "code",
   "execution_count": 10,
   "id": "770c5b84-1b27-42b1-b0eb-ebc893f5b406",
   "metadata": {},
   "outputs": [],
   "source": [
    "in_channels, out_channels = dataset.num_features, 16"
   ]
  },
  {
   "cell_type": "code",
   "execution_count": 11,
   "id": "1a07372c-9ef1-43d2-845f-bc1a9e83926e",
   "metadata": {},
   "outputs": [],
   "source": [
    "model = VGAE(G3Median_GCNConv(in_channels, out_channels)).to(device)\n",
    "optimizer = torch.optim.Adam(model.parameters(), lr=0.05)\n",
    "scheduler = ReduceLROnPlateau(optimizer, mode='min', factor=0.5, patience=30,\n",
    "                              min_lr=0.00001)"
   ]
  },
  {
   "cell_type": "code",
   "execution_count": 12,
   "id": "5c4dd281-b1eb-45d3-9b80-33bbed4db8e5",
   "metadata": {},
   "outputs": [],
   "source": [
    "writer = SummaryWriter(log_dir='runs_g3m/g3median_lngtrain_gcn_aneg_run3')"
   ]
  },
  {
   "cell_type": "code",
   "execution_count": 13,
   "id": "a258ffba-549f-4158-96ad-b8f2cc175130",
   "metadata": {},
   "outputs": [],
   "source": [
    "from torch_geometric.data import Batch\n",
    "def train(train_loader):\n",
    "    model.train()\n",
    "    \n",
    "    total_loss = 0\n",
    "    for data in train_loader:\n",
    "        \n",
    "        data = data.to(device)\n",
    "        optimizer.zero_grad()\n",
    "        \n",
    "        z = model.encode(data.x, data.edge_index)\n",
    "        loss = model.recon_loss(z, data.pos_edge_label_index, data.neg_edge_label_index)\n",
    "        loss = loss + (1 / data.num_nodes) * model.kl_loss()\n",
    "        loss.backward()\n",
    "        optimizer.step()\n",
    "        \n",
    "        total_loss += loss\n",
    "    return total_loss/len(train_loader)"
   ]
  },
  {
   "cell_type": "code",
   "execution_count": 14,
   "id": "bdce86c1-c9f8-40d2-9554-4f780ab522fe",
   "metadata": {},
   "outputs": [],
   "source": [
    "@torch.no_grad()\n",
    "def test(test_loader):\n",
    "    model.eval()\n",
    "    auc, ap = 0, 0\n",
    "    \n",
    "    for data in test_loader:\n",
    "        \n",
    "        data = data.to(device)\n",
    "        \n",
    "        z = model.encode(data.x, data.edge_index)\n",
    "        # loss += model.recon_loss(z, data.pos_edge_label_index, data.neg_edge_label_index)\n",
    "        tauc, tap = model.test(z, data.pos_edge_label_index, data.neg_edge_label_index)\n",
    "        \n",
    "        auc += tauc\n",
    "        ap += tap\n",
    "        \n",
    "    return auc/len(test_loader), ap/len(test_loader)"
   ]
  },
  {
   "cell_type": "code",
   "execution_count": 15,
   "id": "61fb7226-a488-49a1-b395-c094576f8d92",
   "metadata": {},
   "outputs": [],
   "source": [
    "@torch.no_grad()\n",
    "def val(val_loader):\n",
    "    model.eval()\n",
    "    loss = 0\n",
    "    \n",
    "    for data in val_loader:\n",
    "        \n",
    "        data = data.to(device)\n",
    "        \n",
    "        z = model.encode(data.x, data.edge_index)\n",
    "        loss += model.recon_loss(z, data.pos_edge_label_index, data.neg_edge_label_index)\n",
    "        # tauc, tap = model.test(z, data.pos_edge_label_index, data.neg_edge_label_index)\n",
    "                \n",
    "    return loss/len(val_loader)"
   ]
  },
  {
   "cell_type": "code",
   "execution_count": null,
   "id": "c7c1df12-ce9a-47ca-8fd8-198c4ec9c435",
   "metadata": {},
   "outputs": [
    {
     "name": "stdout",
     "output_type": "stream",
     "text": [
      "Sun Dec 26 23:20:09 2021 - Epoch: 0010        auc: 0.638835, ap: 0.008068\n",
      "Sun Dec 26 23:21:46 2021 - Epoch: 0020        auc: 0.883538, ap: 0.048269\n",
      "Sun Dec 26 23:23:23 2021 - Epoch: 0030        auc: 0.922439, ap: 0.079676\n",
      "Sun Dec 26 23:24:59 2021 - Epoch: 0040        auc: 0.939210, ap: 0.100045\n",
      "Sun Dec 26 23:26:35 2021 - Epoch: 0050        auc: 0.948193, ap: 0.120595\n",
      "Sun Dec 26 23:28:11 2021 - Epoch: 0060        auc: 0.954467, ap: 0.136986\n",
      "Sun Dec 26 23:29:50 2021 - Epoch: 0070        auc: 0.958350, ap: 0.147663\n",
      "Sun Dec 26 23:31:28 2021 - Epoch: 0080        auc: 0.961869, ap: 0.157916\n",
      "Sun Dec 26 23:33:06 2021 - Epoch: 0090        auc: 0.964958, ap: 0.169700\n",
      "Sun Dec 26 23:34:46 2021 - Epoch: 0100        auc: 0.967392, ap: 0.179080\n",
      "Sun Dec 26 23:36:22 2021 - Epoch: 0110        auc: 0.969211, ap: 0.186234\n",
      "Sun Dec 26 23:37:52 2021 - Epoch: 0120        auc: 0.970613, ap: 0.191876\n",
      "Sun Dec 26 23:39:20 2021 - Epoch: 0130        auc: 0.971594, ap: 0.195997\n",
      "Sun Dec 26 23:40:51 2021 - Epoch: 0140        auc: 0.972568, ap: 0.202590\n",
      "Sun Dec 26 23:42:20 2021 - Epoch: 0150        auc: 0.973219, ap: 0.204773\n",
      "Sun Dec 26 23:43:54 2021 - Epoch: 0160        auc: 0.973682, ap: 0.207539\n",
      "Sun Dec 26 23:45:25 2021 - Epoch: 0170        auc: 0.974337, ap: 0.211235\n",
      "Sun Dec 26 23:46:57 2021 - Epoch: 0180        auc: 0.974743, ap: 0.210642\n",
      "Sun Dec 26 23:48:29 2021 - Epoch: 0190        auc: 0.974991, ap: 0.211837\n",
      "Sun Dec 26 23:50:02 2021 - Epoch: 0200        auc: 0.975575, ap: 0.216209\n",
      "Sun Dec 26 23:51:36 2021 - Epoch: 0210        auc: 0.975954, ap: 0.218733\n",
      "Sun Dec 26 23:53:12 2021 - Epoch: 0220        auc: 0.976416, ap: 0.220363\n",
      "Sun Dec 26 23:54:49 2021 - Epoch: 0230        auc: 0.976673, ap: 0.220989\n",
      "Sun Dec 26 23:56:25 2021 - Epoch: 0240        auc: 0.977035, ap: 0.222277\n",
      "Sun Dec 26 23:57:57 2021 - Epoch: 0250        auc: 0.977342, ap: 0.225168\n",
      "Sun Dec 26 23:59:35 2021 - Epoch: 0260        auc: 0.977370, ap: 0.222648\n",
      "Mon Dec 27 00:01:17 2021 - Epoch: 0270        auc: 0.977739, ap: 0.226151\n",
      "Mon Dec 27 00:02:59 2021 - Epoch: 0280        auc: 0.978055, ap: 0.230772\n",
      "Mon Dec 27 00:04:37 2021 - Epoch: 0290        auc: 0.978279, ap: 0.231833\n",
      "Mon Dec 27 00:06:18 2021 - Epoch: 0300        auc: 0.978485, ap: 0.233517\n",
      "Mon Dec 27 00:07:58 2021 - Epoch: 0310        auc: 0.978561, ap: 0.232375\n",
      "Mon Dec 27 00:09:37 2021 - Epoch: 0320        auc: 0.978774, ap: 0.236395\n",
      "Mon Dec 27 00:11:13 2021 - Epoch: 0330        auc: 0.978816, ap: 0.232327\n",
      "Mon Dec 27 00:12:53 2021 - Epoch: 0340        auc: 0.979017, ap: 0.235514\n",
      "Mon Dec 27 00:14:35 2021 - Epoch: 0350        auc: 0.979071, ap: 0.235916\n",
      "Mon Dec 27 00:16:13 2021 - Epoch: 0360        auc: 0.979351, ap: 0.240648\n",
      "Mon Dec 27 00:17:53 2021 - Epoch: 0370        auc: 0.979376, ap: 0.238926\n",
      "Mon Dec 27 00:19:33 2021 - Epoch: 0380        auc: 0.979574, ap: 0.242481\n",
      "Mon Dec 27 00:21:14 2021 - Epoch: 0390        auc: 0.979574, ap: 0.240087\n",
      "Mon Dec 27 00:22:58 2021 - Epoch: 0400        auc: 0.979768, ap: 0.243539\n",
      "Mon Dec 27 00:24:41 2021 - Epoch: 0410        auc: 0.979770, ap: 0.236728\n",
      "Mon Dec 27 00:26:26 2021 - Epoch: 0420        auc: 0.979730, ap: 0.238278\n",
      "Mon Dec 27 00:28:07 2021 - Epoch: 0430        auc: 0.979973, ap: 0.241372\n",
      "Mon Dec 27 00:29:49 2021 - Epoch: 0440        auc: 0.980152, ap: 0.244602\n",
      "Mon Dec 27 00:31:32 2021 - Epoch: 0450        auc: 0.980318, ap: 0.246290\n",
      "Mon Dec 27 00:33:16 2021 - Epoch: 0460        auc: 0.980302, ap: 0.245136\n",
      "Mon Dec 27 00:34:56 2021 - Epoch: 0470        auc: 0.980472, ap: 0.248002\n",
      "Mon Dec 27 00:36:36 2021 - Epoch: 0480        auc: 0.980466, ap: 0.246392\n",
      "Mon Dec 27 00:38:18 2021 - Epoch: 0490        auc: 0.980290, ap: 0.240501\n",
      "Mon Dec 27 00:39:59 2021 - Epoch: 0500        auc: 0.980491, ap: 0.242670\n",
      "Mon Dec 27 00:41:40 2021 - Epoch: 0510        auc: 0.980816, ap: 0.253135\n",
      "Mon Dec 27 00:43:27 2021 - Epoch: 0520        auc: 0.980811, ap: 0.251068\n",
      "Mon Dec 27 00:45:08 2021 - Epoch: 0530        auc: 0.980924, ap: 0.253192\n",
      "Mon Dec 27 00:46:51 2021 - Epoch: 0540        auc: 0.980732, ap: 0.248304\n",
      "Mon Dec 27 00:48:33 2021 - Epoch: 0550        auc: 0.980995, ap: 0.252478\n",
      "Mon Dec 27 00:50:18 2021 - Epoch: 0560        auc: 0.980824, ap: 0.253333\n",
      "Mon Dec 27 00:52:02 2021 - Epoch: 0570        auc: 0.980968, ap: 0.246125\n",
      "Mon Dec 27 00:53:42 2021 - Epoch: 0580        auc: 0.980942, ap: 0.245117\n",
      "Mon Dec 27 00:55:22 2021 - Epoch: 0590        auc: 0.981137, ap: 0.251465\n",
      "Mon Dec 27 00:57:06 2021 - Epoch: 0600        auc: 0.981203, ap: 0.253677\n",
      "Mon Dec 27 00:58:50 2021 - Epoch: 0610        auc: 0.981304, ap: 0.255682\n",
      "Mon Dec 27 01:00:30 2021 - Epoch: 0620        auc: 0.981099, ap: 0.243611\n",
      "Mon Dec 27 01:02:15 2021 - Epoch: 0630        auc: 0.981310, ap: 0.253767\n",
      "Mon Dec 27 01:03:56 2021 - Epoch: 0640        auc: 0.981270, ap: 0.249730\n",
      "Mon Dec 27 01:05:37 2021 - Epoch: 0650        auc: 0.981220, ap: 0.245770\n",
      "Mon Dec 27 01:07:19 2021 - Epoch: 0660        auc: 0.981402, ap: 0.250929\n",
      "Mon Dec 27 01:08:59 2021 - Epoch: 0670        auc: 0.981311, ap: 0.250267\n",
      "Mon Dec 27 01:10:40 2021 - Epoch: 0680        auc: 0.981465, ap: 0.253912\n",
      "Mon Dec 27 01:12:26 2021 - Epoch: 0690        auc: 0.981343, ap: 0.243971\n",
      "Mon Dec 27 01:14:11 2021 - Epoch: 0700        auc: 0.981472, ap: 0.250203\n",
      "Mon Dec 27 01:15:52 2021 - Epoch: 0710        auc: 0.981348, ap: 0.256520\n",
      "Mon Dec 27 01:17:32 2021 - Epoch: 0720        auc: 0.981516, ap: 0.251141\n",
      "Mon Dec 27 01:19:11 2021 - Epoch: 0730        auc: 0.981545, ap: 0.254007\n",
      "Mon Dec 27 01:20:48 2021 - Epoch: 0740        auc: 0.981511, ap: 0.260353\n",
      "Mon Dec 27 01:22:26 2021 - Epoch: 0750        auc: 0.981556, ap: 0.249471\n",
      "Mon Dec 27 01:24:10 2021 - Epoch: 0760        auc: 0.981643, ap: 0.258806\n",
      "Mon Dec 27 01:25:51 2021 - Epoch: 0770        auc: 0.981746, ap: 0.260185\n",
      "Mon Dec 27 01:27:31 2021 - Epoch: 0780        auc: 0.981518, ap: 0.252160\n",
      "Mon Dec 27 01:29:11 2021 - Epoch: 0790        auc: 0.981695, ap: 0.253755\n"
     ]
    }
   ],
   "source": [
    "for epoch in range(1, 1000 + 1):\n",
    "    # print(f'{time.ctime()} - Epoch: {epoch:04d}')\n",
    "    loss = train(train_loader)\n",
    "    # print(f'{time.ctime()} - \\t train loss: {loss:.6f}')\n",
    "    tloss = val(val_loader)\n",
    "    # print(f'{time.ctime()} - \\t val   loss: {tloss:.6f}')\n",
    "    # scheduler.step(tloss)\n",
    "    \n",
    "    writer.add_scalar('Loss/train', loss, epoch)\n",
    "    writer.add_scalar('Loss/val', tloss, epoch)\n",
    "    \n",
    "    \n",
    "    auc, ap = test(test_loader)\n",
    "    \n",
    "    writer.add_scalar('AUC/test', auc, epoch)\n",
    "    writer.add_scalar('AP/test', ap, epoch)\n",
    "    \n",
    "    if epoch % 10 == 0:\n",
    "        print(f'{time.ctime()} - Epoch: {epoch:04d}        auc: {auc:.6f}, ap: {ap:.6f}')"
   ]
  },
  {
   "cell_type": "code",
   "execution_count": null,
   "id": "d6367f3c-f5ba-45ed-8a3f-71751cf68356",
   "metadata": {},
   "outputs": [],
   "source": [
    "writer.close()"
   ]
  },
  {
   "cell_type": "code",
   "execution_count": null,
   "id": "a3efe615-e013-4f91-b642-0605ab2fdd72",
   "metadata": {},
   "outputs": [],
   "source": [
    "# torch.save(model.state_dict(), 'g2g_test_model_batch')"
   ]
  },
  {
   "cell_type": "code",
   "execution_count": null,
   "id": "23d73d0e-4ed2-4211-a1db-831694ee9a21",
   "metadata": {},
   "outputs": [],
   "source": []
  }
 ],
 "metadata": {
  "kernelspec": {
   "display_name": "Deep AI",
   "language": "python",
   "name": "dl"
  },
  "language_info": {
   "codemirror_mode": {
    "name": "ipython",
    "version": 3
   },
   "file_extension": ".py",
   "mimetype": "text/x-python",
   "name": "python",
   "nbconvert_exporter": "python",
   "pygments_lexer": "ipython3",
   "version": "3.7.11"
  }
 },
 "nbformat": 4,
 "nbformat_minor": 5
}
